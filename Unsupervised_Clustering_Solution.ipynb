{
 "cells": [
  {
   "cell_type": "markdown",
   "metadata": {
    "id": "u80uSxuM51C0"
   },
   "source": [
    "# Clustering Agorithms"
   ]
  },
  {
   "cell_type": "markdown",
   "metadata": {
    "id": "Z_fGl8o4J2FR"
   },
   "source": [
    "## **Mall Customer Segmentation Model**"
   ]
  },
  {
   "cell_type": "markdown",
   "metadata": {
    "id": "gzBng4Fn51C1"
   },
   "source": [
    "## Project Scope:\n",
    "\n",
    "Malls are often indulged in the race to increase their customers and making sales. To achieve this task machine learning is being applied by many malls already.\n",
    "\n",
    "It is amazing to realize the fact that how machine learning can aid in such ambitions. The shopping malls make use of their customers’ data and develop ML models to target the right audience for right product marketing.\n",
    "\n",
    "\n",
    "**Your role:** Mall Customer data is an interesting dataset that has hypothetical customer data. It puts you in the shoes of the owner of a supermarket. You have customer data, and on this basis of the data, you have to divide the customers into various groups.\n",
    "\n",
    "**Goal:** Build an unsupervised clustering model to segment customers into correct groups.\n",
    "\n",
    "**Specifics:**\n",
    "\n",
    "* Machine Learning task: Clustering model\n",
    "* Target variable: N/A\n",
    "* Input variables: Refer to data dictionary below\n",
    "* Success Criteria: Cannot be validated beforehand\n"
   ]
  },
  {
   "cell_type": "markdown",
   "metadata": {
    "id": "9x2S_vLv51C2",
    "jp-MarkdownHeadingCollapsed": true
   },
   "source": [
    "## Data Dictionary:\n",
    "\n",
    "* **CustomerID:** Unique ID assigned to the customer\n",
    "* **Gender:** Gender of the customer\n",
    "* **Age:** Age of the customer\n",
    "* **Income:** Annual Income of the customers in 1000 dollars\n",
    "* **Spending_Score:** Score assigned between 1-100 by the mall based on customer' spending behavior"
   ]
  },
  {
   "cell_type": "markdown",
   "metadata": {
    "id": "RYOHc68YujYE"
   },
   "source": [
    "## **Data Analysis and Data Prep**"
   ]
  },
  {
   "cell_type": "markdown",
   "metadata": {
    "id": "lc_kizYoJ2FS"
   },
   "source": [
    "### Loading all the necessary packages"
   ]
  },
  {
   "cell_type": "code",
   "execution_count": 1,
   "metadata": {
    "id": "AkAmUuumJ2FU"
   },
   "outputs": [],
   "source": [
    "import pandas as pd\n",
    "import numpy as np\n",
    "import seaborn as sns\n",
    "import matplotlib.pyplot as plt\n",
    "%matplotlib inline\n",
    "import warnings\n",
    "warnings.filterwarnings(\"ignore\")"
   ]
  },
  {
   "cell_type": "markdown",
   "metadata": {
    "id": "ZsJCxVwOJ2FU"
   },
   "source": [
    "### Reading the data"
   ]
  },
  {
   "cell_type": "code",
   "execution_count": 3,
   "metadata": {
    "colab": {
     "base_uri": "https://localhost:8080/",
     "height": 206
    },
    "id": "LPxkm7y6J2FW",
    "outputId": "3dbcd3d6-0a0a-4903-c517-b2e21678297f"
   },
   "outputs": [
    {
     "data": {
      "text/html": [
       "<div>\n",
       "<style scoped>\n",
       "    .dataframe tbody tr th:only-of-type {\n",
       "        vertical-align: middle;\n",
       "    }\n",
       "\n",
       "    .dataframe tbody tr th {\n",
       "        vertical-align: top;\n",
       "    }\n",
       "\n",
       "    .dataframe thead th {\n",
       "        text-align: right;\n",
       "    }\n",
       "</style>\n",
       "<table border=\"1\" class=\"dataframe\">\n",
       "  <thead>\n",
       "    <tr style=\"text-align: right;\">\n",
       "      <th></th>\n",
       "      <th>Customer_ID</th>\n",
       "      <th>Gender</th>\n",
       "      <th>Age</th>\n",
       "      <th>Annual_Income</th>\n",
       "      <th>Spending_Score</th>\n",
       "    </tr>\n",
       "  </thead>\n",
       "  <tbody>\n",
       "    <tr>\n",
       "      <th>0</th>\n",
       "      <td>1</td>\n",
       "      <td>Male</td>\n",
       "      <td>19</td>\n",
       "      <td>15</td>\n",
       "      <td>39</td>\n",
       "    </tr>\n",
       "    <tr>\n",
       "      <th>1</th>\n",
       "      <td>2</td>\n",
       "      <td>Male</td>\n",
       "      <td>21</td>\n",
       "      <td>15</td>\n",
       "      <td>81</td>\n",
       "    </tr>\n",
       "    <tr>\n",
       "      <th>2</th>\n",
       "      <td>3</td>\n",
       "      <td>Female</td>\n",
       "      <td>20</td>\n",
       "      <td>16</td>\n",
       "      <td>6</td>\n",
       "    </tr>\n",
       "    <tr>\n",
       "      <th>3</th>\n",
       "      <td>4</td>\n",
       "      <td>Female</td>\n",
       "      <td>23</td>\n",
       "      <td>16</td>\n",
       "      <td>77</td>\n",
       "    </tr>\n",
       "    <tr>\n",
       "      <th>4</th>\n",
       "      <td>5</td>\n",
       "      <td>Female</td>\n",
       "      <td>31</td>\n",
       "      <td>17</td>\n",
       "      <td>40</td>\n",
       "    </tr>\n",
       "  </tbody>\n",
       "</table>\n",
       "</div>"
      ],
      "text/plain": [
       "   Customer_ID  Gender  Age  Annual_Income  Spending_Score\n",
       "0            1    Male   19             15              39\n",
       "1            2    Male   21             15              81\n",
       "2            3  Female   20             16               6\n",
       "3            4  Female   23             16              77\n",
       "4            5  Female   31             17              40"
      ]
     },
     "execution_count": 3,
     "metadata": {},
     "output_type": "execute_result"
    }
   ],
   "source": [
    "df = pd.read_csv('mall_customers.csv')\n",
    "df.head()"
   ]
  },
  {
   "cell_type": "code",
   "execution_count": 4,
   "metadata": {
    "colab": {
     "base_uri": "https://localhost:8080/"
    },
    "id": "fWSf03Rv51C4",
    "outputId": "865fae28-8dfb-47f9-f570-140f60d3d876"
   },
   "outputs": [
    {
     "data": {
      "text/plain": [
       "(200, 5)"
      ]
     },
     "execution_count": 4,
     "metadata": {},
     "output_type": "execute_result"
    }
   ],
   "source": [
    "df.shape"
   ]
  },
  {
   "cell_type": "code",
   "execution_count": 5,
   "metadata": {
    "colab": {
     "base_uri": "https://localhost:8080/",
     "height": 300
    },
    "id": "1n3QVKVx51C3",
    "outputId": "2c4e0409-dbaf-4da2-92b5-fa7042578355"
   },
   "outputs": [
    {
     "data": {
      "text/html": [
       "<div>\n",
       "<style scoped>\n",
       "    .dataframe tbody tr th:only-of-type {\n",
       "        vertical-align: middle;\n",
       "    }\n",
       "\n",
       "    .dataframe tbody tr th {\n",
       "        vertical-align: top;\n",
       "    }\n",
       "\n",
       "    .dataframe thead th {\n",
       "        text-align: right;\n",
       "    }\n",
       "</style>\n",
       "<table border=\"1\" class=\"dataframe\">\n",
       "  <thead>\n",
       "    <tr style=\"text-align: right;\">\n",
       "      <th></th>\n",
       "      <th>Customer_ID</th>\n",
       "      <th>Age</th>\n",
       "      <th>Annual_Income</th>\n",
       "      <th>Spending_Score</th>\n",
       "    </tr>\n",
       "  </thead>\n",
       "  <tbody>\n",
       "    <tr>\n",
       "      <th>count</th>\n",
       "      <td>200.000000</td>\n",
       "      <td>200.000000</td>\n",
       "      <td>200.000000</td>\n",
       "      <td>200.000000</td>\n",
       "    </tr>\n",
       "    <tr>\n",
       "      <th>mean</th>\n",
       "      <td>100.500000</td>\n",
       "      <td>38.850000</td>\n",
       "      <td>60.560000</td>\n",
       "      <td>50.200000</td>\n",
       "    </tr>\n",
       "    <tr>\n",
       "      <th>std</th>\n",
       "      <td>57.879185</td>\n",
       "      <td>13.969007</td>\n",
       "      <td>26.264721</td>\n",
       "      <td>25.823522</td>\n",
       "    </tr>\n",
       "    <tr>\n",
       "      <th>min</th>\n",
       "      <td>1.000000</td>\n",
       "      <td>18.000000</td>\n",
       "      <td>15.000000</td>\n",
       "      <td>1.000000</td>\n",
       "    </tr>\n",
       "    <tr>\n",
       "      <th>25%</th>\n",
       "      <td>50.750000</td>\n",
       "      <td>28.750000</td>\n",
       "      <td>41.500000</td>\n",
       "      <td>34.750000</td>\n",
       "    </tr>\n",
       "    <tr>\n",
       "      <th>50%</th>\n",
       "      <td>100.500000</td>\n",
       "      <td>36.000000</td>\n",
       "      <td>61.500000</td>\n",
       "      <td>50.000000</td>\n",
       "    </tr>\n",
       "    <tr>\n",
       "      <th>75%</th>\n",
       "      <td>150.250000</td>\n",
       "      <td>49.000000</td>\n",
       "      <td>78.000000</td>\n",
       "      <td>73.000000</td>\n",
       "    </tr>\n",
       "    <tr>\n",
       "      <th>max</th>\n",
       "      <td>200.000000</td>\n",
       "      <td>70.000000</td>\n",
       "      <td>137.000000</td>\n",
       "      <td>99.000000</td>\n",
       "    </tr>\n",
       "  </tbody>\n",
       "</table>\n",
       "</div>"
      ],
      "text/plain": [
       "       Customer_ID         Age  Annual_Income  Spending_Score\n",
       "count   200.000000  200.000000     200.000000      200.000000\n",
       "mean    100.500000   38.850000      60.560000       50.200000\n",
       "std      57.879185   13.969007      26.264721       25.823522\n",
       "min       1.000000   18.000000      15.000000        1.000000\n",
       "25%      50.750000   28.750000      41.500000       34.750000\n",
       "50%     100.500000   36.000000      61.500000       50.000000\n",
       "75%     150.250000   49.000000      78.000000       73.000000\n",
       "max     200.000000   70.000000     137.000000       99.000000"
      ]
     },
     "execution_count": 5,
     "metadata": {},
     "output_type": "execute_result"
    }
   ],
   "source": [
    "# Check some quick stats of the data\n",
    "df.describe()"
   ]
  },
  {
   "cell_type": "code",
   "execution_count": 6,
   "metadata": {
    "colab": {
     "base_uri": "https://localhost:8080/",
     "height": 206
    },
    "id": "BfKQDTPPET6_",
    "outputId": "62a03a53-1248-403e-d29e-7df4a07c16ee"
   },
   "outputs": [
    {
     "data": {
      "text/html": [
       "<div>\n",
       "<style scoped>\n",
       "    .dataframe tbody tr th:only-of-type {\n",
       "        vertical-align: middle;\n",
       "    }\n",
       "\n",
       "    .dataframe tbody tr th {\n",
       "        vertical-align: top;\n",
       "    }\n",
       "\n",
       "    .dataframe thead th {\n",
       "        text-align: right;\n",
       "    }\n",
       "</style>\n",
       "<table border=\"1\" class=\"dataframe\">\n",
       "  <thead>\n",
       "    <tr style=\"text-align: right;\">\n",
       "      <th></th>\n",
       "      <th>Customer_ID</th>\n",
       "      <th>Age</th>\n",
       "      <th>Annual_Income</th>\n",
       "      <th>Spending_Score</th>\n",
       "    </tr>\n",
       "  </thead>\n",
       "  <tbody>\n",
       "    <tr>\n",
       "      <th>Customer_ID</th>\n",
       "      <td>1.000000</td>\n",
       "      <td>-0.026763</td>\n",
       "      <td>0.977548</td>\n",
       "      <td>0.013835</td>\n",
       "    </tr>\n",
       "    <tr>\n",
       "      <th>Age</th>\n",
       "      <td>-0.026763</td>\n",
       "      <td>1.000000</td>\n",
       "      <td>-0.012398</td>\n",
       "      <td>-0.327227</td>\n",
       "    </tr>\n",
       "    <tr>\n",
       "      <th>Annual_Income</th>\n",
       "      <td>0.977548</td>\n",
       "      <td>-0.012398</td>\n",
       "      <td>1.000000</td>\n",
       "      <td>0.009903</td>\n",
       "    </tr>\n",
       "    <tr>\n",
       "      <th>Spending_Score</th>\n",
       "      <td>0.013835</td>\n",
       "      <td>-0.327227</td>\n",
       "      <td>0.009903</td>\n",
       "      <td>1.000000</td>\n",
       "    </tr>\n",
       "  </tbody>\n",
       "</table>\n",
       "</div>"
      ],
      "text/plain": [
       "                Customer_ID       Age  Annual_Income  Spending_Score\n",
       "Customer_ID        1.000000 -0.026763       0.977548        0.013835\n",
       "Age               -0.026763  1.000000      -0.012398       -0.327227\n",
       "Annual_Income      0.977548 -0.012398       1.000000        0.009903\n",
       "Spending_Score     0.013835 -0.327227       0.009903        1.000000"
      ]
     },
     "execution_count": 6,
     "metadata": {},
     "output_type": "execute_result"
    }
   ],
   "source": [
    "df.corr(numeric_only=True)"
   ]
  },
  {
   "cell_type": "code",
   "execution_count": 7,
   "metadata": {
    "colab": {
     "base_uri": "https://localhost:8080/",
     "height": 206
    },
    "id": "GH4wQucLD1li",
    "outputId": "8cea9a74-4dcf-435f-e5e0-b2a409ecb6e4"
   },
   "outputs": [
    {
     "data": {
      "text/html": [
       "<div>\n",
       "<style scoped>\n",
       "    .dataframe tbody tr th:only-of-type {\n",
       "        vertical-align: middle;\n",
       "    }\n",
       "\n",
       "    .dataframe tbody tr th {\n",
       "        vertical-align: top;\n",
       "    }\n",
       "\n",
       "    .dataframe thead th {\n",
       "        text-align: right;\n",
       "    }\n",
       "</style>\n",
       "<table border=\"1\" class=\"dataframe\">\n",
       "  <thead>\n",
       "    <tr style=\"text-align: right;\">\n",
       "      <th></th>\n",
       "      <th>Customer_ID</th>\n",
       "      <th>Age</th>\n",
       "      <th>Annual_Income</th>\n",
       "      <th>Spending_Score</th>\n",
       "    </tr>\n",
       "  </thead>\n",
       "  <tbody>\n",
       "    <tr>\n",
       "      <th>Customer_ID</th>\n",
       "      <td>1.000000</td>\n",
       "      <td>0.015249</td>\n",
       "      <td>0.999638</td>\n",
       "      <td>0.013149</td>\n",
       "    </tr>\n",
       "    <tr>\n",
       "      <th>Age</th>\n",
       "      <td>0.015249</td>\n",
       "      <td>1.000000</td>\n",
       "      <td>0.019767</td>\n",
       "      <td>-0.344940</td>\n",
       "    </tr>\n",
       "    <tr>\n",
       "      <th>Annual_Income</th>\n",
       "      <td>0.999638</td>\n",
       "      <td>0.019767</td>\n",
       "      <td>1.000000</td>\n",
       "      <td>0.007840</td>\n",
       "    </tr>\n",
       "    <tr>\n",
       "      <th>Spending_Score</th>\n",
       "      <td>0.013149</td>\n",
       "      <td>-0.344940</td>\n",
       "      <td>0.007840</td>\n",
       "      <td>1.000000</td>\n",
       "    </tr>\n",
       "  </tbody>\n",
       "</table>\n",
       "</div>"
      ],
      "text/plain": [
       "                Customer_ID       Age  Annual_Income  Spending_Score\n",
       "Customer_ID        1.000000  0.015249       0.999638        0.013149\n",
       "Age                0.015249  1.000000       0.019767       -0.344940\n",
       "Annual_Income      0.999638  0.019767       1.000000        0.007840\n",
       "Spending_Score     0.013149 -0.344940       0.007840        1.000000"
      ]
     },
     "execution_count": 7,
     "metadata": {},
     "output_type": "execute_result"
    }
   ],
   "source": [
    "df.corr(numeric_only=True, method='spearman' )"
   ]
  },
  {
   "cell_type": "code",
   "execution_count": 8,
   "metadata": {
    "id": "vqCb9fFX51C4",
    "outputId": "a7fe931d-b392-4a6d-b6a2-d5eb5159f929"
   },
   "outputs": [
    {
     "data": {
      "image/png": "[encoded data removed]",
      "text/plain": [
       "<Figure size 750x750 with 12 Axes>"
      ]
     },
     "metadata": {},
     "output_type": "display_data"
    }
   ],
   "source": [
    "# let's plot a pairplot\n",
    "sns.pairplot(df[['Age','Annual_Income','Spending_Score']])\n",
    "plt.show()"
   ]
  },
  {
   "cell_type": "markdown",
   "metadata": {
    "id": "LxN2ASxX51C4"
   },
   "source": [
    "* As a mall owner you are interested in the customer spending score. If you look at spending vs Age, you can observe that the spending score is high for customers between age 20-40, and relatively low for customers beyond 40.\n",
    "<br><br>\n",
    "* Remember, K-means clustering is sensitive to outliers. So, if you see any guilty outliers you should consider removing them."
   ]
  },
  {
   "cell_type": "code",
   "execution_count": 16,
   "metadata": {
    "id": "Y3BgeTWH51C4"
   },
   "outputs": [],
   "source": [
    "# import kmeans model\n",
    "from sklearn.cluster import KMeans"
   ]
  },
  {
   "cell_type": "markdown",
   "metadata": {
    "id": "sn4TXYbC51C4"
   },
   "source": [
    "#### We will build a model with only 2 features for now to visualise it, and later we will add more feature' and use the evaluation metric silhouette measure."
   ]
  },
  {
   "cell_type": "code",
   "execution_count": 18,
   "metadata": {
    "id": "hvYWRGm751C4"
   },
   "outputs": [],
   "source": [
    "# Let' train our model on spending_score and annual_income\n",
    "kmodel = KMeans(n_clusters=5).fit(df[['Annual_Income','Spending_Score']])"
   ]
  },
  {
   "cell_type": "code",
   "execution_count": 19,
   "metadata": {
    "colab": {
     "base_uri": "https://localhost:8080/"
    },
    "id": "uDPP1QwQ51C4",
    "outputId": "519de286-f764-4109-81f4-e33108ce2e25"
   },
   "outputs": [
    {
     "data": {
      "text/plain": [
       "array([[ 78.23333333,  81.36666667],\n",
       "       [ 47.96      ,  43.25      ],\n",
       "       [ 87.        ,  18.63157895],\n",
       "       [ 25.72727273,  79.36363636],\n",
       "       [109.7       ,  82.        ]])"
      ]
     },
     "execution_count": 19,
     "metadata": {},
     "output_type": "execute_result"
    }
   ],
   "source": [
    "# check your cluster centers\n",
    "kmodel.cluster_centers_"
   ]
  },
  {
   "cell_type": "code",
   "execution_count": 21,
   "metadata": {
    "colab": {
     "base_uri": "https://localhost:8080/"
    },
    "id": "q4S7352X51C4",
    "outputId": "bc5771a3-e4bf-40e7-911c-f3d6da689910"
   },
   "outputs": [
    {
     "data": {
      "text/plain": [
       "array([1, 3, 1, 3, 1, 3, 1, 3, 1, 3, 1, 3, 1, 3, 1, 3, 1, 3, 1, 3, 1, 3,\n",
       "       1, 3, 1, 3, 1, 3, 1, 3, 1, 3, 1, 3, 1, 3, 1, 3, 1, 3, 1, 3, 1, 1,\n",
       "       1, 3, 1, 1, 1, 1, 1, 1, 1, 1, 1, 1, 1, 1, 1, 1, 1, 1, 1, 1, 1, 1,\n",
       "       1, 1, 1, 1, 1, 1, 1, 1, 1, 1, 1, 1, 1, 1, 1, 1, 1, 1, 1, 1, 1, 1,\n",
       "       1, 1, 1, 1, 1, 1, 1, 1, 1, 1, 1, 1, 1, 1, 1, 1, 1, 1, 1, 1, 1, 1,\n",
       "       1, 1, 1, 1, 1, 1, 1, 1, 1, 1, 1, 1, 0, 0, 2, 0, 2, 0, 2, 0, 2, 0,\n",
       "       2, 0, 2, 0, 2, 0, 2, 0, 2, 0, 2, 0, 2, 0, 2, 0, 2, 0, 2, 0, 2, 0,\n",
       "       2, 0, 2, 0, 2, 0, 2, 0, 2, 0, 2, 0, 2, 0, 2, 0, 2, 0, 2, 0, 2, 0,\n",
       "       2, 0, 2, 0, 2, 4, 2, 4, 2, 4, 2, 4, 2, 4, 2, 4, 2, 4, 2, 4, 2, 4,\n",
       "       2, 4])"
      ]
     },
     "execution_count": 21,
     "metadata": {},
     "output_type": "execute_result"
    }
   ],
   "source": [
    "# Check the cluster labels\n",
    "kmodel.labels_"
   ]
  },
  {
   "cell_type": "code",
   "execution_count": 22,
   "metadata": {
    "id": "1d6ryu0g51C4"
   },
   "outputs": [],
   "source": [
    "# Put this data back in to the main dataframe corresponding to each observation\n",
    "df['Cluster'] = kmodel.labels_"
   ]
  },
  {
   "cell_type": "code",
   "execution_count": 23,
   "metadata": {
    "colab": {
     "base_uri": "https://localhost:8080/",
     "height": 206
    },
    "id": "7k1yxoYc51C4",
    "outputId": "8a509712-62f8-4b7c-83ec-bc6a2ca9a949"
   },
   "outputs": [
    {
     "data": {
      "text/html": [
       "<div>\n",
       "<style scoped>\n",
       "    .dataframe tbody tr th:only-of-type {\n",
       "        vertical-align: middle;\n",
       "    }\n",
       "\n",
       "    .dataframe tbody tr th {\n",
       "        vertical-align: top;\n",
       "    }\n",
       "\n",
       "    .dataframe thead th {\n",
       "        text-align: right;\n",
       "    }\n",
       "</style>\n",
       "<table border=\"1\" class=\"dataframe\">\n",
       "  <thead>\n",
       "    <tr style=\"text-align: right;\">\n",
       "      <th></th>\n",
       "      <th>Customer_ID</th>\n",
       "      <th>Gender</th>\n",
       "      <th>Age</th>\n",
       "      <th>Annual_Income</th>\n",
       "      <th>Spending_Score</th>\n",
       "      <th>Cluster</th>\n",
       "    </tr>\n",
       "  </thead>\n",
       "  <tbody>\n",
       "    <tr>\n",
       "      <th>0</th>\n",
       "      <td>1</td>\n",
       "      <td>Male</td>\n",
       "      <td>19</td>\n",
       "      <td>15</td>\n",
       "      <td>39</td>\n",
       "      <td>1</td>\n",
       "    </tr>\n",
       "    <tr>\n",
       "      <th>1</th>\n",
       "      <td>2</td>\n",
       "      <td>Male</td>\n",
       "      <td>21</td>\n",
       "      <td>15</td>\n",
       "      <td>81</td>\n",
       "      <td>3</td>\n",
       "    </tr>\n",
       "    <tr>\n",
       "      <th>2</th>\n",
       "      <td>3</td>\n",
       "      <td>Female</td>\n",
       "      <td>20</td>\n",
       "      <td>16</td>\n",
       "      <td>6</td>\n",
       "      <td>1</td>\n",
       "    </tr>\n",
       "    <tr>\n",
       "      <th>3</th>\n",
       "      <td>4</td>\n",
       "      <td>Female</td>\n",
       "      <td>23</td>\n",
       "      <td>16</td>\n",
       "      <td>77</td>\n",
       "      <td>3</td>\n",
       "    </tr>\n",
       "    <tr>\n",
       "      <th>4</th>\n",
       "      <td>5</td>\n",
       "      <td>Female</td>\n",
       "      <td>31</td>\n",
       "      <td>17</td>\n",
       "      <td>40</td>\n",
       "      <td>1</td>\n",
       "    </tr>\n",
       "  </tbody>\n",
       "</table>\n",
       "</div>"
      ],
      "text/plain": [
       "   Customer_ID  Gender  Age  Annual_Income  Spending_Score  Cluster\n",
       "0            1    Male   19             15              39        1\n",
       "1            2    Male   21             15              81        3\n",
       "2            3  Female   20             16               6        1\n",
       "3            4  Female   23             16              77        3\n",
       "4            5  Female   31             17              40        1"
      ]
     },
     "execution_count": 23,
     "metadata": {},
     "output_type": "execute_result"
    }
   ],
   "source": [
    "# check the dataset\n",
    "df.head()"
   ]
  },
  {
   "cell_type": "code",
   "execution_count": 24,
   "metadata": {
    "colab": {
     "base_uri": "https://localhost:8080/",
     "height": 272
    },
    "id": "NaQxFXNd51C4",
    "outputId": "894c9382-ce6a-463e-c90b-3d18b304f0f2"
   },
   "outputs": [
    {
     "data": {
      "text/plain": [
       "Cluster\n",
       "1    100\n",
       "2     38\n",
       "0     30\n",
       "3     22\n",
       "4     10\n",
       "Name: count, dtype: int64"
      ]
     },
     "execution_count": 24,
     "metadata": {},
     "output_type": "execute_result"
    }
   ],
   "source": [
    "# check how many observations belong to each cluster\n",
    "df['Cluster'].value_counts()"
   ]
  },
  {
   "cell_type": "code",
   "execution_count": 26,
   "metadata": {
    "colab": {
     "base_uri": "https://localhost:8080/",
     "height": 450
    },
    "id": "q5GECNQo51C5",
    "outputId": "5652388e-2ca6-4f2a-ff35-8eaab173d4c4"
   },
   "outputs": [
    {
     "data": {
      "image/png": "[encoded data removed]",
      "text/plain": [
       "<Figure size 640x480 with 1 Axes>"
      ]
     },
     "metadata": {},
     "output_type": "display_data"
    }
   ],
   "source": [
    "# Let' visualize these clusters\n",
    "sns.scatterplot(x='Annual_Income', y = 'Spending_Score', data=df, hue='Cluster', palette='colorblind')\n",
    "plt.show()"
   ]
  },
  {
   "cell_type": "markdown",
   "metadata": {
    "id": "iloD1S-y51C5"
   },
   "source": [
    "#### Visually we are able to see 5 clear clusters. Let's verify them using the Elbow and Silhouette Method"
   ]
  },
  {
   "cell_type": "markdown",
   "metadata": {
    "id": "x-lpIrBK51C5"
   },
   "source": [
    "    "
   ]
  },
  {
   "cell_type": "markdown",
   "metadata": {
    "id": "y8d8zN2O51C5"
   },
   "source": [
    "## 1. Elbow Method"
   ]
  },
  {
   "cell_type": "markdown",
   "metadata": {
    "id": "3XiMxouK51C5"
   },
   "source": [
    "* We will analyze clusters from 3 to 8 and calculate the WCSS scores. The WCSS scores can be used to plot the Elbow Plot.\n",
    "\n",
    "* WCSS = Within Cluster Sum of Squares"
   ]
  },
  {
   "cell_type": "code",
   "execution_count": 38,
   "metadata": {
    "id": "y6vDNBnj51C5"
   },
   "outputs": [],
   "source": [
    "# try using a for loop\n",
    "k = range(3,9)\n",
    "K = []\n",
    "WCSS = []\n",
    "for i in k:\n",
    "    kmodel = KMeans(n_clusters=i).fit(df[['Annual_Income','Spending_Score']])\n",
    "    wcss_score = kmodel.inertia_\n",
    "    WCSS.append(wcss_score)\n",
    "    K.append(i)"
   ]
  },
  {
   "cell_type": "code",
   "execution_count": 40,
   "metadata": {
    "colab": {
     "base_uri": "https://localhost:8080/"
    },
    "id": "dnv9LixU51C5",
    "outputId": "236ec995-a3a9-4498-a985-2ab22c58ca76"
   },
   "outputs": [
    {
     "data": {
      "text/plain": [
       "([3, 4, 5, 6, 7, 8],\n",
       " [106348.37306211119,\n",
       "  73880.64496247195,\n",
       "  44448.45544793371,\n",
       "  37271.8862365895,\n",
       "  31583.2618265905,\n",
       "  30538.448166776827])"
      ]
     },
     "execution_count": 40,
     "metadata": {},
     "output_type": "execute_result"
    }
   ],
   "source": [
    "K, WCSS"
   ]
  },
  {
   "cell_type": "code",
   "execution_count": 42,
   "metadata": {
    "colab": {
     "base_uri": "https://localhost:8080/",
     "height": 237
    },
    "id": "0NlY-LmC51C5",
    "outputId": "aac2e4ce-ee17-484f-c7c2-90770f57ca4e"
   },
   "outputs": [
    {
     "data": {
      "text/html": [
       "<div>\n",
       "<style scoped>\n",
       "    .dataframe tbody tr th:only-of-type {\n",
       "        vertical-align: middle;\n",
       "    }\n",
       "\n",
       "    .dataframe tbody tr th {\n",
       "        vertical-align: top;\n",
       "    }\n",
       "\n",
       "    .dataframe thead th {\n",
       "        text-align: right;\n",
       "    }\n",
       "</style>\n",
       "<table border=\"1\" class=\"dataframe\">\n",
       "  <thead>\n",
       "    <tr style=\"text-align: right;\">\n",
       "      <th></th>\n",
       "      <th>cluster</th>\n",
       "      <th>WSS_Score</th>\n",
       "    </tr>\n",
       "  </thead>\n",
       "  <tbody>\n",
       "    <tr>\n",
       "      <th>0</th>\n",
       "      <td>3</td>\n",
       "      <td>106348.373062</td>\n",
       "    </tr>\n",
       "    <tr>\n",
       "      <th>1</th>\n",
       "      <td>4</td>\n",
       "      <td>73880.644962</td>\n",
       "    </tr>\n",
       "    <tr>\n",
       "      <th>2</th>\n",
       "      <td>5</td>\n",
       "      <td>44448.455448</td>\n",
       "    </tr>\n",
       "    <tr>\n",
       "      <th>3</th>\n",
       "      <td>6</td>\n",
       "      <td>37271.886237</td>\n",
       "    </tr>\n",
       "    <tr>\n",
       "      <th>4</th>\n",
       "      <td>7</td>\n",
       "      <td>31583.261827</td>\n",
       "    </tr>\n",
       "    <tr>\n",
       "      <th>5</th>\n",
       "      <td>8</td>\n",
       "      <td>30538.448167</td>\n",
       "    </tr>\n",
       "  </tbody>\n",
       "</table>\n",
       "</div>"
      ],
      "text/plain": [
       "   cluster      WSS_Score\n",
       "0        3  106348.373062\n",
       "1        4   73880.644962\n",
       "2        5   44448.455448\n",
       "3        6   37271.886237\n",
       "4        7   31583.261827\n",
       "5        8   30538.448167"
      ]
     },
     "execution_count": 42,
     "metadata": {},
     "output_type": "execute_result"
    }
   ],
   "source": [
    "# Store the number of clusters and their respective WSS scores in a dataframe\n",
    "wss = pd.DataFrame({'cluster': K, 'WSS_Score':WCSS})\n",
    "wss"
   ]
  },
  {
   "cell_type": "code",
   "execution_count": 44,
   "metadata": {
    "colab": {
     "base_uri": "https://localhost:8080/",
     "height": 472
    },
    "id": "7SxRAP4E51C5",
    "outputId": "8ab3a221-de01-4d5a-a617-279359628053"
   },
   "outputs": [
    {
     "data": {
      "image/png": "[encoded data removed]",
      "text/plain": [
       "<Figure size 640x480 with 1 Axes>"
      ]
     },
     "metadata": {},
     "output_type": "display_data"
    }
   ],
   "source": [
    "# Now, plot a Elbow plot\n",
    "wss.plot(x='cluster', y = 'WSS_Score')\n",
    "plt.xlabel('No. of clusters')\n",
    "plt.ylabel('WSS Score')\n",
    "plt.title('Elbow Plot')\n",
    "plt.show()"
   ]
  },
  {
   "cell_type": "markdown",
   "metadata": {
    "id": "H0Vhqy3C51C5"
   },
   "source": [
    "We get 5 clusters as a best value of k using the WSS method."
   ]
  },
  {
   "cell_type": "markdown",
   "metadata": {
    "id": "ajeO7eNK51C5"
   },
   "source": [
    "    "
   ]
  },
  {
   "cell_type": "markdown",
   "metadata": {
    "id": "cYfwXpFd51C5"
   },
   "source": [
    "## 2. Silhouette Measure\n",
    "\n",
    "Check the value of K using the Silhouette Measure"
   ]
  },
  {
   "cell_type": "code",
   "execution_count": 49,
   "metadata": {
    "id": "5m3Za5qU51C5"
   },
   "outputs": [],
   "source": [
    "# import silhouette_score\n",
    "from sklearn.metrics import silhouette_score"
   ]
  },
  {
   "cell_type": "code",
   "execution_count": 51,
   "metadata": {
    "id": "l46pGk1b51C5"
   },
   "outputs": [],
   "source": [
    "# same as above, calculate sihouetter score for each cluster using a for loop\n",
    "\n",
    "# try using a for loop\n",
    "k = range(3,9) # to loop from 3 to 8\n",
    "K = []         # to store the values of k\n",
    "ss = []        # to store respective silhouetter scores\n",
    "for i in k:\n",
    "    kmodel = KMeans(n_clusters=i,).fit(df[['Annual_Income','Spending_Score']], )\n",
    "    ypred = kmodel.labels_\n",
    "    sil_score = silhouette_score(df[['Annual_Income','Spending_Score']], ypred)\n",
    "    K.append(i)\n",
    "    ss.append(sil_score)"
   ]
  },
  {
   "cell_type": "code",
   "execution_count": 53,
   "metadata": {
    "colab": {
     "base_uri": "https://localhost:8080/"
    },
    "id": "znzkzcUH51C6",
    "outputId": "aea9e6b3-02c2-4231-b279-0724fda6d7d3"
   },
   "outputs": [
    {
     "data": {
      "text/plain": [
       "[0.46761358158775435,\n",
       " 0.4931963109249047,\n",
       " 0.553931997444648,\n",
       " 0.44558151537908486,\n",
       " 0.4553566374071049,\n",
       " 0.4405399438367967]"
      ]
     },
     "execution_count": 53,
     "metadata": {},
     "output_type": "execute_result"
    }
   ],
   "source": [
    "ss"
   ]
  },
  {
   "cell_type": "code",
   "execution_count": 55,
   "metadata": {
    "id": "ZA2aoOwT51C6"
   },
   "outputs": [],
   "source": [
    "# Store the number of clusters and their respective silhouette scores in a dataframe\n",
    "wss['Silhouette_Score']=ss"
   ]
  },
  {
   "cell_type": "code",
   "execution_count": 57,
   "metadata": {
    "colab": {
     "base_uri": "https://localhost:8080/",
     "height": 237
    },
    "id": "76SyQMiK51C6",
    "outputId": "e03f2bbb-f73f-42e8-e0ee-b05c86679562"
   },
   "outputs": [
    {
     "data": {
      "text/html": [
       "<div>\n",
       "<style scoped>\n",
       "    .dataframe tbody tr th:only-of-type {\n",
       "        vertical-align: middle;\n",
       "    }\n",
       "\n",
       "    .dataframe tbody tr th {\n",
       "        vertical-align: top;\n",
       "    }\n",
       "\n",
       "    .dataframe thead th {\n",
       "        text-align: right;\n",
       "    }\n",
       "</style>\n",
       "<table border=\"1\" class=\"dataframe\">\n",
       "  <thead>\n",
       "    <tr style=\"text-align: right;\">\n",
       "      <th></th>\n",
       "      <th>cluster</th>\n",
       "      <th>WSS_Score</th>\n",
       "      <th>Silhouette_Score</th>\n",
       "    </tr>\n",
       "  </thead>\n",
       "  <tbody>\n",
       "    <tr>\n",
       "      <th>0</th>\n",
       "      <td>3</td>\n",
       "      <td>106348.373062</td>\n",
       "      <td>0.467614</td>\n",
       "    </tr>\n",
       "    <tr>\n",
       "      <th>1</th>\n",
       "      <td>4</td>\n",
       "      <td>73880.644962</td>\n",
       "      <td>0.493196</td>\n",
       "    </tr>\n",
       "    <tr>\n",
       "      <th>2</th>\n",
       "      <td>5</td>\n",
       "      <td>44448.455448</td>\n",
       "      <td>0.553932</td>\n",
       "    </tr>\n",
       "    <tr>\n",
       "      <th>3</th>\n",
       "      <td>6</td>\n",
       "      <td>37271.886237</td>\n",
       "      <td>0.445582</td>\n",
       "    </tr>\n",
       "    <tr>\n",
       "      <th>4</th>\n",
       "      <td>7</td>\n",
       "      <td>31583.261827</td>\n",
       "      <td>0.455357</td>\n",
       "    </tr>\n",
       "    <tr>\n",
       "      <th>5</th>\n",
       "      <td>8</td>\n",
       "      <td>30538.448167</td>\n",
       "      <td>0.440540</td>\n",
       "    </tr>\n",
       "  </tbody>\n",
       "</table>\n",
       "</div>"
      ],
      "text/plain": [
       "   cluster      WSS_Score  Silhouette_Score\n",
       "0        3  106348.373062          0.467614\n",
       "1        4   73880.644962          0.493196\n",
       "2        5   44448.455448          0.553932\n",
       "3        6   37271.886237          0.445582\n",
       "4        7   31583.261827          0.455357\n",
       "5        8   30538.448167          0.440540"
      ]
     },
     "execution_count": 57,
     "metadata": {},
     "output_type": "execute_result"
    }
   ],
   "source": [
    "wss"
   ]
  },
  {
   "cell_type": "markdown",
   "metadata": {
    "id": "Gx_23Rwd51C6"
   },
   "source": [
    "### Silhouette score is between -1 to +1\n",
    "\n",
    "closer to +1 means the clusters are better"
   ]
  },
  {
   "cell_type": "code",
   "execution_count": 60,
   "metadata": {
    "colab": {
     "base_uri": "https://localhost:8080/",
     "height": 472
    },
    "id": "HY4k56Cn51C9",
    "outputId": "c85d9731-3125-425e-e082-c63fc3e13894",
    "scrolled": true
   },
   "outputs": [
    {
     "data": {
      "image/png": "[encoded data removed]",
      "text/plain": [
       "<Figure size 640x480 with 1 Axes>"
      ]
     },
     "metadata": {},
     "output_type": "display_data"
    }
   ],
   "source": [
    "# Now, plot the silhouette plot\n",
    "wss.plot(x='cluster', y='Silhouette_Score')\n",
    "plt.xlabel('No. of clusters')\n",
    "plt.ylabel('Silhouette Score')\n",
    "plt.title('Silhouette Plot')\n",
    "plt.show()"
   ]
  },
  {
   "cell_type": "markdown",
   "metadata": {
    "id": "4dxdtIiU51C9"
   },
   "source": [
    "    "
   ]
  },
  {
   "cell_type": "markdown",
   "metadata": {
    "id": "h763R2UL51C9"
   },
   "source": [
    "#### Conclusion: Both Elbow and Silhouette methods gave the optimal value of k=5"
   ]
  },
  {
   "cell_type": "markdown",
   "metadata": {
    "id": "QmCVLzhk51C9"
   },
   "source": [
    "    "
   ]
  },
  {
   "cell_type": "markdown",
   "metadata": {
    "id": "st4sGNdh51C9"
   },
   "source": [
    "## Now use all the available features and use the k-means model.\n",
    "\n",
    "* Remember, now you cannot visualise the clusters with more than 2 features.\n",
    "* So, the optimal number of clusters can be only determined by Elbow and Silhouette methods."
   ]
  },
  {
   "cell_type": "code",
   "execution_count": 66,
   "metadata": {
    "id": "x8Kb7ZZp51C-"
   },
   "outputs": [],
   "source": [
    "# Train a model on 'Age','Annual_Income','Spending_Score' features\n",
    "k = range(3,9)\n",
    "K = []\n",
    "ss = []\n",
    "for i in k:\n",
    "    kmodel = KMeans(n_clusters=i).fit(df[['Age','Annual_Income','Spending_Score']], )\n",
    "    ypred = kmodel.labels_\n",
    "    sil_score = silhouette_score(df[['Age','Annual_Income','Spending_Score']], ypred)\n",
    "    K.append(i)\n",
    "    ss.append(sil_score)"
   ]
  },
  {
   "cell_type": "code",
   "execution_count": 68,
   "metadata": {
    "colab": {
     "base_uri": "https://localhost:8080/",
     "height": 237
    },
    "id": "Nb7MrBGj51C-",
    "outputId": "571bde9a-4933-445d-a137-d26804d7c01d"
   },
   "outputs": [
    {
     "data": {
      "text/html": [
       "<div>\n",
       "<style scoped>\n",
       "    .dataframe tbody tr th:only-of-type {\n",
       "        vertical-align: middle;\n",
       "    }\n",
       "\n",
       "    .dataframe tbody tr th {\n",
       "        vertical-align: top;\n",
       "    }\n",
       "\n",
       "    .dataframe thead th {\n",
       "        text-align: right;\n",
       "    }\n",
       "</style>\n",
       "<table border=\"1\" class=\"dataframe\">\n",
       "  <thead>\n",
       "    <tr style=\"text-align: right;\">\n",
       "      <th></th>\n",
       "      <th>cluster</th>\n",
       "      <th>Silhouette_Score</th>\n",
       "    </tr>\n",
       "  </thead>\n",
       "  <tbody>\n",
       "    <tr>\n",
       "      <th>0</th>\n",
       "      <td>3</td>\n",
       "      <td>0.325606</td>\n",
       "    </tr>\n",
       "    <tr>\n",
       "      <th>1</th>\n",
       "      <td>4</td>\n",
       "      <td>0.392360</td>\n",
       "    </tr>\n",
       "    <tr>\n",
       "      <th>2</th>\n",
       "      <td>5</td>\n",
       "      <td>0.444464</td>\n",
       "    </tr>\n",
       "    <tr>\n",
       "      <th>3</th>\n",
       "      <td>6</td>\n",
       "      <td>0.450951</td>\n",
       "    </tr>\n",
       "    <tr>\n",
       "      <th>4</th>\n",
       "      <td>7</td>\n",
       "      <td>0.437625</td>\n",
       "    </tr>\n",
       "    <tr>\n",
       "      <th>5</th>\n",
       "      <td>8</td>\n",
       "      <td>0.427864</td>\n",
       "    </tr>\n",
       "  </tbody>\n",
       "</table>\n",
       "</div>"
      ],
      "text/plain": [
       "   cluster  Silhouette_Score\n",
       "0        3          0.325606\n",
       "1        4          0.392360\n",
       "2        5          0.444464\n",
       "3        6          0.450951\n",
       "4        7          0.437625\n",
       "5        8          0.427864"
      ]
     },
     "execution_count": 68,
     "metadata": {},
     "output_type": "execute_result"
    }
   ],
   "source": [
    "# Store the number of clusters and their respective silhouette scores in a dataframe\n",
    "Variables3 = pd.DataFrame({'cluster': K, 'Silhouette_Score':ss})\n",
    "Variables3"
   ]
  },
  {
   "cell_type": "code",
   "execution_count": 70,
   "metadata": {
    "colab": {
     "base_uri": "https://localhost:8080/",
     "height": 466
    },
    "id": "9dSVQ3qv51C-",
    "outputId": "96f77a6f-b41c-42b3-c9d1-c3f8861ffd03"
   },
   "outputs": [
    {
     "data": {
      "text/plain": [
       "<Axes: xlabel='cluster'>"
      ]
     },
     "execution_count": 70,
     "metadata": {},
     "output_type": "execute_result"
    }
   ],
   "source": [
    "# Now, plot the silhouette plot\n",
    "Variables3.plot(x='cluster', y='Silhouette_Score')"
   ]
  },
  {
   "cell_type": "markdown",
   "metadata": {
    "id": "JzGZ6QSD51C-"
   },
   "source": [
    "    "
   ]
  },
  {
   "cell_type": "markdown",
   "metadata": {
    "id": "3ffG-ROT51C-"
   },
   "source": [
    "#### Conclusion: With 3 features we now have the optimal value of k=6"
   ]
  },
  {
   "cell_type": "markdown",
   "metadata": {
    "id": "fQcfxyWr51C-"
   },
   "source": [
    "### Exercise:\n",
    "\n",
    "Use argument `init=kmeans++` as a hyperparameter while training the model.\n",
    "\n",
    "KMEANS++ internally analyzes the patterns of the data. Such as the shape of data (whether it is spherical, rectangle, oval etc.) and then initializes the centroids. Thus, assigning the clusters in a smart way."
   ]
  },
  {
   "cell_type": "code",
   "execution_count": null,
   "metadata": {},
   "outputs": [],
   "source": []
  }
 ],
 "metadata": {
  "colab": {
   "collapsed_sections": [
    "RYOHc68YujYE",
    "lc_kizYoJ2FS",
    "ZsJCxVwOJ2FU",
    "vQniuFLiJ2FZ",
    "Iid-Mm7SvKLH",
    "kO38zz_lvQlb",
    "dcVJD8thJ2Fo",
    "WU_fkGPkJ2Fo",
    "O6Li3YCgJ2Fq",
    "IvmLln6PJ2F0",
    "1i5o-mJxJ2F1",
    "8VR2DLkQJ2F5",
    "pQ6brzE7J2F_",
    "hFMuvW1uJ2Gb",
    "6jkwgRPuQDMl",
    "I-1mdGanQO3N",
    "05_n-tl3J2Gh",
    "GcrbeHLgJ2Gl",
    "_Q2od2oZJ2Gm",
    "5V1nnqq2J2Gs",
    "I6LhGTQoJ2Gy",
    "9VxTAromSFOq",
    "-W0I9QpctKVK",
    "5lZqtS1yJ2G5",
    "FIFI3J9hJ2G7"
   ],
   "provenance": []
  },
  "kernelspec": {
   "display_name": "Python [conda env:base] *",
   "language": "python",
   "name": "conda-base-py"
  },
  "language_info": {
   "codemirror_mode": {
    "name": "ipython",
    "version": 3
   },
   "file_extension": ".py",
   "mimetype": "text/x-python",
   "name": "python",
   "nbconvert_exporter": "python",
   "pygments_lexer": "ipython3",
   "version": "3.12.4"
  }
 },
 "nbformat": 4,
 "nbformat_minor": 4
}
