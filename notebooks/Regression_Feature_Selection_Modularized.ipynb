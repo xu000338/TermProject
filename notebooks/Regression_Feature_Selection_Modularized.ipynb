{
 "cells": [
  {
   "cell_type": "code",
   "execution_count": 1,
   "id": "ad536e6a-dc85-4162-a448-136765dbf6dd",
   "metadata": {},
   "outputs": [
    {
     "data": {
      "text/plain": [
       "(200, 3)"
      ]
     },
     "execution_count": 1,
     "metadata": {},
     "output_type": "execute_result"
    }
   ],
   "source": [
    "#import step\n",
    "# import pandas\n",
    "import pandas as pd\n",
    "from sklearn.model_selection import train_test_split\n",
    "\n",
    "#import the dataset \n",
    "df = pd.read_csv('Pay.csv')\n",
    "df.shape"
   ]
  },
  {
   "cell_type": "code",
   "execution_count": 4,
   "id": "99d317ad-020b-4004-906d-6681e83c1aa9",
   "metadata": {},
   "outputs": [
    {
     "name": "stdout",
     "output_type": "stream",
     "text": [
      "rmse on train set is 53.70545136432151\n",
      "rmse on test set is 52.41133235009226\n"
     ]
    },
    {
     "name": "stderr",
     "output_type": "stream",
     "text": [
      "C:\\Users\\davex\\anaconda3\\Lib\\site-packages\\sklearn\\metrics\\_regression.py:483: FutureWarning: 'squared' is deprecated in version 1.4 and will be removed in 1.6. To calculate the root mean squared error, use the function'root_mean_squared_error'.\n",
      "  warnings.warn(\n",
      "C:\\Users\\davex\\anaconda3\\Lib\\site-packages\\sklearn\\metrics\\_regression.py:483: FutureWarning: 'squared' is deprecated in version 1.4 and will be removed in 1.6. To calculate the root mean squared error, use the function'root_mean_squared_error'.\n",
      "  warnings.warn(\n"
     ]
    }
   ],
   "source": [
    "#model step\n",
    "\n",
    "# import the model\n",
    "from sklearn.linear_model import LinearRegression\n",
    "from sklearn.model_selection import train_test_split\n",
    "from sklearn.metrics import mean_squared_error\n",
    "\n",
    "# Seperate features and target\n",
    "x = df[['Age']]\n",
    "y = df[['Salary']]\n",
    "# Split the dataset\n",
    "x_train, x_test, y_train, y_test = train_test_split(x,y, test_size=0.2, random_state=123)\n",
    "x_train.shape, y_train.shape, x_test.shape, y_test.shape\n",
    "\n",
    "#visualize\n",
    "\"\"\"\n",
    "plt.scatter(x_train,y_train,color='lightgray')\n",
    "plt.scatter(x_test, y_test, color='red')\n",
    "plt.xlabel('Age')\n",
    "plt.ylabel('salary')\n",
    "plt.title('Age vs Salary')\n",
    "plt.legend(['Train data points','Test data points'], loc='lower right')\n",
    "plt.show()\n",
    "\"\"\"\n",
    "\n",
    "# Create an instance of the model\n",
    "Regression = LinearRegression()\n",
    "\n",
    "# train the model\n",
    "model = Regression.fit(x_train,y_train)\n",
    "# Make prediction on train set\n",
    "y_trainpred = model.predict(x_train)\n",
    "\n",
    "# make prediction on test set\n",
    "y_pred = model.predict(x_test)\n",
    "\n",
    "ddf = pd.DataFrame()\n",
    "ddf['x_test'] = x_test\n",
    "ddf['y_pred'] = y_pred\n",
    "ddf['y_test'] = y_test\n",
    "\n",
    "# evaluate the model\n",
    "rmse1 = mean_squared_error(y_trainpred, y_train, squared=False)\n",
    "rmse2 = mean_squared_error(y_pred, y_test, squared=False)\n",
    "print('rmse on train set is',rmse1)\n",
    "print('rmse on test set is', rmse2)"
   ]
  },
  {
   "cell_type": "code",
   "execution_count": null,
   "id": "0e408aaa-9982-40e4-b0cb-d4fc3321f921",
   "metadata": {},
   "outputs": [],
   "source": []
  },
  {
   "cell_type": "code",
   "execution_count": null,
   "id": "22f2c50f-6eb6-45cf-b682-44979d89c9a9",
   "metadata": {},
   "outputs": [],
   "source": []
  },
  {
   "cell_type": "code",
   "execution_count": null,
   "id": "26c342cc-9924-4383-9ecd-270478b6b3f9",
   "metadata": {},
   "outputs": [],
   "source": []
  }
 ],
 "metadata": {
  "kernelspec": {
   "display_name": "Python 3 (ipykernel)",
   "language": "python",
   "name": "python3"
  },
  "language_info": {
   "codemirror_mode": {
    "name": "ipython",
    "version": 3
   },
   "file_extension": ".py",
   "mimetype": "text/x-python",
   "name": "python",
   "nbconvert_exporter": "python",
   "pygments_lexer": "ipython3",
   "version": "3.12.4"
  }
 },
 "nbformat": 4,
 "nbformat_minor": 5
}
