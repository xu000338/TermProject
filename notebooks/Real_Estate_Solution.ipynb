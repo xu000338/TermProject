{
 "cells": [
  {
   "cell_type": "markdown",
   "metadata": {
    "id": "2-Gwity-gHiz"
   },
   "source": [
    "# Model Training"
   ]
  },
  {
   "cell_type": "markdown",
   "metadata": {
    "id": "AxNwUIsQgHi0"
   },
   "source": [
    "### scikit - learn\n",
    "\n",
    "https://scikit-learn.org/stable/\n",
    "\n",
    "scikitlearn (sklearn) provides simple and efficient tools for predictive data analysis. It is built on NumPy, SciPy, and matplotlib."
   ]
  },
  {
   "cell_type": "markdown",
   "metadata": {
    "id": "eG6qGnPngHi1"
   },
   "source": [
    "First thing, Import all the libraries"
   ]
  },
  {
   "cell_type": "code",
   "execution_count": 1,
   "metadata": {
    "id": "Vgez9u1EgHi1"
   },
   "outputs": [],
   "source": [
    "import pandas as pd\n",
    "import numpy as np\n",
    "import matplotlib.pyplot as plt\n",
    "%matplotlib inline\n",
    "pd.set_option('display.max_columns', 50)"
   ]
  },
  {
   "cell_type": "code",
   "execution_count": 2,
   "metadata": {
    "colab": {
     "base_uri": "https://localhost:8080/",
     "height": 226
    },
    "id": "dgooU9oygHi1",
    "outputId": "a140c58f-3259-456d-9f3c-2dd65dac72b1",
    "scrolled": true
   },
   "outputs": [
    {
     "data": {
      "text/html": [
       "<div>\n",
       "<style scoped>\n",
       "    .dataframe tbody tr th:only-of-type {\n",
       "        vertical-align: middle;\n",
       "    }\n",
       "\n",
       "    .dataframe tbody tr th {\n",
       "        vertical-align: top;\n",
       "    }\n",
       "\n",
       "    .dataframe thead th {\n",
       "        text-align: right;\n",
       "    }\n",
       "</style>\n",
       "<table border=\"1\" class=\"dataframe\">\n",
       "  <thead>\n",
       "    <tr style=\"text-align: right;\">\n",
       "      <th></th>\n",
       "      <th>price</th>\n",
       "      <th>year_sold</th>\n",
       "      <th>property_tax</th>\n",
       "      <th>insurance</th>\n",
       "      <th>beds</th>\n",
       "      <th>baths</th>\n",
       "      <th>sqft</th>\n",
       "      <th>year_built</th>\n",
       "      <th>lot_size</th>\n",
       "      <th>basement</th>\n",
       "      <th>popular</th>\n",
       "      <th>recession</th>\n",
       "      <th>property_age</th>\n",
       "      <th>property_type_Bunglow</th>\n",
       "      <th>property_type_Condo</th>\n",
       "    </tr>\n",
       "  </thead>\n",
       "  <tbody>\n",
       "    <tr>\n",
       "      <th>0</th>\n",
       "      <td>295850</td>\n",
       "      <td>2013</td>\n",
       "      <td>234</td>\n",
       "      <td>81</td>\n",
       "      <td>1</td>\n",
       "      <td>1</td>\n",
       "      <td>584</td>\n",
       "      <td>2013</td>\n",
       "      <td>0</td>\n",
       "      <td>0</td>\n",
       "      <td>0</td>\n",
       "      <td>1</td>\n",
       "      <td>0</td>\n",
       "      <td>0</td>\n",
       "      <td>1</td>\n",
       "    </tr>\n",
       "    <tr>\n",
       "      <th>1</th>\n",
       "      <td>216500</td>\n",
       "      <td>2006</td>\n",
       "      <td>169</td>\n",
       "      <td>51</td>\n",
       "      <td>1</td>\n",
       "      <td>1</td>\n",
       "      <td>612</td>\n",
       "      <td>1965</td>\n",
       "      <td>0</td>\n",
       "      <td>1</td>\n",
       "      <td>0</td>\n",
       "      <td>0</td>\n",
       "      <td>41</td>\n",
       "      <td>0</td>\n",
       "      <td>1</td>\n",
       "    </tr>\n",
       "    <tr>\n",
       "      <th>2</th>\n",
       "      <td>279900</td>\n",
       "      <td>2012</td>\n",
       "      <td>216</td>\n",
       "      <td>74</td>\n",
       "      <td>1</td>\n",
       "      <td>1</td>\n",
       "      <td>615</td>\n",
       "      <td>1963</td>\n",
       "      <td>0</td>\n",
       "      <td>0</td>\n",
       "      <td>0</td>\n",
       "      <td>1</td>\n",
       "      <td>49</td>\n",
       "      <td>0</td>\n",
       "      <td>1</td>\n",
       "    </tr>\n",
       "    <tr>\n",
       "      <th>3</th>\n",
       "      <td>379900</td>\n",
       "      <td>2005</td>\n",
       "      <td>265</td>\n",
       "      <td>92</td>\n",
       "      <td>1</td>\n",
       "      <td>1</td>\n",
       "      <td>618</td>\n",
       "      <td>2000</td>\n",
       "      <td>33541</td>\n",
       "      <td>0</td>\n",
       "      <td>0</td>\n",
       "      <td>0</td>\n",
       "      <td>5</td>\n",
       "      <td>0</td>\n",
       "      <td>1</td>\n",
       "    </tr>\n",
       "    <tr>\n",
       "      <th>4</th>\n",
       "      <td>340000</td>\n",
       "      <td>2002</td>\n",
       "      <td>88</td>\n",
       "      <td>30</td>\n",
       "      <td>1</td>\n",
       "      <td>1</td>\n",
       "      <td>634</td>\n",
       "      <td>1992</td>\n",
       "      <td>0</td>\n",
       "      <td>0</td>\n",
       "      <td>0</td>\n",
       "      <td>0</td>\n",
       "      <td>10</td>\n",
       "      <td>0</td>\n",
       "      <td>1</td>\n",
       "    </tr>\n",
       "  </tbody>\n",
       "</table>\n",
       "</div>"
      ],
      "text/plain": [
       "    price  year_sold  property_tax  insurance  beds  baths  sqft  year_built  \\\n",
       "0  295850       2013           234         81     1      1   584        2013   \n",
       "1  216500       2006           169         51     1      1   612        1965   \n",
       "2  279900       2012           216         74     1      1   615        1963   \n",
       "3  379900       2005           265         92     1      1   618        2000   \n",
       "4  340000       2002            88         30     1      1   634        1992   \n",
       "\n",
       "   lot_size  basement  popular  recession  property_age  \\\n",
       "0         0         0        0          1             0   \n",
       "1         0         1        0          0            41   \n",
       "2         0         0        0          1            49   \n",
       "3     33541         0        0          0             5   \n",
       "4         0         0        0          0            10   \n",
       "\n",
       "   property_type_Bunglow  property_type_Condo  \n",
       "0                      0                    1  \n",
       "1                      0                    1  \n",
       "2                      0                    1  \n",
       "3                      0                    1  \n",
       "4                      0                    1  "
      ]
     },
     "execution_count": 2,
     "metadata": {},
     "output_type": "execute_result"
    }
   ],
   "source": [
    "# next load the data\n",
    "df = pd.read_csv('final.csv')\n",
    "df.head()"
   ]
  },
  {
   "cell_type": "code",
   "execution_count": 3,
   "metadata": {
    "colab": {
     "base_uri": "https://localhost:8080/",
     "height": 226
    },
    "id": "HrjjVZjVhayp",
    "outputId": "24fedb92-d454-47fe-eef6-0f486b4d301c"
   },
   "outputs": [
    {
     "data": {
      "text/html": [
       "<div>\n",
       "<style scoped>\n",
       "    .dataframe tbody tr th:only-of-type {\n",
       "        vertical-align: middle;\n",
       "    }\n",
       "\n",
       "    .dataframe tbody tr th {\n",
       "        vertical-align: top;\n",
       "    }\n",
       "\n",
       "    .dataframe thead th {\n",
       "        text-align: right;\n",
       "    }\n",
       "</style>\n",
       "<table border=\"1\" class=\"dataframe\">\n",
       "  <thead>\n",
       "    <tr style=\"text-align: right;\">\n",
       "      <th></th>\n",
       "      <th>price</th>\n",
       "      <th>year_sold</th>\n",
       "      <th>property_tax</th>\n",
       "      <th>insurance</th>\n",
       "      <th>beds</th>\n",
       "      <th>baths</th>\n",
       "      <th>sqft</th>\n",
       "      <th>year_built</th>\n",
       "      <th>lot_size</th>\n",
       "      <th>basement</th>\n",
       "      <th>popular</th>\n",
       "      <th>recession</th>\n",
       "      <th>property_age</th>\n",
       "      <th>property_type_Bunglow</th>\n",
       "      <th>property_type_Condo</th>\n",
       "    </tr>\n",
       "  </thead>\n",
       "  <tbody>\n",
       "    <tr>\n",
       "      <th>1858</th>\n",
       "      <td>760000</td>\n",
       "      <td>2008</td>\n",
       "      <td>881</td>\n",
       "      <td>249</td>\n",
       "      <td>5</td>\n",
       "      <td>5</td>\n",
       "      <td>7842</td>\n",
       "      <td>2003</td>\n",
       "      <td>436035</td>\n",
       "      <td>1</td>\n",
       "      <td>0</td>\n",
       "      <td>0</td>\n",
       "      <td>5</td>\n",
       "      <td>1</td>\n",
       "      <td>0</td>\n",
       "    </tr>\n",
       "    <tr>\n",
       "      <th>1859</th>\n",
       "      <td>690000</td>\n",
       "      <td>2015</td>\n",
       "      <td>1553</td>\n",
       "      <td>473</td>\n",
       "      <td>5</td>\n",
       "      <td>6</td>\n",
       "      <td>6501</td>\n",
       "      <td>1956</td>\n",
       "      <td>23086</td>\n",
       "      <td>1</td>\n",
       "      <td>0</td>\n",
       "      <td>0</td>\n",
       "      <td>59</td>\n",
       "      <td>1</td>\n",
       "      <td>0</td>\n",
       "    </tr>\n",
       "    <tr>\n",
       "      <th>1860</th>\n",
       "      <td>600000</td>\n",
       "      <td>1999</td>\n",
       "      <td>942</td>\n",
       "      <td>287</td>\n",
       "      <td>5</td>\n",
       "      <td>6</td>\n",
       "      <td>7064</td>\n",
       "      <td>1995</td>\n",
       "      <td>217800</td>\n",
       "      <td>1</td>\n",
       "      <td>0</td>\n",
       "      <td>0</td>\n",
       "      <td>4</td>\n",
       "      <td>1</td>\n",
       "      <td>0</td>\n",
       "    </tr>\n",
       "    <tr>\n",
       "      <th>1861</th>\n",
       "      <td>759900</td>\n",
       "      <td>2009</td>\n",
       "      <td>803</td>\n",
       "      <td>245</td>\n",
       "      <td>5</td>\n",
       "      <td>6</td>\n",
       "      <td>7500</td>\n",
       "      <td>2006</td>\n",
       "      <td>8886</td>\n",
       "      <td>1</td>\n",
       "      <td>0</td>\n",
       "      <td>0</td>\n",
       "      <td>3</td>\n",
       "      <td>1</td>\n",
       "      <td>0</td>\n",
       "    </tr>\n",
       "    <tr>\n",
       "      <th>1862</th>\n",
       "      <td>735000</td>\n",
       "      <td>2015</td>\n",
       "      <td>1459</td>\n",
       "      <td>444</td>\n",
       "      <td>5</td>\n",
       "      <td>6</td>\n",
       "      <td>7515</td>\n",
       "      <td>1958</td>\n",
       "      <td>10497</td>\n",
       "      <td>1</td>\n",
       "      <td>0</td>\n",
       "      <td>0</td>\n",
       "      <td>57</td>\n",
       "      <td>1</td>\n",
       "      <td>0</td>\n",
       "    </tr>\n",
       "  </tbody>\n",
       "</table>\n",
       "</div>"
      ],
      "text/plain": [
       "       price  year_sold  property_tax  insurance  beds  baths  sqft  \\\n",
       "1858  760000       2008           881        249     5      5  7842   \n",
       "1859  690000       2015          1553        473     5      6  6501   \n",
       "1860  600000       1999           942        287     5      6  7064   \n",
       "1861  759900       2009           803        245     5      6  7500   \n",
       "1862  735000       2015          1459        444     5      6  7515   \n",
       "\n",
       "      year_built  lot_size  basement  popular  recession  property_age  \\\n",
       "1858        2003    436035         1        0          0             5   \n",
       "1859        1956     23086         1        0          0            59   \n",
       "1860        1995    217800         1        0          0             4   \n",
       "1861        2006      8886         1        0          0             3   \n",
       "1862        1958     10497         1        0          0            57   \n",
       "\n",
       "      property_type_Bunglow  property_type_Condo  \n",
       "1858                      1                    0  \n",
       "1859                      1                    0  \n",
       "1860                      1                    0  \n",
       "1861                      1                    0  \n",
       "1862                      1                    0  "
      ]
     },
     "execution_count": 3,
     "metadata": {},
     "output_type": "execute_result"
    }
   ],
   "source": [
    "df.tail()"
   ]
  },
  {
   "cell_type": "code",
   "execution_count": 4,
   "metadata": {
    "colab": {
     "base_uri": "https://localhost:8080/"
    },
    "id": "dow7Zwd4gHi2",
    "outputId": "487b0b52-f5f6-4817-bcf0-6406dd206458"
   },
   "outputs": [
    {
     "data": {
      "text/plain": [
       "(1863, 15)"
      ]
     },
     "execution_count": 4,
     "metadata": {},
     "output_type": "execute_result"
    }
   ],
   "source": [
    "df.shape"
   ]
  },
  {
   "cell_type": "code",
   "execution_count": 5,
   "metadata": {},
   "outputs": [
    {
     "data": {
      "text/html": [
       "<div>\n",
       "<style scoped>\n",
       "    .dataframe tbody tr th:only-of-type {\n",
       "        vertical-align: middle;\n",
       "    }\n",
       "\n",
       "    .dataframe tbody tr th {\n",
       "        vertical-align: top;\n",
       "    }\n",
       "\n",
       "    .dataframe thead th {\n",
       "        text-align: right;\n",
       "    }\n",
       "</style>\n",
       "<table border=\"1\" class=\"dataframe\">\n",
       "  <thead>\n",
       "    <tr style=\"text-align: right;\">\n",
       "      <th></th>\n",
       "      <th>price</th>\n",
       "      <th>year_sold</th>\n",
       "      <th>property_tax</th>\n",
       "      <th>insurance</th>\n",
       "      <th>beds</th>\n",
       "      <th>baths</th>\n",
       "      <th>sqft</th>\n",
       "      <th>year_built</th>\n",
       "      <th>lot_size</th>\n",
       "      <th>basement</th>\n",
       "      <th>popular</th>\n",
       "      <th>recession</th>\n",
       "      <th>property_age</th>\n",
       "      <th>property_type_Bunglow</th>\n",
       "      <th>property_type_Condo</th>\n",
       "    </tr>\n",
       "  </thead>\n",
       "  <tbody>\n",
       "    <tr>\n",
       "      <th>count</th>\n",
       "      <td>1863.000000</td>\n",
       "      <td>1863.000000</td>\n",
       "      <td>1863.000000</td>\n",
       "      <td>1863.000000</td>\n",
       "      <td>1863.000000</td>\n",
       "      <td>1863.000000</td>\n",
       "      <td>1863.000000</td>\n",
       "      <td>1863.00000</td>\n",
       "      <td>1863.000000</td>\n",
       "      <td>1863.000000</td>\n",
       "      <td>1863.000000</td>\n",
       "      <td>1863.000000</td>\n",
       "      <td>1863.000000</td>\n",
       "      <td>1863.000000</td>\n",
       "      <td>1863.000000</td>\n",
       "    </tr>\n",
       "    <tr>\n",
       "      <th>mean</th>\n",
       "      <td>423010.393451</td>\n",
       "      <td>2007.116479</td>\n",
       "      <td>461.369834</td>\n",
       "      <td>138.816425</td>\n",
       "      <td>3.409018</td>\n",
       "      <td>2.564144</td>\n",
       "      <td>2299.173913</td>\n",
       "      <td>1982.71927</td>\n",
       "      <td>12522.044552</td>\n",
       "      <td>0.879227</td>\n",
       "      <td>0.095545</td>\n",
       "      <td>0.263553</td>\n",
       "      <td>24.397209</td>\n",
       "      <td>0.569512</td>\n",
       "      <td>0.430488</td>\n",
       "    </tr>\n",
       "    <tr>\n",
       "      <th>std</th>\n",
       "      <td>151764.257544</td>\n",
       "      <td>5.205638</td>\n",
       "      <td>222.484352</td>\n",
       "      <td>70.250523</td>\n",
       "      <td>1.065101</td>\n",
       "      <td>0.928741</td>\n",
       "      <td>1298.029915</td>\n",
       "      <td>20.21804</td>\n",
       "      <td>35040.992371</td>\n",
       "      <td>0.325951</td>\n",
       "      <td>0.294045</td>\n",
       "      <td>0.440678</td>\n",
       "      <td>21.087996</td>\n",
       "      <td>0.495278</td>\n",
       "      <td>0.495278</td>\n",
       "    </tr>\n",
       "    <tr>\n",
       "      <th>min</th>\n",
       "      <td>200000.000000</td>\n",
       "      <td>1993.000000</td>\n",
       "      <td>88.000000</td>\n",
       "      <td>30.000000</td>\n",
       "      <td>1.000000</td>\n",
       "      <td>1.000000</td>\n",
       "      <td>500.000000</td>\n",
       "      <td>1880.00000</td>\n",
       "      <td>0.000000</td>\n",
       "      <td>0.000000</td>\n",
       "      <td>0.000000</td>\n",
       "      <td>0.000000</td>\n",
       "      <td>0.000000</td>\n",
       "      <td>0.000000</td>\n",
       "      <td>0.000000</td>\n",
       "    </tr>\n",
       "    <tr>\n",
       "      <th>25%</th>\n",
       "      <td>300000.000000</td>\n",
       "      <td>2004.000000</td>\n",
       "      <td>319.000000</td>\n",
       "      <td>94.000000</td>\n",
       "      <td>3.000000</td>\n",
       "      <td>2.000000</td>\n",
       "      <td>1342.500000</td>\n",
       "      <td>1969.00000</td>\n",
       "      <td>1540.000000</td>\n",
       "      <td>1.000000</td>\n",
       "      <td>0.000000</td>\n",
       "      <td>0.000000</td>\n",
       "      <td>6.000000</td>\n",
       "      <td>0.000000</td>\n",
       "      <td>0.000000</td>\n",
       "    </tr>\n",
       "    <tr>\n",
       "      <th>50%</th>\n",
       "      <td>392000.000000</td>\n",
       "      <td>2007.000000</td>\n",
       "      <td>423.000000</td>\n",
       "      <td>124.000000</td>\n",
       "      <td>3.000000</td>\n",
       "      <td>3.000000</td>\n",
       "      <td>1900.000000</td>\n",
       "      <td>1986.00000</td>\n",
       "      <td>5846.000000</td>\n",
       "      <td>1.000000</td>\n",
       "      <td>0.000000</td>\n",
       "      <td>0.000000</td>\n",
       "      <td>21.000000</td>\n",
       "      <td>1.000000</td>\n",
       "      <td>0.000000</td>\n",
       "    </tr>\n",
       "    <tr>\n",
       "      <th>75%</th>\n",
       "      <td>525000.000000</td>\n",
       "      <td>2011.000000</td>\n",
       "      <td>564.000000</td>\n",
       "      <td>168.000000</td>\n",
       "      <td>4.000000</td>\n",
       "      <td>3.000000</td>\n",
       "      <td>2951.000000</td>\n",
       "      <td>2000.00000</td>\n",
       "      <td>11325.000000</td>\n",
       "      <td>1.000000</td>\n",
       "      <td>0.000000</td>\n",
       "      <td>1.000000</td>\n",
       "      <td>38.000000</td>\n",
       "      <td>1.000000</td>\n",
       "      <td>1.000000</td>\n",
       "    </tr>\n",
       "    <tr>\n",
       "      <th>max</th>\n",
       "      <td>800000.000000</td>\n",
       "      <td>2016.000000</td>\n",
       "      <td>4508.000000</td>\n",
       "      <td>1374.000000</td>\n",
       "      <td>5.000000</td>\n",
       "      <td>6.000000</td>\n",
       "      <td>7842.000000</td>\n",
       "      <td>2014.00000</td>\n",
       "      <td>436471.000000</td>\n",
       "      <td>1.000000</td>\n",
       "      <td>1.000000</td>\n",
       "      <td>1.000000</td>\n",
       "      <td>114.000000</td>\n",
       "      <td>1.000000</td>\n",
       "      <td>1.000000</td>\n",
       "    </tr>\n",
       "  </tbody>\n",
       "</table>\n",
       "</div>"
      ],
      "text/plain": [
       "               price    year_sold  property_tax    insurance         beds  \\\n",
       "count    1863.000000  1863.000000   1863.000000  1863.000000  1863.000000   \n",
       "mean   423010.393451  2007.116479    461.369834   138.816425     3.409018   \n",
       "std    151764.257544     5.205638    222.484352    70.250523     1.065101   \n",
       "min    200000.000000  1993.000000     88.000000    30.000000     1.000000   \n",
       "25%    300000.000000  2004.000000    319.000000    94.000000     3.000000   \n",
       "50%    392000.000000  2007.000000    423.000000   124.000000     3.000000   \n",
       "75%    525000.000000  2011.000000    564.000000   168.000000     4.000000   \n",
       "max    800000.000000  2016.000000   4508.000000  1374.000000     5.000000   \n",
       "\n",
       "             baths         sqft  year_built       lot_size     basement  \\\n",
       "count  1863.000000  1863.000000  1863.00000    1863.000000  1863.000000   \n",
       "mean      2.564144  2299.173913  1982.71927   12522.044552     0.879227   \n",
       "std       0.928741  1298.029915    20.21804   35040.992371     0.325951   \n",
       "min       1.000000   500.000000  1880.00000       0.000000     0.000000   \n",
       "25%       2.000000  1342.500000  1969.00000    1540.000000     1.000000   \n",
       "50%       3.000000  1900.000000  1986.00000    5846.000000     1.000000   \n",
       "75%       3.000000  2951.000000  2000.00000   11325.000000     1.000000   \n",
       "max       6.000000  7842.000000  2014.00000  436471.000000     1.000000   \n",
       "\n",
       "           popular    recession  property_age  property_type_Bunglow  \\\n",
       "count  1863.000000  1863.000000   1863.000000            1863.000000   \n",
       "mean      0.095545     0.263553     24.397209               0.569512   \n",
       "std       0.294045     0.440678     21.087996               0.495278   \n",
       "min       0.000000     0.000000      0.000000               0.000000   \n",
       "25%       0.000000     0.000000      6.000000               0.000000   \n",
       "50%       0.000000     0.000000     21.000000               1.000000   \n",
       "75%       0.000000     1.000000     38.000000               1.000000   \n",
       "max       1.000000     1.000000    114.000000               1.000000   \n",
       "\n",
       "       property_type_Condo  \n",
       "count          1863.000000  \n",
       "mean              0.430488  \n",
       "std               0.495278  \n",
       "min               0.000000  \n",
       "25%               0.000000  \n",
       "50%               0.000000  \n",
       "75%               1.000000  \n",
       "max               1.000000  "
      ]
     },
     "execution_count": 5,
     "metadata": {},
     "output_type": "execute_result"
    }
   ],
   "source": [
    "df.describe()"
   ]
  },
  {
   "cell_type": "markdown",
   "metadata": {
    "id": "LNMKUIsagHi2"
   },
   "source": [
    "## Linear Regression Model"
   ]
  },
  {
   "cell_type": "code",
   "execution_count": 12,
   "metadata": {
    "id": "HlhhJpV1gHi2"
   },
   "outputs": [],
   "source": [
    "# import linear regression model\n",
    "from sklearn.linear_model import LinearRegression"
   ]
  },
  {
   "cell_type": "code",
   "execution_count": 13,
   "metadata": {
    "id": "kcvqztZ5gHi2"
   },
   "outputs": [],
   "source": [
    "# seperate input features in x\n",
    "x = df.drop('price', axis=1)\n",
    "\n",
    "# store the target variable in y\n",
    "y = df['price']"
   ]
  },
  {
   "cell_type": "markdown",
   "metadata": {
    "id": "xWoM_0d2gHi2"
   },
   "source": [
    "**Train Test Split**\n",
    "* Training sets are used to fit and tune your models.\n",
    "* Test sets are put aside as \"unseen\" data to evaluate your models.\n",
    "* The `train_test_split()` function splits data into randomized subsets."
   ]
  },
  {
   "cell_type": "code",
   "execution_count": 17,
   "metadata": {
    "id": "vPY9e72sl1dB"
   },
   "outputs": [],
   "source": [
    "# import module\n",
    "from sklearn.model_selection import train_test_split"
   ]
  },
  {
   "cell_type": "code",
   "execution_count": 19,
   "metadata": {},
   "outputs": [],
   "source": [
    "# Split the dataset\n",
    "x_train, x_test, y_train, y_test = train_test_split(x,y, test_size=0.2, stratify=x.property_type_Bunglow)"
   ]
  },
  {
   "cell_type": "code",
   "execution_count": 21,
   "metadata": {
    "colab": {
     "base_uri": "https://localhost:8080/",
     "height": 178
    },
    "id": "cqW-uHMPyBg_",
    "outputId": "d92810a2-af85-4ee4-e691-7205dd56fccb"
   },
   "outputs": [
    {
     "data": {
      "text/plain": [
       "property_type_Bunglow\n",
       "1    849\n",
       "0    641\n",
       "Name: count, dtype: int64"
      ]
     },
     "execution_count": 21,
     "metadata": {},
     "output_type": "execute_result"
    }
   ],
   "source": [
    "x_train.property_type_Bunglow.value_counts()"
   ]
  },
  {
   "cell_type": "code",
   "execution_count": 23,
   "metadata": {
    "id": "dZ5ZswxHgHi2"
   },
   "outputs": [],
   "source": [
    "# Split the dataset\n",
    "#x_train, x_test, y_train, y_test = train_test_split(x,y, test_size=0.2, stratify=x.property_type_Bunglow)"
   ]
  },
  {
   "cell_type": "code",
   "execution_count": 25,
   "metadata": {
    "colab": {
     "base_uri": "https://localhost:8080/",
     "height": 226
    },
    "id": "8g-5rzi0m--0",
    "outputId": "57bbc68e-55aa-4ac4-cfa0-11a96fb6bd05"
   },
   "outputs": [
    {
     "data": {
      "text/html": [
       "<div>\n",
       "<style scoped>\n",
       "    .dataframe tbody tr th:only-of-type {\n",
       "        vertical-align: middle;\n",
       "    }\n",
       "\n",
       "    .dataframe tbody tr th {\n",
       "        vertical-align: top;\n",
       "    }\n",
       "\n",
       "    .dataframe thead th {\n",
       "        text-align: right;\n",
       "    }\n",
       "</style>\n",
       "<table border=\"1\" class=\"dataframe\">\n",
       "  <thead>\n",
       "    <tr style=\"text-align: right;\">\n",
       "      <th></th>\n",
       "      <th>year_sold</th>\n",
       "      <th>property_tax</th>\n",
       "      <th>insurance</th>\n",
       "      <th>beds</th>\n",
       "      <th>baths</th>\n",
       "      <th>sqft</th>\n",
       "      <th>year_built</th>\n",
       "      <th>lot_size</th>\n",
       "      <th>basement</th>\n",
       "      <th>popular</th>\n",
       "      <th>recession</th>\n",
       "      <th>property_age</th>\n",
       "      <th>property_type_Bunglow</th>\n",
       "      <th>property_type_Condo</th>\n",
       "    </tr>\n",
       "  </thead>\n",
       "  <tbody>\n",
       "    <tr>\n",
       "      <th>604</th>\n",
       "      <td>2008</td>\n",
       "      <td>392</td>\n",
       "      <td>119</td>\n",
       "      <td>3</td>\n",
       "      <td>2</td>\n",
       "      <td>1866</td>\n",
       "      <td>1953</td>\n",
       "      <td>10654</td>\n",
       "      <td>1</td>\n",
       "      <td>0</td>\n",
       "      <td>0</td>\n",
       "      <td>55</td>\n",
       "      <td>1</td>\n",
       "      <td>0</td>\n",
       "    </tr>\n",
       "    <tr>\n",
       "      <th>783</th>\n",
       "      <td>2007</td>\n",
       "      <td>336</td>\n",
       "      <td>102</td>\n",
       "      <td>3</td>\n",
       "      <td>3</td>\n",
       "      <td>1680</td>\n",
       "      <td>1998</td>\n",
       "      <td>2100</td>\n",
       "      <td>1</td>\n",
       "      <td>0</td>\n",
       "      <td>0</td>\n",
       "      <td>9</td>\n",
       "      <td>0</td>\n",
       "      <td>1</td>\n",
       "    </tr>\n",
       "    <tr>\n",
       "      <th>1831</th>\n",
       "      <td>1999</td>\n",
       "      <td>1065</td>\n",
       "      <td>324</td>\n",
       "      <td>5</td>\n",
       "      <td>4</td>\n",
       "      <td>6662</td>\n",
       "      <td>1999</td>\n",
       "      <td>25264</td>\n",
       "      <td>1</td>\n",
       "      <td>0</td>\n",
       "      <td>0</td>\n",
       "      <td>0</td>\n",
       "      <td>1</td>\n",
       "      <td>0</td>\n",
       "    </tr>\n",
       "    <tr>\n",
       "      <th>892</th>\n",
       "      <td>2000</td>\n",
       "      <td>428</td>\n",
       "      <td>130</td>\n",
       "      <td>3</td>\n",
       "      <td>3</td>\n",
       "      <td>2630</td>\n",
       "      <td>1985</td>\n",
       "      <td>9783</td>\n",
       "      <td>1</td>\n",
       "      <td>0</td>\n",
       "      <td>0</td>\n",
       "      <td>15</td>\n",
       "      <td>1</td>\n",
       "      <td>0</td>\n",
       "    </tr>\n",
       "    <tr>\n",
       "      <th>718</th>\n",
       "      <td>2014</td>\n",
       "      <td>284</td>\n",
       "      <td>56</td>\n",
       "      <td>3</td>\n",
       "      <td>3</td>\n",
       "      <td>1300</td>\n",
       "      <td>2005</td>\n",
       "      <td>0</td>\n",
       "      <td>0</td>\n",
       "      <td>0</td>\n",
       "      <td>0</td>\n",
       "      <td>9</td>\n",
       "      <td>0</td>\n",
       "      <td>1</td>\n",
       "    </tr>\n",
       "  </tbody>\n",
       "</table>\n",
       "</div>"
      ],
      "text/plain": [
       "      year_sold  property_tax  insurance  beds  baths  sqft  year_built  \\\n",
       "604        2008           392        119     3      2  1866        1953   \n",
       "783        2007           336        102     3      3  1680        1998   \n",
       "1831       1999          1065        324     5      4  6662        1999   \n",
       "892        2000           428        130     3      3  2630        1985   \n",
       "718        2014           284         56     3      3  1300        2005   \n",
       "\n",
       "      lot_size  basement  popular  recession  property_age  \\\n",
       "604      10654         1        0          0            55   \n",
       "783       2100         1        0          0             9   \n",
       "1831     25264         1        0          0             0   \n",
       "892       9783         1        0          0            15   \n",
       "718          0         0        0          0             9   \n",
       "\n",
       "      property_type_Bunglow  property_type_Condo  \n",
       "604                       1                    0  \n",
       "783                       0                    1  \n",
       "1831                      1                    0  \n",
       "892                       1                    0  \n",
       "718                       0                    1  "
      ]
     },
     "execution_count": 25,
     "metadata": {},
     "output_type": "execute_result"
    }
   ],
   "source": [
    "x_train.head()"
   ]
  },
  {
   "cell_type": "code",
   "execution_count": 27,
   "metadata": {
    "colab": {
     "base_uri": "https://localhost:8080/"
    },
    "id": "-Sdke-9lgHi3",
    "outputId": "3e1af4ad-7b6e-4010-d293-6657037d1657"
   },
   "outputs": [
    {
     "data": {
      "text/plain": [
       "((1490, 14), (1490,), (373, 14), (373,))"
      ]
     },
     "execution_count": 27,
     "metadata": {},
     "output_type": "execute_result"
    }
   ],
   "source": [
    "x_train.shape, y_train.shape, x_test.shape, y_test.shape"
   ]
  },
  {
   "cell_type": "code",
   "execution_count": 29,
   "metadata": {
    "id": "7HmY2tb6oQiu"
   },
   "outputs": [],
   "source": [
    "# train your model\n",
    "model = LinearRegression()\n",
    "lrmodel = model.fit(x_train, y_train)"
   ]
  },
  {
   "cell_type": "code",
   "execution_count": 31,
   "metadata": {
    "colab": {
     "base_uri": "https://localhost:8080/"
    },
    "id": "k4YUaEHooyCo",
    "outputId": "e4f03ed6-00d1-42fb-8a7e-887e7c352bda"
   },
   "outputs": [
    {
     "data": {
      "text/plain": [
       "array([ 7.75090730e+03, -4.09821731e+02,  2.16671689e+03,  2.75166512e+03,\n",
       "        6.76111710e+03,  2.71559728e+01,  4.31000095e+03,  2.12643420e-01,\n",
       "       -1.25076745e+04, -5.36721003e+03, -4.74600349e+04,  3.44090635e+03,\n",
       "        1.58073562e+04, -1.58073562e+04])"
      ]
     },
     "execution_count": 31,
     "metadata": {},
     "output_type": "execute_result"
    }
   ],
   "source": [
    "lrmodel.coef_"
   ]
  },
  {
   "cell_type": "code",
   "execution_count": 33,
   "metadata": {
    "colab": {
     "base_uri": "https://localhost:8080/"
    },
    "id": "ELiVZxw4o83i",
    "outputId": "ca9d9f6a-941d-4f75-f42b-a24a81c4b766"
   },
   "outputs": [
    {
     "data": {
      "text/plain": [
       "-23945044.694559123"
      ]
     },
     "execution_count": 33,
     "metadata": {},
     "output_type": "execute_result"
    }
   ],
   "source": [
    "lrmodel.intercept_"
   ]
  },
  {
   "cell_type": "code",
   "execution_count": 35,
   "metadata": {
    "colab": {
     "base_uri": "https://localhost:8080/",
     "height": 100
    },
    "id": "hlLsxUmepMha",
    "outputId": "2c993c6b-1cb7-4694-e18b-6318d30cb780"
   },
   "outputs": [
    {
     "data": {
      "text/html": [
       "<div>\n",
       "<style scoped>\n",
       "    .dataframe tbody tr th:only-of-type {\n",
       "        vertical-align: middle;\n",
       "    }\n",
       "\n",
       "    .dataframe tbody tr th {\n",
       "        vertical-align: top;\n",
       "    }\n",
       "\n",
       "    .dataframe thead th {\n",
       "        text-align: right;\n",
       "    }\n",
       "</style>\n",
       "<table border=\"1\" class=\"dataframe\">\n",
       "  <thead>\n",
       "    <tr style=\"text-align: right;\">\n",
       "      <th></th>\n",
       "      <th>year_sold</th>\n",
       "      <th>property_tax</th>\n",
       "      <th>insurance</th>\n",
       "      <th>beds</th>\n",
       "      <th>baths</th>\n",
       "      <th>sqft</th>\n",
       "      <th>year_built</th>\n",
       "      <th>lot_size</th>\n",
       "      <th>basement</th>\n",
       "      <th>popular</th>\n",
       "      <th>recession</th>\n",
       "      <th>property_age</th>\n",
       "      <th>property_type_Bunglow</th>\n",
       "      <th>property_type_Condo</th>\n",
       "    </tr>\n",
       "  </thead>\n",
       "  <tbody>\n",
       "    <tr>\n",
       "      <th>604</th>\n",
       "      <td>2008</td>\n",
       "      <td>392</td>\n",
       "      <td>119</td>\n",
       "      <td>3</td>\n",
       "      <td>2</td>\n",
       "      <td>1866</td>\n",
       "      <td>1953</td>\n",
       "      <td>10654</td>\n",
       "      <td>1</td>\n",
       "      <td>0</td>\n",
       "      <td>0</td>\n",
       "      <td>55</td>\n",
       "      <td>1</td>\n",
       "      <td>0</td>\n",
       "    </tr>\n",
       "  </tbody>\n",
       "</table>\n",
       "</div>"
      ],
      "text/plain": [
       "     year_sold  property_tax  insurance  beds  baths  sqft  year_built  \\\n",
       "604       2008           392        119     3      2  1866        1953   \n",
       "\n",
       "     lot_size  basement  popular  recession  property_age  \\\n",
       "604     10654         1        0          0            55   \n",
       "\n",
       "     property_type_Bunglow  property_type_Condo  \n",
       "604                      1                    0  "
      ]
     },
     "execution_count": 35,
     "metadata": {},
     "output_type": "execute_result"
    }
   ],
   "source": [
    "x_train.head(1)"
   ]
  },
  {
   "cell_type": "code",
   "execution_count": 37,
   "metadata": {
    "id": "ltA5svVPgHi3"
   },
   "outputs": [],
   "source": [
    "# make preditions on train set\n",
    "train_pred = lrmodel.predict(x_train)"
   ]
  },
  {
   "cell_type": "code",
   "execution_count": 39,
   "metadata": {
    "colab": {
     "base_uri": "https://localhost:8080/"
    },
    "id": "DpfRFf9-phrB",
    "outputId": "b32e6231-822e-482f-972d-69bc8b0504ec"
   },
   "outputs": [
    {
     "data": {
      "text/plain": [
       "array([400663.50648835, 382973.22168922, 660654.80314308, ...,\n",
       "       439382.4461092 , 367868.37575902, 480533.58431626])"
      ]
     },
     "execution_count": 39,
     "metadata": {},
     "output_type": "execute_result"
    }
   ],
   "source": [
    "train_pred"
   ]
  },
  {
   "cell_type": "code",
   "execution_count": 41,
   "metadata": {
    "colab": {
     "base_uri": "https://localhost:8080/"
    },
    "id": "ZOKrwPAngHi3",
    "outputId": "bf272fa9-ea3b-48f9-fe97-1848cca587a8"
   },
   "outputs": [
    {
     "name": "stdout",
     "output_type": "stream",
     "text": [
      "Train error is 86865.55541991818\n"
     ]
    }
   ],
   "source": [
    "# evaluate your model\n",
    "# we need mean absolute error\n",
    "from sklearn.metrics import mean_absolute_error\n",
    "\n",
    "train_mae = mean_absolute_error(train_pred, y_train)\n",
    "print('Train error is', train_mae)"
   ]
  },
  {
   "cell_type": "code",
   "execution_count": 43,
   "metadata": {
    "id": "lGdW7XTDgHi3",
    "outputId": "5831f2c7-38f4-4384-9ee1-4079cb81a403"
   },
   "outputs": [
    {
     "data": {
      "text/plain": [
       "array([ 7.75090730e+03, -4.09821731e+02,  2.16671689e+03,  2.75166512e+03,\n",
       "        6.76111710e+03,  2.71559728e+01,  4.31000095e+03,  2.12643420e-01,\n",
       "       -1.25076745e+04, -5.36721003e+03, -4.74600349e+04,  3.44090635e+03,\n",
       "        1.58073562e+04, -1.58073562e+04])"
      ]
     },
     "execution_count": 43,
     "metadata": {},
     "output_type": "execute_result"
    }
   ],
   "source": [
    "lrmodel.coef_"
   ]
  },
  {
   "cell_type": "code",
   "execution_count": 45,
   "metadata": {
    "id": "75iRpl6OgHi3",
    "outputId": "22535a31-76a3-4777-86a2-af36c751b5f3"
   },
   "outputs": [
    {
     "data": {
      "text/plain": [
       "-23945044.694559123"
      ]
     },
     "execution_count": 45,
     "metadata": {},
     "output_type": "execute_result"
    }
   ],
   "source": [
    "lrmodel.intercept_"
   ]
  },
  {
   "cell_type": "code",
   "execution_count": 47,
   "metadata": {
    "colab": {
     "base_uri": "https://localhost:8080/"
    },
    "id": "fa4G_u9CgHi3",
    "outputId": "f2e658c3-d0ff-4d91-f76c-cd4b50051200"
   },
   "outputs": [
    {
     "name": "stdout",
     "output_type": "stream",
     "text": [
      "Test error is 86260.55979770393\n"
     ]
    }
   ],
   "source": [
    "# make predictions om test set\n",
    "ypred = lrmodel.predict(x_test)\n",
    "\n",
    "#evaluate the model\n",
    "test_mae = mean_absolute_error(ypred, y_test)\n",
    "print('Test error is', test_mae)"
   ]
  },
  {
   "cell_type": "markdown",
   "metadata": {
    "id": "JgYmClmIgHi3"
   },
   "source": [
    "### Our model is still not good beacuse we need a model with Mean Absolute Error < $70,000\n",
    "\n",
    "Note - We have not scaled the features and not tuned the model."
   ]
  },
  {
   "cell_type": "markdown",
   "metadata": {
    "id": "oi76fp2bgHi3"
   },
   "source": [
    "    "
   ]
  },
  {
   "cell_type": "markdown",
   "metadata": {
    "id": "qiowj-owgHi3"
   },
   "source": [
    "## Decision Tree Model"
   ]
  },
  {
   "cell_type": "code",
   "execution_count": 52,
   "metadata": {
    "id": "vlRpZFYugHi3"
   },
   "outputs": [],
   "source": [
    "# import decision tree model\n",
    "from sklearn.tree import DecisionTreeRegressor"
   ]
  },
  {
   "cell_type": "code",
   "execution_count": 54,
   "metadata": {
    "id": "l8IAvOqxgHi3"
   },
   "outputs": [],
   "source": [
    "# create an instance of the class\n",
    "dt = DecisionTreeRegressor(max_depth=3, max_features=10, random_state=567)"
   ]
  },
  {
   "cell_type": "code",
   "execution_count": 56,
   "metadata": {
    "id": "W7TIvQCOgHi3"
   },
   "outputs": [],
   "source": [
    "# train the model\n",
    "dtmodel = dt.fit(x_train,y_train)"
   ]
  },
  {
   "cell_type": "code",
   "execution_count": 58,
   "metadata": {
    "colab": {
     "base_uri": "https://localhost:8080/"
    },
    "id": "rD8Ulq3Mv4Y5",
    "outputId": "228ea9c2-9b83-47d3-db0e-2cc7b1aeafb5"
   },
   "outputs": [
    {
     "data": {
      "text/plain": [
       "60592.65251443672"
      ]
     },
     "execution_count": 58,
     "metadata": {},
     "output_type": "execute_result"
    }
   ],
   "source": [
    "# make predictions using the test set\n",
    "ytrain_pred = dtmodel.predict(x_train)\n",
    "\n",
    "# evaluate the model\n",
    "train_mae = mean_absolute_error(ytrain_pred, y_train)\n",
    "train_mae"
   ]
  },
  {
   "cell_type": "code",
   "execution_count": 60,
   "metadata": {
    "id": "9fu7mNEogHi4"
   },
   "outputs": [],
   "source": [
    "# make predictions using the test set\n",
    "ytest_pred = dtmodel.predict(x_test)"
   ]
  },
  {
   "cell_type": "code",
   "execution_count": 62,
   "metadata": {
    "colab": {
     "base_uri": "https://localhost:8080/"
    },
    "id": "9oABxlOjgHi4",
    "outputId": "5a5d7158-00c9-4826-d780-4b6a66fdf733"
   },
   "outputs": [
    {
     "data": {
      "text/plain": [
       "63754.86557864523"
      ]
     },
     "execution_count": 62,
     "metadata": {},
     "output_type": "execute_result"
    }
   ],
   "source": [
    "# evaluate the model\n",
    "test_mae = mean_absolute_error(ytest_pred, y_test)\n",
    "test_mae"
   ]
  },
  {
   "cell_type": "markdown",
   "metadata": {
    "id": "280fV8jJgHi4"
   },
   "source": [
    "## How do I know if my model is Overfitting or Generalised?"
   ]
  },
  {
   "cell_type": "code",
   "execution_count": 65,
   "metadata": {
    "id": "Jdl2kpwJgHi4"
   },
   "outputs": [],
   "source": [
    "# make predictions on train set\n",
    "ytrain_pred = dtmodel.predict(x_train)"
   ]
  },
  {
   "cell_type": "code",
   "execution_count": 67,
   "metadata": {
    "id": "1xRtK9yCgHi4",
    "outputId": "aa67bd18-7195-4838-9ddc-5b20e058f785"
   },
   "outputs": [
    {
     "data": {
      "text/plain": [
       "60592.65251443672"
      ]
     },
     "execution_count": 67,
     "metadata": {},
     "output_type": "execute_result"
    }
   ],
   "source": [
    "# import mean absolute error metric\n",
    "from sklearn.metrics import mean_absolute_error\n",
    "\n",
    "# evaluate the model\n",
    "train_mae = mean_absolute_error(ytrain_pred, y_train)\n",
    "train_mae"
   ]
  },
  {
   "cell_type": "markdown",
   "metadata": {
    "id": "LCySzmV3gHi4"
   },
   "source": [
    "    "
   ]
  },
  {
   "cell_type": "markdown",
   "metadata": {
    "id": "d19VdhMsgHi4"
   },
   "source": [
    "## Plot the tree"
   ]
  },
  {
   "cell_type": "code",
   "execution_count": 71,
   "metadata": {
    "id": "wdxw0gEpgHi4",
    "outputId": "ceba52c7-7f3d-4f52-f6f1-0fa0c4dc0324"
   },
   "outputs": [
    {
     "data": {
      "text/plain": [
       "array(['year_sold', 'property_tax', 'insurance', 'beds', 'baths', 'sqft',\n",
       "       'year_built', 'lot_size', 'basement', 'popular', 'recession',\n",
       "       'property_age', 'property_type_Bunglow', 'property_type_Condo'],\n",
       "      dtype=object)"
      ]
     },
     "execution_count": 71,
     "metadata": {},
     "output_type": "execute_result"
    }
   ],
   "source": [
    "# get the features\n",
    "dtmodel.feature_names_in_"
   ]
  },
  {
   "cell_type": "code",
   "execution_count": 73,
   "metadata": {
    "id": "-kq6OpkBgHi4",
    "outputId": "e5ac2d44-301d-4128-f646-7d00fa3fa1f8"
   },
   "outputs": [],
   "source": [
    "# plot the tree\n",
    "from sklearn import tree\n",
    "\n",
    "# Plot the tree with feature names\n",
    "tree.plot_tree(dtmodel, feature_names=dtmodel.feature_names_in_)\n",
    "\n",
    "#tree.plot_tree(dtmodel)\n",
    "#plt.show(dpi=300)\n",
    "\n",
    "# Save the plot to a file\n",
    "plt.savefig('tree.png', dpi=300)"
   ]
  },
  {
   "cell_type": "markdown",
   "metadata": {
    "id": "15XUHv9QgHi4"
   },
   "source": [
    "    "
   ]
  },
  {
   "cell_type": "markdown",
   "metadata": {
    "id": "q8wqXk2ugHi4"
   },
   "source": [
    "    "
   ]
  },
  {
   "cell_type": "markdown",
   "metadata": {
    "id": "Yx6yqdfpgHi4"
   },
   "source": [
    "    "
   ]
  },
  {
   "cell_type": "markdown",
   "metadata": {
    "id": "EjN-nxzEgHi4"
   },
   "source": [
    "## Random Forest Model"
   ]
  },
  {
   "cell_type": "code",
   "execution_count": 79,
   "metadata": {
    "id": "RkCzXpLtgHi4"
   },
   "outputs": [],
   "source": [
    "# import decision tree model\n",
    "from sklearn.ensemble import RandomForestRegressor"
   ]
  },
  {
   "cell_type": "code",
   "execution_count": 81,
   "metadata": {
    "id": "UDqTPGiegHi4"
   },
   "outputs": [],
   "source": [
    "# create an instance of the model\n",
    "rf = RandomForestRegressor(n_estimators=200, criterion='absolute_error')"
   ]
  },
  {
   "cell_type": "code",
   "execution_count": 83,
   "metadata": {
    "id": "oG__jXNegHi4"
   },
   "outputs": [],
   "source": [
    "# train the model\n",
    "rfmodel = rf.fit(x_train,y_train)"
   ]
  },
  {
   "cell_type": "code",
   "execution_count": 84,
   "metadata": {
    "id": "UgTc0Er-gHi8"
   },
   "outputs": [],
   "source": [
    "# make prediction on train set\n",
    "ytrain_pred = rfmodel.predict(x_train)"
   ]
  },
  {
   "cell_type": "code",
   "execution_count": 85,
   "metadata": {
    "id": "1miSLAHkgHi8"
   },
   "outputs": [],
   "source": [
    "# make predictions on the x_test values\n",
    "ytest_pred = rfmodel.predict(x_test)"
   ]
  },
  {
   "cell_type": "code",
   "execution_count": 86,
   "metadata": {
    "id": "nTH6sOeAgHi8",
    "outputId": "7f2c3f10-4148-4eaf-f051-afccd71da6bb"
   },
   "outputs": [
    {
     "data": {
      "text/plain": [
       "42476.54122654155"
      ]
     },
     "execution_count": 86,
     "metadata": {},
     "output_type": "execute_result"
    }
   ],
   "source": [
    "# evaluate the model\n",
    "test_mae = mean_absolute_error(ytest_pred, y_test)\n",
    "test_mae"
   ]
  },
  {
   "cell_type": "code",
   "execution_count": 87,
   "metadata": {
    "id": "u10aeWWxgHi9"
   },
   "outputs": [
    {
     "data": {
      "text/plain": [
       "[Text(0.5081090114846214, 0.9857142857142858, 'property_tax <= 445.5\\nabsolute_error = 124524.657\\nsamples = 934\\nvalue = 399000.0'),\n",
       " Text(0.2751444819597792, 0.9571428571428572, 'insurance <= 97.5\\nabsolute_error = 68622.758\\nsamples = 516\\nvalue = 339250.0'),\n",
       " Text(0.3916267467222003, 0.9714285714285715, 'True  '),\n",
       " Text(0.13773228016561515, 0.9285714285714286, 'insurance <= 78.5\\nabsolute_error = 47558.698\\nsamples = 246\\nvalue = 290000.0'),\n",
       " Text(0.07029771293375395, 0.9, 'year_sold <= 2006.5\\nabsolute_error = 32237.261\\nsamples = 104\\nvalue = 254000.0'),\n",
       " Text(0.02576892744479495, 0.8714285714285714, 'year_sold <= 2004.5\\nabsolute_error = 31595.075\\nsamples = 49\\nvalue = 275000.0'),\n",
       " Text(0.00914826498422713, 0.8428571428571429, 'baths <= 1.5\\nabsolute_error = 20652.053\\nsamples = 14\\nvalue = 250000.0'),\n",
       " Text(0.0037854889589905363, 0.8142857142857143, 'sqft <= 676.5\\nabsolute_error = 11750.0\\nsamples = 5\\nvalue = 216250.0'),\n",
       " Text(0.002523659305993691, 0.7857142857142857, 'absolute_error = 0.0\\nsamples = 1\\nvalue = 265000.0'),\n",
       " Text(0.005047318611987382, 0.7857142857142857, 'insurance <= 61.5\\nabsolute_error = 7357.143\\nsamples = 4\\nvalue = 216250.0'),\n",
       " Text(0.002523659305993691, 0.7571428571428571, 'year_sold <= 2003.0\\nabsolute_error = 500.0\\nsamples = 2\\nvalue = 229500.0'),\n",
       " Text(0.0012618296529968455, 0.7285714285714285, 'absolute_error = 0.0\\nsamples = 1\\nvalue = 229000.0'),\n",
       " Text(0.0037854889589905363, 0.7285714285714285, 'absolute_error = 0.0\\nsamples = 1\\nvalue = 230000.0'),\n",
       " Text(0.007570977917981073, 0.7571428571428571, 'property_age <= 43.0\\nabsolute_error = 2500.0\\nsamples = 2\\nvalue = 210000.0'),\n",
       " Text(0.006309148264984227, 0.7285714285714285, 'absolute_error = 0.0\\nsamples = 1\\nvalue = 210000.0'),\n",
       " Text(0.008832807570977918, 0.7285714285714285, 'absolute_error = 0.0\\nsamples = 1\\nvalue = 216250.0'),\n",
       " Text(0.014511041009463722, 0.8142857142857143, 'year_sold <= 2003.5\\nabsolute_error = 11062.636\\nsamples = 9\\nvalue = 257600.0'),\n",
       " Text(0.011356466876971609, 0.7857142857142857, 'baths <= 2.5\\nabsolute_error = 3750.0\\nsamples = 2\\nvalue = 271250.0'),\n",
       " Text(0.010094637223974764, 0.7571428571428571, 'absolute_error = 0.0\\nsamples = 1\\nvalue = 275000.0'),\n",
       " Text(0.012618296529968454, 0.7571428571428571, 'absolute_error = 0.0\\nsamples = 1\\nvalue = 267500.0'),\n",
       " Text(0.017665615141955835, 0.7857142857142857, 'insurance <= 72.0\\nabsolute_error = 10187.667\\nsamples = 7\\nvalue = 254900.0'),\n",
       " Text(0.015141955835962145, 0.7571428571428571, 'insurance <= 60.0\\nabsolute_error = 4496.333\\nsamples = 3\\nvalue = 242000.0'),\n",
       " Text(0.0138801261829653, 0.7285714285714285, 'absolute_error = 0.0\\nsamples = 1\\nvalue = 250000.0'),\n",
       " Text(0.016403785488958992, 0.7285714285714285, 'property_tax <= 248.0\\nabsolute_error = 2744.5\\nsamples = 2\\nvalue = 239255.5'),\n",
       " Text(0.015141955835962145, 0.7, 'absolute_error = 0.0\\nsamples = 1\\nvalue = 242000.0'),\n",
       " Text(0.017665615141955835, 0.7, 'absolute_error = 0.0\\nsamples = 1\\nvalue = 236511.0'),\n",
       " Text(0.02018927444794953, 0.7571428571428571, 'property_tax <= 249.5\\nabsolute_error = 8350.0\\nsamples = 4\\nvalue = 257600.0'),\n",
       " Text(0.01892744479495268, 0.7285714285714285, 'absolute_error = 0.0\\nsamples = 1\\nvalue = 295000.0'),\n",
       " Text(0.02145110410094637, 0.7285714285714285, 'baths <= 2.5\\nabsolute_error = 2540.0\\nsamples = 3\\nvalue = 257600.0'),\n",
       " Text(0.02018927444794953, 0.7, 'popular <= 0.5\\nabsolute_error = 1350.0\\nsamples = 2\\nvalue = 256250.0'),\n",
       " Text(0.01892744479495268, 0.6714285714285714, 'absolute_error = 0.0\\nsamples = 1\\nvalue = 257600.0'),\n",
       " Text(0.02145110410094637, 0.6714285714285714, 'absolute_error = 0.0\\nsamples = 1\\nvalue = 254900.0'),\n",
       " Text(0.022712933753943218, 0.7, 'absolute_error = 0.0\\nsamples = 1\\nvalue = 264900.0'),\n",
       " Text(0.042389589905362776, 0.8428571428571429, 'property_tax <= 192.5\\nabsolute_error = 27818.354\\nsamples = 35\\nvalue = 290950.0'),\n",
       " Text(0.027681388012618297, 0.8142857142857143, 'sqft <= 773.5\\nabsolute_error = 21771.429\\nsamples = 16\\nvalue = 271000.0'),\n",
       " Text(0.023974763406940065, 0.7857142857142857, 'year_sold <= 2005.5\\nabsolute_error = 7700.0\\nsamples = 2\\nvalue = 224200.0'),\n",
       " Text(0.022712933753943218, 0.7571428571428571, 'absolute_error = 0.0\\nsamples = 1\\nvalue = 231900.0'),\n",
       " Text(0.025236593059936908, 0.7571428571428571, 'absolute_error = 0.0\\nsamples = 1\\nvalue = 216500.0'),\n",
       " Text(0.03138801261829653, 0.7857142857142857, 'property_tax <= 147.5\\nabsolute_error = 15882.353\\nsamples = 14\\nvalue = 275000.0'),\n",
       " Text(0.0277602523659306, 0.7571428571428571, 'property_age <= 36.5\\nabsolute_error = 1500.0\\nsamples = 2\\nvalue = 251500.0'),\n",
       " Text(0.026498422712933754, 0.7285714285714285, 'absolute_error = 0.0\\nsamples = 1\\nvalue = 253000.0'),\n",
       " Text(0.029022082018927444, 0.7285714285714285, 'absolute_error = 0.0\\nsamples = 1\\nvalue = 250000.0'),\n",
       " Text(0.03501577287066246, 0.7571428571428571, 'insurance <= 57.0\\nabsolute_error = 14600.0\\nsamples = 12\\nvalue = 275000.0'),\n",
       " Text(0.031545741324921134, 0.7285714285714285, 'lot_size <= 640.5\\nabsolute_error = 16627.273\\nsamples = 10\\nvalue = 286900.0'),\n",
       " Text(0.028391167192429023, 0.7, 'sqft <= 1037.5\\nabsolute_error = 13950.0\\nsamples = 8\\nvalue = 293500.0'),\n",
       " Text(0.025867507886435333, 0.6714285714285714, 'year_built <= 1949.5\\nabsolute_error = 9600.0\\nsamples = 5\\nvalue = 286900.0'),\n",
       " Text(0.024605678233438486, 0.6428571428571429, 'absolute_error = 0.0\\nsamples = 1\\nvalue = 305000.0'),\n",
       " Text(0.027129337539432176, 0.6428571428571429, 'sqft <= 998.5\\nabsolute_error = 7475.0\\nsamples = 4\\nvalue = 282950.0'),\n",
       " Text(0.025867507886435333, 0.6142857142857143, 'property_tax <= 174.0\\nabsolute_error = 5633.333\\nsamples = 3\\nvalue = 279000.0'),\n",
       " Text(0.024605678233438486, 0.5857142857142857, 'absolute_error = 0.0\\nsamples = 1\\nvalue = 270000.0'),\n",
       " Text(0.027129337539432176, 0.5857142857142857, 'year_built <= 1988.0\\nabsolute_error = 3950.0\\nsamples = 2\\nvalue = 282950.0'),\n",
       " Text(0.025867507886435333, 0.5571428571428572, 'absolute_error = 0.0\\nsamples = 1\\nvalue = 279000.0'),\n",
       " Text(0.028391167192429023, 0.5571428571428572, 'absolute_error = 0.0\\nsamples = 1\\nvalue = 286900.0'),\n",
       " Text(0.028391167192429023, 0.6142857142857143, 'absolute_error = 0.0\\nsamples = 1\\nvalue = 292000.0'),\n",
       " Text(0.030914826498422712, 0.6714285714285714, 'sqft <= 1068.5\\nabsolute_error = 14833.333\\nsamples = 3\\nvalue = 300000.0'),\n",
       " Text(0.02965299684542587, 0.6428571428571429, 'absolute_error = 0.0\\nsamples = 1\\nvalue = 339500.0'),\n",
       " Text(0.032176656151419555, 0.6428571428571429, 'beds <= 2.5\\nabsolute_error = 2500.0\\nsamples = 2\\nvalue = 297500.0'),\n",
       " Text(0.030914826498422712, 0.6142857142857143, 'absolute_error = 0.0\\nsamples = 1\\nvalue = 300000.0'),\n",
       " Text(0.033438485804416405, 0.6142857142857143, 'absolute_error = 0.0\\nsamples = 1\\nvalue = 295000.0'),\n",
       " Text(0.03470031545741325, 0.7, 'year_built <= 1986.0\\nabsolute_error = 8466.667\\nsamples = 2\\nvalue = 275000.0'),\n",
       " Text(0.033438485804416405, 0.6714285714285714, 'absolute_error = 0.0\\nsamples = 1\\nvalue = 275000.0'),\n",
       " Text(0.03596214511041009, 0.6714285714285714, 'absolute_error = 0.0\\nsamples = 1\\nvalue = 249600.0'),\n",
       " Text(0.038485804416403785, 0.7285714285714285, 'baths <= 1.5\\nabsolute_error = 50.0\\nsamples = 2\\nvalue = 270950.0'),\n",
       " Text(0.03722397476340694, 0.7, 'absolute_error = 0.0\\nsamples = 1\\nvalue = 270900.0'),\n",
       " Text(0.03974763406940063, 0.7, 'absolute_error = 0.0\\nsamples = 1\\nvalue = 271000.0'),\n",
       " Text(0.057097791798107256, 0.8142857142857143, 'sqft <= 1175.0\\nabsolute_error = 21921.519\\nsamples = 19\\nvalue = 305000.0'),\n",
       " Text(0.050473186119873815, 0.7857142857142857, 'property_age <= 31.0\\nabsolute_error = 15572.067\\nsamples = 10\\nvalue = 289900.0'),\n",
       " Text(0.04605678233438486, 0.7571428571428571, 'sqft <= 793.5\\nabsolute_error = 13861.909\\nsamples = 7\\nvalue = 301000.0'),\n",
       " Text(0.043533123028391164, 0.7285714285714285, 'property_age <= 12.5\\nabsolute_error = 3966.667\\nsamples = 2\\nvalue = 281900.0'),\n",
       " Text(0.04227129337539432, 0.7, 'absolute_error = 0.0\\nsamples = 1\\nvalue = 281900.0'),\n",
       " Text(0.044794952681388014, 0.7, 'absolute_error = 0.0\\nsamples = 1\\nvalue = 270000.0'),\n",
       " Text(0.04858044164037855, 0.7285714285714285, 'property_age <= 9.0\\nabsolute_error = 8910.125\\nsamples = 5\\nvalue = 303000.0'),\n",
       " Text(0.0473186119873817, 0.7, 'absolute_error = 0.0\\nsamples = 1\\nvalue = 289900.0'),\n",
       " Text(0.049842271293375394, 0.7, 'popular <= 0.5\\nabsolute_error = 8025.857\\nsamples = 4\\nvalue = 305000.0'),\n",
       " Text(0.04858044164037855, 0.6714285714285714, 'sqft <= 916.0\\nabsolute_error = 2000.0\\nsamples = 3\\nvalue = 303000.0'),\n",
       " Text(0.0473186119873817, 0.6428571428571429, 'absolute_error = 0.0\\nsamples = 2\\nvalue = 305000.0'),\n",
       " Text(0.049842271293375394, 0.6428571428571429, 'absolute_error = 0.0\\nsamples = 1\\nvalue = 301000.0'),\n",
       " Text(0.05110410094637224, 0.6714285714285714, 'absolute_error = 0.0\\nsamples = 1\\nvalue = 349181.0'),\n",
       " Text(0.05488958990536277, 0.7571428571428571, 'year_sold <= 2005.5\\nabsolute_error = 12500.0\\nsamples = 3\\nvalue = 285000.0'),\n",
       " Text(0.05362776025236593, 0.7285714285714285, 'property_age <= 42.5\\nabsolute_error = 1633.333\\nsamples = 2\\nvalue = 285000.0'),\n",
       " Text(0.05236593059936909, 0.7, 'absolute_error = 0.0\\nsamples = 1\\nvalue = 285000.0'),\n",
       " Text(0.05488958990536277, 0.7, 'absolute_error = 0.0\\nsamples = 1\\nvalue = 289900.0'),\n",
       " Text(0.05615141955835962, 0.7285714285714285, 'absolute_error = 0.0\\nsamples = 1\\nvalue = 239900.0'),\n",
       " Text(0.06372239747634069, 0.7857142857142857, 'lot_size <= 2533.0\\nabsolute_error = 18516.667\\nsamples = 9\\nvalue = 319200.0'),\n",
       " Text(0.062460567823343846, 0.7571428571428571, 'year_sold <= 2005.5\\nabsolute_error = 8940.0\\nsamples = 8\\nvalue = 316750.0'),\n",
       " Text(0.05867507886435331, 0.7285714285714285, 'baths <= 1.5\\nabsolute_error = 3316.667\\nsamples = 4\\nvalue = 315000.0'),\n",
       " Text(0.05741324921135647, 0.7, 'absolute_error = 0.0\\nsamples = 1\\nvalue = 305000.0'),\n",
       " Text(0.05993690851735016, 0.7, 'year_built <= 1992.0\\nabsolute_error = 1980.0\\nsamples = 3\\nvalue = 315000.0'),\n",
       " Text(0.05867507886435331, 0.6714285714285714, 'absolute_error = 0.0\\nsamples = 1\\nvalue = 310000.0'),\n",
       " Text(0.061198738170347, 0.6714285714285714, 'baths <= 2.5\\nabsolute_error = 1225.0\\nsamples = 2\\nvalue = 315000.0'),\n",
       " Text(0.05993690851735016, 0.6428571428571429, 'absolute_error = 0.0\\nsamples = 1\\nvalue = 315000.0'),\n",
       " Text(0.062460567823343846, 0.6428571428571429, 'absolute_error = 0.0\\nsamples = 1\\nvalue = 319900.0'),\n",
       " Text(0.06624605678233439, 0.7285714285714285, 'property_age <= 7.5\\nabsolute_error = 7625.0\\nsamples = 4\\nvalue = 333000.0'),\n",
       " Text(0.06498422712933755, 0.7, 'absolute_error = 0.0\\nsamples = 1\\nvalue = 318500.0'),\n",
       " Text(0.06750788643533123, 0.7, 'property_tax <= 239.0\\nabsolute_error = 4666.667\\nsamples = 3\\nvalue = 335000.0'),\n",
       " Text(0.06624605678233439, 0.6714285714285714, 'property_tax <= 213.0\\nabsolute_error = 2000.0\\nsamples = 2\\nvalue = 333000.0'),\n",
       " Text(0.06498422712933755, 0.6428571428571429, 'absolute_error = 0.0\\nsamples = 1\\nvalue = 331000.0'),\n",
       " Text(0.06750788643533123, 0.6428571428571429, 'absolute_error = 0.0\\nsamples = 1\\nvalue = 335000.0'),\n",
       " Text(0.06876971608832808, 0.6714285714285714, 'absolute_error = 0.0\\nsamples = 1\\nvalue = 345000.0'),\n",
       " Text(0.06498422712933755, 0.7571428571428571, 'absolute_error = 0.0\\nsamples = 1\\nvalue = 384900.0'),\n",
       " Text(0.11482649842271293, 0.8714285714285714, 'lot_size <= 1670.5\\nabsolute_error = 26482.733\\nsamples = 55\\nvalue = 244000.0'),\n",
       " Text(0.10252365930599369, 0.8428571428571429, 'sqft <= 1265.0\\nabsolute_error = 27068.217\\nsamples = 42\\nvalue = 245950.0'),\n",
       " Text(0.0943217665615142, 0.8142857142857143, 'year_sold <= 2014.5\\nabsolute_error = 18304.913\\nsamples = 28\\nvalue = 242000.0'),\n",
       " Text(0.08706624605678233, 0.7857142857142857, 'insurance <= 67.0\\nabsolute_error = 16412.976\\nsamples = 25\\nvalue = 243000.0'),\n",
       " Text(0.08012618296529968, 0.7571428571428571, 'year_built <= 1984.5\\nabsolute_error = 6696.556\\nsamples = 12\\nvalue = 238200.0'),\n",
       " Text(0.07634069400630915, 0.7285714285714285, 'property_tax <= 174.0\\nabsolute_error = 2688.889\\nsamples = 7\\nvalue = 239900.0'),\n",
       " Text(0.07255520504731862, 0.7, 'sqft <= 831.5\\nabsolute_error = 2333.333\\nsamples = 3\\nvalue = 245000.0'),\n",
       " Text(0.07129337539432176, 0.6714285714285714, 'absolute_error = 0.0\\nsamples = 1\\nvalue = 250000.0'),\n",
       " Text(0.07381703470031546, 0.6714285714285714, 'year_built <= 1971.5\\nabsolute_error = 1000.0\\nsamples = 2\\nvalue = 244000.0'),\n",
       " Text(0.07255520504731862, 0.6428571428571429, 'absolute_error = 0.0\\nsamples = 1\\nvalue = 243000.0'),\n",
       " Text(0.0750788643533123, 0.6428571428571429, 'absolute_error = 0.0\\nsamples = 1\\nvalue = 245000.0'),\n",
       " Text(0.08012618296529968, 0.7, 'year_sold <= 2013.5\\nabsolute_error = 983.333\\nsamples = 4\\nvalue = 239400.0'),\n",
       " Text(0.07886435331230283, 0.6714285714285714, 'year_sold <= 2012.0\\nabsolute_error = 275.0\\nsamples = 3\\nvalue = 239900.0'),\n",
       " Text(0.07760252365930599, 0.6428571428571429, 'sqft <= 946.0\\nabsolute_error = 33.333\\nsamples = 2\\nvalue = 239900.0'),\n",
       " Text(0.07634069400630915, 0.6142857142857143, 'absolute_error = 0.0\\nsamples = 1\\nvalue = 240000.0'),\n",
       " Text(0.07886435331230283, 0.6142857142857143, 'absolute_error = 0.0\\nsamples = 1\\nvalue = 239900.0'),\n",
       " Text(0.08012618296529968, 0.6428571428571429, 'absolute_error = 0.0\\nsamples = 1\\nvalue = 238900.0'),\n",
       " Text(0.08138801261829653, 0.6714285714285714, 'absolute_error = 0.0\\nsamples = 1\\nvalue = 237500.0'),\n",
       " Text(0.08391167192429022, 0.7285714285714285, 'property_age <= 11.5\\nabsolute_error = 5684.667\\nsamples = 5\\nvalue = 230000.0'),\n",
       " Text(0.08264984227129338, 0.7, 'absolute_error = 0.0\\nsamples = 1\\nvalue = 243000.0'),\n",
       " Text(0.08517350157728706, 0.7, 'property_age <= 25.5\\nabsolute_error = 3594.571\\nsamples = 4\\nvalue = 230000.0'),\n",
       " Text(0.08391167192429022, 0.6714285714285714, 'insurance <= 51.5\\nabsolute_error = 232.4\\nsamples = 3\\nvalue = 230000.0'),\n",
       " Text(0.08264984227129338, 0.6428571428571429, 'absolute_error = 0.0\\nsamples = 1\\nvalue = 230581.0'),\n",
       " Text(0.08517350157728706, 0.6428571428571429, 'absolute_error = 0.0\\nsamples = 2\\nvalue = 230000.0'),\n",
       " Text(0.08643533123028391, 0.6714285714285714, 'absolute_error = 0.0\\nsamples = 1\\nvalue = 218000.0'),\n",
       " Text(0.09400630914826498, 0.7571428571428571, 'property_age <= 36.0\\nabsolute_error = 20769.913\\nsamples = 13\\nvalue = 254000.0'),\n",
       " Text(0.0914826498422713, 0.7285714285714285, 'property_age <= 30.5\\nabsolute_error = 18016.556\\nsamples = 10\\nvalue = 249298.0'),\n",
       " Text(0.09022082018927445, 0.7, 'year_sold <= 2012.5\\nabsolute_error = 14200.125\\nsamples = 9\\nvalue = 249298.0'),\n",
       " Text(0.08895899053627761, 0.6714285714285714, 'property_tax <= 236.5\\nabsolute_error = 11128.429\\nsamples = 8\\nvalue = 249298.0'),\n",
       " Text(0.08769716088328075, 0.6428571428571429, 'absolute_error = 0.0\\nsamples = 1\\nvalue = 220000.0'),\n",
       " Text(0.09022082018927445, 0.6428571428571429, 'year_built <= 1985.5\\nabsolute_error = 8100.167\\nsamples = 7\\nvalue = 249298.0'),\n",
       " Text(0.08706624605678233, 0.6142857142857143, 'year_built <= 1983.5\\nabsolute_error = 750.0\\nsamples = 2\\nvalue = 242000.0'),\n",
       " Text(0.08580441640378549, 0.5857142857142857, 'absolute_error = 0.0\\nsamples = 1\\nvalue = 245000.0'),\n",
       " Text(0.08832807570977919, 0.5857142857142857, 'absolute_error = 0.0\\nsamples = 1\\nvalue = 242000.0'),\n",
       " Text(0.09337539432176656, 0.6142857142857143, 'insurance <= 76.5\\nabsolute_error = 8876.25\\nsamples = 5\\nvalue = 254000.0'),\n",
       " Text(0.09085173501577287, 0.5857142857142857, 'baths <= 1.5\\nabsolute_error = 2517.667\\nsamples = 3\\nvalue = 251649.0'),\n",
       " Text(0.08958990536277603, 0.5571428571428572, 'absolute_error = 0.0\\nsamples = 1\\nvalue = 249298.0'),\n",
       " Text(0.09211356466876972, 0.5571428571428572, 'insurance <= 75.0\\nabsolute_error = 333.333\\nsamples = 2\\nvalue = 254000.0'),\n",
       " Text(0.09085173501577287, 0.5285714285714286, 'absolute_error = 0.0\\nsamples = 1\\nvalue = 254000.0'),\n",
       " Text(0.09337539432176656, 0.5285714285714286, 'absolute_error = 0.0\\nsamples = 1\\nvalue = 255000.0'),\n",
       " Text(0.09589905362776026, 0.5857142857142857, 'insurance <= 77.5\\nabsolute_error = 12250.0\\nsamples = 2\\nvalue = 277250.0'),\n",
       " Text(0.0946372239747634, 0.5571428571428572, 'absolute_error = 0.0\\nsamples = 1\\nvalue = 289500.0'),\n",
       " Text(0.0971608832807571, 0.5571428571428572, 'absolute_error = 0.0\\nsamples = 1\\nvalue = 265000.0'),\n",
       " Text(0.0914826498422713, 0.6714285714285714, 'absolute_error = 0.0\\nsamples = 1\\nvalue = 285000.0'),\n",
       " Text(0.09274447949526814, 0.7, 'absolute_error = 0.0\\nsamples = 1\\nvalue = 200750.0'),\n",
       " Text(0.09652996845425868, 0.7285714285714285, 'insurance <= 69.0\\nabsolute_error = 4000.0\\nsamples = 3\\nvalue = 279900.0'),\n",
       " Text(0.09526813880126182, 0.7, 'absolute_error = 0.0\\nsamples = 1\\nvalue = 285000.0'),\n",
       " Text(0.09779179810725552, 0.7, 'lot_size <= 653.0\\nabsolute_error = 1633.333\\nsamples = 2\\nvalue = 275000.0'),\n",
       " Text(0.09652996845425868, 0.6714285714285714, 'absolute_error = 0.0\\nsamples = 1\\nvalue = 279900.0'),\n",
       " Text(0.09905362776025237, 0.6714285714285714, 'absolute_error = 0.0\\nsamples = 1\\nvalue = 275000.0'),\n",
       " Text(0.10157728706624605, 0.7857142857142857, 'property_tax <= 226.5\\nabsolute_error = 6018.8\\nsamples = 3\\nvalue = 204000.0'),\n",
       " Text(0.10031545741324921, 0.7571428571428571, 'sqft <= 992.0\\nabsolute_error = 1023.5\\nsamples = 2\\nvalue = 202976.5'),\n",
       " Text(0.09905362776025237, 0.7285714285714285, 'absolute_error = 0.0\\nsamples = 1\\nvalue = 201953.0'),\n",
       " Text(0.10157728706624605, 0.7285714285714285, 'absolute_error = 0.0\\nsamples = 1\\nvalue = 204000.0'),\n",
       " Text(0.1028391167192429, 0.7571428571428571, 'absolute_error = 0.0\\nsamples = 1\\nvalue = 230000.0'),\n",
       " Text(0.11072555205047319, 0.8142857142857143, 'year_sold <= 2008.5\\nabsolute_error = 32520.478\\nsamples = 14\\nvalue = 289990.0'),\n",
       " Text(0.10662460567823344, 0.7857142857142857, 'year_sold <= 2007.5\\nabsolute_error = 10490.0\\nsamples = 4\\nvalue = 332500.0'),\n",
       " Text(0.1053627760252366, 0.7571428571428571, 'property_age <= 30.0\\nabsolute_error = 2300.0\\nsamples = 3\\nvalue = 335000.0'),\n",
       " Text(0.10410094637223975, 0.7285714285714285, 'year_built <= 1995.0\\nabsolute_error = 950.0\\nsamples = 2\\nvalue = 335950.0'),\n",
       " Text(0.1028391167192429, 0.7, 'absolute_error = 0.0\\nsamples = 1\\nvalue = 336900.0'),\n",
       " Text(0.1053627760252366, 0.7, 'absolute_error = 0.0\\nsamples = 1\\nvalue = 335000.0'),\n",
       " Text(0.10662460567823344, 0.7285714285714285, 'absolute_error = 0.0\\nsamples = 1\\nvalue = 330000.0'),\n",
       " Text(0.10788643533123028, 0.7571428571428571, 'absolute_error = 0.0\\nsamples = 1\\nvalue = 299940.0'),\n",
       " Text(0.11482649842271293, 0.7857142857142857, 'property_tax <= 257.5\\nabsolute_error = 20136.733\\nsamples = 10\\nvalue = 260000.0'),\n",
       " Text(0.11167192429022083, 0.7571428571428571, 'insurance <= 74.5\\nabsolute_error = 10499.545\\nsamples = 7\\nvalue = 250000.0'),\n",
       " Text(0.10914826498422713, 0.7285714285714285, 'year_built <= 2009.5\\nabsolute_error = 5906.429\\nsamples = 5\\nvalue = 245950.0'),\n",
       " Text(0.10788643533123028, 0.7, 'year_built <= 2006.5\\nabsolute_error = 3489.167\\nsamples = 4\\nvalue = 245950.0'),\n",
       " Text(0.10662460567823344, 0.6714285714285714, 'property_age <= 15.0\\nabsolute_error = 1000.0\\nsamples = 3\\nvalue = 245950.0'),\n",
       " Text(0.1053627760252366, 0.6428571428571429, 'absolute_error = 0.0\\nsamples = 1\\nvalue = 250000.0'),\n",
       " Text(0.10788643533123028, 0.6428571428571429, 'insurance <= 72.5\\nabsolute_error = 237.5\\nsamples = 2\\nvalue = 245950.0'),\n",
       " Text(0.10662460567823344, 0.6142857142857143, 'absolute_error = 0.0\\nsamples = 1\\nvalue = 245000.0'),\n",
       " Text(0.10914826498422713, 0.6142857142857143, 'absolute_error = 0.0\\nsamples = 1\\nvalue = 245950.0'),\n",
       " Text(0.10914826498422713, 0.6714285714285714, 'absolute_error = 0.0\\nsamples = 1\\nvalue = 261885.0'),\n",
       " Text(0.11041009463722397, 0.7, 'absolute_error = 0.0\\nsamples = 1\\nvalue = 225540.0'),\n",
       " Text(0.11419558359621451, 0.7285714285714285, 'sqft <= 1494.0\\nabsolute_error = 5500.0\\nsamples = 2\\nvalue = 265500.0'),\n",
       " Text(0.11293375394321767, 0.7, 'absolute_error = 0.0\\nsamples = 1\\nvalue = 271000.0'),\n",
       " Text(0.11545741324921135, 0.7, 'absolute_error = 0.0\\nsamples = 1\\nvalue = 260000.0'),\n",
       " Text(0.11798107255520504, 0.7571428571428571, 'year_built <= 1997.5\\nabsolute_error = 10502.5\\nsamples = 3\\nvalue = 297283.0'),\n",
       " Text(0.1167192429022082, 0.7285714285714285, 'absolute_error = 0.0\\nsamples = 1\\nvalue = 332000.0'),\n",
       " Text(0.1192429022082019, 0.7285714285714285, 'year_built <= 2010.5\\nabsolute_error = 2431.0\\nsamples = 2\\nvalue = 297283.0'),\n",
       " Text(0.11798107255520504, 0.7, 'absolute_error = 0.0\\nsamples = 1\\nvalue = 289990.0'),\n",
       " Text(0.12050473186119874, 0.7, 'absolute_error = 0.0\\nsamples = 1\\nvalue = 297283.0'),\n",
       " Text(0.12712933753943217, 0.8428571428571429, 'beds <= 2.5\\nabsolute_error = 15047.095\\nsamples = 13\\nvalue = 226000.0'),\n",
       " Text(0.12302839116719243, 0.8142857142857143, 'sqft <= 1200.0\\nabsolute_error = 6000.0\\nsamples = 3\\nvalue = 251489.0'),\n",
       " Text(0.12176656151419558, 0.7857142857142857, 'property_type_Condo <= 0.5\\nabsolute_error = 496.333\\nsamples = 2\\nvalue = 250000.0'),\n",
       " Text(0.12050473186119874, 0.7571428571428571, 'absolute_error = 0.0\\nsamples = 1\\nvalue = 251489.0'),\n",
       " Text(0.12302839116719243, 0.7571428571428571, 'absolute_error = 0.0\\nsamples = 1\\nvalue = 250000.0'),\n",
       " Text(0.12429022082018927, 0.7857142857142857, 'absolute_error = 0.0\\nsamples = 1\\nvalue = 265000.0'),\n",
       " Text(0.13123028391167194, 0.8142857142857143, 'lot_size <= 1751.0\\nabsolute_error = 8781.25\\nsamples = 10\\nvalue = 215000.0'),\n",
       " Text(0.12681388012618297, 0.7857142857142857, 'year_sold <= 2008.5\\nabsolute_error = 6125.0\\nsamples = 4\\nvalue = 227000.0'),\n",
       " Text(0.12555205047318613, 0.7571428571428571, 'absolute_error = 0.0\\nsamples = 1\\nvalue = 204000.0'),\n",
       " Text(0.1280757097791798, 0.7571428571428571, 'recession <= 0.5\\nabsolute_error = 500.0\\nsamples = 3\\nvalue = 227000.0'),\n",
       " Text(0.12681388012618297, 0.7285714285714285, 'sqft <= 1611.0\\nabsolute_error = 250.0\\nsamples = 2\\nvalue = 227000.0'),\n",
       " Text(0.12555205047318613, 0.7, 'absolute_error = 0.0\\nsamples = 1\\nvalue = 227000.0'),\n",
       " Text(0.1280757097791798, 0.7, 'absolute_error = 0.0\\nsamples = 1\\nvalue = 226000.0'),\n",
       " Text(0.12933753943217666, 0.7285714285714285, 'absolute_error = 0.0\\nsamples = 1\\nvalue = 228000.0'),\n",
       " Text(0.13564668769716087, 0.7857142857142857, 'sqft <= 1500.5\\nabsolute_error = 4937.5\\nsamples = 6\\nvalue = 212000.0'),\n",
       " Text(0.1331230283911672, 0.7571428571428571, 'sqft <= 1375.5\\nabsolute_error = 3100.0\\nsamples = 3\\nvalue = 206000.0'),\n",
       " Text(0.13186119873817034, 0.7285714285714285, 'baths <= 2.0\\nabsolute_error = 1700.0\\nsamples = 2\\nvalue = 207700.0'),\n",
       " Text(0.1305993690851735, 0.7, 'absolute_error = 0.0\\nsamples = 1\\nvalue = 209400.0'),\n",
       " Text(0.1331230283911672, 0.7, 'absolute_error = 0.0\\nsamples = 1\\nvalue = 206000.0'),\n",
       " Text(0.13438485804416403, 0.7285714285714285, 'absolute_error = 0.0\\nsamples = 1\\nvalue = 200100.0'),\n",
       " Text(0.1381703470031546, 0.7571428571428571, 'property_age <= 13.0\\nabsolute_error = 3200.0\\nsamples = 3\\nvalue = 215000.0'),\n",
       " Text(0.13690851735015772, 0.7285714285714285, 'absolute_error = 0.0\\nsamples = 1\\nvalue = 225000.0'),\n",
       " Text(0.13943217665615143, 0.7285714285714285, 'year_sold <= 2009.0\\nabsolute_error = 1500.0\\nsamples = 2\\nvalue = 213500.0'),\n",
       " Text(0.1381703470031546, 0.7, 'absolute_error = 0.0\\nsamples = 1\\nvalue = 215000.0'),\n",
       " Text(0.14069400630914827, 0.7, 'absolute_error = 0.0\\nsamples = 1\\nvalue = 212000.0'),\n",
       " Text(0.20516684739747634, 0.9, 'year_sold <= 2007.5\\nabsolute_error = 48208.191\\nsamples = 142\\nvalue = 310685.0'),\n",
       " Text(0.16309148264984227, 0.8714285714285714, 'year_sold <= 2004.5\\nabsolute_error = 56063.489\\nsamples = 56\\nvalue = 350000.0'),\n",
       " Text(0.14668769716088328, 0.8428571428571429, 'year_sold <= 2001.5\\nabsolute_error = 39461.172\\nsamples = 18\\nvalue = 276270.0'),\n",
       " Text(0.1441640378548896, 0.8142857142857143, 'property_tax <= 318.0\\nabsolute_error = 3360.0\\nsamples = 4\\nvalue = 209480.0'),\n",
       " Text(0.14290220820189276, 0.7857142857142857, 'property_age <= 7.0\\nabsolute_error = 993.333\\nsamples = 2\\nvalue = 206500.0'),\n",
       " Text(0.1416403785488959, 0.7571428571428571, 'absolute_error = 0.0\\nsamples = 1\\nvalue = 209480.0'),\n",
       " Text(0.1441640378548896, 0.7571428571428571, 'absolute_error = 0.0\\nsamples = 1\\nvalue = 206500.0'),\n",
       " Text(0.14542586750788644, 0.7857142857142857, 'absolute_error = 0.0\\nsamples = 2\\nvalue = 214900.0'),\n",
       " Text(0.14921135646687697, 0.8142857142857143, 'property_age <= 1.0\\nabsolute_error = 33426.5\\nsamples = 14\\nvalue = 279768.5'),\n",
       " Text(0.14794952681388013, 0.7857142857142857, 'absolute_error = 0.0\\nsamples = 1\\nvalue = 389990.0'),\n",
       " Text(0.15047318611987381, 0.7857142857142857, 'basement <= 0.5\\nabsolute_error = 26424.091\\nsamples = 13\\nvalue = 279537.0'),\n",
       " Text(0.14921135646687697, 0.7571428571428571, 'absolute_error = 0.0\\nsamples = 1\\nvalue = 223500.0'),\n",
       " Text(0.15173501577287066, 0.7571428571428571, 'lot_size <= 5871.5\\nabsolute_error = 23462.8\\nsamples = 12\\nvalue = 279768.5'),\n",
       " Text(0.14763406940063092, 0.7285714285714285, 'lot_size <= 1306.5\\nabsolute_error = 25178.267\\nsamples = 10\\nvalue = 276270.0'),\n",
       " Text(0.14321766561514196, 0.7, 'property_tax <= 271.5\\nabsolute_error = 5776.0\\nsamples = 3\\nvalue = 284768.5'),\n",
       " Text(0.14195583596214512, 0.6714285714285714, 'absolute_error = 0.0\\nsamples = 1\\nvalue = 290000.0'),\n",
       " Text(0.1444794952681388, 0.6714285714285714, 'property_tax <= 318.0\\nabsolute_error = 1089.0\\nsamples = 2\\nvalue = 279537.0'),\n",
       " Text(0.14321766561514196, 0.6428571428571429, 'absolute_error = 0.0\\nsamples = 1\\nvalue = 279537.0'),\n",
       " Text(0.14574132492113565, 0.6428571428571429, 'absolute_error = 0.0\\nsamples = 1\\nvalue = 276270.0'),\n",
       " Text(0.15205047318611986, 0.7, 'property_tax <= 360.0\\nabsolute_error = 27622.222\\nsamples = 7\\nvalue = 260000.0'),\n",
       " Text(0.15078864353312302, 0.6714285714285714, 'year_built <= 1993.0\\nabsolute_error = 19200.0\\nsamples = 6\\nvalue = 249950.0'),\n",
       " Text(0.14826498422712933, 0.6428571428571429, 'lot_size <= 1568.5\\nabsolute_error = 8166.667\\nsamples = 3\\nvalue = 218000.0'),\n",
       " Text(0.1470031545741325, 0.6142857142857143, 'absolute_error = 0.0\\nsamples = 1\\nvalue = 236500.0'),\n",
       " Text(0.14952681388012617, 0.6142857142857143, 'insurance <= 92.5\\nabsolute_error = 3000.0\\nsamples = 2\\nvalue = 215000.0'),\n",
       " Text(0.14826498422712933, 0.5857142857142857, 'absolute_error = 0.0\\nsamples = 1\\nvalue = 212000.0'),\n",
       " Text(0.15078864353312302, 0.5857142857142857, 'absolute_error = 0.0\\nsamples = 1\\nvalue = 218000.0'),\n",
       " Text(0.15331230283911673, 0.6428571428571429, 'lot_size <= 1742.5\\nabsolute_error = 8020.0\\nsamples = 3\\nvalue = 260000.0'),\n",
       " Text(0.15205047318611986, 0.6142857142857143, 'absolute_error = 0.0\\nsamples = 1\\nvalue = 239900.0'),\n",
       " Text(0.15457413249211358, 0.6142857142857143, 'property_age <= 4.0\\nabsolute_error = 5000.0\\nsamples = 2\\nvalue = 260000.0'),\n",
       " Text(0.15331230283911673, 0.5857142857142857, 'absolute_error = 0.0\\nsamples = 1\\nvalue = 280000.0'),\n",
       " Text(0.15583596214511042, 0.5857142857142857, 'absolute_error = 0.0\\nsamples = 1\\nvalue = 260000.0'),\n",
       " Text(0.15331230283911673, 0.6714285714285714, 'absolute_error = 0.0\\nsamples = 1\\nvalue = 355000.0'),\n",
       " Text(0.15583596214511042, 0.7285714285714285, 'baths <= 2.5\\nabsolute_error = 2800.0\\nsamples = 2\\nvalue = 300000.0'),\n",
       " Text(0.15457413249211358, 0.7, 'absolute_error = 0.0\\nsamples = 1\\nvalue = 293000.0'),\n",
       " Text(0.15709779179810726, 0.7, 'absolute_error = 0.0\\nsamples = 1\\nvalue = 300000.0'),\n",
       " Text(0.17949526813880126, 0.8428571428571429, 'property_tax <= 302.5\\nabsolute_error = 35737.857\\nsamples = 38\\nvalue = 375000.0'),\n",
       " Text(0.16750788643533124, 0.8142857142857143, 'sqft <= 954.0\\nabsolute_error = 21762.385\\nsamples = 23\\nvalue = 350000.0'),\n",
       " Text(0.16214511041009463, 0.7857142857142857, 'insurance <= 81.0\\nabsolute_error = 16837.235\\nsamples = 11\\nvalue = 375000.0'),\n",
       " Text(0.15962145110410095, 0.7571428571428571, 'property_type_Condo <= 0.5\\nabsolute_error = 16544.333\\nsamples = 2\\nvalue = 350000.0'),\n",
       " Text(0.1583596214511041, 0.7285714285714285, 'absolute_error = 0.0\\nsamples = 1\\nvalue = 350000.0'),\n",
       " Text(0.1608832807570978, 0.7285714285714285, 'absolute_error = 0.0\\nsamples = 1\\nvalue = 300367.0'),\n",
       " Text(0.16466876971608832, 0.7571428571428571, 'beds <= 2.5\\nabsolute_error = 11292.857\\nsamples = 9\\nvalue = 376750.0'),\n",
       " Text(0.16340694006309148, 0.7285714285714285, 'lot_size <= 47698.0\\nabsolute_error = 7823.077\\nsamples = 8\\nvalue = 376750.0'),\n",
       " Text(0.16214511041009463, 0.7, 'property_tax <= 284.0\\nabsolute_error = 5427.273\\nsamples = 7\\nvalue = 375000.0'),\n",
       " Text(0.1608832807570978, 0.6714285714285714, 'sqft <= 661.5\\nabsolute_error = 3480.0\\nsamples = 6\\nvalue = 375875.0'),\n",
       " Text(0.1583596214511041, 0.6428571428571429, 'sqft <= 634.0\\nabsolute_error = 2733.333\\nsamples = 2\\nvalue = 379900.0'),\n",
       " Text(0.15709779179810726, 0.6142857142857143, 'absolute_error = 0.0\\nsamples = 1\\nvalue = 379900.0'),\n",
       " Text(0.15962145110410095, 0.6142857142857143, 'absolute_error = 0.0\\nsamples = 1\\nvalue = 388100.0'),\n",
       " Text(0.16340694006309148, 0.6428571428571429, 'insurance <= 84.0\\nabsolute_error = 1700.0\\nsamples = 4\\nvalue = 375000.0'),\n",
       " Text(0.16214511041009463, 0.6142857142857143, 'absolute_error = 0.0\\nsamples = 1\\nvalue = 366700.0'),\n",
       " Text(0.16466876971608832, 0.6142857142857143, 'property_age <= 10.5\\nabsolute_error = 600.0\\nsamples = 3\\nvalue = 375000.0'),\n",
       " Text(0.16340694006309148, 0.5857142857142857, 'absolute_error = 0.0\\nsamples = 1\\nvalue = 376750.0'),\n",
       " Text(0.16593059936908516, 0.5857142857142857, 'beds <= 1.5\\nabsolute_error = 25.0\\nsamples = 2\\nvalue = 375000.0'),\n",
       " Text(0.16466876971608832, 0.5571428571428572, 'absolute_error = 0.0\\nsamples = 1\\nvalue = 375000.0'),\n",
       " Text(0.167192429022082, 0.5571428571428572, 'absolute_error = 0.0\\nsamples = 1\\nvalue = 374900.0'),\n",
       " Text(0.16340694006309148, 0.6714285714285714, 'absolute_error = 0.0\\nsamples = 1\\nvalue = 350100.0'),\n",
       " Text(0.16466876971608832, 0.7, 'absolute_error = 0.0\\nsamples = 1\\nvalue = 396875.0'),\n",
       " Text(0.16593059936908516, 0.7285714285714285, 'absolute_error = 0.0\\nsamples = 1\\nvalue = 433150.0'),\n",
       " Text(0.17287066246056781, 0.7857142857142857, 'property_age <= 14.0\\nabsolute_error = 12450.0\\nsamples = 12\\nvalue = 340000.0'),\n",
       " Text(0.16971608832807572, 0.7571428571428571, 'sqft <= 1807.5\\nabsolute_error = 2000.0\\nsamples = 2\\nvalue = 375000.0'),\n",
       " Text(0.16845425867507888, 0.7285714285714285, 'absolute_error = 0.0\\nsamples = 1\\nvalue = 381000.0'),\n",
       " Text(0.17097791798107256, 0.7285714285714285, 'absolute_error = 0.0\\nsamples = 1\\nvalue = 375000.0'),\n",
       " Text(0.17602523659305994, 0.7571428571428571, 'year_sold <= 2005.5\\nabsolute_error = 8573.684\\nsamples = 10\\nvalue = 340000.0'),\n",
       " Text(0.17350157728706625, 0.7285714285714285, 'property_type_Condo <= 0.5\\nabsolute_error = 1666.667\\nsamples = 2\\nvalue = 325000.0'),\n",
       " Text(0.1722397476340694, 0.7, 'absolute_error = 0.0\\nsamples = 1\\nvalue = 325000.0'),\n",
       " Text(0.1747634069400631, 0.7, 'absolute_error = 0.0\\nsamples = 1\\nvalue = 320000.0'),\n",
       " Text(0.17854889589905362, 0.7285714285714285, 'sqft <= 998.0\\nabsolute_error = 7056.25\\nsamples = 8\\nvalue = 340000.0'),\n",
       " Text(0.17728706624605678, 0.7, 'absolute_error = 0.0\\nsamples = 1\\nvalue = 297000.0'),\n",
       " Text(0.17981072555205047, 0.7, 'property_type_Bunglow <= 0.5\\nabsolute_error = 4660.0\\nsamples = 7\\nvalue = 340000.0'),\n",
       " Text(0.17854889589905362, 0.6714285714285714, 'sqft <= 1069.5\\nabsolute_error = 3564.286\\nsamples = 6\\nvalue = 340000.0'),\n",
       " Text(0.17602523659305994, 0.6428571428571429, 'sqft <= 1049.0\\nabsolute_error = 50.0\\nsamples = 2\\nvalue = 349950.0'),\n",
       " Text(0.1747634069400631, 0.6142857142857143, 'absolute_error = 0.0\\nsamples = 1\\nvalue = 349900.0'),\n",
       " Text(0.17728706624605678, 0.6142857142857143, 'absolute_error = 0.0\\nsamples = 1\\nvalue = 350000.0'),\n",
       " Text(0.1810725552050473, 0.6428571428571429, 'property_age <= 19.5\\nabsolute_error = 2500.0\\nsamples = 4\\nvalue = 340000.0'),\n",
       " Text(0.17981072555205047, 0.6142857142857143, 'absolute_error = 0.0\\nsamples = 1\\nvalue = 342500.0'),\n",
       " Text(0.18233438485804415, 0.6142857142857143, 'property_tax <= 289.5\\nabsolute_error = 3125.0\\nsamples = 3\\nvalue = 340000.0'),\n",
       " Text(0.1810725552050473, 0.5857142857142857, 'popular <= 0.5\\nabsolute_error = 1666.667\\nsamples = 2\\nvalue = 335000.0'),\n",
       " Text(0.17981072555205047, 0.5571428571428572, 'absolute_error = 0.0\\nsamples = 1\\nvalue = 330000.0'),\n",
       " Text(0.18233438485804415, 0.5571428571428572, 'absolute_error = 0.0\\nsamples = 1\\nvalue = 335000.0'),\n",
       " Text(0.18359621451104102, 0.5857142857142857, 'absolute_error = 0.0\\nsamples = 1\\nvalue = 340000.0'),\n",
       " Text(0.1810725552050473, 0.6714285714285714, 'absolute_error = 0.0\\nsamples = 1\\nvalue = 360000.0'),\n",
       " Text(0.19148264984227129, 0.8142857142857143, 'sqft <= 2601.0\\nabsolute_error = 35638.917\\nsamples = 15\\nvalue = 416000.0'),\n",
       " Text(0.18801261829652996, 0.7857142857142857, 'property_tax <= 305.5\\nabsolute_error = 31947.316\\nsamples = 13\\nvalue = 399900.0'),\n",
       " Text(0.18485804416403787, 0.7571428571428571, 'beds <= 3.5\\nabsolute_error = 25627.6\\nsamples = 3\\nvalue = 478040.0'),\n",
       " Text(0.18359621451104102, 0.7285714285714285, 'baths <= 2.5\\nabsolute_error = 24.5\\nsamples = 2\\nvalue = 478064.5'),\n",
       " Text(0.18233438485804415, 0.7, 'absolute_error = 0.0\\nsamples = 1\\nvalue = 478089.0'),\n",
       " Text(0.18485804416403787, 0.7, 'absolute_error = 0.0\\nsamples = 1\\nvalue = 478040.0'),\n",
       " Text(0.1861198738170347, 0.7285714285714285, 'absolute_error = 0.0\\nsamples = 1\\nvalue = 350000.0'),\n",
       " Text(0.19116719242902208, 0.7571428571428571, 'insurance <= 95.0\\nabsolute_error = 17125.071\\nsamples = 10\\nvalue = 397555.0'),\n",
       " Text(0.18990536277602524, 0.7285714285714285, 'lot_size <= 1329.0\\nabsolute_error = 12727.385\\nsamples = 9\\nvalue = 397555.0'),\n",
       " Text(0.18738170347003155, 0.7, 'sqft <= 1905.5\\nabsolute_error = 1224.0\\nsamples = 2\\nvalue = 378672.0'),\n",
       " Text(0.1861198738170347, 0.6714285714285714, 'absolute_error = 0.0\\nsamples = 1\\nvalue = 375000.0'),\n",
       " Text(0.1886435331230284, 0.6714285714285714, 'absolute_error = 0.0\\nsamples = 1\\nvalue = 378672.0'),\n",
       " Text(0.19242902208201892, 0.7, 'insurance <= 84.0\\nabsolute_error = 10513.5\\nsamples = 7\\nvalue = 398727.5'),\n",
       " Text(0.19116719242902208, 0.6714285714285714, 'absolute_error = 0.0\\nsamples = 1\\nvalue = 416000.0'),\n",
       " Text(0.19369085173501577, 0.6714285714285714, 'property_age <= 34.5\\nabsolute_error = 8530.625\\nsamples = 6\\nvalue = 397555.0'),\n",
       " Text(0.19242902208201892, 0.6428571428571429, 'beds <= 3.5\\nabsolute_error = 6527.143\\nsamples = 5\\nvalue = 397555.0'),\n",
       " Text(0.19116719242902208, 0.6142857142857143, 'baths <= 2.5\\nabsolute_error = 3557.5\\nsamples = 4\\nvalue = 397555.0'),\n",
       " Text(0.18990536277602524, 0.5857142857142857, 'year_built <= 1996.0\\nabsolute_error = 2180.0\\nsamples = 3\\nvalue = 397555.0'),\n",
       " Text(0.1886435331230284, 0.5571428571428572, 'year_built <= 1982.5\\nabsolute_error = 586.25\\nsamples = 2\\nvalue = 397555.0'),\n",
       " Text(0.18738170347003155, 0.5285714285714286, 'absolute_error = 0.0\\nsamples = 1\\nvalue = 397555.0'),\n",
       " Text(0.18990536277602524, 0.5285714285714286, 'absolute_error = 0.0\\nsamples = 1\\nvalue = 399900.0'),\n",
       " Text(0.19116719242902208, 0.5571428571428572, 'absolute_error = 0.0\\nsamples = 1\\nvalue = 389000.0'),\n",
       " Text(0.19242902208201892, 0.5857142857142857, 'absolute_error = 0.0\\nsamples = 1\\nvalue = 408000.0'),\n",
       " Text(0.19369085173501577, 0.6142857142857143, 'absolute_error = 0.0\\nsamples = 1\\nvalue = 421900.0'),\n",
       " Text(0.1949526813880126, 0.6428571428571429, 'absolute_error = 0.0\\nsamples = 1\\nvalue = 375000.0'),\n",
       " Text(0.19242902208201892, 0.7285714285714285, 'absolute_error = 0.0\\nsamples = 1\\nvalue = 471850.0'),\n",
       " Text(0.1949526813880126, 0.7857142857142857, 'property_type_Condo <= 0.5\\nabsolute_error = 7102.0\\nsamples = 2\\nvalue = 452145.0'),\n",
       " Text(0.19369085173501577, 0.7571428571428571, 'absolute_error = 0.0\\nsamples = 1\\nvalue = 469900.0'),\n",
       " Text(0.19621451104100945, 0.7571428571428571, 'absolute_error = 0.0\\nsamples = 1\\nvalue = 452145.0'),\n",
       " Text(0.2472422121451104, 0.8714285714285714, 'basement <= 0.5\\nabsolute_error = 33875.094\\nsamples = 86\\nvalue = 300000.0'),\n",
       " Text(0.210410094637224, 0.8428571428571429, 'insurance <= 91.5\\nabsolute_error = 25845.312\\nsamples = 18\\nvalue = 331710.0'),\n",
       " Text(0.2031545741324921, 0.8142857142857143, 'property_type_Condo <= 0.5\\nabsolute_error = 15207.5\\nsamples = 10\\nvalue = 327000.0'),\n",
       " Text(0.2, 0.7857142857142857, 'property_tax <= 323.5\\nabsolute_error = 14000.0\\nsamples = 2\\nvalue = 300000.0'),\n",
       " Text(0.19873817034700317, 0.7571428571428571, 'absolute_error = 0.0\\nsamples = 1\\nvalue = 300000.0'),\n",
       " Text(0.20126182965299685, 0.7571428571428571, 'absolute_error = 0.0\\nsamples = 1\\nvalue = 230000.0'),\n",
       " Text(0.20630914826498423, 0.7857142857142857, 'insurance <= 80.5\\nabsolute_error = 6336.667\\nsamples = 8\\nvalue = 331100.0'),\n",
       " Text(0.20378548895899054, 0.7571428571428571, 'property_tax <= 270.0\\nabsolute_error = 1657.5\\nsamples = 2\\nvalue = 318000.0'),\n",
       " Text(0.2025236593059937, 0.7285714285714285, 'absolute_error = 0.0\\nsamples = 1\\nvalue = 318000.0'),\n",
       " Text(0.20504731861198738, 0.7285714285714285, 'absolute_error = 0.0\\nsamples = 1\\nvalue = 311370.0'),\n",
       " Text(0.2088328075709779, 0.7571428571428571, 'year_sold <= 2011.0\\nabsolute_error = 3163.636\\nsamples = 6\\nvalue = 332320.0'),\n",
       " Text(0.20757097791798107, 0.7285714285714285, 'absolute_error = 0.0\\nsamples = 2\\nvalue = 327000.0'),\n",
       " Text(0.21009463722397476, 0.7285714285714285, 'property_age <= 8.0\\nabsolute_error = 1685.0\\nsamples = 4\\nvalue = 335000.0'),\n",
       " Text(0.20757097791798107, 0.7, 'year_built <= 2008.5\\nabsolute_error = 406.667\\nsamples = 2\\nvalue = 331100.0'),\n",
       " Text(0.20630914826498423, 0.6714285714285714, 'absolute_error = 0.0\\nsamples = 1\\nvalue = 331100.0'),\n",
       " Text(0.2088328075709779, 0.6714285714285714, 'absolute_error = 0.0\\nsamples = 1\\nvalue = 332320.0'),\n",
       " Text(0.21261829652996844, 0.7, 'year_sold <= 2014.5\\nabsolute_error = 400.0\\nsamples = 2\\nvalue = 336000.0'),\n",
       " Text(0.2113564668769716, 0.6714285714285714, 'absolute_error = 0.0\\nsamples = 1\\nvalue = 336000.0'),\n",
       " Text(0.2138801261829653, 0.6714285714285714, 'absolute_error = 0.0\\nsamples = 1\\nvalue = 335000.0'),\n",
       " Text(0.21766561514195584, 0.8142857142857143, 'property_tax <= 365.5\\nabsolute_error = 24608.333\\nsamples = 8\\nvalue = 370000.0'),\n",
       " Text(0.216403785488959, 0.7857142857142857, 'property_age <= 4.5\\nabsolute_error = 16845.455\\nsamples = 7\\nvalue = 375000.0'),\n",
       " Text(0.21514195583596216, 0.7571428571428571, 'absolute_error = 0.0\\nsamples = 1\\nvalue = 299700.0'),\n",
       " Text(0.21766561514195584, 0.7571428571428571, 'property_tax <= 265.5\\nabsolute_error = 11000.0\\nsamples = 6\\nvalue = 375000.0'),\n",
       " Text(0.216403785488959, 0.7285714285714285, 'absolute_error = 0.0\\nsamples = 1\\nvalue = 355000.0'),\n",
       " Text(0.21892744479495269, 0.7285714285714285, 'year_sold <= 2015.5\\nabsolute_error = 7142.857\\nsamples = 5\\nvalue = 375000.0'),\n",
       " Text(0.21766561514195584, 0.7, 'baths <= 1.5\\nabsolute_error = 4166.667\\nsamples = 4\\nvalue = 375000.0'),\n",
       " Text(0.216403785488959, 0.6714285714285714, 'absolute_error = 0.0\\nsamples = 1\\nvalue = 365000.0'),\n",
       " Text(0.21892744479495269, 0.6714285714285714, 'recession <= 0.5\\nabsolute_error = 3000.0\\nsamples = 3\\nvalue = 375000.0'),\n",
       " Text(0.21766561514195584, 0.6428571428571429, 'absolute_error = 0.0\\nsamples = 1\\nvalue = 375000.0'),\n",
       " Text(0.22018927444794953, 0.6428571428571429, 'insurance <= 94.0\\nabsolute_error = 2500.0\\nsamples = 2\\nvalue = 382500.0'),\n",
       " Text(0.21892744479495269, 0.6142857142857143, 'absolute_error = 0.0\\nsamples = 1\\nvalue = 380000.0'),\n",
       " Text(0.22145110410094637, 0.6142857142857143, 'absolute_error = 0.0\\nsamples = 1\\nvalue = 385000.0'),\n",
       " Text(0.22018927444794953, 0.7, 'absolute_error = 0.0\\nsamples = 1\\nvalue = 400000.0'),\n",
       " Text(0.21892744479495269, 0.7857142857142857, 'absolute_error = 0.0\\nsamples = 1\\nvalue = 265000.0'),\n",
       " Text(0.28407432965299684, 0.8428571428571429, 'lot_size <= 8879.5\\nabsolute_error = 31773.123\\nsamples = 68\\nvalue = 290444.5'),\n",
       " Text(0.26783320189274445, 0.8142857142857143, 'year_sold <= 2012.5\\nabsolute_error = 30257.774\\nsamples = 60\\nvalue = 299000.0'),\n",
       " Text(0.2511238170347003, 0.7857142857142857, 'baths <= 2.5\\nabsolute_error = 25421.186\\nsamples = 46\\nvalue = 290000.0'),\n",
       " Text(0.2344242902208202, 0.7571428571428571, 'insurance <= 82.5\\nabsolute_error = 20242.875\\nsamples = 26\\nvalue = 299000.0'),\n",
       " Text(0.22902208201892746, 0.7285714285714285, 'year_sold <= 2011.5\\nabsolute_error = 20134.4\\nsamples = 5\\nvalue = 257000.0'),\n",
       " Text(0.2277602523659306, 0.7, 'sqft <= 2030.0\\nabsolute_error = 14668.0\\nsamples = 4\\nvalue = 257000.0'),\n",
       " Text(0.22649842271293374, 0.6714285714285714, 'year_built <= 1997.0\\nabsolute_error = 7000.0\\nsamples = 3\\nvalue = 257000.0'),\n",
       " Text(0.2252365930599369, 0.6428571428571429, 'property_tax <= 269.0\\nabsolute_error = 1400.0\\nsamples = 2\\nvalue = 257000.0'),\n",
       " Text(0.22397476340694006, 0.6142857142857143, 'absolute_error = 0.0\\nsamples = 1\\nvalue = 250000.0'),\n",
       " Text(0.22649842271293374, 0.6142857142857143, 'absolute_error = 0.0\\nsamples = 1\\nvalue = 257000.0'),\n",
       " Text(0.2277602523659306, 0.6428571428571429, 'absolute_error = 0.0\\nsamples = 1\\nvalue = 236000.0'),\n",
       " Text(0.22902208201892746, 0.6714285714285714, 'absolute_error = 0.0\\nsamples = 1\\nvalue = 325344.0'),\n",
       " Text(0.2302839116719243, 0.7, 'absolute_error = 0.0\\nsamples = 1\\nvalue = 299000.0'),\n",
       " Text(0.23982649842271295, 0.7285714285714285, 'sqft <= 1008.0\\nabsolute_error = 14429.033\\nsamples = 21\\nvalue = 300000.0'),\n",
       " Text(0.23438485804416404, 0.7, 'sqft <= 991.0\\nabsolute_error = 5475.0\\nsamples = 2\\nvalue = 278000.0'),\n",
       " Text(0.2331230283911672, 0.6714285714285714, 'absolute_error = 0.0\\nsamples = 1\\nvalue = 299900.0'),\n",
       " Text(0.23564668769716088, 0.6714285714285714, 'absolute_error = 0.0\\nsamples = 1\\nvalue = 278000.0'),\n",
       " Text(0.24526813880126183, 0.7, 'year_sold <= 2011.5\\nabsolute_error = 14102.731\\nsamples = 19\\nvalue = 300000.0'),\n",
       " Text(0.23817034700315456, 0.6714285714285714, 'year_built <= 1983.5\\nabsolute_error = 10651.0\\nsamples = 16\\nvalue = 300000.0'),\n",
       " Text(0.2302839116719243, 0.6428571428571429, 'lot_size <= 1504.5\\nabsolute_error = 12100.0\\nsamples = 5\\nvalue = 278000.0'),\n",
       " Text(0.22902208201892746, 0.6142857142857143, 'absolute_error = 0.0\\nsamples = 1\\nvalue = 250000.0'),\n",
       " Text(0.23154574132492114, 0.6142857142857143, 'property_tax <= 264.5\\nabsolute_error = 8125.0\\nsamples = 4\\nvalue = 281500.0'),\n",
       " Text(0.2302839116719243, 0.5857142857142857, 'absolute_error = 0.0\\nsamples = 1\\nvalue = 300000.0'),\n",
       " Text(0.232807570977918, 0.5857142857142857, 'recession <= 0.5\\nabsolute_error = 3500.0\\nsamples = 3\\nvalue = 278000.0'),\n",
       " Text(0.23154574132492114, 0.5571428571428572, 'absolute_error = 0.0\\nsamples = 1\\nvalue = 285000.0'),\n",
       " Text(0.23406940063091483, 0.5571428571428572, 'popular <= 0.5\\nabsolute_error = 1750.0\\nsamples = 2\\nvalue = 276250.0'),\n",
       " Text(0.232807570977918, 0.5285714285714286, 'absolute_error = 0.0\\nsamples = 1\\nvalue = 274500.0'),\n",
       " Text(0.23533123028391167, 0.5285714285714286, 'absolute_error = 0.0\\nsamples = 1\\nvalue = 278000.0'),\n",
       " Text(0.24605678233438485, 0.6428571428571429, 'property_type_Bunglow <= 0.5\\nabsolute_error = 7198.188\\nsamples = 11\\nvalue = 300000.0'),\n",
       " Text(0.244794952681388, 0.6142857142857143, 'sqft <= 1477.0\\nabsolute_error = 6512.214\\nsamples = 9\\nvalue = 300000.0'),\n",
       " Text(0.2416403785488959, 0.5857142857142857, 'year_sold <= 2010.5\\nabsolute_error = 3233.333\\nsamples = 6\\nvalue = 300000.0'),\n",
       " Text(0.2391167192429022, 0.5571428571428572, 'insurance <= 93.0\\nabsolute_error = 442.857\\nsamples = 4\\nvalue = 300000.0'),\n",
       " Text(0.23785488958990536, 0.5285714285714286, 'year_built <= 1987.5\\nabsolute_error = 16.667\\nsamples = 3\\nvalue = 300000.0'),\n",
       " Text(0.23659305993690852, 0.5, 'absolute_error = 0.0\\nsamples = 2\\nvalue = 300000.0'),\n",
       " Text(0.2391167192429022, 0.5, 'absolute_error = 0.0\\nsamples = 1\\nvalue = 299900.0'),\n",
       " Text(0.24037854889589905, 0.5285714285714286, 'absolute_error = 0.0\\nsamples = 1\\nvalue = 297000.0'),\n",
       " Text(0.24416403785488958, 0.5571428571428572, 'lot_size <= 720.5\\nabsolute_error = 11000.0\\nsamples = 2\\nvalue = 313000.0'),\n",
       " Text(0.24290220820189273, 0.5285714285714286, 'absolute_error = 0.0\\nsamples = 1\\nvalue = 302000.0'),\n",
       " Text(0.24542586750788645, 0.5285714285714286, 'absolute_error = 0.0\\nsamples = 1\\nvalue = 324000.0'),\n",
       " Text(0.24794952681388013, 0.5857142857142857, 'year_sold <= 2009.0\\nabsolute_error = 9822.2\\nsamples = 3\\nvalue = 304320.0'),\n",
       " Text(0.2466876971608833, 0.5571428571428572, 'absolute_error = 0.0\\nsamples = 1\\nvalue = 340000.0'),\n",
       " Text(0.24921135646687698, 0.5571428571428572, 'property_tax <= 305.5\\nabsolute_error = 3357.75\\nsamples = 2\\nvalue = 304320.0'),\n",
       " Text(0.24794952681388013, 0.5285714285714286, 'absolute_error = 0.0\\nsamples = 1\\nvalue = 290889.0'),\n",
       " Text(0.2504731861198738, 0.5285714285714286, 'absolute_error = 0.0\\nsamples = 1\\nvalue = 304320.0'),\n",
       " Text(0.2473186119873817, 0.6142857142857143, 'absolute_error = 0.0\\nsamples = 2\\nvalue = 290000.0'),\n",
       " Text(0.25236593059936907, 0.6714285714285714, 'beds <= 2.5\\nabsolute_error = 15800.0\\nsamples = 3\\nvalue = 340000.0'),\n",
       " Text(0.25110410094637226, 0.6428571428571429, 'property_age <= 36.0\\nabsolute_error = 11500.0\\nsamples = 2\\nvalue = 300500.0'),\n",
       " Text(0.24984227129337538, 0.6142857142857143, 'absolute_error = 0.0\\nsamples = 1\\nvalue = 289000.0'),\n",
       " Text(0.25236593059936907, 0.6142857142857143, 'absolute_error = 0.0\\nsamples = 1\\nvalue = 312000.0'),\n",
       " Text(0.25362776025236594, 0.6428571428571429, 'absolute_error = 0.0\\nsamples = 1\\nvalue = 340000.0'),\n",
       " Text(0.2678233438485804, 0.7571428571428571, 'insurance <= 92.5\\nabsolute_error = 27933.0\\nsamples = 20\\nvalue = 265000.0'),\n",
       " Text(0.2618296529968454, 0.7285714285714285, 'beds <= 4.5\\nabsolute_error = 23104.737\\nsamples = 12\\nvalue = 240000.0'),\n",
       " Text(0.2605678233438486, 0.7, 'insurance <= 85.0\\nabsolute_error = 17881.765\\nsamples = 11\\nvalue = 235000.0'),\n",
       " Text(0.25741324921135644, 0.6714285714285714, 'insurance <= 81.5\\nabsolute_error = 22331.667\\nsamples = 5\\nvalue = 285000.0'),\n",
       " Text(0.2561514195583596, 0.6428571428571429, 'absolute_error = 0.0\\nsamples = 1\\nvalue = 234000.0'),\n",
       " Text(0.2586750788643533, 0.6428571428571429, 'sqft <= 1770.0\\nabsolute_error = 16598.0\\nsamples = 4\\nvalue = 285000.0'),\n",
       " Text(0.25741324921135644, 0.6142857142857143, 'year_sold <= 2009.5\\nabsolute_error = 8247.5\\nsamples = 3\\nvalue = 289000.0'),\n",
       " Text(0.2561514195583596, 0.5857142857142857, 'absolute_error = 0.0\\nsamples = 1\\nvalue = 309990.0'),\n",
       " Text(0.2586750788643533, 0.5857142857142857, 'year_sold <= 2011.5\\nabsolute_error = 2666.667\\nsamples = 2\\nvalue = 285000.0'),\n",
       " Text(0.25741324921135644, 0.5571428571428572, 'absolute_error = 0.0\\nsamples = 1\\nvalue = 285000.0'),\n",
       " Text(0.2599369085173502, 0.5571428571428572, 'absolute_error = 0.0\\nsamples = 1\\nvalue = 293000.0'),\n",
       " Text(0.2599369085173502, 0.6142857142857143, 'absolute_error = 0.0\\nsamples = 1\\nvalue = 235000.0'),\n",
       " Text(0.2637223974763407, 0.6714285714285714, 'property_age <= 9.0\\nabsolute_error = 6363.636\\nsamples = 6\\nvalue = 235000.0'),\n",
       " Text(0.26246056782334387, 0.6428571428571429, 'absolute_error = 0.0\\nsamples = 2\\nvalue = 225000.0'),\n",
       " Text(0.26498422712933756, 0.6428571428571429, 'sqft <= 1297.0\\nabsolute_error = 5000.0\\nsamples = 4\\nvalue = 237500.0'),\n",
       " Text(0.26246056782334387, 0.6142857142857143, 'year_built <= 1981.5\\nabsolute_error = 1666.667\\nsamples = 2\\nvalue = 235000.0'),\n",
       " Text(0.261198738170347, 0.5857142857142857, 'absolute_error = 0.0\\nsamples = 1\\nvalue = 240000.0'),\n",
       " Text(0.2637223974763407, 0.5857142857142857, 'absolute_error = 0.0\\nsamples = 1\\nvalue = 235000.0'),\n",
       " Text(0.26750788643533124, 0.6142857142857143, 'sqft <= 1424.0\\nabsolute_error = 1000.0\\nsamples = 2\\nvalue = 250000.0'),\n",
       " Text(0.2662460567823344, 0.5857142857142857, 'absolute_error = 0.0\\nsamples = 1\\nvalue = 249000.0'),\n",
       " Text(0.26876971608832806, 0.5857142857142857, 'absolute_error = 0.0\\nsamples = 1\\nvalue = 251000.0'),\n",
       " Text(0.2630914826498423, 0.7, 'absolute_error = 0.0\\nsamples = 1\\nvalue = 305000.0'),\n",
       " Text(0.27381703470031543, 0.7285714285714285, 'sqft <= 1816.0\\nabsolute_error = 15363.636\\nsamples = 8\\nvalue = 290000.0'),\n",
       " Text(0.2725552050473186, 0.7, 'property_tax <= 313.0\\nabsolute_error = 12666.667\\nsamples = 6\\nvalue = 295000.0'),\n",
       " Text(0.27129337539432175, 0.6714285714285714, 'absolute_error = 0.0\\nsamples = 1\\nvalue = 236000.0'),\n",
       " Text(0.27381703470031543, 0.6714285714285714, 'property_age <= 9.5\\nabsolute_error = 6875.0\\nsamples = 5\\nvalue = 295000.0'),\n",
       " Text(0.27129337539432175, 0.6428571428571429, 'beds <= 3.5\\nabsolute_error = 1666.667\\nsamples = 2\\nvalue = 305000.0'),\n",
       " Text(0.27003154574132493, 0.6142857142857143, 'absolute_error = 0.0\\nsamples = 1\\nvalue = 305000.0'),\n",
       " Text(0.2725552050473186, 0.6142857142857143, 'absolute_error = 0.0\\nsamples = 1\\nvalue = 300000.0'),\n",
       " Text(0.2763406940063092, 0.6428571428571429, 'property_age <= 20.0\\nabsolute_error = 5000.0\\nsamples = 3\\nvalue = 290000.0'),\n",
       " Text(0.2750788643533123, 0.6142857142857143, 'absolute_error = 0.0\\nsamples = 1\\nvalue = 275000.0'),\n",
       " Text(0.277602523659306, 0.6142857142857143, 'property_tax <= 317.0\\nabsolute_error = 2500.0\\nsamples = 2\\nvalue = 292500.0'),\n",
       " Text(0.2763406940063092, 0.5857142857142857, 'absolute_error = 0.0\\nsamples = 1\\nvalue = 290000.0'),\n",
       " Text(0.27886435331230286, 0.5857142857142857, 'absolute_error = 0.0\\nsamples = 1\\nvalue = 295000.0'),\n",
       " Text(0.2750788643533123, 0.7, 'absolute_error = 0.0\\nsamples = 2\\nvalue = 265000.0'),\n",
       " Text(0.28454258675078864, 0.7857142857142857, 'lot_size <= 1694.0\\nabsolute_error = 23416.652\\nsamples = 14\\nvalue = 332271.0'),\n",
       " Text(0.28138801261829655, 0.7571428571428571, 'popular <= 0.5\\nabsolute_error = 7435.75\\nsamples = 6\\nvalue = 350000.0'),\n",
       " Text(0.2801261829652997, 0.7285714285714285, 'baths <= 1.5\\nabsolute_error = 4929.909\\nsamples = 5\\nvalue = 350000.0'),\n",
       " Text(0.27886435331230286, 0.7, 'absolute_error = 0.0\\nsamples = 1\\nvalue = 371500.0'),\n",
       " Text(0.28138801261829655, 0.7, 'year_sold <= 2014.5\\nabsolute_error = 3272.9\\nsamples = 4\\nvalue = 350000.0'),\n",
       " Text(0.2801261829652997, 0.6714285714285714, 'lot_size <= 1495.5\\nabsolute_error = 1666.667\\nsamples = 3\\nvalue = 350000.0'),\n",
       " Text(0.27886435331230286, 0.6428571428571429, 'absolute_error = 0.0\\nsamples = 2\\nvalue = 350000.0'),\n",
       " Text(0.28138801261829655, 0.6428571428571429, 'absolute_error = 0.0\\nsamples = 1\\nvalue = 355000.0'),\n",
       " Text(0.28264984227129336, 0.6714285714285714, 'absolute_error = 0.0\\nsamples = 1\\nvalue = 332271.0'),\n",
       " Text(0.28264984227129336, 0.7285714285714285, 'absolute_error = 0.0\\nsamples = 1\\nvalue = 315000.0'),\n",
       " Text(0.28769716088328073, 0.7571428571428571, 'property_tax <= 333.0\\nabsolute_error = 39227.0\\nsamples = 8\\nvalue = 324999.0'),\n",
       " Text(0.2864353312302839, 0.7285714285714285, 'insurance <= 81.0\\nabsolute_error = 11714.889\\nsamples = 7\\nvalue = 324999.0'),\n",
       " Text(0.28517350157728705, 0.7, 'absolute_error = 0.0\\nsamples = 1\\nvalue = 280000.0'),\n",
       " Text(0.28769716088328073, 0.7, 'insurance <= 92.5\\nabsolute_error = 7554.375\\nsamples = 6\\nvalue = 324999.0'),\n",
       " Text(0.2864353312302839, 0.6714285714285714, 'sqft <= 1627.0\\nabsolute_error = 5398.571\\nsamples = 5\\nvalue = 324999.0'),\n",
       " Text(0.28391167192429023, 0.6428571428571429, 'property_age <= 44.0\\nabsolute_error = 2000.4\\nsamples = 3\\nvalue = 324999.0'),\n",
       " Text(0.28264984227129336, 0.6142857142857143, 'absolute_error = 0.0\\nsamples = 2\\nvalue = 330000.0'),\n",
       " Text(0.28517350157728705, 0.6142857142857143, 'absolute_error = 0.0\\nsamples = 1\\nvalue = 324999.0'),\n",
       " Text(0.2889589905362776, 0.6428571428571429, 'insurance <= 85.0\\nabsolute_error = 3795.0\\nsamples = 2\\nvalue = 311105.0'),\n",
       " Text(0.28769716088328073, 0.6142857142857143, 'absolute_error = 0.0\\nsamples = 1\\nvalue = 314900.0'),\n",
       " Text(0.2902208201892745, 0.6142857142857143, 'absolute_error = 0.0\\nsamples = 1\\nvalue = 307310.0'),\n",
       " Text(0.2889589905362776, 0.6714285714285714, 'absolute_error = 0.0\\nsamples = 1\\nvalue = 347644.0'),\n",
       " Text(0.2889589905362776, 0.7285714285714285, 'absolute_error = 0.0\\nsamples = 1\\nvalue = 246677.0'),\n",
       " Text(0.3003154574132492, 0.8142857142857143, 'year_sold <= 2014.0\\nabsolute_error = 26684.615\\nsamples = 8\\nvalue = 269900.0'),\n",
       " Text(0.29779179810725553, 0.7857142857142857, 'property_tax <= 360.0\\nabsolute_error = 17020.0\\nsamples = 6\\nvalue = 270450.0'),\n",
       " Text(0.29652996845425866, 0.7571428571428571, 'property_age <= 36.0\\nabsolute_error = 9775.0\\nsamples = 5\\nvalue = 271000.0'),\n",
       " Text(0.294006309148265, 0.7285714285714285, 'insurance <= 85.0\\nabsolute_error = 12000.0\\nsamples = 3\\nvalue = 285000.0'),\n",
       " Text(0.29274447949526816, 0.7, 'property_age <= 26.5\\nabsolute_error = 7666.667\\nsamples = 2\\nvalue = 285000.0'),\n",
       " Text(0.2914826498422713, 0.6714285714285714, 'absolute_error = 0.0\\nsamples = 1\\nvalue = 262000.0'),\n",
       " Text(0.294006309148265, 0.6714285714285714, 'absolute_error = 0.0\\nsamples = 1\\nvalue = 285000.0'),\n",
       " Text(0.29526813880126185, 0.7, 'absolute_error = 0.0\\nsamples = 1\\nvalue = 310000.0'),\n",
       " Text(0.29905362776025235, 0.7285714285714285, 'insurance <= 89.5\\nabsolute_error = 550.0\\nsamples = 2\\nvalue = 270450.0'),\n",
       " Text(0.29779179810725553, 0.7, 'absolute_error = 0.0\\nsamples = 1\\nvalue = 271000.0'),\n",
       " Text(0.3003154574132492, 0.7, 'absolute_error = 0.0\\nsamples = 1\\nvalue = 269900.0'),\n",
       " Text(0.29905362776025235, 0.7571428571428571, 'absolute_error = 0.0\\nsamples = 1\\nvalue = 225000.0'),\n",
       " Text(0.3028391167192429, 0.7857142857142857, 'beds <= 3.5\\nabsolute_error = 5500.0\\nsamples = 2\\nvalue = 216500.0'),\n",
       " Text(0.30157728706624604, 0.7571428571428571, 'absolute_error = 0.0\\nsamples = 1\\nvalue = 200000.0'),\n",
       " Text(0.3041009463722397, 0.7571428571428571, 'absolute_error = 0.0\\nsamples = 1\\nvalue = 216500.0'),\n",
       " Text(0.4125566837539432, 0.9285714285714286, 'year_sold <= 2003.5\\nabsolute_error = 60188.147\\nsamples = 270\\nvalue = 385000.0'),\n",
       " Text(0.33257097791798107, 0.9, 'year_sold <= 2000.5\\nabsolute_error = 45942.21\\nsamples = 38\\nvalue = 292605.0'),\n",
       " Text(0.31514195583596216, 0.8714285714285714, 'year_sold <= 1999.5\\nabsolute_error = 27688.0\\nsamples = 15\\nvalue = 218250.0'),\n",
       " Text(0.30977917981072556, 0.8428571428571429, 'insurance <= 103.5\\nabsolute_error = 16829.615\\nsamples = 9\\nvalue = 215000.0'),\n",
       " Text(0.3085173501577287, 0.8142857142857143, 'absolute_error = 0.0\\nsamples = 1\\nvalue = 349900.0'),\n",
       " Text(0.3110410094637224, 0.8142857142857143, 'year_built <= 1974.5\\nabsolute_error = 6990.417\\nsamples = 8\\nvalue = 214500.0'),\n",
       " Text(0.3078864353312303, 0.7857142857142857, 'year_built <= 1967.5\\nabsolute_error = 1000.0\\nsamples = 2\\nvalue = 207000.0'),\n",
       " Text(0.30662460567823346, 0.7571428571428571, 'absolute_error = 0.0\\nsamples = 1\\nvalue = 210000.0'),\n",
       " Text(0.30914826498422715, 0.7571428571428571, 'absolute_error = 0.0\\nsamples = 1\\nvalue = 207000.0'),\n",
       " Text(0.3141955835962145, 0.7857142857142857, 'insurance <= 130.5\\nabsolute_error = 6987.222\\nsamples = 6\\nvalue = 215000.0'),\n",
       " Text(0.31167192429022084, 0.7571428571428571, 'beds <= 2.5\\nabsolute_error = 2892.143\\nsamples = 4\\nvalue = 215000.0'),\n",
       " Text(0.31041009463722397, 0.7285714285714285, 'absolute_error = 0.0\\nsamples = 1\\nvalue = 203255.0'),\n",
       " Text(0.31293375394321765, 0.7285714285714285, 'property_age <= 0.5\\nabsolute_error = 1416.667\\nsamples = 3\\nvalue = 215000.0'),\n",
       " Text(0.31167192429022084, 0.7, 'absolute_error = 0.0\\nsamples = 1\\nvalue = 218250.0'),\n",
       " Text(0.3141955835962145, 0.7, 'year_sold <= 1998.0\\nabsolute_error = 500.0\\nsamples = 2\\nvalue = 214500.0'),\n",
       " Text(0.31293375394321765, 0.6714285714285714, 'absolute_error = 0.0\\nsamples = 1\\nvalue = 214000.0'),\n",
       " Text(0.31545741324921134, 0.6714285714285714, 'absolute_error = 0.0\\nsamples = 1\\nvalue = 215000.0'),\n",
       " Text(0.3167192429022082, 0.7571428571428571, 'property_tax <= 438.0\\nabsolute_error = 11320.0\\nsamples = 2\\nvalue = 236320.0'),\n",
       " Text(0.31545741324921134, 0.7285714285714285, 'absolute_error = 0.0\\nsamples = 1\\nvalue = 247640.0'),\n",
       " Text(0.317981072555205, 0.7285714285714285, 'absolute_error = 0.0\\nsamples = 1\\nvalue = 225000.0'),\n",
       " Text(0.3205047318611987, 0.8428571428571429, 'sqft <= 1721.0\\nabsolute_error = 22839.778\\nsamples = 6\\nvalue = 271135.0'),\n",
       " Text(0.317981072555205, 0.8142857142857143, 'property_type_Bunglow <= 0.5\\nabsolute_error = 8333.333\\nsamples = 2\\nvalue = 205000.0'),\n",
       " Text(0.3167192429022082, 0.7857142857142857, 'absolute_error = 0.0\\nsamples = 1\\nvalue = 230000.0'),\n",
       " Text(0.3192429022082019, 0.7857142857142857, 'absolute_error = 0.0\\nsamples = 1\\nvalue = 205000.0'),\n",
       " Text(0.32302839116719245, 0.8142857142857143, 'lot_size <= 5608.0\\nabsolute_error = 5358.833\\nsamples = 4\\nvalue = 272068.0'),\n",
       " Text(0.3217665615141956, 0.7857142857142857, 'absolute_error = 0.0\\nsamples = 1\\nvalue = 296000.0'),\n",
       " Text(0.32429022082018927, 0.7857142857142857, 'beds <= 3.5\\nabsolute_error = 1457.6\\nsamples = 3\\nvalue = 271135.0'),\n",
       " Text(0.32302839116719245, 0.7571428571428571, 'absolute_error = 0.0\\nsamples = 1\\nvalue = 273001.0'),\n",
       " Text(0.32555205047318614, 0.7571428571428571, 'baths <= 2.5\\nabsolute_error = 1185.333\\nsamples = 2\\nvalue = 271135.0'),\n",
       " Text(0.32429022082018927, 0.7285714285714285, 'absolute_error = 0.0\\nsamples = 1\\nvalue = 271135.0'),\n",
       " Text(0.32681388012618295, 0.7285714285714285, 'absolute_error = 0.0\\nsamples = 1\\nvalue = 267579.0'),\n",
       " Text(0.35, 0.8714285714285714, 'year_sold <= 2002.5\\nabsolute_error = 30279.525\\nsamples = 23\\nvalue = 318245.0'),\n",
       " Text(0.3416403785488959, 0.8428571428571429, 'property_age <= 11.0\\nabsolute_error = 31101.722\\nsamples = 12\\nvalue = 289072.5'),\n",
       " Text(0.3362776025236593, 0.8142857142857143, 'insurance <= 127.0\\nabsolute_error = 27188.182\\nsamples = 7\\nvalue = 307601.0'),\n",
       " Text(0.3331230283911672, 0.7857142857142857, 'insurance <= 110.0\\nabsolute_error = 12141.375\\nsamples = 5\\nvalue = 292605.0'),\n",
       " Text(0.3305993690851735, 0.7571428571428571, 'property_tax <= 364.0\\nabsolute_error = 8001.333\\nsamples = 3\\nvalue = 321610.0'),\n",
       " Text(0.32933753943217664, 0.7285714285714285, 'absolute_error = 0.0\\nsamples = 1\\nvalue = 307601.0'),\n",
       " Text(0.3318611987381703, 0.7285714285714285, 'beds <= 4.0\\nabsolute_error = 4997.5\\nsamples = 2\\nvalue = 326607.5'),\n",
       " Text(0.3305993690851735, 0.7, 'absolute_error = 0.0\\nsamples = 1\\nvalue = 321610.0'),\n",
       " Text(0.3331230283911672, 0.7, 'absolute_error = 0.0\\nsamples = 1\\nvalue = 331605.0'),\n",
       " Text(0.3356466876971609, 0.7571428571428571, 'property_age <= 0.5\\nabsolute_error = 2826.0\\nsamples = 2\\nvalue = 292605.0'),\n",
       " Text(0.334384858044164, 0.7285714285714285, 'absolute_error = 0.0\\nsamples = 1\\nvalue = 285540.0'),\n",
       " Text(0.33690851735015775, 0.7285714285714285, 'absolute_error = 0.0\\nsamples = 1\\nvalue = 292605.0'),\n",
       " Text(0.33943217665615144, 0.7857142857142857, 'beds <= 3.5\\nabsolute_error = 5016.667\\nsamples = 2\\nvalue = 359900.0'),\n",
       " Text(0.33817034700315457, 0.7571428571428571, 'absolute_error = 0.0\\nsamples = 1\\nvalue = 359900.0'),\n",
       " Text(0.34069400630914826, 0.7571428571428571, 'absolute_error = 0.0\\nsamples = 1\\nvalue = 374950.0'),\n",
       " Text(0.3470031545741325, 0.8142857142857143, 'sqft <= 1743.0\\nabsolute_error = 16761.429\\nsamples = 5\\nvalue = 260000.0'),\n",
       " Text(0.3444794952681388, 0.7857142857142857, 'insurance <= 114.5\\nabsolute_error = 11107.5\\nsamples = 3\\nvalue = 248500.0'),\n",
       " Text(0.34321766561514194, 0.7571428571428571, 'year_built <= 1971.0\\nabsolute_error = 3833.333\\nsamples = 2\\nvalue = 248500.0'),\n",
       " Text(0.3419558359621451, 0.7285714285714285, 'absolute_error = 0.0\\nsamples = 1\\nvalue = 260000.0'),\n",
       " Text(0.3444794952681388, 0.7285714285714285, 'absolute_error = 0.0\\nsamples = 1\\nvalue = 248500.0'),\n",
       " Text(0.34574132492113563, 0.7571428571428571, 'absolute_error = 0.0\\nsamples = 1\\nvalue = 215570.0'),\n",
       " Text(0.3495268138801262, 0.7857142857142857, 'year_built <= 1977.5\\nabsolute_error = 1633.333\\nsamples = 2\\nvalue = 275000.0'),\n",
       " Text(0.3482649842271293, 0.7571428571428571, 'absolute_error = 0.0\\nsamples = 1\\nvalue = 275000.0'),\n",
       " Text(0.350788643533123, 0.7571428571428571, 'absolute_error = 0.0\\nsamples = 1\\nvalue = 279900.0'),\n",
       " Text(0.3583596214511041, 0.8428571428571429, 'insurance <= 112.5\\nabsolute_error = 21008.273\\nsamples = 11\\nvalue = 323500.0'),\n",
       " Text(0.35331230283911674, 0.8142857142857143, 'sqft <= 1296.5\\nabsolute_error = 8237.143\\nsamples = 7\\nvalue = 318745.0'),\n",
       " Text(0.35205047318611987, 0.7857142857142857, 'absolute_error = 0.0\\nsamples = 1\\nvalue = 280000.0'),\n",
       " Text(0.35457413249211356, 0.7857142857142857, 'lot_size <= 1650.5\\nabsolute_error = 5832.308\\nsamples = 6\\nvalue = 319500.0'),\n",
       " Text(0.35331230283911674, 0.7571428571428571, 'absolute_error = 0.0\\nsamples = 1\\nvalue = 315500.0'),\n",
       " Text(0.35583596214511043, 0.7571428571428571, 'insurance <= 109.0\\nabsolute_error = 5313.333\\nsamples = 5\\nvalue = 323500.0'),\n",
       " Text(0.35457413249211356, 0.7285714285714285, 'absolute_error = 0.0\\nsamples = 2\\nvalue = 339900.0'),\n",
       " Text(0.35709779179810724, 0.7285714285714285, 'lot_size <= 1870.0\\nabsolute_error = 2145.714\\nsamples = 3\\nvalue = 323500.0'),\n",
       " Text(0.35583596214511043, 0.7, 'absolute_error = 0.0\\nsamples = 1\\nvalue = 323500.0'),\n",
       " Text(0.3583596214511041, 0.7, 'insurance <= 111.5\\nabsolute_error = 503.333\\nsamples = 2\\nvalue = 317990.0'),\n",
       " Text(0.35709779179810724, 0.6714285714285714, 'absolute_error = 0.0\\nsamples = 1\\nvalue = 317990.0'),\n",
       " Text(0.35962145110410093, 0.6714285714285714, 'absolute_error = 0.0\\nsamples = 1\\nvalue = 319500.0'),\n",
       " Text(0.3634069400630915, 0.8142857142857143, 'baths <= 3.5\\nabsolute_error = 19107.75\\nsamples = 4\\nvalue = 370000.0'),\n",
       " Text(0.3621451104100946, 0.7857142857142857, 'lot_size <= 7433.0\\nabsolute_error = 8310.333\\nsamples = 3\\nvalue = 374931.0'),\n",
       " Text(0.3608832807570978, 0.7571428571428571, 'lot_size <= 3959.5\\nabsolute_error = 2465.5\\nsamples = 2\\nvalue = 370000.0'),\n",
       " Text(0.35962145110410093, 0.7285714285714285, 'absolute_error = 0.0\\nsamples = 1\\nvalue = 370000.0'),\n",
       " Text(0.3621451104100946, 0.7285714285714285, 'absolute_error = 0.0\\nsamples = 1\\nvalue = 379862.0'),\n",
       " Text(0.3634069400630915, 0.7571428571428571, 'absolute_error = 0.0\\nsamples = 1\\nvalue = 390000.0'),\n",
       " Text(0.3646687697160883, 0.7857142857142857, 'absolute_error = 0.0\\nsamples = 1\\nvalue = 318500.0'),\n",
       " Text(0.49254238958990537, 0.9, 'insurance <= 110.5\\nabsolute_error = 52647.041\\nsamples = 232\\nvalue = 398000.0'),\n",
       " Text(0.42144124605678235, 0.8714285714285714, 'property_age <= 28.5\\nabsolute_error = 46526.199\\nsamples = 111\\nvalue = 381000.0'),\n",
       " Text(0.3905362776025237, 0.8428571428571429, 'lot_size <= 1603.5\\nabsolute_error = 42134.24\\nsamples = 63\\nvalue = 387700.0'),\n",
       " Text(0.3722397476340694, 0.8142857142857143, 'property_age <= 6.5\\nabsolute_error = 22675.758\\nsamples = 20\\nvalue = 378000.0'),\n",
       " Text(0.36719242902208205, 0.7857142857142857, 'property_type_Condo <= 0.5\\nabsolute_error = 12633.333\\nsamples = 6\\nvalue = 350000.0'),\n",
       " Text(0.3659305993690852, 0.7571428571428571, 'absolute_error = 0.0\\nsamples = 1\\nvalue = 295000.0'),\n",
       " Text(0.36845425867507886, 0.7571428571428571, 'sqft <= 760.5\\nabsolute_error = 7337.5\\nsamples = 5\\nvalue = 352500.0'),\n",
       " Text(0.3659305993690852, 0.7285714285714285, 'sqft <= 732.5\\nabsolute_error = 5925.0\\nsamples = 3\\nvalue = 359350.0'),\n",
       " Text(0.3646687697160883, 0.7, 'insurance <= 105.0\\nabsolute_error = 3150.0\\nsamples = 2\\nvalue = 366850.0'),\n",
       " Text(0.3634069400630915, 0.6714285714285714, 'absolute_error = 0.0\\nsamples = 1\\nvalue = 363700.0'),\n",
       " Text(0.3659305993690852, 0.6714285714285714, 'absolute_error = 0.0\\nsamples = 1\\nvalue = 370000.0'),\n",
       " Text(0.36719242902208205, 0.7, 'absolute_error = 0.0\\nsamples = 1\\nvalue = 355000.0'),\n",
       " Text(0.37097791798107255, 0.7285714285714285, 'basement <= 0.5\\nabsolute_error = 1250.0\\nsamples = 2\\nvalue = 345000.0'),\n",
       " Text(0.36971608832807573, 0.7, 'absolute_error = 0.0\\nsamples = 1\\nvalue = 345000.0'),\n",
       " Text(0.3722397476340694, 0.7, 'absolute_error = 0.0\\nsamples = 1\\nvalue = 350000.0'),\n",
       " Text(0.3772870662460568, 0.7857142857142857, 'sqft <= 1950.5\\nabsolute_error = 18833.333\\nsamples = 14\\nvalue = 383000.0'),\n",
       " Text(0.3760252365930599, 0.7571428571428571, 'year_built <= 1981.0\\nabsolute_error = 15956.522\\nsamples = 13\\nvalue = 385000.0'),\n",
       " Text(0.3747634069400631, 0.7285714285714285, 'absolute_error = 0.0\\nsamples = 1\\nvalue = 310000.0'),\n",
       " Text(0.3772870662460568, 0.7285714285714285, 'property_age <= 11.5\\nabsolute_error = 13272.727\\nsamples = 12\\nvalue = 385000.0'),\n",
       " Text(0.3747634069400631, 0.7, 'property_tax <= 329.0\\nabsolute_error = 3833.333\\nsamples = 2\\nvalue = 405000.0'),\n",
       " Text(0.37350157728706623, 0.6714285714285714, 'absolute_error = 0.0\\nsamples = 1\\nvalue = 405000.0'),\n",
       " Text(0.3760252365930599, 0.6714285714285714, 'absolute_error = 0.0\\nsamples = 1\\nvalue = 393500.0'),\n",
       " Text(0.3798107255520505, 0.7, 'property_age <= 14.0\\nabsolute_error = 12605.263\\nsamples = 10\\nvalue = 381000.0'),\n",
       " Text(0.3785488958990536, 0.6714285714285714, 'absolute_error = 0.0\\nsamples = 1\\nvalue = 310000.0'),\n",
       " Text(0.3810725552050473, 0.6714285714285714, 'popular <= 0.5\\nabsolute_error = 9361.111\\nsamples = 9\\nvalue = 383000.0'),\n",
       " Text(0.3798107255520505, 0.6428571428571429, 'beds <= 2.5\\nabsolute_error = 6382.353\\nsamples = 8\\nvalue = 385000.0'),\n",
       " Text(0.3785488958990536, 0.6142857142857143, 'absolute_error = 0.0\\nsamples = 1\\nvalue = 416000.0'),\n",
       " Text(0.3810725552050473, 0.6142857142857143, 'sqft <= 1704.0\\nabsolute_error = 4843.75\\nsamples = 7\\nvalue = 383000.0'),\n",
       " Text(0.3798107255520505, 0.5857142857142857, 'year_built <= 1982.5\\nabsolute_error = 3653.846\\nsamples = 6\\nvalue = 385000.0'),\n",
       " Text(0.3785488958990536, 0.5571428571428572, 'absolute_error = 0.0\\nsamples = 1\\nvalue = 378000.0'),\n",
       " Text(0.3810725552050473, 0.5571428571428572, 'lot_size <= 650.0\\nabsolute_error = 3045.455\\nsamples = 5\\nvalue = 385000.0'),\n",
       " Text(0.3798107255520505, 0.5285714285714286, 'absolute_error = 0.0\\nsamples = 1\\nvalue = 381000.0'),\n",
       " Text(0.38233438485804416, 0.5285714285714286, 'recession <= 0.5\\nabsolute_error = 2562.5\\nsamples = 4\\nvalue = 385500.0'),\n",
       " Text(0.3810725552050473, 0.5, 'insurance <= 107.5\\nabsolute_error = 2285.714\\nsamples = 3\\nvalue = 385500.0'),\n",
       " Text(0.3798107255520505, 0.4714285714285714, 'property_tax <= 337.0\\nabsolute_error = 3625.0\\nsamples = 2\\nvalue = 385500.0'),\n",
       " Text(0.3785488958990536, 0.44285714285714284, 'absolute_error = 0.0\\nsamples = 1\\nvalue = 385500.0'),\n",
       " Text(0.3810725552050473, 0.44285714285714284, 'absolute_error = 0.0\\nsamples = 1\\nvalue = 400000.0'),\n",
       " Text(0.38233438485804416, 0.4714285714285714, 'absolute_error = 0.0\\nsamples = 1\\nvalue = 385000.0'),\n",
       " Text(0.38359621451104103, 0.5, 'absolute_error = 0.0\\nsamples = 1\\nvalue = 390000.0'),\n",
       " Text(0.38233438485804416, 0.5857142857142857, 'absolute_error = 0.0\\nsamples = 1\\nvalue = 375000.0'),\n",
       " Text(0.38233438485804416, 0.6428571428571429, 'absolute_error = 0.0\\nsamples = 1\\nvalue = 325000.0'),\n",
       " Text(0.3785488958990536, 0.7571428571428571, 'absolute_error = 0.0\\nsamples = 1\\nvalue = 300000.0'),\n",
       " Text(0.4088328075709779, 0.8142857142857143, 'year_sold <= 2007.5\\nabsolute_error = 48304.775\\nsamples = 43\\nvalue = 399600.0'),\n",
       " Text(0.40078864353312305, 0.7857142857142857, 'baths <= 3.5\\nabsolute_error = 38290.522\\nsamples = 19\\nvalue = 435000.0'),\n",
       " Text(0.3965299684542587, 0.7571428571428571, 'year_built <= 2004.5\\nabsolute_error = 27964.1\\nsamples = 17\\nvalue = 426000.0'),\n",
       " Text(0.3917981072555205, 0.7285714285714285, 'sqft <= 1391.0\\nabsolute_error = 19200.0\\nsamples = 11\\nvalue = 414000.0'),\n",
       " Text(0.3905362776025237, 0.7, 'absolute_error = 0.0\\nsamples = 1\\nvalue = 469500.0'),\n",
       " Text(0.39305993690851737, 0.7, 'property_tax <= 402.5\\nabsolute_error = 16263.636\\nsamples = 10\\nvalue = 414000.0'),\n",
       " Text(0.3899053627760252, 0.6714285714285714, 'property_tax <= 331.5\\nabsolute_error = 11766.667\\nsamples = 8\\nvalue = 414000.0'),\n",
       " Text(0.38738170347003154, 0.6428571428571429, 'sqft <= 1715.0\\nabsolute_error = 6700.0\\nsamples = 3\\nvalue = 407200.0'),\n",
       " Text(0.3861198738170347, 0.6142857142857143, 'year_built <= 1985.0\\nabsolute_error = 1400.0\\nsamples = 2\\nvalue = 408600.0'),\n",
       " Text(0.38485804416403785, 0.5857142857142857, 'absolute_error = 0.0\\nsamples = 1\\nvalue = 410000.0'),\n",
       " Text(0.38738170347003154, 0.5857142857142857, 'absolute_error = 0.0\\nsamples = 1\\nvalue = 407200.0'),\n",
       " Text(0.3886435331230284, 0.6142857142857143, 'absolute_error = 0.0\\nsamples = 1\\nvalue = 389900.0'),\n",
       " Text(0.3924290220820189, 0.6428571428571429, 'lot_size <= 9582.5\\nabsolute_error = 8166.667\\nsamples = 5\\nvalue = 426000.0'),\n",
       " Text(0.3911671924290221, 0.6142857142857143, 'property_age <= 5.5\\nabsolute_error = 5750.0\\nsamples = 4\\nvalue = 431000.0'),\n",
       " Text(0.3899053627760252, 0.5857142857142857, 'absolute_error = 0.0\\nsamples = 1\\nvalue = 440000.0'),\n",
       " Text(0.3924290220820189, 0.5857142857142857, 'lot_size <= 1875.0\\nabsolute_error = 3333.333\\nsamples = 3\\nvalue = 427000.0'),\n",
       " Text(0.3911671924290221, 0.5571428571428572, 'absolute_error = 0.0\\nsamples = 1\\nvalue = 435000.0'),\n",
       " Text(0.3936908517350158, 0.5571428571428572, 'baths <= 2.5\\nabsolute_error = 1000.0\\nsamples = 2\\nvalue = 426000.0'),\n",
       " Text(0.3924290220820189, 0.5285714285714286, 'absolute_error = 0.0\\nsamples = 1\\nvalue = 425000.0'),\n",
       " Text(0.3949526813880126, 0.5285714285714286, 'absolute_error = 0.0\\nsamples = 1\\nvalue = 427000.0'),\n",
       " Text(0.3936908517350158, 0.6142857142857143, 'absolute_error = 0.0\\nsamples = 1\\nvalue = 414000.0'),\n",
       " Text(0.39621451104100947, 0.6714285714285714, 'property_type_Condo <= 0.5\\nabsolute_error = 10500.0\\nsamples = 2\\nvalue = 379500.0'),\n",
       " Text(0.3949526813880126, 0.6428571428571429, 'absolute_error = 0.0\\nsamples = 1\\nvalue = 390000.0'),\n",
       " Text(0.39747634069400634, 0.6428571428571429, 'absolute_error = 0.0\\nsamples = 1\\nvalue = 369000.0'),\n",
       " Text(0.40126182965299684, 0.7285714285714285, 'lot_size <= 1960.0\\nabsolute_error = 25860.25\\nsamples = 6\\nvalue = 450837.5'),\n",
       " Text(0.4, 0.7, 'absolute_error = 0.0\\nsamples = 1\\nvalue = 496876.0'),\n",
       " Text(0.4025236593059937, 0.7, 'sqft <= 2927.0\\nabsolute_error = 18855.0\\nsamples = 5\\nvalue = 450000.0'),\n",
       " Text(0.40126182965299684, 0.6714285714285714, 'sqft <= 809.5\\nabsolute_error = 12546.0\\nsamples = 4\\nvalue = 450000.0'),\n",
       " Text(0.4, 0.6428571428571429, 'absolute_error = 0.0\\nsamples = 1\\nvalue = 409575.0'),\n",
       " Text(0.4025236593059937, 0.6428571428571429, 'property_tax <= 345.5\\nabsolute_error = 5576.25\\nsamples = 3\\nvalue = 450837.5'),\n",
       " Text(0.40126182965299684, 0.6142857142857143, 'absolute_error = 0.0\\nsamples = 1\\nvalue = 470630.0'),\n",
       " Text(0.4037854889589905, 0.6142857142857143, 'property_type_Bunglow <= 0.5\\nabsolute_error = 558.333\\nsamples = 2\\nvalue = 450000.0'),\n",
       " Text(0.4025236593059937, 0.5857142857142857, 'absolute_error = 0.0\\nsamples = 1\\nvalue = 451675.0'),\n",
       " Text(0.4050473186119874, 0.5857142857142857, 'absolute_error = 0.0\\nsamples = 1\\nvalue = 450000.0'),\n",
       " Text(0.4037854889589905, 0.6714285714285714, 'absolute_error = 0.0\\nsamples = 1\\nvalue = 399600.0'),\n",
       " Text(0.4050473186119874, 0.7571428571428571, 'property_type_Bunglow <= 0.5\\nabsolute_error = 5650.0\\nsamples = 2\\nvalue = 542450.0'),\n",
       " Text(0.4037854889589905, 0.7285714285714285, 'absolute_error = 0.0\\nsamples = 1\\nvalue = 525500.0'),\n",
       " Text(0.4063091482649842, 0.7285714285714285, 'absolute_error = 0.0\\nsamples = 1\\nvalue = 542450.0'),\n",
       " Text(0.4168769716088328, 0.7857142857142857, 'lot_size <= 2587.5\\nabsolute_error = 45592.271\\nsamples = 24\\nvalue = 387495.0'),\n",
       " Text(0.4113564668769716, 0.7571428571428571, 'year_sold <= 2013.5\\nabsolute_error = 25895.0\\nsamples = 5\\nvalue = 440000.0'),\n",
       " Text(0.4088328075709779, 0.7285714285714285, 'insurance <= 106.5\\nabsolute_error = 4215.0\\nsamples = 2\\nvalue = 449835.0'),\n",
       " Text(0.4075709779179811, 0.7, 'absolute_error = 0.0\\nsamples = 1\\nvalue = 449835.0'),\n",
       " Text(0.41009463722397477, 0.7, 'absolute_error = 0.0\\nsamples = 1\\nvalue = 440000.0'),\n",
       " Text(0.4138801261829653, 0.7285714285714285, 'sqft <= 1566.0\\nabsolute_error = 21520.0\\nsamples = 3\\nvalue = 391000.0'),\n",
       " Text(0.41261829652996845, 0.7, 'absolute_error = 0.0\\nsamples = 1\\nvalue = 324000.0'),\n",
       " Text(0.41514195583596214, 0.7, 'sqft <= 1691.0\\nabsolute_error = 10150.0\\nsamples = 2\\nvalue = 401150.0'),\n",
       " Text(0.4138801261829653, 0.6714285714285714, 'absolute_error = 0.0\\nsamples = 1\\nvalue = 411300.0'),\n",
       " Text(0.416403785488959, 0.6714285714285714, 'absolute_error = 0.0\\nsamples = 1\\nvalue = 391000.0'),\n",
       " Text(0.422397476340694, 0.7571428571428571, 'lot_size <= 2768.0\\nabsolute_error = 45192.361\\nsamples = 19\\nvalue = 381000.0'),\n",
       " Text(0.42113564668769715, 0.7285714285714285, 'absolute_error = 0.0\\nsamples = 1\\nvalue = 329990.0'),\n",
       " Text(0.42365930599369084, 0.7285714285714285, 'lot_size <= 4279.0\\nabsolute_error = 44850.147\\nsamples = 18\\nvalue = 382703.0'),\n",
       " Text(0.4201892744479495, 0.7, 'lot_size <= 3889.5\\nabsolute_error = 122058.111\\nsamples = 5\\nvalue = 398000.0'),\n",
       " Text(0.4189274447949527, 0.6714285714285714, 'sqft <= 2852.5\\nabsolute_error = 7687.167\\nsamples = 4\\nvalue = 396920.5'),\n",
       " Text(0.4176656151419558, 0.6428571428571429, 'year_sold <= 2010.5\\nabsolute_error = 1014.75\\nsamples = 3\\nvalue = 398000.0'),\n",
       " Text(0.416403785488959, 0.6142857142857143, 'absolute_error = 0.0\\nsamples = 1\\nvalue = 395841.0'),\n",
       " Text(0.4189274447949527, 0.6142857142857143, 'baths <= 2.5\\nabsolute_error = 633.333\\nsamples = 2\\nvalue = 398000.0'),\n",
       " Text(0.4176656151419558, 0.5857142857142857, 'absolute_error = 0.0\\nsamples = 1\\nvalue = 398000.0'),\n",
       " Text(0.4201892744479495, 0.5857142857142857, 'absolute_error = 0.0\\nsamples = 1\\nvalue = 399900.0'),\n",
       " Text(0.4201892744479495, 0.6428571428571429, 'absolute_error = 0.0\\nsamples = 1\\nvalue = 376968.0'),\n",
       " Text(0.4214511041009464, 0.6714285714285714, 'absolute_error = 0.0\\nsamples = 1\\nvalue = 748800.0'),\n",
       " Text(0.42712933753943216, 0.7, 'lot_size <= 7269.5\\nabsolute_error = 13828.0\\nsamples = 13\\nvalue = 381000.0'),\n",
       " Text(0.42397476340694007, 0.6714285714285714, 'property_tax <= 381.0\\nabsolute_error = 8375.0\\nsamples = 3\\nvalue = 364510.0'),\n",
       " Text(0.4227129337539432, 0.6428571428571429, 'property_age <= 8.0\\nabsolute_error = 1330.0\\nsamples = 2\\nvalue = 364510.0'),\n",
       " Text(0.4214511041009464, 0.6142857142857143, 'absolute_error = 0.0\\nsamples = 1\\nvalue = 364510.0'),\n",
       " Text(0.42397476340694007, 0.6142857142857143, 'absolute_error = 0.0\\nsamples = 1\\nvalue = 368500.0'),\n",
       " Text(0.4252365930599369, 0.6428571428571429, 'absolute_error = 0.0\\nsamples = 1\\nvalue = 335000.0'),\n",
       " Text(0.4302839116719243, 0.6714285714285714, 'sqft <= 3777.0\\nabsolute_error = 12105.714\\nsamples = 10\\nvalue = 381000.0'),\n",
       " Text(0.42902208201892744, 0.6428571428571429, 'property_tax <= 365.5\\nabsolute_error = 10373.65\\nsamples = 9\\nvalue = 381000.0'),\n",
       " Text(0.42649842271293376, 0.6142857142857143, 'year_built <= 2009.0\\nabsolute_error = 2745.0\\nsamples = 2\\nvalue = 377000.0'),\n",
       " Text(0.4252365930599369, 0.5857142857142857, 'absolute_error = 0.0\\nsamples = 1\\nvalue = 377000.0'),\n",
       " Text(0.4277602523659306, 0.5857142857142857, 'absolute_error = 0.0\\nsamples = 1\\nvalue = 368765.0'),\n",
       " Text(0.43154574132492113, 0.6142857142857143, 'insurance <= 104.5\\nabsolute_error = 10955.643\\nsamples = 7\\nvalue = 384406.0'),\n",
       " Text(0.4302839116719243, 0.5857142857142857, 'absolute_error = 0.0\\nsamples = 1\\nvalue = 446815.0'),\n",
       " Text(0.432807570977918, 0.5857142857142857, 'property_tax <= 386.5\\nabsolute_error = 7783.692\\nsamples = 6\\nvalue = 384406.0'),\n",
       " Text(0.43154574132492113, 0.5571428571428572, 'year_sold <= 2011.5\\nabsolute_error = 5031.333\\nsamples = 5\\nvalue = 384406.0'),\n",
       " Text(0.4302839116719243, 0.5285714285714286, 'lot_size <= 8951.0\\nabsolute_error = 2815.455\\nsamples = 4\\nvalue = 384406.0'),\n",
       " Text(0.42902208201892744, 0.5, 'absolute_error = 0.0\\nsamples = 1\\nvalue = 389990.0'),\n",
       " Text(0.43154574132492113, 0.5, 'year_built <= 1993.5\\nabsolute_error = 1777.25\\nsamples = 3\\nvalue = 382703.0'),\n",
       " Text(0.4302839116719243, 0.4714285714285714, 'absolute_error = 0.0\\nsamples = 1\\nvalue = 381000.0'),\n",
       " Text(0.432807570977918, 0.4714285714285714, 'lot_size <= 10051.0\\nabsolute_error = 148.5\\nsamples = 2\\nvalue = 384406.0'),\n",
       " Text(0.43154574132492113, 0.44285714285714284, 'absolute_error = 0.0\\nsamples = 1\\nvalue = 384406.0'),\n",
       " Text(0.4340694006309148, 0.44285714285714284, 'absolute_error = 0.0\\nsamples = 1\\nvalue = 385000.0'),\n",
       " Text(0.432807570977918, 0.5285714285714286, 'absolute_error = 0.0\\nsamples = 1\\nvalue = 355000.0'),\n",
       " Text(0.4340694006309148, 0.5571428571428572, 'absolute_error = 0.0\\nsamples = 1\\nvalue = 415000.0'),\n",
       " Text(0.43154574132492113, 0.6428571428571429, 'absolute_error = 0.0\\nsamples = 1\\nvalue = 427747.0'),\n",
       " Text(0.452346214511041, 0.8428571428571429, 'year_sold <= 2007.5\\nabsolute_error = 44152.972\\nsamples = 48\\nvalue = 347450.0'),\n",
       " Text(0.43154574132492113, 0.8142857142857143, 'property_type_Condo <= 0.5\\nabsolute_error = 29187.5\\nsamples = 4\\nvalue = 418500.0'),\n",
       " Text(0.4302839116719243, 0.7857142857142857, 'absolute_error = 0.0\\nsamples = 1\\nvalue = 496700.0'),\n",
       " Text(0.432807570977918, 0.7857142857142857, 'sqft <= 1601.0\\nabsolute_error = 12350.0\\nsamples = 3\\nvalue = 417000.0'),\n",
       " Text(0.43154574132492113, 0.7571428571428571, 'year_sold <= 2006.0\\nabsolute_error = 1200.0\\nsamples = 2\\nvalue = 417000.0'),\n",
       " Text(0.4302839116719243, 0.7285714285714285, 'absolute_error = 0.0\\nsamples = 1\\nvalue = 420000.0'),\n",
       " Text(0.432807570977918, 0.7285714285714285, 'absolute_error = 0.0\\nsamples = 1\\nvalue = 417000.0'),\n",
       " Text(0.4340694006309148, 0.7571428571428571, 'absolute_error = 0.0\\nsamples = 1\\nvalue = 348900.0'),\n",
       " Text(0.4731466876971609, 0.8142857142857143, 'property_age <= 56.5\\nabsolute_error = 38948.656\\nsamples = 44\\nvalue = 340000.0'),\n",
       " Text(0.4535488958990536, 0.7857142857142857, 'year_built <= 1968.5\\nabsolute_error = 34168.5\\nsamples = 32\\nvalue = 329075.0'),\n",
       " Text(0.43785488958990537, 0.7571428571428571, 'insurance <= 105.5\\nabsolute_error = 20484.615\\nsamples = 9\\nvalue = 299000.0'),\n",
       " Text(0.4353312302839117, 0.7285714285714285, 'sqft <= 1213.0\\nabsolute_error = 9716.667\\nsamples = 4\\nvalue = 305500.0'),\n",
       " Text(0.4340694006309148, 0.7, 'sqft <= 1096.0\\nabsolute_error = 3250.0\\nsamples = 3\\nvalue = 302250.0'),\n",
       " Text(0.432807570977918, 0.6714285714285714, 'absolute_error = 0.0\\nsamples = 2\\nvalue = 299000.0'),\n",
       " Text(0.4353312302839117, 0.6714285714285714, 'absolute_error = 0.0\\nsamples = 1\\nvalue = 305500.0'),\n",
       " Text(0.4365930599369085, 0.7, 'absolute_error = 0.0\\nsamples = 1\\nvalue = 328150.0'),\n",
       " Text(0.44037854889589906, 0.7285714285714285, 'year_built <= 1954.0\\nabsolute_error = 17142.857\\nsamples = 5\\nvalue = 266000.0'),\n",
       " Text(0.4391167192429022, 0.7, 'absolute_error = 0.0\\nsamples = 1\\nvalue = 339000.0'),\n",
       " Text(0.4416403785488959, 0.7, 'year_built <= 1955.5\\nabsolute_error = 7833.333\\nsamples = 4\\nvalue = 266000.0'),\n",
       " Text(0.44037854889589906, 0.6714285714285714, 'absolute_error = 0.0\\nsamples = 1\\nvalue = 297000.0'),\n",
       " Text(0.44290220820189274, 0.6714285714285714, 'recession <= 0.5\\nabsolute_error = 3200.0\\nsamples = 3\\nvalue = 266000.0'),\n",
       " Text(0.4416403785488959, 0.6428571428571429, 'absolute_error = 0.0\\nsamples = 1\\nvalue = 280000.0'),\n",
       " Text(0.4441640378548896, 0.6428571428571429, 'property_age <= 49.0\\nabsolute_error = 500.0\\nsamples = 2\\nvalue = 265500.0'),\n",
       " Text(0.44290220820189274, 0.6142857142857143, 'absolute_error = 0.0\\nsamples = 1\\nvalue = 265000.0'),\n",
       " Text(0.44542586750788643, 0.6142857142857143, 'absolute_error = 0.0\\nsamples = 1\\nvalue = 266000.0'),\n",
       " Text(0.4692429022082019, 0.7571428571428571, 'property_tax <= 406.0\\nabsolute_error = 30926.258\\nsamples = 23\\nvalue = 340000.0'),\n",
       " Text(0.46798107255520505, 0.7285714285714285, 'baths <= 2.5\\nabsolute_error = 27290.467\\nsamples = 22\\nvalue = 340000.0'),\n",
       " Text(0.4583596214511041, 0.7, 'lot_size <= 5880.0\\nabsolute_error = 16906.824\\nsamples = 13\\nvalue = 340000.0'),\n",
       " Text(0.4523659305993691, 0.6714285714285714, 'lot_size <= 1646.0\\nabsolute_error = 11727.0\\nsamples = 6\\nvalue = 314950.0'),\n",
       " Text(0.449211356466877, 0.6428571428571429, 'property_tax <= 325.0\\nabsolute_error = 7500.0\\nsamples = 2\\nvalue = 342500.0'),\n",
       " Text(0.4479495268138801, 0.6142857142857143, 'absolute_error = 0.0\\nsamples = 1\\nvalue = 335000.0'),\n",
       " Text(0.4504731861198738, 0.6142857142857143, 'absolute_error = 0.0\\nsamples = 1\\nvalue = 350000.0'),\n",
       " Text(0.4555205047318612, 0.6428571428571429, 'property_age <= 33.5\\nabsolute_error = 4769.333\\nsamples = 4\\nvalue = 309900.0'),\n",
       " Text(0.4529968454258675, 0.6142857142857143, 'year_sold <= 2013.5\\nabsolute_error = 854.0\\nsamples = 2\\nvalue = 309900.0'),\n",
       " Text(0.4517350157728707, 0.5857142857142857, 'absolute_error = 0.0\\nsamples = 1\\nvalue = 309900.0'),\n",
       " Text(0.45425867507886436, 0.5857142857142857, 'absolute_error = 0.0\\nsamples = 1\\nvalue = 306484.0'),\n",
       " Text(0.4580441640378549, 0.6142857142857143, 'insurance <= 108.0\\nabsolute_error = 2500.0\\nsamples = 2\\nvalue = 322500.0'),\n",
       " Text(0.45678233438485805, 0.5857142857142857, 'absolute_error = 0.0\\nsamples = 1\\nvalue = 325000.0'),\n",
       " Text(0.45930599369085173, 0.5857142857142857, 'absolute_error = 0.0\\nsamples = 1\\nvalue = 320000.0'),\n",
       " Text(0.4643533123028391, 0.6714285714285714, 'year_sold <= 2009.0\\nabsolute_error = 12622.222\\nsamples = 7\\nvalue = 340000.0'),\n",
       " Text(0.4630914826498423, 0.6428571428571429, 'absolute_error = 0.0\\nsamples = 1\\nvalue = 274900.0'),\n",
       " Text(0.465615141955836, 0.6428571428571429, 'insurance <= 108.0\\nabsolute_error = 6062.5\\nsamples = 6\\nvalue = 341250.0'),\n",
       " Text(0.4643533123028391, 0.6142857142857143, 'year_built <= 1975.5\\nabsolute_error = 1928.571\\nsamples = 5\\nvalue = 340000.0'),\n",
       " Text(0.4618296529968454, 0.5857142857142857, 'recession <= 0.5\\nabsolute_error = 500.0\\nsamples = 2\\nvalue = 345500.0'),\n",
       " Text(0.4605678233438486, 0.5571428571428572, 'absolute_error = 0.0\\nsamples = 1\\nvalue = 346000.0'),\n",
       " Text(0.4630914826498423, 0.5571428571428572, 'absolute_error = 0.0\\nsamples = 1\\nvalue = 345000.0'),\n",
       " Text(0.4668769716088328, 0.5857142857142857, 'basement <= 0.5\\nabsolute_error = 500.0\\nsamples = 3\\nvalue = 340000.0'),\n",
       " Text(0.465615141955836, 0.5571428571428572, 'absolute_error = 0.0\\nsamples = 1\\nvalue = 342500.0'),\n",
       " Text(0.46813880126182966, 0.5571428571428572, 'absolute_error = 0.0\\nsamples = 2\\nvalue = 340000.0'),\n",
       " Text(0.4668769716088328, 0.6142857142857143, 'absolute_error = 0.0\\nsamples = 1\\nvalue = 375000.0'),\n",
       " Text(0.477602523659306, 0.7, 'property_tax <= 358.5\\nabsolute_error = 32484.462\\nsamples = 9\\nvalue = 365000.0'),\n",
       " Text(0.47318611987381703, 0.6714285714285714, 'year_built <= 1975.5\\nabsolute_error = 23055.556\\nsamples = 6\\nvalue = 392798.0'),\n",
       " Text(0.47066246056782335, 0.6428571428571429, 'sqft <= 1966.0\\nabsolute_error = 5125.0\\nsamples = 3\\nvalue = 420000.0'),\n",
       " Text(0.4694006309148265, 0.6142857142857143, 'absolute_error = 0.0\\nsamples = 2\\nvalue = 420000.0'),\n",
       " Text(0.47192429022082016, 0.6142857142857143, 'absolute_error = 0.0\\nsamples = 1\\nvalue = 399500.0'),\n",
       " Text(0.4757097791798107, 0.6428571428571429, 'property_age <= 36.5\\nabsolute_error = 7159.6\\nsamples = 3\\nvalue = 365000.0'),\n",
       " Text(0.4744479495268139, 0.6142857142857143, 'lot_size <= 1688.0\\nabsolute_error = 6949.5\\nsamples = 2\\nvalue = 365000.0'),\n",
       " Text(0.47318611987381703, 0.5857142857142857, 'absolute_error = 0.0\\nsamples = 1\\nvalue = 392798.0'),\n",
       " Text(0.4757097791798107, 0.5857142857142857, 'absolute_error = 0.0\\nsamples = 1\\nvalue = 365000.0'),\n",
       " Text(0.4769716088328076, 0.6142857142857143, 'absolute_error = 0.0\\nsamples = 1\\nvalue = 357000.0'),\n",
       " Text(0.48201892744479496, 0.6714285714285714, 'property_type_Bunglow <= 0.5\\nabsolute_error = 16750.0\\nsamples = 3\\nvalue = 315750.0'),\n",
       " Text(0.4807570977917981, 0.6428571428571429, 'beds <= 3.5\\nabsolute_error = 5000.0\\nsamples = 2\\nvalue = 335000.0'),\n",
       " Text(0.4794952681388013, 0.6142857142857143, 'absolute_error = 0.0\\nsamples = 1\\nvalue = 340000.0'),\n",
       " Text(0.48201892744479496, 0.6142857142857143, 'absolute_error = 0.0\\nsamples = 1\\nvalue = 330000.0'),\n",
       " Text(0.4832807570977918, 0.6428571428571429, 'absolute_error = 0.0\\nsamples = 1\\nvalue = 301500.0'),\n",
       " Text(0.47050473186119873, 0.7285714285714285, 'absolute_error = 0.0\\nsamples = 1\\nvalue = 200000.0'),\n",
       " Text(0.4927444794952681, 0.7857142857142857, 'baths <= 2.5\\nabsolute_error = 31865.0\\nsamples = 12\\nvalue = 376500.0'),\n",
       " Text(0.489589905362776, 0.7571428571428571, 'insurance <= 106.5\\nabsolute_error = 25016.667\\nsamples = 10\\nvalue = 378000.0'),\n",
       " Text(0.48706624605678234, 0.7285714285714285, 'property_tax <= 349.5\\nabsolute_error = 19650.0\\nsamples = 7\\nvalue = 372500.0'),\n",
       " Text(0.48580441640378547, 0.7, 'insurance <= 102.5\\nabsolute_error = 10981.818\\nsamples = 6\\nvalue = 375000.0'),\n",
       " Text(0.48454258675078865, 0.6714285714285714, 'absolute_error = 0.0\\nsamples = 2\\nvalue = 350000.0'),\n",
       " Text(0.48706624605678234, 0.6714285714285714, 'year_sold <= 2014.0\\nabsolute_error = 5725.0\\nsamples = 4\\nvalue = 376500.0'),\n",
       " Text(0.48580441640378547, 0.6428571428571429, 'absolute_error = 0.0\\nsamples = 1\\nvalue = 389900.0'),\n",
       " Text(0.48832807570977915, 0.6428571428571429, 'property_age <= 83.5\\nabsolute_error = 2666.667\\nsamples = 3\\nvalue = 375000.0'),\n",
       " Text(0.48706624605678234, 0.6142857142857143, 'property_tax <= 329.5\\nabsolute_error = 1500.0\\nsamples = 2\\nvalue = 376500.0'),\n",
       " Text(0.48580441640378547, 0.5857142857142857, 'absolute_error = 0.0\\nsamples = 1\\nvalue = 378000.0'),\n",
       " Text(0.48832807570977915, 0.5857142857142857, 'absolute_error = 0.0\\nsamples = 1\\nvalue = 375000.0'),\n",
       " Text(0.489589905362776, 0.6142857142857143, 'absolute_error = 0.0\\nsamples = 1\\nvalue = 370000.0'),\n",
       " Text(0.48832807570977915, 0.7, 'absolute_error = 0.0\\nsamples = 1\\nvalue = 260000.0'),\n",
       " Text(0.4921135646687697, 0.7285714285714285, 'property_tax <= 353.5\\nabsolute_error = 10750.0\\nsamples = 3\\nvalue = 413750.0'),\n",
       " Text(0.4908517350157729, 0.7, 'sqft <= 1425.0\\nabsolute_error = 2000.0\\nsamples = 2\\nvalue = 399000.0'),\n",
       " Text(0.489589905362776, 0.6714285714285714, 'absolute_error = 0.0\\nsamples = 1\\nvalue = 405000.0'),\n",
       " Text(0.4921135646687697, 0.6714285714285714, 'absolute_error = 0.0\\nsamples = 1\\nvalue = 399000.0'),\n",
       " Text(0.4933753943217666, 0.7, 'absolute_error = 0.0\\nsamples = 1\\nvalue = 422500.0'),\n",
       " Text(0.49589905362776027, 0.7571428571428571, 'beds <= 3.5\\nabsolute_error = 5500.0\\nsamples = 2\\nvalue = 284500.0'),\n",
       " Text(0.4946372239747634, 0.7285714285714285, 'absolute_error = 0.0\\nsamples = 1\\nvalue = 290000.0'),\n",
       " Text(0.4971608832807571, 0.7285714285714285, 'absolute_error = 0.0\\nsamples = 1\\nvalue = 279000.0'),\n",
       " Text(0.5636435331230284, 0.8714285714285714, 'insurance <= 142.5\\nabsolute_error = 50853.68\\nsamples = 121\\nvalue = 420000.0'),\n",
       " Text(0.5474763406940063, 0.8428571428571429, 'year_sold <= 2014.5\\nabsolute_error = 47734.919\\nsamples = 116\\nvalue = 416900.0'),\n",
       " Text(0.5264984227129338, 0.8142857142857143, 'insurance <= 122.5\\nabsolute_error = 46883.394\\nsamples = 104\\nvalue = 425000.0'),\n",
       " Text(0.5091482649842272, 0.7857142857142857, 'lot_size <= 10083.5\\nabsolute_error = 34783.214\\nsamples = 63\\nvalue = 415500.0'),\n",
       " Text(0.5022082018927445, 0.7571428571428571, 'baths <= 3.5\\nabsolute_error = 31974.831\\nsamples = 43\\nvalue = 416000.0'),\n",
       " Text(0.49968454258675077, 0.7285714285714285, 'baths <= 1.5\\nabsolute_error = 29502.054\\nsamples = 41\\nvalue = 416000.0'),\n",
       " Text(0.49842271293375395, 0.7, 'absolute_error = 0.0\\nsamples = 1\\nvalue = 482413.0'),\n",
       " Text(0.5009463722397476, 0.7, 'property_tax <= 341.5\\nabsolute_error = 27507.094\\nsamples = 40\\nvalue = 416000.0'),\n",
       " Text(0.49968454258675077, 0.6714285714285714, 'absolute_error = 0.0\\nsamples = 1\\nvalue = 333250.0'),\n",
       " Text(0.5022082018927445, 0.6714285714285714, 'sqft <= 920.5\\nabsolute_error = 26348.577\\nsamples = 39\\nvalue = 416000.0'),\n",
       " Text(0.5009463722397476, 0.6428571428571429, 'absolute_error = 0.0\\nsamples = 1\\nvalue = 349900.0'),\n",
       " Text(0.5034700315457413, 0.6428571428571429, 'lot_size <= 8727.0\\nabsolute_error = 25569.137\\nsamples = 38\\nvalue = 416000.0'),\n",
       " Text(0.49818611987381706, 0.6142857142857143, 'year_built <= 2006.0\\nabsolute_error = 25458.875\\nsamples = 36\\nvalue = 416000.0'),\n",
       " Text(0.49140378548895897, 0.5857142857142857, 'property_age <= 0.5\\nabsolute_error = 25636.279\\nsamples = 32\\nvalue = 416000.0'),\n",
       " Text(0.48730283911671923, 0.5571428571428572, 'lot_size <= 5525.0\\nabsolute_error = 12160.0\\nsamples = 3\\nvalue = 460845.0'),\n",
       " Text(0.4860410094637224, 0.5285714285714286, 'property_tax <= 406.0\\nabsolute_error = 1296.667\\nsamples = 2\\nvalue = 462790.0'),\n",
       " Text(0.48477917981072555, 0.5, 'absolute_error = 0.0\\nsamples = 1\\nvalue = 458900.0'),\n",
       " Text(0.48730283911671923, 0.5, 'absolute_error = 0.0\\nsamples = 1\\nvalue = 462790.0'),\n",
       " Text(0.4885646687697161, 0.5285714285714286, 'absolute_error = 0.0\\nsamples = 1\\nvalue = 418040.0'),\n",
       " Text(0.49550473186119876, 0.5571428571428572, 'property_tax <= 398.0\\nabsolute_error = 24713.846\\nsamples = 29\\nvalue = 416000.0'),\n",
       " Text(0.4910883280757098, 0.5285714285714286, 'property_tax <= 354.5\\nabsolute_error = 24307.273\\nsamples = 25\\nvalue = 416000.0'),\n",
       " Text(0.4898264984227129, 0.5, 'absolute_error = 0.0\\nsamples = 1\\nvalue = 459990.0'),\n",
       " Text(0.4923501577287066, 0.5, 'property_tax <= 388.5\\nabsolute_error = 23879.688\\nsamples = 24\\nvalue = 416000.0'),\n",
       " Text(0.4898264984227129, 0.4714285714285714, 'sqft <= 2196.5\\nabsolute_error = 22884.483\\nsamples = 21\\nvalue = 416000.0'),\n",
       " Text(0.4885646687697161, 0.44285714285714284, 'sqft <= 2008.5\\nabsolute_error = 21523.214\\nsamples = 20\\nvalue = 416000.0'),\n",
       " Text(0.48730283911671923, 0.4142857142857143, 'sqft <= 1980.0\\nabsolute_error = 21948.077\\nsamples = 19\\nvalue = 416000.0'),\n",
       " Text(0.4860410094637224, 0.38571428571428573, 'beds <= 4.5\\nabsolute_error = 20066.0\\nsamples = 18\\nvalue = 416000.0'),\n",
       " Text(0.48477917981072555, 0.35714285714285715, 'lot_size <= 8574.5\\nabsolute_error = 19485.417\\nsamples = 17\\nvalue = 416000.0'),\n",
       " Text(0.48351735015772873, 0.32857142857142857, 'lot_size <= 8480.5\\nabsolute_error = 19941.304\\nsamples = 16\\nvalue = 416000.0'),\n",
       " Text(0.48225552050473186, 0.3, 'lot_size <= 7814.0\\nabsolute_error = 19893.182\\nsamples = 15\\nvalue = 416000.0'),\n",
       " Text(0.480993690851735, 0.2714285714285714, 'lot_size <= 7199.5\\nabsolute_error = 14935.714\\nsamples = 14\\nvalue = 416000.0'),\n",
       " Text(0.4797318611987382, 0.24285714285714285, 'sqft <= 1887.0\\nabsolute_error = 13770.0\\nsamples = 13\\nvalue = 416000.0'),\n",
       " Text(0.4784700315457413, 0.21428571428571427, 'insurance <= 116.5\\nabsolute_error = 14178.947\\nsamples = 12\\nvalue = 416000.0'),\n",
       " Text(0.4772082018927445, 0.18571428571428572, 'lot_size <= 1720.5\\nabsolute_error = 9327.778\\nsamples = 11\\nvalue = 416000.0'),\n",
       " Text(0.4727917981072555, 0.15714285714285714, 'year_sold <= 2011.5\\nabsolute_error = 7564.286\\nsamples = 8\\nvalue = 416000.0'),\n",
       " Text(0.47026813880126184, 0.12857142857142856, 'sqft <= 1672.0\\nabsolute_error = 7900.0\\nsamples = 5\\nvalue = 416000.0'),\n",
       " Text(0.46900630914826497, 0.1, 'year_sold <= 2007.5\\nabsolute_error = 9433.333\\nsamples = 4\\nvalue = 416000.0'),\n",
       " Text(0.46774447949526815, 0.07142857142857142, 'sqft <= 1516.5\\nabsolute_error = 4987.5\\nsamples = 3\\nvalue = 416000.0'),\n",
       " Text(0.4664826498422713, 0.04285714285714286, 'lot_size <= 771.0\\nabsolute_error = 128.571\\nsamples = 2\\nvalue = 416000.0'),\n",
       " Text(0.46522082018927446, 0.014285714285714285, 'absolute_error = 0.0\\nsamples = 1\\nvalue = 416900.0'),\n",
       " Text(0.46774447949526815, 0.014285714285714285, 'absolute_error = 0.0\\nsamples = 1\\nvalue = 416000.0'),\n",
       " Text(0.46900630914826497, 0.04285714285714286, 'absolute_error = 0.0\\nsamples = 1\\nvalue = 455000.0'),\n",
       " Text(0.47026813880126184, 0.07142857142857142, 'absolute_error = 0.0\\nsamples = 1\\nvalue = 371000.0'),\n",
       " Text(0.47152996845425865, 0.1, 'absolute_error = 0.0\\nsamples = 1\\nvalue = 415000.0'),\n",
       " Text(0.4753154574132492, 0.12857142857142856, 'insurance <= 111.5\\nabsolute_error = 3666.667\\nsamples = 3\\nvalue = 422000.0'),\n",
       " Text(0.47405362776025234, 0.1, 'absolute_error = 0.0\\nsamples = 1\\nvalue = 428000.0'),\n",
       " Text(0.4765772870662461, 0.1, 'recession <= 0.5\\nabsolute_error = 2500.0\\nsamples = 2\\nvalue = 419500.0'),\n",
       " Text(0.4753154574132492, 0.07142857142857142, 'absolute_error = 0.0\\nsamples = 1\\nvalue = 417000.0'),\n",
       " Text(0.4778391167192429, 0.07142857142857142, 'absolute_error = 0.0\\nsamples = 1\\nvalue = 422000.0'),\n",
       " Text(0.48162460567823345, 0.15714285714285714, 'sqft <= 1454.0\\nabsolute_error = 14500.0\\nsamples = 3\\nvalue = 413500.0'),\n",
       " Text(0.4803627760252366, 0.12857142857142856, 'beds <= 3.5\\nabsolute_error = 1000.0\\nsamples = 2\\nvalue = 415000.0'),\n",
       " Text(0.47910094637223977, 0.1, 'absolute_error = 0.0\\nsamples = 1\\nvalue = 415000.0'),\n",
       " Text(0.48162460567823345, 0.1, 'absolute_error = 0.0\\nsamples = 1\\nvalue = 412000.0'),\n",
       " Text(0.48288643533123027, 0.12857142857142856, 'absolute_error = 0.0\\nsamples = 1\\nvalue = 360000.0'),\n",
       " Text(0.4797318611987382, 0.18571428571428572, 'absolute_error = 0.0\\nsamples = 1\\nvalue = 517500.0'),\n",
       " Text(0.480993690851735, 0.21428571428571427, 'absolute_error = 0.0\\nsamples = 1\\nvalue = 410000.0'),\n",
       " Text(0.48225552050473186, 0.24285714285714285, 'absolute_error = 0.0\\nsamples = 1\\nvalue = 377750.0'),\n",
       " Text(0.48351735015772873, 0.2714285714285714, 'absolute_error = 0.0\\nsamples = 1\\nvalue = 540000.0'),\n",
       " Text(0.48477917981072555, 0.3, 'absolute_error = 0.0\\nsamples = 1\\nvalue = 395000.0'),\n",
       " Text(0.4860410094637224, 0.32857142857142857, 'absolute_error = 0.0\\nsamples = 1\\nvalue = 425000.0'),\n",
       " Text(0.48730283911671923, 0.35714285714285715, 'absolute_error = 0.0\\nsamples = 1\\nvalue = 450000.0'),\n",
       " Text(0.4885646687697161, 0.38571428571428573, 'absolute_error = 0.0\\nsamples = 1\\nvalue = 485000.0'),\n",
       " Text(0.4898264984227129, 0.4142857142857143, 'absolute_error = 0.0\\nsamples = 1\\nvalue = 400000.0'),\n",
       " Text(0.4910883280757098, 0.44285714285714284, 'absolute_error = 0.0\\nsamples = 1\\nvalue = 355000.0'),\n",
       " Text(0.4948738170347003, 0.4714285714285714, 'year_built <= 1989.0\\nabsolute_error = 20500.0\\nsamples = 3\\nvalue = 429000.0'),\n",
       " Text(0.4936119873817035, 0.44285714285714284, 'absolute_error = 0.0\\nsamples = 1\\nvalue = 487500.0'),\n",
       " Text(0.49613564668769716, 0.44285714285714284, 'recession <= 0.5\\nabsolute_error = 1500.0\\nsamples = 2\\nvalue = 427500.0'),\n",
       " Text(0.4948738170347003, 0.4142857142857143, 'absolute_error = 0.0\\nsamples = 1\\nvalue = 426000.0'),\n",
       " Text(0.49739747634069403, 0.4142857142857143, 'absolute_error = 0.0\\nsamples = 1\\nvalue = 429000.0'),\n",
       " Text(0.4999211356466877, 0.5285714285714286, 'property_age <= 29.0\\nabsolute_error = 11950.0\\nsamples = 4\\nvalue = 392000.0'),\n",
       " Text(0.49865930599369085, 0.5, 'property_type_Condo <= 0.5\\nabsolute_error = 3540.0\\nsamples = 3\\nvalue = 392000.0'),\n",
       " Text(0.49739747634069403, 0.4714285714285714, 'absolute_error = 0.0\\nsamples = 1\\nvalue = 384650.0'),\n",
       " Text(0.4999211356466877, 0.4714285714285714, 'baths <= 2.5\\nabsolute_error = 1000.0\\nsamples = 2\\nvalue = 392000.0'),\n",
       " Text(0.49865930599369085, 0.44285714285714284, 'absolute_error = 0.0\\nsamples = 1\\nvalue = 395000.0'),\n",
       " Text(0.5011829652996845, 0.44285714285714284, 'absolute_error = 0.0\\nsamples = 1\\nvalue = 392000.0'),\n",
       " Text(0.5011829652996845, 0.5, 'absolute_error = 0.0\\nsamples = 1\\nvalue = 446000.0'),\n",
       " Text(0.5049684542586751, 0.5857142857142857, 'property_type_Condo <= 0.5\\nabsolute_error = 11933.2\\nsamples = 4\\nvalue = 394000.0'),\n",
       " Text(0.5037066246056783, 0.5571428571428572, 'absolute_error = 0.0\\nsamples = 1\\nvalue = 446890.0'),\n",
       " Text(0.5062302839116719, 0.5571428571428572, 'beds <= 3.5\\nabsolute_error = 2638.0\\nsamples = 3\\nvalue = 394000.0'),\n",
       " Text(0.5049684542586751, 0.5285714285714286, 'property_age <= 5.5\\nabsolute_error = 1000.0\\nsamples = 2\\nvalue = 394000.0'),\n",
       " Text(0.5037066246056783, 0.5, 'absolute_error = 0.0\\nsamples = 1\\nvalue = 397000.0'),\n",
       " Text(0.5062302839116719, 0.5, 'absolute_error = 0.0\\nsamples = 1\\nvalue = 394000.0'),\n",
       " Text(0.5074921135646687, 0.5285714285714286, 'absolute_error = 0.0\\nsamples = 1\\nvalue = 390224.0'),\n",
       " Text(0.5087539432176656, 0.6142857142857143, 'property_age <= 27.0\\nabsolute_error = 8333.333\\nsamples = 2\\nvalue = 435000.0'),\n",
       " Text(0.5074921135646687, 0.5857142857142857, 'absolute_error = 0.0\\nsamples = 1\\nvalue = 435000.0'),\n",
       " Text(0.5100157728706625, 0.5857142857142857, 'absolute_error = 0.0\\nsamples = 1\\nvalue = 460000.0'),\n",
       " Text(0.5047318611987381, 0.7285714285714285, 'lot_size <= 5906.0\\nabsolute_error = 1933.333\\nsamples = 2\\nvalue = 492200.0'),\n",
       " Text(0.5034700315457413, 0.7, 'absolute_error = 0.0\\nsamples = 1\\nvalue = 498000.0'),\n",
       " Text(0.5059936908517351, 0.7, 'absolute_error = 0.0\\nsamples = 1\\nvalue = 492200.0'),\n",
       " Text(0.5160883280757098, 0.7571428571428571, 'sqft <= 1293.5\\nabsolute_error = 32371.0\\nsamples = 20\\nvalue = 386000.0'),\n",
       " Text(0.5110410094637224, 0.7285714285714285, 'lot_size <= 14810.0\\nabsolute_error = 17300.0\\nsamples = 6\\nvalue = 425000.0'),\n",
       " Text(0.5085173501577287, 0.7, 'year_sold <= 2012.0\\nabsolute_error = 5833.333\\nsamples = 3\\nvalue = 427500.0'),\n",
       " Text(0.5072555205047319, 0.6714285714285714, 'lot_size <= 12196.5\\nabsolute_error = 1250.0\\nsamples = 2\\nvalue = 425000.0'),\n",
       " Text(0.5059936908517351, 0.6428571428571429, 'absolute_error = 0.0\\nsamples = 1\\nvalue = 425000.0'),\n",
       " Text(0.5085173501577287, 0.6428571428571429, 'absolute_error = 0.0\\nsamples = 1\\nvalue = 430000.0'),\n",
       " Text(0.5097791798107255, 0.6714285714285714, 'absolute_error = 0.0\\nsamples = 1\\nvalue = 440000.0'),\n",
       " Text(0.5135646687697161, 0.7, 'beds <= 3.5\\nabsolute_error = 5500.0\\nsamples = 3\\nvalue = 388500.0'),\n",
       " Text(0.5123028391167193, 0.6714285714285714, 'property_type_Condo <= 0.5\\nabsolute_error = 2333.333\\nsamples = 2\\nvalue = 385000.0'),\n",
       " Text(0.5110410094637224, 0.6428571428571429, 'absolute_error = 0.0\\nsamples = 1\\nvalue = 392000.0'),\n",
       " Text(0.5135646687697161, 0.6428571428571429, 'absolute_error = 0.0\\nsamples = 1\\nvalue = 385000.0'),\n",
       " Text(0.5148264984227129, 0.6714285714285714, 'absolute_error = 0.0\\nsamples = 1\\nvalue = 400000.0'),\n",
       " Text(0.5211356466876972, 0.7285714285714285, 'insurance <= 115.5\\nabsolute_error = 32211.667\\nsamples = 14\\nvalue = 368900.0'),\n",
       " Text(0.5186119873817034, 0.7, 'beds <= 4.5\\nabsolute_error = 21833.333\\nsamples = 6\\nvalue = 395000.0'),\n",
       " Text(0.5173501577287066, 0.6714285714285714, 'recession <= 0.5\\nabsolute_error = 7200.0\\nsamples = 5\\nvalue = 390000.0'),\n",
       " Text(0.5160883280757098, 0.6428571428571429, 'year_sold <= 2006.5\\nabsolute_error = 4000.0\\nsamples = 3\\nvalue = 386000.0'),\n",
       " Text(0.5148264984227129, 0.6142857142857143, 'year_built <= 1971.0\\nabsolute_error = 2000.0\\nsamples = 2\\nvalue = 388000.0'),\n",
       " Text(0.5135646687697161, 0.5857142857142857, 'absolute_error = 0.0\\nsamples = 1\\nvalue = 390000.0'),\n",
       " Text(0.5160883280757098, 0.5857142857142857, 'absolute_error = 0.0\\nsamples = 1\\nvalue = 386000.0'),\n",
       " Text(0.5173501577287066, 0.6142857142857143, 'absolute_error = 0.0\\nsamples = 1\\nvalue = 378000.0'),\n",
       " Text(0.5186119873817034, 0.6428571428571429, 'absolute_error = 0.0\\nsamples = 2\\nvalue = 400000.0'),\n",
       " Text(0.5198738170347004, 0.6714285714285714, 'absolute_error = 0.0\\nsamples = 1\\nvalue = 485000.0'),\n",
       " Text(0.5236593059936908, 0.7, 'lot_size <= 10441.0\\nabsolute_error = 25313.889\\nsamples = 8\\nvalue = 358900.0'),\n",
       " Text(0.522397476340694, 0.6714285714285714, 'absolute_error = 0.0\\nsamples = 1\\nvalue = 245000.0'),\n",
       " Text(0.5249211356466877, 0.6714285714285714, 'property_age <= 47.5\\nabsolute_error = 14240.625\\nsamples = 7\\nvalue = 359450.0'),\n",
       " Text(0.5236593059936908, 0.6428571428571429, 'baths <= 2.5\\nabsolute_error = 8989.286\\nsamples = 6\\nvalue = 360000.0'),\n",
       " Text(0.5211356466876972, 0.6142857142857143, 'year_built <= 1972.0\\nabsolute_error = 2966.667\\nsamples = 2\\nvalue = 350000.0'),\n",
       " Text(0.5198738170347004, 0.5857142857142857, 'absolute_error = 0.0\\nsamples = 1\\nvalue = 350000.0'),\n",
       " Text(0.522397476340694, 0.5857142857142857, 'absolute_error = 0.0\\nsamples = 1\\nvalue = 358900.0'),\n",
       " Text(0.5261829652996846, 0.6142857142857143, 'lot_size <= 11592.0\\nabsolute_error = 6493.75\\nsamples = 4\\nvalue = 368412.5'),\n",
       " Text(0.5249211356466877, 0.5857142857142857, 'recession <= 0.5\\nabsolute_error = 2966.667\\nsamples = 3\\nvalue = 367925.0'),\n",
       " Text(0.5236593059936908, 0.5571428571428572, 'property_age <= 18.0\\nabsolute_error = 487.5\\nsamples = 2\\nvalue = 368412.5'),\n",
       " Text(0.522397476340694, 0.5285714285714286, 'absolute_error = 0.0\\nsamples = 1\\nvalue = 367925.0'),\n",
       " Text(0.5249211356466877, 0.5285714285714286, 'absolute_error = 0.0\\nsamples = 1\\nvalue = 368900.0'),\n",
       " Text(0.5261829652996846, 0.5571428571428572, 'absolute_error = 0.0\\nsamples = 1\\nvalue = 360000.0'),\n",
       " Text(0.5274447949526814, 0.5857142857142857, 'absolute_error = 0.0\\nsamples = 1\\nvalue = 385000.0'),\n",
       " Text(0.5261829652996846, 0.6428571428571429, 'absolute_error = 0.0\\nsamples = 1\\nvalue = 309000.0'),\n",
       " Text(0.5438485804416404, 0.7857142857142857, 'property_age <= 1.0\\nabsolute_error = 57407.414\\nsamples = 41\\nvalue = 448075.5'),\n",
       " Text(0.5394321766561514, 0.7571428571428571, 'lot_size <= 14621.0\\nabsolute_error = 6783.0\\nsamples = 2\\nvalue = 586263.0'),\n",
       " Text(0.5381703470031546, 0.7285714285714285, 'absolute_error = 0.0\\nsamples = 1\\nvalue = 593046.0'),\n",
       " Text(0.5406940063091482, 0.7285714285714285, 'absolute_error = 0.0\\nsamples = 1\\nvalue = 579480.0'),\n",
       " Text(0.5482649842271293, 0.7571428571428571, 'property_tax <= 440.5\\nabsolute_error = 51053.333\\nsamples = 39\\nvalue = 439500.0'),\n",
       " Text(0.543217665615142, 0.7285714285714285, 'property_tax <= 384.5\\nabsolute_error = 47907.875\\nsamples = 35\\nvalue = 450000.0'),\n",
       " Text(0.5369085173501578, 0.7, 'year_sold <= 2013.5\\nabsolute_error = 27769.231\\nsamples = 9\\nvalue = 490000.0'),\n",
       " Text(0.5356466876971608, 0.6714285714285714, 'sqft <= 952.0\\nabsolute_error = 21890.909\\nsamples = 8\\nvalue = 490000.0'),\n",
       " Text(0.534384858044164, 0.6428571428571429, 'absolute_error = 0.0\\nsamples = 1\\nvalue = 435000.0'),\n",
       " Text(0.5369085173501578, 0.6428571428571429, 'year_sold <= 2008.5\\nabsolute_error = 18580.0\\nsamples = 7\\nvalue = 494950.0'),\n",
       " Text(0.5324921135646687, 0.6142857142857143, 'insurance <= 128.0\\nabsolute_error = 19740.0\\nsamples = 4\\nvalue = 500000.0'),\n",
       " Text(0.5299684542586751, 0.5857142857142857, 'year_sold <= 2006.0\\nabsolute_error = 33.333\\nsamples = 2\\nvalue = 499900.0'),\n",
       " Text(0.5287066246056782, 0.5571428571428572, 'absolute_error = 0.0\\nsamples = 1\\nvalue = 499900.0'),\n",
       " Text(0.5312302839116719, 0.5571428571428572, 'absolute_error = 0.0\\nsamples = 1\\nvalue = 500000.0'),\n",
       " Text(0.5350157728706625, 0.5857142857142857, 'property_age <= 14.0\\nabsolute_error = 39750.0\\nsamples = 2\\nvalue = 549250.0'),\n",
       " Text(0.5337539432176656, 0.5571428571428572, 'absolute_error = 0.0\\nsamples = 1\\nvalue = 509500.0'),\n",
       " Text(0.5362776025236593, 0.5571428571428572, 'absolute_error = 0.0\\nsamples = 1\\nvalue = 589000.0'),\n",
       " Text(0.5413249211356467, 0.6142857142857143, 'lot_size <= 5507.5\\nabsolute_error = 7500.0\\nsamples = 3\\nvalue = 490000.0'),\n",
       " Text(0.5400630914826499, 0.5857142857142857, 'basement <= 0.5\\nabsolute_error = 1875.0\\nsamples = 2\\nvalue = 490000.0'),\n",
       " Text(0.538801261829653, 0.5571428571428572, 'absolute_error = 0.0\\nsamples = 1\\nvalue = 490000.0'),\n",
       " Text(0.5413249211356467, 0.5571428571428572, 'absolute_error = 0.0\\nsamples = 1\\nvalue = 482500.0'),\n",
       " Text(0.5425867507886435, 0.5857142857142857, 'absolute_error = 0.0\\nsamples = 1\\nvalue = 460000.0'),\n",
       " Text(0.5381703470031546, 0.6714285714285714, 'absolute_error = 0.0\\nsamples = 1\\nvalue = 429900.0'),\n",
       " Text(0.5495268138801261, 0.7, 'lot_size <= 27660.0\\nabsolute_error = 48425.143\\nsamples = 26\\nvalue = 439000.0'),\n",
       " Text(0.5482649842271293, 0.6714285714285714, 'property_age <= 2.5\\nabsolute_error = 43450.909\\nsamples = 25\\nvalue = 439000.0'),\n",
       " Text(0.5470031545741325, 0.6428571428571429, 'absolute_error = 0.0\\nsamples = 1\\nvalue = 346631.0'),\n",
       " Text(0.5495268138801261, 0.6428571428571429, 'baths <= 3.5\\nabsolute_error = 40294.903\\nsamples = 24\\nvalue = 439000.0'),\n",
       " Text(0.5482649842271293, 0.6142857142857143, 'sqft <= 1136.0\\nabsolute_error = 37175.033\\nsamples = 23\\nvalue = 439500.0'),\n",
       " Text(0.5470031545741325, 0.5857142857142857, 'absolute_error = 0.0\\nsamples = 1\\nvalue = 310000.0'),\n",
       " Text(0.5495268138801261, 0.5857142857142857, 'year_sold <= 2013.5\\nabsolute_error = 33974.172\\nsamples = 22\\nvalue = 440000.0'),\n",
       " Text(0.5438485804416404, 0.5571428571428572, 'year_sold <= 2007.5\\nabsolute_error = 31824.111\\nsamples = 20\\nvalue = 439000.0'),\n",
       " Text(0.5362776025236593, 0.5285714285714286, 'property_tax <= 419.5\\nabsolute_error = 43463.636\\nsamples = 8\\nvalue = 482000.0'),\n",
       " Text(0.5318611987381704, 0.5, 'property_tax <= 396.0\\nabsolute_error = 6020.0\\nsamples = 3\\nvalue = 430000.0'),\n",
       " Text(0.5305993690851735, 0.4714285714285714, 'absolute_error = 0.0\\nsamples = 1\\nvalue = 450000.0'),\n",
       " Text(0.5331230283911672, 0.4714285714285714, 'baths <= 2.5\\nabsolute_error = 2525.0\\nsamples = 2\\nvalue = 430000.0'),\n",
       " Text(0.5318611987381704, 0.44285714285714284, 'absolute_error = 0.0\\nsamples = 1\\nvalue = 430000.0'),\n",
       " Text(0.534384858044164, 0.44285714285714284, 'absolute_error = 0.0\\nsamples = 1\\nvalue = 419900.0'),\n",
       " Text(0.5406940063091482, 0.5, 'insurance <= 129.5\\nabsolute_error = 21333.333\\nsamples = 5\\nvalue = 524000.0'),\n",
       " Text(0.5381703470031546, 0.4714285714285714, 'property_tax <= 421.5\\nabsolute_error = 4000.0\\nsamples = 2\\nvalue = 486000.0'),\n",
       " Text(0.5369085173501578, 0.44285714285714284, 'absolute_error = 0.0\\nsamples = 1\\nvalue = 490000.0'),\n",
       " Text(0.5394321766561514, 0.44285714285714284, 'absolute_error = 0.0\\nsamples = 1\\nvalue = 482000.0'),\n",
       " Text(0.543217665615142, 0.4714285714285714, 'sqft <= 1923.0\\nabsolute_error = 13000.0\\nsamples = 3\\nvalue = 524500.0'),\n",
       " Text(0.5419558359621451, 0.44285714285714284, 'property_type_Bunglow <= 0.5\\nabsolute_error = 333.333\\nsamples = 2\\nvalue = 524000.0'),\n",
       " Text(0.5406940063091482, 0.4142857142857143, 'absolute_error = 0.0\\nsamples = 1\\nvalue = 524000.0'),\n",
       " Text(0.543217665615142, 0.4142857142857143, 'absolute_error = 0.0\\nsamples = 1\\nvalue = 525000.0'),\n",
       " Text(0.5444794952681388, 0.44285714285714284, 'absolute_error = 0.0\\nsamples = 1\\nvalue = 575000.0'),\n",
       " Text(0.5514195583596214, 0.5285714285714286, 'year_built <= 1959.0\\nabsolute_error = 19759.438\\nsamples = 12\\nvalue = 439000.0'),\n",
       " Text(0.5470031545741325, 0.5, 'basement <= 0.5\\nabsolute_error = 15000.0\\nsamples = 3\\nvalue = 410000.0'),\n",
       " Text(0.5457413249211357, 0.4714285714285714, 'absolute_error = 0.0\\nsamples = 1\\nvalue = 375000.0'),\n",
       " Text(0.5482649842271293, 0.4714285714285714, 'year_sold <= 2010.0\\nabsolute_error = 5000.0\\nsamples = 2\\nvalue = 415000.0'),\n",
       " Text(0.5470031545741325, 0.44285714285714284, 'absolute_error = 0.0\\nsamples = 1\\nvalue = 420000.0'),\n",
       " Text(0.5495268138801261, 0.44285714285714284, 'absolute_error = 0.0\\nsamples = 1\\nvalue = 410000.0'),\n",
       " Text(0.5558359621451104, 0.5, 'year_sold <= 2008.5\\nabsolute_error = 15703.923\\nsamples = 9\\nvalue = 439000.0'),\n",
       " Text(0.5533123028391167, 0.4714285714285714, 'baths <= 2.5\\nabsolute_error = 11666.667\\nsamples = 2\\nvalue = 400000.0'),\n",
       " Text(0.5520504731861199, 0.44285714285714284, 'absolute_error = 0.0\\nsamples = 1\\nvalue = 400000.0'),\n",
       " Text(0.5545741324921135, 0.44285714285714284, 'absolute_error = 0.0\\nsamples = 1\\nvalue = 435000.0'),\n",
       " Text(0.5583596214511041, 0.4714285714285714, 'year_built <= 1969.5\\nabsolute_error = 12015.1\\nsamples = 7\\nvalue = 443075.5'),\n",
       " Text(0.5570977917981073, 0.44285714285714284, 'absolute_error = 0.0\\nsamples = 1\\nvalue = 485000.0'),\n",
       " Text(0.559621451104101, 0.44285714285714284, 'property_type_Condo <= 0.5\\nabsolute_error = 8350.111\\nsamples = 6\\nvalue = 440000.0'),\n",
       " Text(0.5570977917981073, 0.4142857142857143, 'insurance <= 136.5\\nabsolute_error = 4525.167\\nsamples = 4\\nvalue = 439000.0'),\n",
       " Text(0.5558359621451104, 0.38571428571428573, 'insurance <= 127.5\\nabsolute_error = 4000.0\\nsamples = 3\\nvalue = 439000.0'),\n",
       " Text(0.5545741324921135, 0.35714285714285715, 'lot_size <= 15027.5\\nabsolute_error = 250.0\\nsamples = 2\\nvalue = 439000.0'),\n",
       " Text(0.5533123028391167, 0.32857142857142857, 'absolute_error = 0.0\\nsamples = 1\\nvalue = 439000.0'),\n",
       " Text(0.5558359621451104, 0.32857142857142857, 'absolute_error = 0.0\\nsamples = 1\\nvalue = 440000.0'),\n",
       " Text(0.5570977917981073, 0.35714285714285715, 'absolute_error = 0.0\\nsamples = 1\\nvalue = 420000.0'),\n",
       " Text(0.5583596214511041, 0.38571428571428573, 'absolute_error = 0.0\\nsamples = 1\\nvalue = 446151.0'),\n",
       " Text(0.5621451104100946, 0.4142857142857143, 'beds <= 3.5\\nabsolute_error = 2666.667\\nsamples = 2\\nvalue = 458000.0'),\n",
       " Text(0.5608832807570978, 0.38571428571428573, 'absolute_error = 0.0\\nsamples = 1\\nvalue = 450000.0'),\n",
       " Text(0.5634069400630914, 0.38571428571428573, 'absolute_error = 0.0\\nsamples = 1\\nvalue = 458000.0'),\n",
       " Text(0.555205047318612, 0.5571428571428572, 'property_type_Bunglow <= 0.5\\nabsolute_error = 7500.0\\nsamples = 2\\nvalue = 502500.0'),\n",
       " Text(0.5539432176656152, 0.5285714285714286, 'absolute_error = 0.0\\nsamples = 1\\nvalue = 510000.0'),\n",
       " Text(0.5564668769716088, 0.5285714285714286, 'absolute_error = 0.0\\nsamples = 1\\nvalue = 495000.0'),\n",
       " Text(0.5507886435331231, 0.6142857142857143, 'absolute_error = 0.0\\nsamples = 1\\nvalue = 305109.0'),\n",
       " Text(0.5507886435331231, 0.6714285714285714, 'absolute_error = 0.0\\nsamples = 1\\nvalue = 569500.0'),\n",
       " Text(0.5533123028391167, 0.7285714285714285, 'year_built <= 1964.0\\nabsolute_error = 19166.667\\nsamples = 4\\nvalue = 377500.0'),\n",
       " Text(0.5520504731861199, 0.7, 'absolute_error = 0.0\\nsamples = 1\\nvalue = 300000.0'),\n",
       " Text(0.5545741324921135, 0.7, 'sqft <= 1461.5\\nabsolute_error = 8000.0\\nsamples = 3\\nvalue = 380000.0'),\n",
       " Text(0.5533123028391167, 0.6714285714285714, 'year_built <= 1985.0\\nabsolute_error = 2500.0\\nsamples = 2\\nvalue = 377500.0'),\n",
       " Text(0.5520504731861199, 0.6428571428571429, 'absolute_error = 0.0\\nsamples = 1\\nvalue = 375000.0'),\n",
       " Text(0.5545741324921135, 0.6428571428571429, 'absolute_error = 0.0\\nsamples = 1\\nvalue = 380000.0'),\n",
       " Text(0.5558359621451104, 0.6714285714285714, 'absolute_error = 0.0\\nsamples = 1\\nvalue = 405000.0'),\n",
       " Text(0.5684542586750788, 0.8142857142857143, 'year_built <= 1977.0\\nabsolute_error = 31415.789\\nsamples = 12\\nvalue = 375000.0'),\n",
       " Text(0.5646687697160884, 0.7857142857142857, 'baths <= 3.5\\nabsolute_error = 18187.5\\nsamples = 6\\nvalue = 335000.0'),\n",
       " Text(0.5634069400630914, 0.7571428571428571, 'lot_size <= 9402.0\\nabsolute_error = 13642.857\\nsamples = 5\\nvalue = 335000.0'),\n",
       " Text(0.5608832807570978, 0.7285714285714285, 'property_age <= 48.5\\nabsolute_error = 9000.0\\nsamples = 3\\nvalue = 335000.0'),\n",
       " Text(0.559621451104101, 0.7, 'insurance <= 121.5\\nabsolute_error = 2500.0\\nsamples = 2\\nvalue = 335000.0'),\n",
       " Text(0.5583596214511041, 0.6714285714285714, 'absolute_error = 0.0\\nsamples = 1\\nvalue = 345000.0'),\n",
       " Text(0.5608832807570978, 0.6714285714285714, 'absolute_error = 0.0\\nsamples = 1\\nvalue = 335000.0'),\n",
       " Text(0.5621451104100946, 0.7, 'absolute_error = 0.0\\nsamples = 1\\nvalue = 300000.0'),\n",
       " Text(0.5659305993690852, 0.7285714285714285, 'baths <= 1.5\\nabsolute_error = 7750.0\\nsamples = 2\\nvalue = 360250.0'),\n",
       " Text(0.5646687697160884, 0.7, 'absolute_error = 0.0\\nsamples = 1\\nvalue = 368000.0'),\n",
       " Text(0.567192429022082, 0.7, 'absolute_error = 0.0\\nsamples = 1\\nvalue = 352500.0'),\n",
       " Text(0.5659305993690852, 0.7571428571428571, 'absolute_error = 0.0\\nsamples = 1\\nvalue = 285000.0'),\n",
       " Text(0.5722397476340694, 0.7857142857142857, 'property_age <= 27.5\\nabsolute_error = 20672.727\\nsamples = 6\\nvalue = 399900.0'),\n",
       " Text(0.5697160883280757, 0.7571428571428571, 'year_built <= 1999.0\\nabsolute_error = 5040.0\\nsamples = 2\\nvalue = 412500.0'),\n",
       " Text(0.5684542586750788, 0.7285714285714285, 'absolute_error = 0.0\\nsamples = 1\\nvalue = 399900.0'),\n",
       " Text(0.5709779179810726, 0.7285714285714285, 'absolute_error = 0.0\\nsamples = 1\\nvalue = 412500.0'),\n",
       " Text(0.5747634069400631, 0.7571428571428571, 'beds <= 3.5\\nabsolute_error = 15016.667\\nsamples = 4\\nvalue = 377500.0'),\n",
       " Text(0.5735015772870663, 0.7285714285714285, 'absolute_error = 0.0\\nsamples = 1\\nvalue = 455000.0'),\n",
       " Text(0.5760252365930599, 0.7285714285714285, 'year_built <= 1981.5\\nabsolute_error = 2020.0\\nsamples = 3\\nvalue = 375000.0'),\n",
       " Text(0.5747634069400631, 0.7, 'absolute_error = 0.0\\nsamples = 1\\nvalue = 375000.0'),\n",
       " Text(0.5772870662460567, 0.7, 'sqft <= 1127.0\\nabsolute_error = 50.0\\nsamples = 2\\nvalue = 380050.0'),\n",
       " Text(0.5760252365930599, 0.6714285714285714, 'absolute_error = 0.0\\nsamples = 1\\nvalue = 380000.0'),\n",
       " Text(0.5785488958990537, 0.6714285714285714, 'absolute_error = 0.0\\nsamples = 1\\nvalue = 380100.0'),\n",
       " Text(0.5798107255520505, 0.8428571428571429, 'sqft <= 1163.0\\nabsolute_error = 3468.75\\nsamples = 5\\nvalue = 531000.0'),\n",
       " Text(0.5772870662460567, 0.8142857142857143, 'property_tax <= 417.5\\nabsolute_error = 1660.0\\nsamples = 3\\nvalue = 535000.0'),\n",
       " Text(0.5760252365930599, 0.7857142857142857, 'absolute_error = 0.0\\nsamples = 1\\nvalue = 531000.0'),\n",
       " Text(0.5785488958990537, 0.7857142857142857, 'popular <= 0.5\\nabsolute_error = 50.0\\nsamples = 2\\nvalue = 535150.0'),\n",
       " Text(0.5772870662460567, 0.7571428571428571, 'absolute_error = 0.0\\nsamples = 1\\nvalue = 535000.0'),\n",
       " Text(0.5798107255520505, 0.7571428571428571, 'absolute_error = 0.0\\nsamples = 1\\nvalue = 535150.0'),\n",
       " Text(0.5823343848580441, 0.8142857142857143, 'property_tax <= 429.5\\nabsolute_error = 425.0\\nsamples = 2\\nvalue = 526275.0'),\n",
       " Text(0.5810725552050473, 0.7857142857142857, 'absolute_error = 0.0\\nsamples = 1\\nvalue = 525000.0'),\n",
       " ...]"
      ]
     },
     "execution_count": 87,
     "metadata": {},
     "output_type": "execute_result"
    }
   ],
   "source": [
    "# Individual Decision Trees\n",
    "tree.plot_tree(rfmodel.estimators_[2], feature_names=dtmodel.feature_names_in_)"
   ]
  },
  {
   "cell_type": "markdown",
   "metadata": {
    "id": "tc8OXZNzgHi9"
   },
   "source": [
    "    "
   ]
  },
  {
   "cell_type": "markdown",
   "metadata": {
    "id": "vVZsubYogHi9"
   },
   "source": [
    "## Pickle:\n",
    "\n",
    "* The pickle module implements a powerful algorithm for serializing and de-serializing a Python object structure.\n",
    "\n",
    "* The saving of data is called Serialization, and loading the data is called De-serialization.\n",
    "\n",
    "**Pickle** model provides the following functions:\n",
    "* **`pickle.dump`** to serialize an object hierarchy, you simply use `dump()`.\n",
    "* **`pickle.load`** to deserialize a data stream, you call the `loads()` function."
   ]
  },
  {
   "cell_type": "code",
   "execution_count": 94,
   "metadata": {
    "id": "WmM7wJIbgHi9"
   },
   "outputs": [],
   "source": [
    "# import pickle to save model\n",
    "import pickle\n",
    "\n",
    "# Save the trained model on the drive\n",
    "pickle.dump(dtmodel, open('RE_Model','wb'))"
   ]
  },
  {
   "cell_type": "code",
   "execution_count": 95,
   "metadata": {
    "id": "smF0TQ66gHi9"
   },
   "outputs": [],
   "source": [
    "# Load the pickled model\n",
    "RE_Model = pickle.load(open('RE_Model','rb'))"
   ]
  },
  {
   "cell_type": "raw",
   "metadata": {
    "id": "dzEe7uzvgHi9"
   },
   "source": [
    "np.array(xtrain.loc[22])\n",
    "ytrain[22]"
   ]
  },
  {
   "cell_type": "code",
   "execution_count": 96,
   "metadata": {
    "id": "81ZVX-LRgHi9",
    "outputId": "0e7e668b-83dd-4620-e147-5e90e2759788"
   },
   "outputs": [
    {
     "name": "stderr",
     "output_type": "stream",
     "text": [
      "C:\\Users\\davex\\anaconda3\\Lib\\site-packages\\sklearn\\utils\\validation.py:2739: UserWarning: X does not have valid feature names, but DecisionTreeRegressor was fitted with feature names\n",
      "  warnings.warn(\n"
     ]
    },
    {
     "data": {
      "text/plain": [
       "array([268832.75])"
      ]
     },
     "execution_count": 96,
     "metadata": {},
     "output_type": "execute_result"
    }
   ],
   "source": [
    "# Use the loaded pickled model to make predictions\n",
    "RE_Model.predict([[2012, 216, 74, 1 , 1, 618, 2000, 600, 1, 0, 0, 6, 0, 0]])"
   ]
  },
  {
   "cell_type": "code",
   "execution_count": 97,
   "metadata": {
    "colab": {
     "base_uri": "https://localhost:8080/",
     "height": 100
    },
    "id": "R7EWTeTtxQy4",
    "outputId": "b16e559d-25db-46a2-b095-08237ef5caab"
   },
   "outputs": [
    {
     "data": {
      "text/html": [
       "<div>\n",
       "<style scoped>\n",
       "    .dataframe tbody tr th:only-of-type {\n",
       "        vertical-align: middle;\n",
       "    }\n",
       "\n",
       "    .dataframe tbody tr th {\n",
       "        vertical-align: top;\n",
       "    }\n",
       "\n",
       "    .dataframe thead th {\n",
       "        text-align: right;\n",
       "    }\n",
       "</style>\n",
       "<table border=\"1\" class=\"dataframe\">\n",
       "  <thead>\n",
       "    <tr style=\"text-align: right;\">\n",
       "      <th></th>\n",
       "      <th>year_sold</th>\n",
       "      <th>property_tax</th>\n",
       "      <th>insurance</th>\n",
       "      <th>beds</th>\n",
       "      <th>baths</th>\n",
       "      <th>sqft</th>\n",
       "      <th>year_built</th>\n",
       "      <th>lot_size</th>\n",
       "      <th>basement</th>\n",
       "      <th>popular</th>\n",
       "      <th>recession</th>\n",
       "      <th>property_age</th>\n",
       "      <th>property_type_Bunglow</th>\n",
       "      <th>property_type_Condo</th>\n",
       "    </tr>\n",
       "  </thead>\n",
       "  <tbody>\n",
       "    <tr>\n",
       "      <th>142</th>\n",
       "      <td>2014</td>\n",
       "      <td>190</td>\n",
       "      <td>66</td>\n",
       "      <td>2</td>\n",
       "      <td>1</td>\n",
       "      <td>1083</td>\n",
       "      <td>1965</td>\n",
       "      <td>0</td>\n",
       "      <td>0</td>\n",
       "      <td>0</td>\n",
       "      <td>0</td>\n",
       "      <td>49</td>\n",
       "      <td>0</td>\n",
       "      <td>1</td>\n",
       "    </tr>\n",
       "  </tbody>\n",
       "</table>\n",
       "</div>"
      ],
      "text/plain": [
       "     year_sold  property_tax  insurance  beds  baths  sqft  year_built  \\\n",
       "142       2014           190         66     2      1  1083        1965   \n",
       "\n",
       "     lot_size  basement  popular  recession  property_age  \\\n",
       "142         0         0        0          0            49   \n",
       "\n",
       "     property_type_Bunglow  property_type_Condo  \n",
       "142                      0                    1  "
      ]
     },
     "execution_count": 97,
     "metadata": {},
     "output_type": "execute_result"
    }
   ],
   "source": [
    "x_test.head(1)"
   ]
  },
  {
   "cell_type": "code",
   "execution_count": null,
   "metadata": {
    "id": "kURtIelWgHi9"
   },
   "outputs": [],
   "source": []
  },
  {
   "cell_type": "code",
   "execution_count": null,
   "metadata": {},
   "outputs": [],
   "source": []
  }
 ],
 "metadata": {
  "anaconda-cloud": {},
  "colab": {
   "provenance": []
  },
  "kernelspec": {
   "display_name": "Python [conda env:base] *",
   "language": "python",
   "name": "conda-base-py"
  },
  "language_info": {
   "codemirror_mode": {
    "name": "ipython",
    "version": 3
   },
   "file_extension": ".py",
   "mimetype": "text/x-python",
   "name": "python",
   "nbconvert_exporter": "python",
   "pygments_lexer": "ipython3",
   "version": "3.12.4"
  }
 },
 "nbformat": 4,
 "nbformat_minor": 4
}
