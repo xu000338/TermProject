{
 "cells": [
  {
   "cell_type": "markdown",
   "metadata": {
    "id": "loKmDH1ICqzh"
   },
   "source": [
    "# Classification Agorithms"
   ]
  },
  {
   "cell_type": "markdown",
   "metadata": {
    "id": "Z_fGl8o4J2FR"
   },
   "source": [
    "## **Loan Eligibility Prediction Model**"
   ]
  },
  {
   "cell_type": "markdown",
   "metadata": {
    "id": "K8I9iShjCqzm"
   },
   "source": [
    "### Project Scope:\n",
    "\n",
    "Loans form an integral part of banking operations. However, not all loans are returned and hence it is important for a bank to closely moniter its loan applications. This case study is an analysis of the German Credit data. It contains details of 614 loan applicants with 13 attributes and the classification whether an applicant was granted loan or denied loan.\n",
    "\n",
    "**Your role:** Using the available dataset, train a classification model to predict whether an applicant should be given loan.\n",
    "\n",
    "**Goal:** Build a model to predict loan eligiblity with an average acuracy of more than 76%\n",
    "\n",
    "**Specifics:**\n",
    "\n",
    "* Machine Learning task: Classification model\n",
    "* Target variable: Loan_Approved\n",
    "* Input variables: Refer to data dictionary below\n",
    "* Success Criteria: Accuracy of 76% and above\n"
   ]
  },
  {
   "cell_type": "markdown",
   "metadata": {
    "id": "uiH7Iah1Cqzm"
   },
   "source": [
    "## Data Dictionary:\n",
    "\n",
    "* **Loan_ID:** Applicant ID\n",
    "* **Gender:** Gender of the applicant Male/Female\n",
    "* **Married:** Marital status of the applicant\n",
    "* **Dependents:** Number of dependants the applicant has\n",
    "* **Education:** Highest level of education\n",
    "* **Self_Employed:** Whether self-employed Yes/No\n",
    "* **ApplicantIncome:** Income of the applicant per month\n",
    "* **CoapplicantIncome:** Income of the co-applicant per month\n",
    "* **LoanAmount:** Loan amount requested in *1000 dollars\n",
    "* **Loan_Amount_Term:** Term of the loan in months\n",
    "* **Credit_History:** Whether applicant has a credit history\n",
    "* **Property_Area:** Current property location\n",
    "* **Loan_Approved:** Loan approved yes/no"
   ]
  },
  {
   "cell_type": "markdown",
   "metadata": {
    "id": "RYOHc68YujYE"
   },
   "source": [
    "## **Data Analysis and Data Prep**"
   ]
  },
  {
   "cell_type": "markdown",
   "metadata": {
    "id": "lc_kizYoJ2FS"
   },
   "source": [
    "### Loading all the necessary packages"
   ]
  },
  {
   "cell_type": "code",
   "execution_count": null,
   "metadata": {
    "id": "AkAmUuumJ2FU"
   },
   "outputs": [],
   "source": [
    "import pandas as pd\n",
    "import numpy as np\n",
    "import seaborn as sns\n",
    "import matplotlib.pyplot as plt\n",
    "%matplotlib inline\n",
    "import warnings\n",
    "warnings.filterwarnings(\"ignore\")"
   ]
  },
  {
   "cell_type": "markdown",
   "metadata": {
    "id": "ZsJCxVwOJ2FU"
   },
   "source": [
    "### Reading the data"
   ]
  },
  {
   "cell_type": "code",
   "execution_count": null,
   "metadata": {
    "colab": {
     "base_uri": "https://localhost:8080/",
     "height": 243
    },
    "id": "LPxkm7y6J2FW",
    "outputId": "8616d579-ddbb-4209-cd8c-067b8342e03e"
   },
   "outputs": [],
   "source": [
    "# Import the data from 'credit.csv'\n",
    "df = pd.read_csv('credit.csv')\n",
    "df.head(5)"
   ]
  },
  {
   "cell_type": "code",
   "execution_count": null,
   "metadata": {
    "colab": {
     "base_uri": "https://localhost:8080/"
    },
    "id": "Y75rhCRNCqzp",
    "outputId": "2b9151ba-e475-4ebf-ebb4-1e518ca4d28d"
   },
   "outputs": [],
   "source": [
    "# check the number of rows and observations\n",
    "df.shape"
   ]
  },
  {
   "cell_type": "code",
   "execution_count": null,
   "metadata": {
    "colab": {
     "base_uri": "https://localhost:8080/",
     "height": 463
    },
    "id": "MwgS6DwLJ2FX",
    "outputId": "a6cf99a7-b23a-47ee-a364-ec603b380cf0"
   },
   "outputs": [],
   "source": [
    "# How many application were approved and how many were denied?\n",
    "df['Loan_Approved'].value_counts().plot.bar()"
   ]
  },
  {
   "cell_type": "markdown",
   "metadata": {
    "id": "bd1ibbDJJ2FY"
   },
   "source": [
    "422 people (around 69%) out of 614 were approved for loan"
   ]
  },
  {
   "cell_type": "markdown",
   "metadata": {
    "id": "vQniuFLiJ2FZ"
   },
   "source": [
    "### Missing value imputation"
   ]
  },
  {
   "cell_type": "code",
   "execution_count": null,
   "metadata": {
    "colab": {
     "base_uri": "https://localhost:8080/",
     "height": 491
    },
    "id": "swWiCMPFJ2FZ",
    "outputId": "4496f596-38e9-4f85-d762-db9e1c752ddb"
   },
   "outputs": [],
   "source": [
    "# check for missing values in each variable\n",
    "df.isnull().sum()"
   ]
  },
  {
   "cell_type": "markdown",
   "metadata": {
    "id": "roM2r5WwJ2Fa"
   },
   "source": [
    "Consider these methods to fill in the missing values:\n",
    "* For numerical variables: imputate using mean or median\n",
    "* For categorical variables: imputate using mode\n",
    "\n",
    "For e.g.\n",
    "In the `Loan_Amount_Term` variable, the value of 360 is repeating the most.\n",
    "\n",
    "You can check that by using `train['Loan_Amount_Term'].value_counts()`\n",
    "\n",
    "So you will replace the missing values in this variable using the mode of this variable. i.e. 360\n",
    "\n",
    "\n",
    "\n",
    "For the `LoanAmount` variable, check if the variable has ouliers by plotting a box plot. If there are outliers use the median to fill the null values since mean is highly affected by the presence of outliers. If there are no outliers use mean to impute missing values in `LoanAmount'"
   ]
  },
  {
   "cell_type": "markdown",
   "metadata": {
    "id": "wehUoyL_J2Fa"
   },
   "source": [
    "    "
   ]
  },
  {
   "cell_type": "code",
   "execution_count": null,
   "metadata": {
    "colab": {
     "base_uri": "https://localhost:8080/",
     "height": 491
    },
    "id": "ZyY31_5tCqzq",
    "outputId": "1564f563-3336-4616-bd41-623949eb281a"
   },
   "outputs": [],
   "source": [
    "df.dtypes"
   ]
  },
  {
   "cell_type": "code",
   "execution_count": null,
   "metadata": {
    "colab": {
     "base_uri": "https://localhost:8080/",
     "height": 178
    },
    "id": "sthKGwZ6Fdpe",
    "outputId": "a8824ca8-9759-4727-b611-92d81ed67265"
   },
   "outputs": [],
   "source": [
    "df['Gender'].value_counts()"
   ]
  },
  {
   "cell_type": "code",
   "execution_count": null,
   "metadata": {
    "colab": {
     "base_uri": "https://localhost:8080/",
     "height": 35
    },
    "id": "RnnivgCvCqzr",
    "outputId": "1fbba53d-1293-4877-c4b9-7f41b2147dc0"
   },
   "outputs": [],
   "source": [
    "df['Dependents'].mode()[0]"
   ]
  },
  {
   "cell_type": "code",
   "execution_count": null,
   "metadata": {
    "id": "8fj3G_JCCqzr",
    "outputId": "042c1476-03ac-4b3b-92a8-2b69b91acdc8"
   },
   "outputs": [],
   "source": [
    "sns.distplot(df['LoanAmount'])"
   ]
  },
  {
   "cell_type": "code",
   "execution_count": null,
   "metadata": {
    "id": "4BowtVU5nOYr"
   },
   "outputs": [],
   "source": [
    "# convert columns to object type\n",
    "df['Credit_History'] = df['Credit_History'].astype('object')\n",
    "df['Loan_Amount_Term'] = df['Loan_Amount_Term'].astype('object')"
   ]
  },
  {
   "cell_type": "code",
   "execution_count": null,
   "metadata": {
    "colab": {
     "base_uri": "https://localhost:8080/",
     "height": 460
    },
    "id": "UYkIbwiAp3EZ",
    "outputId": "5645670b-2f00-446e-d830-86235f0e4c53"
   },
   "outputs": [],
   "source": [
    "df.dtypes"
   ]
  },
  {
   "cell_type": "code",
   "execution_count": null,
   "metadata": {
    "colab": {
     "base_uri": "https://localhost:8080/",
     "height": 35
    },
    "id": "WLtYOBHPntSs",
    "outputId": "a11fab8d-c97a-4f52-c62e-a9df927a7e95"
   },
   "outputs": [],
   "source": [
    "df['Married'].mode()[0]"
   ]
  },
  {
   "cell_type": "code",
   "execution_count": null,
   "metadata": {
    "id": "kfpwiE-4J2Fb"
   },
   "outputs": [],
   "source": [
    "# impute all missing values in all the features\n",
    "#Categorical variables\n",
    "df['Gender'].fillna('Male', inplace=True)\n",
    "df['Married'].fillna(df['Married'].mode()[0], inplace=True)\n",
    "df['Dependents'].fillna(df['Dependents'].mode()[0], inplace=True)\n",
    "df['Self_Employed'].fillna(df['Self_Employed'].mode()[0], inplace=True)\n",
    "df['Loan_Amount_Term'].fillna(df['Loan_Amount_Term'].mode()[0], inplace=True)\n",
    "df['Credit_History'].fillna(df['Credit_History'].mode()[0], inplace=True)\n",
    "\n",
    "#Numerical variable\n",
    "df['LoanAmount'].fillna(df['LoanAmount'].median(), inplace=True)\n"
   ]
  },
  {
   "cell_type": "code",
   "execution_count": null,
   "metadata": {
    "colab": {
     "base_uri": "https://localhost:8080/",
     "height": 460
    },
    "id": "xObYJfwvJ2Fc",
    "outputId": "2ffeff93-acc4-49e2-e47e-063925994473"
   },
   "outputs": [],
   "source": [
    "# Confirm if there are any missing values left\n",
    "df.isnull().sum()"
   ]
  },
  {
   "cell_type": "markdown",
   "metadata": {
    "id": "Iid-Mm7SvKLH"
   },
   "source": [
    "### Data Prep"
   ]
  },
  {
   "cell_type": "code",
   "execution_count": null,
   "metadata": {
    "id": "bugRmqB-Cqzr"
   },
   "outputs": [],
   "source": [
    "# drop 'Loan_ID' variable from the data. We won't need it.\n",
    "df = df.drop('Loan_ID', axis=1)"
   ]
  },
  {
   "cell_type": "code",
   "execution_count": null,
   "metadata": {
    "colab": {
     "base_uri": "https://localhost:8080/",
     "height": 163
    },
    "id": "QZg_UQYKG1c5",
    "outputId": "11b1c716-384b-42ce-b2d6-ef5cc00df213"
   },
   "outputs": [],
   "source": [
    "df.head(3)"
   ]
  },
  {
   "cell_type": "code",
   "execution_count": null,
   "metadata": {
    "colab": {
     "base_uri": "https://localhost:8080/",
     "height": 460
    },
    "id": "OEerj1kOCqzr",
    "outputId": "f39c7e1c-9848-4293-f656-0c5f5b89d734"
   },
   "outputs": [],
   "source": [
    "df.dtypes"
   ]
  },
  {
   "cell_type": "code",
   "execution_count": null,
   "metadata": {
    "id": "7FF2N_g9H2XC"
   },
   "outputs": [],
   "source": [
    "raw = df.copy()"
   ]
  },
  {
   "cell_type": "code",
   "execution_count": null,
   "metadata": {
    "colab": {
     "base_uri": "https://localhost:8080/",
     "height": 414
    },
    "id": "IZ4W5yYOJYs3",
    "outputId": "4dd3fb6c-9925-429e-dd07-f04d9f5cf496"
   },
   "outputs": [],
   "source": [
    "df.describe(include='all')"
   ]
  },
  {
   "cell_type": "code",
   "execution_count": null,
   "metadata": {
    "colab": {
     "base_uri": "https://localhost:8080/",
     "height": 132
    },
    "id": "32kni5K0qk2C",
    "outputId": "29608fca-c9a9-4b17-c9a9-a8b20ea9c590"
   },
   "outputs": [],
   "source": [
    "df.head(2)"
   ]
  },
  {
   "cell_type": "code",
   "execution_count": null,
   "metadata": {
    "colab": {
     "base_uri": "https://localhost:8080/",
     "height": 178
    },
    "id": "V1NmYaK-Cqzr",
    "outputId": "b88dec3b-60b0-49d6-d2d0-855ba5c63b42"
   },
   "outputs": [],
   "source": [
    "# Create dummy variables for all 'object' type variables except 'Loan_Status'\n",
    "df = pd.get_dummies(df, columns=['Gender', 'Married', 'Dependents','Education','Self_Employed','Property_Area'], dtype=int)\n",
    "df.head(2)"
   ]
  },
  {
   "cell_type": "code",
   "execution_count": null,
   "metadata": {
    "colab": {
     "base_uri": "https://localhost:8080/",
     "height": 178
    },
    "id": "S285OaXprWLX",
    "outputId": "b3bb1be5-6e0b-4b68-e3e2-64e104945b10"
   },
   "outputs": [],
   "source": [
    "# replace values in Loan_approved column\n",
    "df['Loan_Approved'] = df['Loan_Approved'].replace({'Y':1, 'N':0})\n",
    "df.head(2)"
   ]
  },
  {
   "cell_type": "code",
   "execution_count": null,
   "metadata": {
    "id": "eJHnli8vJ2Fk"
   },
   "outputs": [],
   "source": [
    "# saving this procewssed dataset\n",
    "df.to_csv('Processed_Credit_Dataset.csv', index=None)"
   ]
  },
  {
   "cell_type": "markdown",
   "metadata": {
    "id": "kO38zz_lvQlb"
   },
   "source": [
    "### Data Partition"
   ]
  },
  {
   "cell_type": "code",
   "execution_count": null,
   "metadata": {
    "id": "Pq-bHTPlJ2Fn"
   },
   "outputs": [],
   "source": [
    "# Seperate the input features and target variable\n",
    "x = df.drop('Loan_Approved',axis=1)\n",
    "y = df.Loan_Approved"
   ]
  },
  {
   "cell_type": "markdown",
   "metadata": {
    "id": "B2kDu-VHJ2Fn"
   },
   "source": [
    "    "
   ]
  },
  {
   "cell_type": "code",
   "execution_count": null,
   "metadata": {
    "id": "m4VrDseVJ2Fn"
   },
   "outputs": [],
   "source": [
    "# splitting the data in training and testing set\n",
    "from sklearn.model_selection import train_test_split\n",
    "xtrain, xtest, ytrain, ytest = train_test_split(x,y, test_size=0.2, stratify=y)"
   ]
  },
  {
   "cell_type": "code",
   "execution_count": null,
   "metadata": {
    "colab": {
     "base_uri": "https://localhost:8080/"
    },
    "id": "vHL9OtXVI7GN",
    "outputId": "57974343-5497-4672-85f3-de3212709838"
   },
   "outputs": [],
   "source": [
    "df.shape"
   ]
  },
  {
   "cell_type": "code",
   "execution_count": null,
   "metadata": {
    "colab": {
     "base_uri": "https://localhost:8080/"
    },
    "id": "SzRQ8H5EJ2Fo",
    "outputId": "8d3bb79d-9267-4ea6-8f0d-8f573e7fb117"
   },
   "outputs": [],
   "source": [
    "xtrain.shape, xtest.shape, ytrain.shape, ytest.shape"
   ]
  },
  {
   "cell_type": "code",
   "execution_count": null,
   "metadata": {
    "id": "QJCUfN1JCqzs"
   },
   "outputs": [],
   "source": [
    "# scale the data using min-max scalar\n",
    "from sklearn.preprocessing import MinMaxScaler\n",
    "scale = MinMaxScaler()"
   ]
  },
  {
   "cell_type": "code",
   "execution_count": null,
   "metadata": {
    "colab": {
     "base_uri": "https://localhost:8080/",
     "height": 149
    },
    "id": "pBN4JxrYw6mH",
    "outputId": "3747c149-f449-44da-a344-6de7563cbc7f"
   },
   "outputs": [],
   "source": [
    "xtrain.head(2)"
   ]
  },
  {
   "cell_type": "code",
   "execution_count": null,
   "metadata": {
    "id": "9dAuM_-3Cqzs"
   },
   "outputs": [],
   "source": [
    "# Fit-transform on train data\n",
    "xtrain_scaled = scale.fit_transform(xtrain)\n",
    "xtest_scaled = scale.transform(xtest)"
   ]
  },
  {
   "cell_type": "markdown",
   "metadata": {
    "id": "02KgOdrpCqzs"
   },
   "source": [
    "    "
   ]
  },
  {
   "cell_type": "markdown",
   "metadata": {
    "id": "UMjkOp4WN4A6"
   },
   "source": [
    "# **Models**"
   ]
  },
  {
   "cell_type": "markdown",
   "metadata": {
    "id": "NKdgM9xqxqb-"
   },
   "source": [
    "## <font color='chocolate'>**1. Logistic Regression**</font>"
   ]
  },
  {
   "cell_type": "code",
   "execution_count": null,
   "metadata": {
    "id": "EGT-Zek_yNEk"
   },
   "outputs": [],
   "source": [
    "from sklearn.linear_model import LogisticRegression\n",
    "\n",
    "lrmodel = LogisticRegression().fit(xtrain_scaled, ytrain)"
   ]
  },
  {
   "cell_type": "code",
   "execution_count": null,
   "metadata": {
    "colab": {
     "base_uri": "https://localhost:8080/"
    },
    "id": "SPohSDFZyXAh",
    "outputId": "3a38af57-00fb-4306-824d-17b996373ec6"
   },
   "outputs": [],
   "source": [
    "# Predict the loan eligibility on testing set and calculate its accuracy.\n",
    "# First, from sklearn.metrics import accuracy_score and confusion_matrix\n",
    "from sklearn.metrics import accuracy_score, confusion_matrix\n",
    "\n",
    "ypred = lrmodel.predict(xtest_scaled)\n",
    "\n",
    "accuracy_score(ypred, ytest)"
   ]
  },
  {
   "cell_type": "code",
   "execution_count": null,
   "metadata": {
    "id": "FpkpO_IiCqzx",
    "outputId": "8c0a1b81-6c5f-4b27-eecf-cd8abaf839e1"
   },
   "outputs": [],
   "source": [
    "ypred"
   ]
  },
  {
   "cell_type": "code",
   "execution_count": null,
   "metadata": {
    "colab": {
     "base_uri": "https://localhost:8080/",
     "height": 458
    },
    "id": "9wmeJoUkyUCc",
    "outputId": "a4a0414e-5ed8-4967-bfbc-8031cf5fda17"
   },
   "outputs": [],
   "source": [
    "ytest"
   ]
  },
  {
   "cell_type": "code",
   "execution_count": null,
   "metadata": {
    "colab": {
     "base_uri": "https://localhost:8080/"
    },
    "id": "8-JuvCPzCqzx",
    "outputId": "a1b46174-5d07-4ce5-eb92-c6e0b65e823f"
   },
   "outputs": [],
   "source": [
    "# Print the confusion matrix\n",
    "confusion_matrix(ytest, ypred)"
   ]
  },
  {
   "cell_type": "code",
   "execution_count": null,
   "metadata": {
    "id": "3pVWqxStCqzx"
   },
   "outputs": [],
   "source": [
    "# to check how probabilities are assigned\n",
    "pypred = lrmodel.predict_proba(xtest_scaled)"
   ]
  },
  {
   "cell_type": "code",
   "execution_count": null,
   "metadata": {
    "id": "_NRslN9TzN0e"
   },
   "outputs": [],
   "source": [
    "pypred"
   ]
  },
  {
   "cell_type": "code",
   "execution_count": null,
   "metadata": {
    "id": "H9EmHTOtCqzx"
   },
   "outputs": [],
   "source": [
    "# to change the default threshold and to make it 70% and above\n",
    "proba_pred = (pypred[:, 1] >= 0.7).astype(int)"
   ]
  },
  {
   "cell_type": "code",
   "execution_count": null,
   "metadata": {
    "colab": {
     "base_uri": "https://localhost:8080/"
    },
    "id": "HTUw9EGKzoVv",
    "outputId": "e55c45af-f254-4e96-d871-4d8407ed2563"
   },
   "outputs": [],
   "source": [
    "accuracy_score(proba_pred, ytest)"
   ]
  },
  {
   "cell_type": "markdown",
   "metadata": {
    "id": "RGBl4nqaCqzy"
   },
   "source": [
    "    "
   ]
  },
  {
   "cell_type": "markdown",
   "metadata": {
    "id": "WU_fkGPkJ2Fo"
   },
   "source": [
    "## <font color='chocolate'>**2. Random Forest**"
   ]
  },
  {
   "cell_type": "code",
   "execution_count": null,
   "metadata": {
    "id": "KeZaDpheJ2Fp"
   },
   "outputs": [],
   "source": [
    "# Import RandomForestClassifier\n",
    "from sklearn.ensemble import RandomForestClassifier"
   ]
  },
  {
   "cell_type": "code",
   "execution_count": null,
   "metadata": {
    "colab": {
     "base_uri": "https://localhost:8080/"
    },
    "id": "IH7Qr18iJ2Fp",
    "outputId": "be14b25d-1306-4f02-a210-5a2840c2d366"
   },
   "outputs": [],
   "source": [
    "# Let's list the tunable hyperparameters for Random Forest algorithm\n",
    "RandomForestClassifier().get_params()"
   ]
  },
  {
   "cell_type": "markdown",
   "metadata": {
    "id": "Qynt51fiJ2Fp"
   },
   "source": [
    "For random forests,\n",
    "\n",
    "* The first hyperparameter to tune is n_estimators. We will try 100 and 200.\n",
    "\n",
    "* The second one is max_features. Let's try - 'auto', 'sqrt', and 0.33.\n",
    "\n",
    "* The third one is Max_depth. Let's try - 3, 4"
   ]
  },
  {
   "cell_type": "code",
   "execution_count": null,
   "metadata": {
    "colab": {
     "base_uri": "https://localhost:8080/"
    },
    "id": "gKRjR-h50kDt",
    "outputId": "b3938538-cff6-47ef-abca-c33cad12d58f"
   },
   "outputs": [],
   "source": [
    "xtrain.shape"
   ]
  },
  {
   "cell_type": "markdown",
   "metadata": {
    "id": "95G4ANMQ0utP"
   },
   "source": [
    "### Hyperparameter Tuning"
   ]
  },
  {
   "cell_type": "code",
   "execution_count": null,
   "metadata": {
    "colab": {
     "base_uri": "https://localhost:8080/"
    },
    "id": "Ps6nxSyZCqzy",
    "outputId": "0e0e8681-49a6-4029-9661-0e6cc18b1132"
   },
   "outputs": [],
   "source": [
    "rfmodel = RandomForestClassifier(n_estimators=2,\n",
    "                                 max_depth=2,\n",
    "                                 max_features=10)\n",
    "rfmodel.fit(xtrain, ytrain)\n",
    "\n",
    "# predict on xtest\n",
    "ypred = rfmodel.predict(xtest)\n",
    "\n",
    "from sklearn.metrics import accuracy_score, confusion_matrix\n",
    "\n",
    "print(accuracy_score(ypred, ytest),'\\n')\n",
    "print(confusion_matrix(ytest, ypred))"
   ]
  },
  {
   "cell_type": "code",
   "execution_count": null,
   "metadata": {
    "colab": {
     "base_uri": "https://localhost:8080/"
    },
    "id": "XJG8C7WH13eZ",
    "outputId": "e0fe8262-6e87-4a96-9fdf-a6c6c3b5ed1f"
   },
   "outputs": [],
   "source": [
    "# plot a feature importance chart\n",
    "rfmodel.feature_importances_"
   ]
  },
  {
   "cell_type": "markdown",
   "metadata": {
    "id": "04CwIECwCqzy"
   },
   "source": [
    "    "
   ]
  },
  {
   "cell_type": "markdown",
   "metadata": {
    "id": "QnRXbsinCqzy"
   },
   "source": [
    "## Cross Validation"
   ]
  },
  {
   "cell_type": "code",
   "execution_count": null,
   "metadata": {
    "id": "lKPBdZ5kCqzy"
   },
   "outputs": [],
   "source": [
    "# import rquired libraries\n",
    "from sklearn.model_selection import cross_val_score\n",
    "from sklearn.model_selection import KFold\n",
    "\n",
    "# if you have a imbalanced dataset, you can use stratifiedKFold\n",
    "from sklearn.model_selection import StratifiedKFold"
   ]
  },
  {
   "cell_type": "markdown",
   "metadata": {
    "id": "wkj-04gACqzy"
   },
   "source": [
    "### For Logistic Regression"
   ]
  },
  {
   "cell_type": "code",
   "execution_count": null,
   "metadata": {
    "id": "7_d5WX0aCqzz",
    "outputId": "9308e493-3890-40b1-d449-4430f59774dc"
   },
   "outputs": [],
   "source": [
    "# Set up a KFold cross-validation\n",
    "kfold = KFold(n_splits=5)\n",
    "\n",
    "# Use cross-validation to evaluate the model\n",
    "lr_scores = cross_val_score(lrmodel, xtrain_scaled, ytrain, cv=kfold)\n",
    "\n",
    "# Print the accuracy scores for each fold\n",
    "print(\"Accuracy scores:\", lr_scores)\n",
    "\n",
    "# Print the mean accuracy and standard deviation of the model\n",
    "print(\"Mean accuracy:\", lr_scores.mean())\n",
    "print(\"Standard deviation:\", lr_scores.std())\n"
   ]
  },
  {
   "cell_type": "markdown",
   "metadata": {
    "id": "01GSjBDtCqzz"
   },
   "source": [
    "### For Random Forest"
   ]
  },
  {
   "cell_type": "code",
   "execution_count": null,
   "metadata": {
    "id": "fjAiPTRtCqzz",
    "outputId": "873eef1a-ebd9-4518-f7bc-bd4553efb899"
   },
   "outputs": [],
   "source": [
    "# Set up a KFold cross-validation\n",
    "kfold = KFold(n_splits=5)\n",
    "\n",
    "# Use cross-validation to evaluate the model\n",
    "rf_scores = cross_val_score(rfmodel, xtrain_scaled, ytrain, cv=kfold)\n",
    "\n",
    "# Print the accuracy scores for each fold\n",
    "print(\"Accuracy scores:\", rf_scores)\n",
    "\n",
    "# Print the mean accuracy and standard deviation of the model\n",
    "print(\"Mean accuracy:\", rf_scores.mean())\n",
    "print(\"Standard deviation:\", rf_scores.std())\n"
   ]
  },
  {
   "cell_type": "markdown",
   "metadata": {
    "id": "wN7keH6NCqzz"
   },
   "source": [
    "### Note:\n",
    "\n",
    "1. By using cross-validation, we can get a better estimate of the performance of the model than by using a single train-test split. This is because cross-validation uses all the data for training and testing, and averages the results over multiple iterations, which helps to reduce the impact of random variations in the data.\n",
    "<br><br>\n",
    "2. **StratifiedKFold** is a variation of KFold that preserves the proportion of samples for each class in each fold. This is important when the target variable is imbalanced, i.e., when some classes have many more samples than others. By preserving the class proportions in each fold, StratifiedKFold ensures that each fold is representative of the overall dataset and helps to avoid overfitting or underfitting on specific classes."
   ]
  }
 ],
 "metadata": {
  "colab": {
   "collapsed_sections": [
    "kO38zz_lvQlb",
    "WU_fkGPkJ2Fo"
   ],
   "provenance": []
  },
  "kernelspec": {
   "display_name": "Python 3 (ipykernel)",
   "language": "python",
   "name": "python3"
  },
  "language_info": {
   "codemirror_mode": {
    "name": "ipython",
    "version": 3
   },
   "file_extension": ".py",
   "mimetype": "text/x-python",
   "name": "python",
   "nbconvert_exporter": "python",
   "pygments_lexer": "ipython3",
   "version": "3.12.4"
  }
 },
 "nbformat": 4,
 "nbformat_minor": 4
}
