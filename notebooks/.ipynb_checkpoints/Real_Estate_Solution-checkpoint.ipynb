{
 "cells": [
  {
   "cell_type": "markdown",
   "metadata": {
    "id": "2-Gwity-gHiz"
   },
   "source": [
    "# Model Training"
   ]
  },
  {
   "cell_type": "markdown",
   "metadata": {
    "id": "AxNwUIsQgHi0"
   },
   "source": [
    "### scikit - learn\n",
    "\n",
    "https://scikit-learn.org/stable/\n",
    "\n",
    "scikitlearn (sklearn) provides simple and efficient tools for predictive data analysis. It is built on NumPy, SciPy, and matplotlib."
   ]
  },
  {
   "cell_type": "markdown",
   "metadata": {
    "id": "eG6qGnPngHi1"
   },
   "source": [
    "First thing, Import all the libraries"
   ]
  },
  {
   "cell_type": "code",
   "execution_count": 221,
   "metadata": {
    "id": "Vgez9u1EgHi1"
   },
   "outputs": [],
   "source": [
    "import pandas as pd\n",
    "import numpy as np\n",
    "import matplotlib.pyplot as plt\n",
    "%matplotlib inline\n",
    "pd.set_option('display.max_columns', 50)"
   ]
  },
  {
   "cell_type": "code",
   "execution_count": 223,
   "metadata": {
    "colab": {
     "base_uri": "https://localhost:8080/",
     "height": 226
    },
    "id": "dgooU9oygHi1",
    "outputId": "a140c58f-3259-456d-9f3c-2dd65dac72b1",
    "scrolled": true
   },
   "outputs": [
    {
     "data": {
      "text/html": [
       "<div>\n",
       "<style scoped>\n",
       "    .dataframe tbody tr th:only-of-type {\n",
       "        vertical-align: middle;\n",
       "    }\n",
       "\n",
       "    .dataframe tbody tr th {\n",
       "        vertical-align: top;\n",
       "    }\n",
       "\n",
       "    .dataframe thead th {\n",
       "        text-align: right;\n",
       "    }\n",
       "</style>\n",
       "<table border=\"1\" class=\"dataframe\">\n",
       "  <thead>\n",
       "    <tr style=\"text-align: right;\">\n",
       "      <th></th>\n",
       "      <th>price</th>\n",
       "      <th>year_sold</th>\n",
       "      <th>property_tax</th>\n",
       "      <th>insurance</th>\n",
       "      <th>beds</th>\n",
       "      <th>baths</th>\n",
       "      <th>sqft</th>\n",
       "      <th>year_built</th>\n",
       "      <th>lot_size</th>\n",
       "      <th>basement</th>\n",
       "      <th>popular</th>\n",
       "      <th>recession</th>\n",
       "      <th>property_age</th>\n",
       "      <th>property_type_Bunglow</th>\n",
       "      <th>property_type_Condo</th>\n",
       "    </tr>\n",
       "  </thead>\n",
       "  <tbody>\n",
       "    <tr>\n",
       "      <th>0</th>\n",
       "      <td>295850</td>\n",
       "      <td>2013</td>\n",
       "      <td>234</td>\n",
       "      <td>81</td>\n",
       "      <td>1</td>\n",
       "      <td>1</td>\n",
       "      <td>584</td>\n",
       "      <td>2013</td>\n",
       "      <td>0</td>\n",
       "      <td>0</td>\n",
       "      <td>0</td>\n",
       "      <td>1</td>\n",
       "      <td>0</td>\n",
       "      <td>0</td>\n",
       "      <td>1</td>\n",
       "    </tr>\n",
       "    <tr>\n",
       "      <th>1</th>\n",
       "      <td>216500</td>\n",
       "      <td>2006</td>\n",
       "      <td>169</td>\n",
       "      <td>51</td>\n",
       "      <td>1</td>\n",
       "      <td>1</td>\n",
       "      <td>612</td>\n",
       "      <td>1965</td>\n",
       "      <td>0</td>\n",
       "      <td>1</td>\n",
       "      <td>0</td>\n",
       "      <td>0</td>\n",
       "      <td>41</td>\n",
       "      <td>0</td>\n",
       "      <td>1</td>\n",
       "    </tr>\n",
       "    <tr>\n",
       "      <th>2</th>\n",
       "      <td>279900</td>\n",
       "      <td>2012</td>\n",
       "      <td>216</td>\n",
       "      <td>74</td>\n",
       "      <td>1</td>\n",
       "      <td>1</td>\n",
       "      <td>615</td>\n",
       "      <td>1963</td>\n",
       "      <td>0</td>\n",
       "      <td>0</td>\n",
       "      <td>0</td>\n",
       "      <td>1</td>\n",
       "      <td>49</td>\n",
       "      <td>0</td>\n",
       "      <td>1</td>\n",
       "    </tr>\n",
       "    <tr>\n",
       "      <th>3</th>\n",
       "      <td>379900</td>\n",
       "      <td>2005</td>\n",
       "      <td>265</td>\n",
       "      <td>92</td>\n",
       "      <td>1</td>\n",
       "      <td>1</td>\n",
       "      <td>618</td>\n",
       "      <td>2000</td>\n",
       "      <td>33541</td>\n",
       "      <td>0</td>\n",
       "      <td>0</td>\n",
       "      <td>0</td>\n",
       "      <td>5</td>\n",
       "      <td>0</td>\n",
       "      <td>1</td>\n",
       "    </tr>\n",
       "    <tr>\n",
       "      <th>4</th>\n",
       "      <td>340000</td>\n",
       "      <td>2002</td>\n",
       "      <td>88</td>\n",
       "      <td>30</td>\n",
       "      <td>1</td>\n",
       "      <td>1</td>\n",
       "      <td>634</td>\n",
       "      <td>1992</td>\n",
       "      <td>0</td>\n",
       "      <td>0</td>\n",
       "      <td>0</td>\n",
       "      <td>0</td>\n",
       "      <td>10</td>\n",
       "      <td>0</td>\n",
       "      <td>1</td>\n",
       "    </tr>\n",
       "  </tbody>\n",
       "</table>\n",
       "</div>"
      ],
      "text/plain": [
       "    price  year_sold  property_tax  insurance  beds  baths  sqft  year_built  \\\n",
       "0  295850       2013           234         81     1      1   584        2013   \n",
       "1  216500       2006           169         51     1      1   612        1965   \n",
       "2  279900       2012           216         74     1      1   615        1963   \n",
       "3  379900       2005           265         92     1      1   618        2000   \n",
       "4  340000       2002            88         30     1      1   634        1992   \n",
       "\n",
       "   lot_size  basement  popular  recession  property_age  \\\n",
       "0         0         0        0          1             0   \n",
       "1         0         1        0          0            41   \n",
       "2         0         0        0          1            49   \n",
       "3     33541         0        0          0             5   \n",
       "4         0         0        0          0            10   \n",
       "\n",
       "   property_type_Bunglow  property_type_Condo  \n",
       "0                      0                    1  \n",
       "1                      0                    1  \n",
       "2                      0                    1  \n",
       "3                      0                    1  \n",
       "4                      0                    1  "
      ]
     },
     "execution_count": 223,
     "metadata": {},
     "output_type": "execute_result"
    }
   ],
   "source": [
    "# next load the data\n",
    "df = pd.read_csv('final.csv')\n",
    "df.head()"
   ]
  },
  {
   "cell_type": "code",
   "execution_count": 225,
   "metadata": {
    "colab": {
     "base_uri": "https://localhost:8080/",
     "height": 226
    },
    "id": "HrjjVZjVhayp",
    "outputId": "24fedb92-d454-47fe-eef6-0f486b4d301c"
   },
   "outputs": [
    {
     "data": {
      "text/html": [
       "<div>\n",
       "<style scoped>\n",
       "    .dataframe tbody tr th:only-of-type {\n",
       "        vertical-align: middle;\n",
       "    }\n",
       "\n",
       "    .dataframe tbody tr th {\n",
       "        vertical-align: top;\n",
       "    }\n",
       "\n",
       "    .dataframe thead th {\n",
       "        text-align: right;\n",
       "    }\n",
       "</style>\n",
       "<table border=\"1\" class=\"dataframe\">\n",
       "  <thead>\n",
       "    <tr style=\"text-align: right;\">\n",
       "      <th></th>\n",
       "      <th>price</th>\n",
       "      <th>year_sold</th>\n",
       "      <th>property_tax</th>\n",
       "      <th>insurance</th>\n",
       "      <th>beds</th>\n",
       "      <th>baths</th>\n",
       "      <th>sqft</th>\n",
       "      <th>year_built</th>\n",
       "      <th>lot_size</th>\n",
       "      <th>basement</th>\n",
       "      <th>popular</th>\n",
       "      <th>recession</th>\n",
       "      <th>property_age</th>\n",
       "      <th>property_type_Bunglow</th>\n",
       "      <th>property_type_Condo</th>\n",
       "    </tr>\n",
       "  </thead>\n",
       "  <tbody>\n",
       "    <tr>\n",
       "      <th>1858</th>\n",
       "      <td>760000</td>\n",
       "      <td>2008</td>\n",
       "      <td>881</td>\n",
       "      <td>249</td>\n",
       "      <td>5</td>\n",
       "      <td>5</td>\n",
       "      <td>7842</td>\n",
       "      <td>2003</td>\n",
       "      <td>436035</td>\n",
       "      <td>1</td>\n",
       "      <td>0</td>\n",
       "      <td>0</td>\n",
       "      <td>5</td>\n",
       "      <td>1</td>\n",
       "      <td>0</td>\n",
       "    </tr>\n",
       "    <tr>\n",
       "      <th>1859</th>\n",
       "      <td>690000</td>\n",
       "      <td>2015</td>\n",
       "      <td>1553</td>\n",
       "      <td>473</td>\n",
       "      <td>5</td>\n",
       "      <td>6</td>\n",
       "      <td>6501</td>\n",
       "      <td>1956</td>\n",
       "      <td>23086</td>\n",
       "      <td>1</td>\n",
       "      <td>0</td>\n",
       "      <td>0</td>\n",
       "      <td>59</td>\n",
       "      <td>1</td>\n",
       "      <td>0</td>\n",
       "    </tr>\n",
       "    <tr>\n",
       "      <th>1860</th>\n",
       "      <td>600000</td>\n",
       "      <td>1999</td>\n",
       "      <td>942</td>\n",
       "      <td>287</td>\n",
       "      <td>5</td>\n",
       "      <td>6</td>\n",
       "      <td>7064</td>\n",
       "      <td>1995</td>\n",
       "      <td>217800</td>\n",
       "      <td>1</td>\n",
       "      <td>0</td>\n",
       "      <td>0</td>\n",
       "      <td>4</td>\n",
       "      <td>1</td>\n",
       "      <td>0</td>\n",
       "    </tr>\n",
       "    <tr>\n",
       "      <th>1861</th>\n",
       "      <td>759900</td>\n",
       "      <td>2009</td>\n",
       "      <td>803</td>\n",
       "      <td>245</td>\n",
       "      <td>5</td>\n",
       "      <td>6</td>\n",
       "      <td>7500</td>\n",
       "      <td>2006</td>\n",
       "      <td>8886</td>\n",
       "      <td>1</td>\n",
       "      <td>0</td>\n",
       "      <td>0</td>\n",
       "      <td>3</td>\n",
       "      <td>1</td>\n",
       "      <td>0</td>\n",
       "    </tr>\n",
       "    <tr>\n",
       "      <th>1862</th>\n",
       "      <td>735000</td>\n",
       "      <td>2015</td>\n",
       "      <td>1459</td>\n",
       "      <td>444</td>\n",
       "      <td>5</td>\n",
       "      <td>6</td>\n",
       "      <td>7515</td>\n",
       "      <td>1958</td>\n",
       "      <td>10497</td>\n",
       "      <td>1</td>\n",
       "      <td>0</td>\n",
       "      <td>0</td>\n",
       "      <td>57</td>\n",
       "      <td>1</td>\n",
       "      <td>0</td>\n",
       "    </tr>\n",
       "  </tbody>\n",
       "</table>\n",
       "</div>"
      ],
      "text/plain": [
       "       price  year_sold  property_tax  insurance  beds  baths  sqft  \\\n",
       "1858  760000       2008           881        249     5      5  7842   \n",
       "1859  690000       2015          1553        473     5      6  6501   \n",
       "1860  600000       1999           942        287     5      6  7064   \n",
       "1861  759900       2009           803        245     5      6  7500   \n",
       "1862  735000       2015          1459        444     5      6  7515   \n",
       "\n",
       "      year_built  lot_size  basement  popular  recession  property_age  \\\n",
       "1858        2003    436035         1        0          0             5   \n",
       "1859        1956     23086         1        0          0            59   \n",
       "1860        1995    217800         1        0          0             4   \n",
       "1861        2006      8886         1        0          0             3   \n",
       "1862        1958     10497         1        0          0            57   \n",
       "\n",
       "      property_type_Bunglow  property_type_Condo  \n",
       "1858                      1                    0  \n",
       "1859                      1                    0  \n",
       "1860                      1                    0  \n",
       "1861                      1                    0  \n",
       "1862                      1                    0  "
      ]
     },
     "execution_count": 225,
     "metadata": {},
     "output_type": "execute_result"
    }
   ],
   "source": [
    "df.tail()"
   ]
  },
  {
   "cell_type": "code",
   "execution_count": 227,
   "metadata": {
    "colab": {
     "base_uri": "https://localhost:8080/"
    },
    "id": "dow7Zwd4gHi2",
    "outputId": "487b0b52-f5f6-4817-bcf0-6406dd206458"
   },
   "outputs": [
    {
     "data": {
      "text/plain": [
       "(1863, 15)"
      ]
     },
     "execution_count": 227,
     "metadata": {},
     "output_type": "execute_result"
    }
   ],
   "source": [
    "df.shape"
   ]
  },
  {
   "cell_type": "code",
   "execution_count": 233,
   "metadata": {},
   "outputs": [
    {
     "data": {
      "text/html": [
       "<div>\n",
       "<style scoped>\n",
       "    .dataframe tbody tr th:only-of-type {\n",
       "        vertical-align: middle;\n",
       "    }\n",
       "\n",
       "    .dataframe tbody tr th {\n",
       "        vertical-align: top;\n",
       "    }\n",
       "\n",
       "    .dataframe thead th {\n",
       "        text-align: right;\n",
       "    }\n",
       "</style>\n",
       "<table border=\"1\" class=\"dataframe\">\n",
       "  <thead>\n",
       "    <tr style=\"text-align: right;\">\n",
       "      <th></th>\n",
       "      <th>price</th>\n",
       "      <th>year_sold</th>\n",
       "      <th>property_tax</th>\n",
       "      <th>insurance</th>\n",
       "      <th>beds</th>\n",
       "      <th>baths</th>\n",
       "      <th>sqft</th>\n",
       "      <th>year_built</th>\n",
       "      <th>lot_size</th>\n",
       "      <th>basement</th>\n",
       "      <th>popular</th>\n",
       "      <th>recession</th>\n",
       "      <th>property_age</th>\n",
       "      <th>property_type_Bunglow</th>\n",
       "      <th>property_type_Condo</th>\n",
       "    </tr>\n",
       "  </thead>\n",
       "  <tbody>\n",
       "    <tr>\n",
       "      <th>count</th>\n",
       "      <td>1863.000000</td>\n",
       "      <td>1863.000000</td>\n",
       "      <td>1863.000000</td>\n",
       "      <td>1863.000000</td>\n",
       "      <td>1863.000000</td>\n",
       "      <td>1863.000000</td>\n",
       "      <td>1863.000000</td>\n",
       "      <td>1863.00000</td>\n",
       "      <td>1863.000000</td>\n",
       "      <td>1863.000000</td>\n",
       "      <td>1863.000000</td>\n",
       "      <td>1863.000000</td>\n",
       "      <td>1863.000000</td>\n",
       "      <td>1863.000000</td>\n",
       "      <td>1863.000000</td>\n",
       "    </tr>\n",
       "    <tr>\n",
       "      <th>mean</th>\n",
       "      <td>423010.393451</td>\n",
       "      <td>2007.116479</td>\n",
       "      <td>461.369834</td>\n",
       "      <td>138.816425</td>\n",
       "      <td>3.409018</td>\n",
       "      <td>2.564144</td>\n",
       "      <td>2299.173913</td>\n",
       "      <td>1982.71927</td>\n",
       "      <td>12522.044552</td>\n",
       "      <td>0.879227</td>\n",
       "      <td>0.095545</td>\n",
       "      <td>0.263553</td>\n",
       "      <td>24.397209</td>\n",
       "      <td>0.569512</td>\n",
       "      <td>0.430488</td>\n",
       "    </tr>\n",
       "    <tr>\n",
       "      <th>std</th>\n",
       "      <td>151764.257544</td>\n",
       "      <td>5.205638</td>\n",
       "      <td>222.484352</td>\n",
       "      <td>70.250523</td>\n",
       "      <td>1.065101</td>\n",
       "      <td>0.928741</td>\n",
       "      <td>1298.029915</td>\n",
       "      <td>20.21804</td>\n",
       "      <td>35040.992371</td>\n",
       "      <td>0.325951</td>\n",
       "      <td>0.294045</td>\n",
       "      <td>0.440678</td>\n",
       "      <td>21.087996</td>\n",
       "      <td>0.495278</td>\n",
       "      <td>0.495278</td>\n",
       "    </tr>\n",
       "    <tr>\n",
       "      <th>min</th>\n",
       "      <td>200000.000000</td>\n",
       "      <td>1993.000000</td>\n",
       "      <td>88.000000</td>\n",
       "      <td>30.000000</td>\n",
       "      <td>1.000000</td>\n",
       "      <td>1.000000</td>\n",
       "      <td>500.000000</td>\n",
       "      <td>1880.00000</td>\n",
       "      <td>0.000000</td>\n",
       "      <td>0.000000</td>\n",
       "      <td>0.000000</td>\n",
       "      <td>0.000000</td>\n",
       "      <td>0.000000</td>\n",
       "      <td>0.000000</td>\n",
       "      <td>0.000000</td>\n",
       "    </tr>\n",
       "    <tr>\n",
       "      <th>25%</th>\n",
       "      <td>300000.000000</td>\n",
       "      <td>2004.000000</td>\n",
       "      <td>319.000000</td>\n",
       "      <td>94.000000</td>\n",
       "      <td>3.000000</td>\n",
       "      <td>2.000000</td>\n",
       "      <td>1342.500000</td>\n",
       "      <td>1969.00000</td>\n",
       "      <td>1540.000000</td>\n",
       "      <td>1.000000</td>\n",
       "      <td>0.000000</td>\n",
       "      <td>0.000000</td>\n",
       "      <td>6.000000</td>\n",
       "      <td>0.000000</td>\n",
       "      <td>0.000000</td>\n",
       "    </tr>\n",
       "    <tr>\n",
       "      <th>50%</th>\n",
       "      <td>392000.000000</td>\n",
       "      <td>2007.000000</td>\n",
       "      <td>423.000000</td>\n",
       "      <td>124.000000</td>\n",
       "      <td>3.000000</td>\n",
       "      <td>3.000000</td>\n",
       "      <td>1900.000000</td>\n",
       "      <td>1986.00000</td>\n",
       "      <td>5846.000000</td>\n",
       "      <td>1.000000</td>\n",
       "      <td>0.000000</td>\n",
       "      <td>0.000000</td>\n",
       "      <td>21.000000</td>\n",
       "      <td>1.000000</td>\n",
       "      <td>0.000000</td>\n",
       "    </tr>\n",
       "    <tr>\n",
       "      <th>75%</th>\n",
       "      <td>525000.000000</td>\n",
       "      <td>2011.000000</td>\n",
       "      <td>564.000000</td>\n",
       "      <td>168.000000</td>\n",
       "      <td>4.000000</td>\n",
       "      <td>3.000000</td>\n",
       "      <td>2951.000000</td>\n",
       "      <td>2000.00000</td>\n",
       "      <td>11325.000000</td>\n",
       "      <td>1.000000</td>\n",
       "      <td>0.000000</td>\n",
       "      <td>1.000000</td>\n",
       "      <td>38.000000</td>\n",
       "      <td>1.000000</td>\n",
       "      <td>1.000000</td>\n",
       "    </tr>\n",
       "    <tr>\n",
       "      <th>max</th>\n",
       "      <td>800000.000000</td>\n",
       "      <td>2016.000000</td>\n",
       "      <td>4508.000000</td>\n",
       "      <td>1374.000000</td>\n",
       "      <td>5.000000</td>\n",
       "      <td>6.000000</td>\n",
       "      <td>7842.000000</td>\n",
       "      <td>2014.00000</td>\n",
       "      <td>436471.000000</td>\n",
       "      <td>1.000000</td>\n",
       "      <td>1.000000</td>\n",
       "      <td>1.000000</td>\n",
       "      <td>114.000000</td>\n",
       "      <td>1.000000</td>\n",
       "      <td>1.000000</td>\n",
       "    </tr>\n",
       "  </tbody>\n",
       "</table>\n",
       "</div>"
      ],
      "text/plain": [
       "               price    year_sold  property_tax    insurance         beds  \\\n",
       "count    1863.000000  1863.000000   1863.000000  1863.000000  1863.000000   \n",
       "mean   423010.393451  2007.116479    461.369834   138.816425     3.409018   \n",
       "std    151764.257544     5.205638    222.484352    70.250523     1.065101   \n",
       "min    200000.000000  1993.000000     88.000000    30.000000     1.000000   \n",
       "25%    300000.000000  2004.000000    319.000000    94.000000     3.000000   \n",
       "50%    392000.000000  2007.000000    423.000000   124.000000     3.000000   \n",
       "75%    525000.000000  2011.000000    564.000000   168.000000     4.000000   \n",
       "max    800000.000000  2016.000000   4508.000000  1374.000000     5.000000   \n",
       "\n",
       "             baths         sqft  year_built       lot_size     basement  \\\n",
       "count  1863.000000  1863.000000  1863.00000    1863.000000  1863.000000   \n",
       "mean      2.564144  2299.173913  1982.71927   12522.044552     0.879227   \n",
       "std       0.928741  1298.029915    20.21804   35040.992371     0.325951   \n",
       "min       1.000000   500.000000  1880.00000       0.000000     0.000000   \n",
       "25%       2.000000  1342.500000  1969.00000    1540.000000     1.000000   \n",
       "50%       3.000000  1900.000000  1986.00000    5846.000000     1.000000   \n",
       "75%       3.000000  2951.000000  2000.00000   11325.000000     1.000000   \n",
       "max       6.000000  7842.000000  2014.00000  436471.000000     1.000000   \n",
       "\n",
       "           popular    recession  property_age  property_type_Bunglow  \\\n",
       "count  1863.000000  1863.000000   1863.000000            1863.000000   \n",
       "mean      0.095545     0.263553     24.397209               0.569512   \n",
       "std       0.294045     0.440678     21.087996               0.495278   \n",
       "min       0.000000     0.000000      0.000000               0.000000   \n",
       "25%       0.000000     0.000000      6.000000               0.000000   \n",
       "50%       0.000000     0.000000     21.000000               1.000000   \n",
       "75%       0.000000     1.000000     38.000000               1.000000   \n",
       "max       1.000000     1.000000    114.000000               1.000000   \n",
       "\n",
       "       property_type_Condo  \n",
       "count          1863.000000  \n",
       "mean              0.430488  \n",
       "std               0.495278  \n",
       "min               0.000000  \n",
       "25%               0.000000  \n",
       "50%               0.000000  \n",
       "75%               1.000000  \n",
       "max               1.000000  "
      ]
     },
     "execution_count": 233,
     "metadata": {},
     "output_type": "execute_result"
    }
   ],
   "source": [
    "df.describe()"
   ]
  },
  {
   "cell_type": "markdown",
   "metadata": {
    "id": "LNMKUIsagHi2"
   },
   "source": [
    "## Linear Regression Model"
   ]
  },
  {
   "cell_type": "code",
   "execution_count": 219,
   "metadata": {
    "id": "HlhhJpV1gHi2"
   },
   "outputs": [],
   "source": [
    "# import linear regression model\n",
    "from sklearn.linear_model import LinearRegression"
   ]
  },
  {
   "cell_type": "code",
   "execution_count": 118,
   "metadata": {
    "id": "kcvqztZ5gHi2"
   },
   "outputs": [],
   "source": [
    "# seperate input features in x\n",
    "x = df.drop('price', axis=1)\n",
    "\n",
    "# store the target variable in y\n",
    "y = df['price']"
   ]
  },
  {
   "cell_type": "markdown",
   "metadata": {
    "id": "xWoM_0d2gHi2"
   },
   "source": [
    "**Train Test Split**\n",
    "* Training sets are used to fit and tune your models.\n",
    "* Test sets are put aside as \"unseen\" data to evaluate your models.\n",
    "* The `train_test_split()` function splits data into randomized subsets."
   ]
  },
  {
   "cell_type": "code",
   "execution_count": 121,
   "metadata": {
    "id": "vPY9e72sl1dB"
   },
   "outputs": [],
   "source": [
    "# import module\n",
    "from sklearn.model_selection import train_test_split"
   ]
  },
  {
   "cell_type": "code",
   "execution_count": 123,
   "metadata": {},
   "outputs": [],
   "source": [
    "# Split the dataset\n",
    "x_train, x_test, y_train, y_test = train_test_split(x,y, test_size=0.2, stratify=x.property_type_Bunglow)"
   ]
  },
  {
   "cell_type": "code",
   "execution_count": 125,
   "metadata": {
    "colab": {
     "base_uri": "https://localhost:8080/",
     "height": 178
    },
    "id": "cqW-uHMPyBg_",
    "outputId": "d92810a2-af85-4ee4-e691-7205dd56fccb"
   },
   "outputs": [
    {
     "data": {
      "text/plain": [
       "property_type_Bunglow\n",
       "1    849\n",
       "0    641\n",
       "Name: count, dtype: int64"
      ]
     },
     "execution_count": 125,
     "metadata": {},
     "output_type": "execute_result"
    }
   ],
   "source": [
    "x_train.property_type_Bunglow.value_counts()"
   ]
  },
  {
   "cell_type": "code",
   "execution_count": 127,
   "metadata": {
    "id": "dZ5ZswxHgHi2"
   },
   "outputs": [],
   "source": [
    "# Split the dataset\n",
    "#x_train, x_test, y_train, y_test = train_test_split(x,y, test_size=0.2, stratify=x.property_type_Bunglow)"
   ]
  },
  {
   "cell_type": "code",
   "execution_count": 129,
   "metadata": {
    "colab": {
     "base_uri": "https://localhost:8080/",
     "height": 226
    },
    "id": "8g-5rzi0m--0",
    "outputId": "57bbc68e-55aa-4ac4-cfa0-11a96fb6bd05"
   },
   "outputs": [
    {
     "data": {
      "text/html": [
       "<div>\n",
       "<style scoped>\n",
       "    .dataframe tbody tr th:only-of-type {\n",
       "        vertical-align: middle;\n",
       "    }\n",
       "\n",
       "    .dataframe tbody tr th {\n",
       "        vertical-align: top;\n",
       "    }\n",
       "\n",
       "    .dataframe thead th {\n",
       "        text-align: right;\n",
       "    }\n",
       "</style>\n",
       "<table border=\"1\" class=\"dataframe\">\n",
       "  <thead>\n",
       "    <tr style=\"text-align: right;\">\n",
       "      <th></th>\n",
       "      <th>year_sold</th>\n",
       "      <th>property_tax</th>\n",
       "      <th>insurance</th>\n",
       "      <th>beds</th>\n",
       "      <th>baths</th>\n",
       "      <th>sqft</th>\n",
       "      <th>year_built</th>\n",
       "      <th>lot_size</th>\n",
       "      <th>basement</th>\n",
       "      <th>popular</th>\n",
       "      <th>recession</th>\n",
       "      <th>property_age</th>\n",
       "      <th>property_type_Bunglow</th>\n",
       "      <th>property_type_Condo</th>\n",
       "    </tr>\n",
       "  </thead>\n",
       "  <tbody>\n",
       "    <tr>\n",
       "      <th>192</th>\n",
       "      <td>2008</td>\n",
       "      <td>282</td>\n",
       "      <td>86</td>\n",
       "      <td>2</td>\n",
       "      <td>2</td>\n",
       "      <td>1002</td>\n",
       "      <td>2006</td>\n",
       "      <td>0</td>\n",
       "      <td>1</td>\n",
       "      <td>1</td>\n",
       "      <td>0</td>\n",
       "      <td>2</td>\n",
       "      <td>0</td>\n",
       "      <td>1</td>\n",
       "    </tr>\n",
       "    <tr>\n",
       "      <th>1331</th>\n",
       "      <td>2008</td>\n",
       "      <td>513</td>\n",
       "      <td>132</td>\n",
       "      <td>4</td>\n",
       "      <td>3</td>\n",
       "      <td>2774</td>\n",
       "      <td>1999</td>\n",
       "      <td>7840</td>\n",
       "      <td>1</td>\n",
       "      <td>0</td>\n",
       "      <td>0</td>\n",
       "      <td>9</td>\n",
       "      <td>1</td>\n",
       "      <td>0</td>\n",
       "    </tr>\n",
       "    <tr>\n",
       "      <th>572</th>\n",
       "      <td>2008</td>\n",
       "      <td>450</td>\n",
       "      <td>137</td>\n",
       "      <td>3</td>\n",
       "      <td>2</td>\n",
       "      <td>1725</td>\n",
       "      <td>1996</td>\n",
       "      <td>2108</td>\n",
       "      <td>1</td>\n",
       "      <td>0</td>\n",
       "      <td>0</td>\n",
       "      <td>12</td>\n",
       "      <td>0</td>\n",
       "      <td>1</td>\n",
       "    </tr>\n",
       "    <tr>\n",
       "      <th>889</th>\n",
       "      <td>2001</td>\n",
       "      <td>487</td>\n",
       "      <td>148</td>\n",
       "      <td>3</td>\n",
       "      <td>3</td>\n",
       "      <td>2618</td>\n",
       "      <td>1991</td>\n",
       "      <td>2996</td>\n",
       "      <td>1</td>\n",
       "      <td>0</td>\n",
       "      <td>0</td>\n",
       "      <td>10</td>\n",
       "      <td>1</td>\n",
       "      <td>0</td>\n",
       "    </tr>\n",
       "    <tr>\n",
       "      <th>477</th>\n",
       "      <td>2013</td>\n",
       "      <td>388</td>\n",
       "      <td>134</td>\n",
       "      <td>3</td>\n",
       "      <td>2</td>\n",
       "      <td>1400</td>\n",
       "      <td>1938</td>\n",
       "      <td>7013</td>\n",
       "      <td>0</td>\n",
       "      <td>0</td>\n",
       "      <td>1</td>\n",
       "      <td>75</td>\n",
       "      <td>1</td>\n",
       "      <td>0</td>\n",
       "    </tr>\n",
       "  </tbody>\n",
       "</table>\n",
       "</div>"
      ],
      "text/plain": [
       "      year_sold  property_tax  insurance  beds  baths  sqft  year_built  \\\n",
       "192        2008           282         86     2      2  1002        2006   \n",
       "1331       2008           513        132     4      3  2774        1999   \n",
       "572        2008           450        137     3      2  1725        1996   \n",
       "889        2001           487        148     3      3  2618        1991   \n",
       "477        2013           388        134     3      2  1400        1938   \n",
       "\n",
       "      lot_size  basement  popular  recession  property_age  \\\n",
       "192          0         1        1          0             2   \n",
       "1331      7840         1        0          0             9   \n",
       "572       2108         1        0          0            12   \n",
       "889       2996         1        0          0            10   \n",
       "477       7013         0        0          1            75   \n",
       "\n",
       "      property_type_Bunglow  property_type_Condo  \n",
       "192                       0                    1  \n",
       "1331                      1                    0  \n",
       "572                       0                    1  \n",
       "889                       1                    0  \n",
       "477                       1                    0  "
      ]
     },
     "execution_count": 129,
     "metadata": {},
     "output_type": "execute_result"
    }
   ],
   "source": [
    "x_train.head()"
   ]
  },
  {
   "cell_type": "code",
   "execution_count": 131,
   "metadata": {
    "colab": {
     "base_uri": "https://localhost:8080/"
    },
    "id": "-Sdke-9lgHi3",
    "outputId": "3e1af4ad-7b6e-4010-d293-6657037d1657"
   },
   "outputs": [
    {
     "data": {
      "text/plain": [
       "((1490, 14), (1490,), (373, 14), (373,))"
      ]
     },
     "execution_count": 131,
     "metadata": {},
     "output_type": "execute_result"
    }
   ],
   "source": [
    "x_train.shape, y_train.shape, x_test.shape, y_test.shape"
   ]
  },
  {
   "cell_type": "code",
   "execution_count": 133,
   "metadata": {
    "id": "7HmY2tb6oQiu"
   },
   "outputs": [],
   "source": [
    "# train your model\n",
    "model = LinearRegression()\n",
    "lrmodel = model.fit(x_train, y_train)"
   ]
  },
  {
   "cell_type": "code",
   "execution_count": 135,
   "metadata": {
    "colab": {
     "base_uri": "https://localhost:8080/"
    },
    "id": "k4YUaEHooyCo",
    "outputId": "e4f03ed6-00d1-42fb-8a7e-887e7c352bda"
   },
   "outputs": [
    {
     "data": {
      "text/plain": [
       "array([ 7.54620698e+03,  4.29864230e+01,  1.28514971e+03,  2.40994249e+03,\n",
       "        1.88084376e+03,  8.00752074e+00,  4.35912183e+03,  1.94934047e-01,\n",
       "       -1.26576356e+04, -9.33799852e+03, -4.71421555e+04,  3.18708515e+03,\n",
       "        1.13643504e+04, -1.13643504e+04])"
      ]
     },
     "execution_count": 135,
     "metadata": {},
     "output_type": "execute_result"
    }
   ],
   "source": [
    "lrmodel.coef_"
   ]
  },
  {
   "cell_type": "code",
   "execution_count": 137,
   "metadata": {
    "colab": {
     "base_uri": "https://localhost:8080/"
    },
    "id": "ELiVZxw4o83i",
    "outputId": "ca9d9f6a-941d-4f75-f42b-a24a81c4b766"
   },
   "outputs": [
    {
     "data": {
      "text/plain": [
       "-23652436.844200682"
      ]
     },
     "execution_count": 137,
     "metadata": {},
     "output_type": "execute_result"
    }
   ],
   "source": [
    "lrmodel.intercept_"
   ]
  },
  {
   "cell_type": "code",
   "execution_count": 139,
   "metadata": {
    "colab": {
     "base_uri": "https://localhost:8080/",
     "height": 100
    },
    "id": "hlLsxUmepMha",
    "outputId": "2c993c6b-1cb7-4694-e18b-6318d30cb780"
   },
   "outputs": [
    {
     "data": {
      "text/html": [
       "<div>\n",
       "<style scoped>\n",
       "    .dataframe tbody tr th:only-of-type {\n",
       "        vertical-align: middle;\n",
       "    }\n",
       "\n",
       "    .dataframe tbody tr th {\n",
       "        vertical-align: top;\n",
       "    }\n",
       "\n",
       "    .dataframe thead th {\n",
       "        text-align: right;\n",
       "    }\n",
       "</style>\n",
       "<table border=\"1\" class=\"dataframe\">\n",
       "  <thead>\n",
       "    <tr style=\"text-align: right;\">\n",
       "      <th></th>\n",
       "      <th>year_sold</th>\n",
       "      <th>property_tax</th>\n",
       "      <th>insurance</th>\n",
       "      <th>beds</th>\n",
       "      <th>baths</th>\n",
       "      <th>sqft</th>\n",
       "      <th>year_built</th>\n",
       "      <th>lot_size</th>\n",
       "      <th>basement</th>\n",
       "      <th>popular</th>\n",
       "      <th>recession</th>\n",
       "      <th>property_age</th>\n",
       "      <th>property_type_Bunglow</th>\n",
       "      <th>property_type_Condo</th>\n",
       "    </tr>\n",
       "  </thead>\n",
       "  <tbody>\n",
       "    <tr>\n",
       "      <th>192</th>\n",
       "      <td>2008</td>\n",
       "      <td>282</td>\n",
       "      <td>86</td>\n",
       "      <td>2</td>\n",
       "      <td>2</td>\n",
       "      <td>1002</td>\n",
       "      <td>2006</td>\n",
       "      <td>0</td>\n",
       "      <td>1</td>\n",
       "      <td>1</td>\n",
       "      <td>0</td>\n",
       "      <td>2</td>\n",
       "      <td>0</td>\n",
       "      <td>1</td>\n",
       "    </tr>\n",
       "  </tbody>\n",
       "</table>\n",
       "</div>"
      ],
      "text/plain": [
       "     year_sold  property_tax  insurance  beds  baths  sqft  year_built  \\\n",
       "192       2008           282         86     2      2  1002        2006   \n",
       "\n",
       "     lot_size  basement  popular  recession  property_age  \\\n",
       "192         0         1        1          0             2   \n",
       "\n",
       "     property_type_Bunglow  property_type_Condo  \n",
       "192                      0                    1  "
      ]
     },
     "execution_count": 139,
     "metadata": {},
     "output_type": "execute_result"
    }
   ],
   "source": [
    "x_train.head(1)"
   ]
  },
  {
   "cell_type": "code",
   "execution_count": 141,
   "metadata": {
    "id": "ltA5svVPgHi3"
   },
   "outputs": [],
   "source": [
    "# make preditions on train set\n",
    "train_pred = lrmodel.predict(x_train)"
   ]
  },
  {
   "cell_type": "code",
   "execution_count": 143,
   "metadata": {
    "colab": {
     "base_uri": "https://localhost:8080/"
    },
    "id": "DpfRFf9-phrB",
    "outputId": "b32e6231-822e-482f-972d-69bc8b0504ec"
   },
   "outputs": [
    {
     "data": {
      "text/plain": [
       "array([357009.51134371, 472337.04282295, 436001.79831649, ...,\n",
       "       390741.43291347, 358895.23257487, 504882.31272223])"
      ]
     },
     "execution_count": 143,
     "metadata": {},
     "output_type": "execute_result"
    }
   ],
   "source": [
    "train_pred"
   ]
  },
  {
   "cell_type": "code",
   "execution_count": 145,
   "metadata": {
    "colab": {
     "base_uri": "https://localhost:8080/"
    },
    "id": "ZOKrwPAngHi3",
    "outputId": "bf272fa9-ea3b-48f9-fe97-1848cca587a8"
   },
   "outputs": [
    {
     "name": "stdout",
     "output_type": "stream",
     "text": [
      "Train error is 83871.96213418624\n"
     ]
    }
   ],
   "source": [
    "# evaluate your model\n",
    "# we need mean absolute error\n",
    "from sklearn.metrics import mean_absolute_error\n",
    "\n",
    "train_mae = mean_absolute_error(train_pred, y_train)\n",
    "print('Train error is', train_mae)"
   ]
  },
  {
   "cell_type": "code",
   "execution_count": 147,
   "metadata": {
    "id": "lGdW7XTDgHi3",
    "outputId": "5831f2c7-38f4-4384-9ee1-4079cb81a403"
   },
   "outputs": [
    {
     "data": {
      "text/plain": [
       "array([ 7.54620698e+03,  4.29864230e+01,  1.28514971e+03,  2.40994249e+03,\n",
       "        1.88084376e+03,  8.00752074e+00,  4.35912183e+03,  1.94934047e-01,\n",
       "       -1.26576356e+04, -9.33799852e+03, -4.71421555e+04,  3.18708515e+03,\n",
       "        1.13643504e+04, -1.13643504e+04])"
      ]
     },
     "execution_count": 147,
     "metadata": {},
     "output_type": "execute_result"
    }
   ],
   "source": [
    "lrmodel.coef_"
   ]
  },
  {
   "cell_type": "code",
   "execution_count": 149,
   "metadata": {
    "id": "75iRpl6OgHi3",
    "outputId": "22535a31-76a3-4777-86a2-af36c751b5f3"
   },
   "outputs": [
    {
     "data": {
      "text/plain": [
       "-23652436.844200682"
      ]
     },
     "execution_count": 149,
     "metadata": {},
     "output_type": "execute_result"
    }
   ],
   "source": [
    "lrmodel.intercept_"
   ]
  },
  {
   "cell_type": "code",
   "execution_count": 151,
   "metadata": {
    "colab": {
     "base_uri": "https://localhost:8080/"
    },
    "id": "fa4G_u9CgHi3",
    "outputId": "f2e658c3-d0ff-4d91-f76c-cd4b50051200"
   },
   "outputs": [
    {
     "name": "stdout",
     "output_type": "stream",
     "text": [
      "Test error is 89433.13966727284\n"
     ]
    }
   ],
   "source": [
    "# make predictions om test set\n",
    "ypred = lrmodel.predict(x_test)\n",
    "\n",
    "#evaluate the model\n",
    "test_mae = mean_absolute_error(ypred, y_test)\n",
    "print('Test error is', test_mae)"
   ]
  },
  {
   "cell_type": "markdown",
   "metadata": {
    "id": "JgYmClmIgHi3"
   },
   "source": [
    "### Our model is still not good beacuse we need a model with Mean Absolute Error < $70,000\n",
    "\n",
    "Note - We have not scaled the features and not tuned the model."
   ]
  },
  {
   "cell_type": "markdown",
   "metadata": {
    "id": "oi76fp2bgHi3"
   },
   "source": [
    "    "
   ]
  },
  {
   "cell_type": "markdown",
   "metadata": {
    "id": "qiowj-owgHi3"
   },
   "source": [
    "## Decision Tree Model"
   ]
  },
  {
   "cell_type": "code",
   "execution_count": 156,
   "metadata": {
    "id": "vlRpZFYugHi3"
   },
   "outputs": [],
   "source": [
    "# import decision tree model\n",
    "from sklearn.tree import DecisionTreeRegressor"
   ]
  },
  {
   "cell_type": "code",
   "execution_count": 158,
   "metadata": {
    "id": "l8IAvOqxgHi3"
   },
   "outputs": [],
   "source": [
    "# create an instance of the class\n",
    "dt = DecisionTreeRegressor(max_depth=3, max_features=10, random_state=567)"
   ]
  },
  {
   "cell_type": "code",
   "execution_count": 160,
   "metadata": {
    "id": "W7TIvQCOgHi3"
   },
   "outputs": [],
   "source": [
    "# train the model\n",
    "dtmodel = dt.fit(x_train,y_train)"
   ]
  },
  {
   "cell_type": "code",
   "execution_count": 162,
   "metadata": {
    "colab": {
     "base_uri": "https://localhost:8080/"
    },
    "id": "rD8Ulq3Mv4Y5",
    "outputId": "228ea9c2-9b83-47d3-db0e-2cc7b1aeafb5"
   },
   "outputs": [
    {
     "data": {
      "text/plain": [
       "61931.11685509918"
      ]
     },
     "execution_count": 162,
     "metadata": {},
     "output_type": "execute_result"
    }
   ],
   "source": [
    "# make predictions using the test set\n",
    "ytrain_pred = dtmodel.predict(x_train)\n",
    "\n",
    "# evaluate the model\n",
    "train_mae = mean_absolute_error(ytrain_pred, y_train)\n",
    "train_mae"
   ]
  },
  {
   "cell_type": "code",
   "execution_count": 164,
   "metadata": {
    "id": "9fu7mNEogHi4"
   },
   "outputs": [],
   "source": [
    "# make predictions using the test set\n",
    "ytest_pred = dtmodel.predict(x_test)"
   ]
  },
  {
   "cell_type": "code",
   "execution_count": 166,
   "metadata": {
    "colab": {
     "base_uri": "https://localhost:8080/"
    },
    "id": "9oABxlOjgHi4",
    "outputId": "5a5d7158-00c9-4826-d780-4b6a66fdf733"
   },
   "outputs": [
    {
     "data": {
      "text/plain": [
       "58647.27320734409"
      ]
     },
     "execution_count": 166,
     "metadata": {},
     "output_type": "execute_result"
    }
   ],
   "source": [
    "# evaluate the model\n",
    "test_mae = mean_absolute_error(ytest_pred, y_test)\n",
    "test_mae"
   ]
  },
  {
   "cell_type": "markdown",
   "metadata": {
    "id": "280fV8jJgHi4"
   },
   "source": [
    "## How do I know if my model is Overfitting or Generalised?"
   ]
  },
  {
   "cell_type": "code",
   "execution_count": 169,
   "metadata": {
    "id": "Jdl2kpwJgHi4"
   },
   "outputs": [],
   "source": [
    "# make predictions on train set\n",
    "ytrain_pred = dtmodel.predict(x_train)"
   ]
  },
  {
   "cell_type": "code",
   "execution_count": 171,
   "metadata": {
    "id": "1xRtK9yCgHi4",
    "outputId": "aa67bd18-7195-4838-9ddc-5b20e058f785"
   },
   "outputs": [
    {
     "data": {
      "text/plain": [
       "61931.11685509918"
      ]
     },
     "execution_count": 171,
     "metadata": {},
     "output_type": "execute_result"
    }
   ],
   "source": [
    "# import mean absolute error metric\n",
    "from sklearn.metrics import mean_absolute_error\n",
    "\n",
    "# evaluate the model\n",
    "train_mae = mean_absolute_error(ytrain_pred, y_train)\n",
    "train_mae"
   ]
  },
  {
   "cell_type": "markdown",
   "metadata": {
    "id": "LCySzmV3gHi4"
   },
   "source": [
    "    "
   ]
  },
  {
   "cell_type": "markdown",
   "metadata": {
    "id": "d19VdhMsgHi4"
   },
   "source": [
    "## Plot the tree"
   ]
  },
  {
   "cell_type": "code",
   "execution_count": 175,
   "metadata": {
    "id": "wdxw0gEpgHi4",
    "outputId": "ceba52c7-7f3d-4f52-f6f1-0fa0c4dc0324"
   },
   "outputs": [
    {
     "data": {
      "text/plain": [
       "array(['year_sold', 'property_tax', 'insurance', 'beds', 'baths', 'sqft',\n",
       "       'year_built', 'lot_size', 'basement', 'popular', 'recession',\n",
       "       'property_age', 'property_type_Bunglow', 'property_type_Condo'],\n",
       "      dtype=object)"
      ]
     },
     "execution_count": 175,
     "metadata": {},
     "output_type": "execute_result"
    }
   ],
   "source": [
    "# get the features\n",
    "dtmodel.feature_names_in_"
   ]
  },
  {
   "cell_type": "code",
   "execution_count": 177,
   "metadata": {
    "id": "-kq6OpkBgHi4",
    "outputId": "e5ac2d44-301d-4128-f646-7d00fa3fa1f8"
   },
   "outputs": [],
   "source": [
    "# plot the tree\n",
    "from sklearn import tree\n",
    "\n",
    "# Plot the tree with feature names\n",
    "tree.plot_tree(dtmodel, feature_names=dtmodel.feature_names_in_)\n",
    "\n",
    "#tree.plot_tree(dtmodel)\n",
    "#plt.show(dpi=300)\n",
    "\n",
    "# Save the plot to a file\n",
    "plt.savefig('tree.png', dpi=300)"
   ]
  },
  {
   "cell_type": "markdown",
   "metadata": {
    "id": "15XUHv9QgHi4"
   },
   "source": [
    "    "
   ]
  },
  {
   "cell_type": "markdown",
   "metadata": {
    "id": "q8wqXk2ugHi4"
   },
   "source": [
    "    "
   ]
  },
  {
   "cell_type": "markdown",
   "metadata": {
    "id": "Yx6yqdfpgHi4"
   },
   "source": [
    "    "
   ]
  },
  {
   "cell_type": "markdown",
   "metadata": {
    "id": "EjN-nxzEgHi4"
   },
   "source": [
    "## Random Forest Model"
   ]
  },
  {
   "cell_type": "code",
   "execution_count": 182,
   "metadata": {
    "id": "RkCzXpLtgHi4"
   },
   "outputs": [],
   "source": [
    "# import decision tree model\n",
    "from sklearn.ensemble import RandomForestRegressor"
   ]
  },
  {
   "cell_type": "code",
   "execution_count": 183,
   "metadata": {
    "id": "UDqTPGiegHi4"
   },
   "outputs": [],
   "source": [
    "# create an instance of the model\n",
    "rf = RandomForestRegressor(n_estimators=200, criterion='absolute_error')"
   ]
  },
  {
   "cell_type": "code",
   "execution_count": 187,
   "metadata": {
    "id": "oG__jXNegHi4"
   },
   "outputs": [],
   "source": [
    "# train the model\n",
    "rfmodel = rf.fit(x_train,y_train)"
   ]
  },
  {
   "cell_type": "code",
   "execution_count": 188,
   "metadata": {
    "id": "UgTc0Er-gHi8"
   },
   "outputs": [],
   "source": [
    "# make prediction on train set\n",
    "ytrain_pred = rfmodel.predict(x_train)"
   ]
  },
  {
   "cell_type": "code",
   "execution_count": 189,
   "metadata": {
    "id": "1miSLAHkgHi8"
   },
   "outputs": [],
   "source": [
    "# make predictions on the x_test values\n",
    "ytest_pred = rfmodel.predict(x_test)"
   ]
  },
  {
   "cell_type": "code",
   "execution_count": 190,
   "metadata": {
    "id": "nTH6sOeAgHi8",
    "outputId": "7f2c3f10-4148-4eaf-f051-afccd71da6bb"
   },
   "outputs": [
    {
     "data": {
      "text/plain": [
       "43673.29233914209"
      ]
     },
     "execution_count": 190,
     "metadata": {},
     "output_type": "execute_result"
    }
   ],
   "source": [
    "# evaluate the model\n",
    "test_mae = mean_absolute_error(ytest_pred, y_test)\n",
    "test_mae"
   ]
  },
  {
   "cell_type": "code",
   "execution_count": 191,
   "metadata": {
    "id": "u10aeWWxgHi9"
   },
   "outputs": [
    {
     "data": {
      "text/plain": [
       "[Text(0.489069818632008, 0.9791666666666666, 'insurance <= 136.5\\nabsolute_error = 123796.785\\nsamples = 958\\nvalue = 394500.0'),\n",
       " Text(0.24155787417763158, 0.9375, 'insurance <= 97.5\\nabsolute_error = 70723.965\\nsamples = 553\\nvalue = 329000.0'),\n",
       " Text(0.3653138464048198, 0.9583333333333333, 'True  '),\n",
       " Text(0.11850485376144165, 0.8958333333333334, 'insurance <= 76.5\\nabsolute_error = 44900.83\\nsamples = 274\\nvalue = 285950.0'),\n",
       " Text(0.04791636870709382, 0.8541666666666666, 'year_sold <= 2006.5\\nabsolute_error = 33517.64\\nsamples = 106\\nvalue = 250000.0'),\n",
       " Text(0.023902316933638444, 0.8125, 'sqft <= 1311.0\\nabsolute_error = 31854.845\\nsamples = 37\\nvalue = 286900.0'),\n",
       " Text(0.012907608695652174, 0.7708333333333334, 'insurance <= 45.5\\nabsolute_error = 27111.857\\nsamples = 31\\nvalue = 283000.0'),\n",
       " Text(0.002860411899313501, 0.7291666666666666, 'property_type_Condo <= 0.5\\nabsolute_error = 15714.286\\nsamples = 4\\nvalue = 231900.0'),\n",
       " Text(0.0017162471395881006, 0.6875, 'absolute_error = 0.0\\nsamples = 1\\nvalue = 250000.0'),\n",
       " Text(0.004004576659038902, 0.6875, 'sqft <= 724.0\\nabsolute_error = 5475.0\\nsamples = 3\\nvalue = 215000.0'),\n",
       " Text(0.002860411899313501, 0.6458333333333334, 'property_age <= 42.5\\nabsolute_error = 1666.667\\nsamples = 2\\nvalue = 215000.0'),\n",
       " Text(0.0017162471395881006, 0.6041666666666666, 'absolute_error = 0.0\\nsamples = 1\\nvalue = 215000.0'),\n",
       " Text(0.004004576659038902, 0.6041666666666666, 'absolute_error = 0.0\\nsamples = 1\\nvalue = 210000.0'),\n",
       " Text(0.005148741418764302, 0.6458333333333334, 'absolute_error = 0.0\\nsamples = 1\\nvalue = 231900.0'),\n",
       " Text(0.022954805491990846, 0.7291666666666666, 'lot_size <= 1805.0\\nabsolute_error = 22890.024\\nsamples = 27\\nvalue = 285950.0'),\n",
       " Text(0.017877574370709384, 0.6875, 'property_tax <= 202.0\\nabsolute_error = 19823.184\\nsamples = 25\\nvalue = 288400.0'),\n",
       " Text(0.011155606407322655, 0.6458333333333334, 'lot_size <= 560.0\\nabsolute_error = 13127.273\\nsamples = 15\\nvalue = 284000.0'),\n",
       " Text(0.006292906178489702, 0.6041666666666666, 'insurance <= 54.5\\nabsolute_error = 9050.0\\nsamples = 12\\nvalue = 285950.0'),\n",
       " Text(0.003432494279176201, 0.5625, 'year_built <= 1992.5\\nabsolute_error = 5857.143\\nsamples = 5\\nvalue = 295000.0'),\n",
       " Text(0.002288329519450801, 0.5208333333333334, 'property_tax <= 164.0\\nabsolute_error = 1833.333\\nsamples = 4\\nvalue = 295000.0'),\n",
       " Text(0.0011441647597254005, 0.4791666666666667, 'absolute_error = 0.0\\nsamples = 1\\nvalue = 292000.0'),\n",
       " Text(0.003432494279176201, 0.4791666666666667, 'sqft <= 1163.0\\nabsolute_error = 1250.0\\nsamples = 3\\nvalue = 295000.0'),\n",
       " Text(0.002288329519450801, 0.4375, 'absolute_error = 0.0\\nsamples = 1\\nvalue = 300000.0'),\n",
       " Text(0.004576659038901602, 0.4375, 'absolute_error = 0.0\\nsamples = 2\\nvalue = 295000.0'),\n",
       " Text(0.004576659038901602, 0.5208333333333334, 'absolute_error = 0.0\\nsamples = 1\\nvalue = 325000.0'),\n",
       " Text(0.009153318077803204, 0.5625, 'property_tax <= 174.0\\nabsolute_error = 5263.636\\nsamples = 7\\nvalue = 283000.0'),\n",
       " Text(0.006864988558352402, 0.5208333333333334, 'property_tax <= 167.5\\nabsolute_error = 2950.0\\nsamples = 2\\nvalue = 267950.0'),\n",
       " Text(0.005720823798627002, 0.4791666666666667, 'absolute_error = 0.0\\nsamples = 1\\nvalue = 270900.0'),\n",
       " Text(0.008009153318077803, 0.4791666666666667, 'absolute_error = 0.0\\nsamples = 1\\nvalue = 265000.0'),\n",
       " Text(0.011441647597254004, 0.5208333333333334, 'property_age <= 10.0\\nabsolute_error = 3088.889\\nsamples = 5\\nvalue = 283000.0'),\n",
       " Text(0.010297482837528604, 0.4791666666666667, 'absolute_error = 0.0\\nsamples = 1\\nvalue = 286900.0'),\n",
       " Text(0.012585812356979404, 0.4791666666666667, 'sqft <= 827.5\\nabsolute_error = 2857.143\\nsamples = 4\\nvalue = 283000.0'),\n",
       " Text(0.011441647597254004, 0.4375, 'absolute_error = 0.0\\nsamples = 1\\nvalue = 270000.0'),\n",
       " Text(0.013729977116704805, 0.4375, 'sqft <= 1008.0\\nabsolute_error = 1166.667\\nsamples = 3\\nvalue = 283000.0'),\n",
       " Text(0.012585812356979404, 0.3958333333333333, 'property_tax <= 181.0\\nabsolute_error = 750.0\\nsamples = 2\\nvalue = 283000.0'),\n",
       " Text(0.011441647597254004, 0.3541666666666667, 'absolute_error = 0.0\\nsamples = 1\\nvalue = 280000.0'),\n",
       " Text(0.013729977116704805, 0.3541666666666667, 'absolute_error = 0.0\\nsamples = 1\\nvalue = 283000.0'),\n",
       " Text(0.014874141876430207, 0.3958333333333333, 'absolute_error = 0.0\\nsamples = 1\\nvalue = 285000.0'),\n",
       " Text(0.016018306636155607, 0.6041666666666666, 'sqft <= 1128.0\\nabsolute_error = 8775.0\\nsamples = 3\\nvalue = 249600.0'),\n",
       " Text(0.014874141876430207, 0.5625, 'insurance <= 56.5\\nabsolute_error = 3233.333\\nsamples = 2\\nvalue = 249600.0'),\n",
       " Text(0.013729977116704805, 0.5208333333333334, 'absolute_error = 0.0\\nsamples = 1\\nvalue = 249600.0'),\n",
       " Text(0.016018306636155607, 0.5208333333333334, 'absolute_error = 0.0\\nsamples = 1\\nvalue = 239900.0'),\n",
       " Text(0.017162471395881007, 0.5625, 'absolute_error = 0.0\\nsamples = 1\\nvalue = 275000.0'),\n",
       " Text(0.02459954233409611, 0.6458333333333334, 'year_sold <= 2005.5\\nabsolute_error = 20642.562\\nsamples = 10\\nvalue = 315000.0'),\n",
       " Text(0.021739130434782608, 0.6041666666666666, 'insurance <= 73.5\\nabsolute_error = 13931.75\\nsamples = 8\\nvalue = 315000.0'),\n",
       " Text(0.019450800915331808, 0.5625, 'property_age <= 4.0\\nabsolute_error = 12272.625\\nsamples = 6\\nvalue = 315000.0'),\n",
       " Text(0.018306636155606407, 0.5208333333333334, 'absolute_error = 0.0\\nsamples = 1\\nvalue = 275000.0'),\n",
       " Text(0.020594965675057208, 0.5208333333333334, 'baths <= 1.5\\nabsolute_error = 8311.571\\nsamples = 5\\nvalue = 315000.0'),\n",
       " Text(0.018306636155606407, 0.4791666666666667, 'property_age <= 22.0\\nabsolute_error = 2000.0\\nsamples = 2\\nvalue = 303000.0'),\n",
       " Text(0.017162471395881007, 0.4375, 'absolute_error = 0.0\\nsamples = 1\\nvalue = 301000.0'),\n",
       " Text(0.019450800915331808, 0.4375, 'absolute_error = 0.0\\nsamples = 1\\nvalue = 305000.0'),\n",
       " Text(0.02288329519450801, 0.4791666666666667, 'property_age <= 13.0\\nabsolute_error = 6836.2\\nsamples = 3\\nvalue = 315000.0'),\n",
       " Text(0.021739130434782608, 0.4375, 'absolute_error = 0.0\\nsamples = 2\\nvalue = 315000.0'),\n",
       " Text(0.02402745995423341, 0.4375, 'absolute_error = 0.0\\nsamples = 1\\nvalue = 349181.0'),\n",
       " Text(0.02402745995423341, 0.5625, 'sqft <= 926.5\\nabsolute_error = 4250.0\\nsamples = 2\\nvalue = 328000.0'),\n",
       " Text(0.02288329519450801, 0.5208333333333334, 'absolute_error = 0.0\\nsamples = 1\\nvalue = 328000.0'),\n",
       " Text(0.02517162471395881, 0.5208333333333334, 'absolute_error = 0.0\\nsamples = 1\\nvalue = 345000.0'),\n",
       " Text(0.02745995423340961, 0.6041666666666666, 'property_tax <= 243.0\\nabsolute_error = 5225.0\\nsamples = 2\\nvalue = 269000.0'),\n",
       " Text(0.02631578947368421, 0.5625, 'absolute_error = 0.0\\nsamples = 1\\nvalue = 269000.0'),\n",
       " Text(0.028604118993135013, 0.5625, 'absolute_error = 0.0\\nsamples = 1\\nvalue = 289900.0'),\n",
       " Text(0.02803203661327231, 0.6875, 'insurance <= 57.5\\nabsolute_error = 5875.0\\nsamples = 2\\nvalue = 229000.0'),\n",
       " Text(0.02688787185354691, 0.6458333333333334, 'absolute_error = 0.0\\nsamples = 1\\nvalue = 229000.0'),\n",
       " Text(0.02917620137299771, 0.6458333333333334, 'absolute_error = 0.0\\nsamples = 1\\nvalue = 252500.0'),\n",
       " Text(0.03489702517162471, 0.7708333333333334, 'property_type_Bunglow <= 0.5\\nabsolute_error = 24100.0\\nsamples = 6\\nvalue = 331000.0'),\n",
       " Text(0.033752860411899316, 0.7291666666666666, 'insurance <= 70.5\\nabsolute_error = 18737.5\\nsamples = 5\\nvalue = 331000.0'),\n",
       " Text(0.03260869565217391, 0.6875, 'sqft <= 1338.0\\nabsolute_error = 13714.286\\nsamples = 4\\nvalue = 331000.0'),\n",
       " Text(0.031464530892448515, 0.6458333333333334, 'absolute_error = 0.0\\nsamples = 1\\nvalue = 370000.0'),\n",
       " Text(0.033752860411899316, 0.6458333333333334, 'insurance <= 59.5\\nabsolute_error = 9500.0\\nsamples = 3\\nvalue = 324750.0'),\n",
       " Text(0.03260869565217391, 0.6041666666666666, 'absolute_error = 0.0\\nsamples = 1\\nvalue = 331000.0'),\n",
       " Text(0.03489702517162471, 0.6041666666666666, 'property_age <= 8.5\\nabsolute_error = 6500.0\\nsamples = 2\\nvalue = 318500.0'),\n",
       " Text(0.033752860411899316, 0.5625, 'absolute_error = 0.0\\nsamples = 1\\nvalue = 318500.0'),\n",
       " Text(0.036041189931350116, 0.5625, 'absolute_error = 0.0\\nsamples = 1\\nvalue = 299000.0'),\n",
       " Text(0.03489702517162471, 0.6875, 'absolute_error = 0.0\\nsamples = 1\\nvalue = 384900.0'),\n",
       " Text(0.036041189931350116, 0.7291666666666666, 'absolute_error = 0.0\\nsamples = 1\\nvalue = 398000.0'),\n",
       " Text(0.07193042048054919, 0.8125, 'year_sold <= 2015.5\\nabsolute_error = 25653.061\\nsamples = 69\\nvalue = 239900.0'),\n",
       " Text(0.0707862557208238, 0.7708333333333334, 'insurance <= 61.5\\nabsolute_error = 23374.77\\nsamples = 68\\nvalue = 239900.0'),\n",
       " Text(0.044193363844393596, 0.7291666666666666, 'sqft <= 1411.0\\nabsolute_error = 15319.806\\nsamples = 17\\nvalue = 220000.0'),\n",
       " Text(0.04304919908466819, 0.6875, 'property_age <= 26.0\\nabsolute_error = 10321.036\\nsamples = 16\\nvalue = 219000.0'),\n",
       " Text(0.03832951945080092, 0.6458333333333334, 'sqft <= 801.5\\nabsolute_error = 5142.857\\nsamples = 3\\nvalue = 205000.0'),\n",
       " Text(0.03718535469107551, 0.6041666666666666, 'absolute_error = 0.0\\nsamples = 1\\nvalue = 218000.0'),\n",
       " Text(0.039473684210526314, 0.6041666666666666, 'beds <= 2.0\\nabsolute_error = 2000.0\\nsamples = 2\\nvalue = 205000.0'),\n",
       " Text(0.03832951945080092, 0.5625, 'absolute_error = 0.0\\nsamples = 1\\nvalue = 200000.0'),\n",
       " Text(0.04061784897025172, 0.5625, 'absolute_error = 0.0\\nsamples = 1\\nvalue = 205000.0'),\n",
       " Text(0.04776887871853547, 0.6458333333333334, 'sqft <= 1037.0\\nabsolute_error = 9523.286\\nsamples = 13\\nvalue = 220000.0'),\n",
       " Text(0.044050343249427915, 0.6041666666666666, 'insurance <= 60.5\\nabsolute_error = 9762.636\\nsamples = 8\\nvalue = 230000.0'),\n",
       " Text(0.04290617848970252, 0.5625, 'sqft <= 847.5\\nabsolute_error = 7543.222\\nsamples = 7\\nvalue = 237500.0'),\n",
       " Text(0.04004576659038902, 0.5208333333333334, 'property_tax <= 178.0\\nabsolute_error = 3750.0\\nsamples = 3\\nvalue = 227500.0'),\n",
       " Text(0.038901601830663615, 0.4791666666666667, 'year_built <= 1961.5\\nabsolute_error = 1666.667\\nsamples = 2\\nvalue = 230000.0'),\n",
       " Text(0.03775743707093822, 0.4375, 'absolute_error = 0.0\\nsamples = 1\\nvalue = 225000.0'),\n",
       " Text(0.04004576659038902, 0.4375, 'absolute_error = 0.0\\nsamples = 1\\nvalue = 230000.0'),\n",
       " Text(0.041189931350114416, 0.4791666666666667, 'absolute_error = 0.0\\nsamples = 1\\nvalue = 220000.0'),\n",
       " Text(0.04576659038901602, 0.5208333333333334, 'year_sold <= 2011.5\\nabsolute_error = 4297.8\\nsamples = 4\\nvalue = 238900.0'),\n",
       " Text(0.043478260869565216, 0.4791666666666667, 'basement <= 0.5\\nabsolute_error = 3244.5\\nsamples = 2\\nvalue = 248244.5'),\n",
       " Text(0.04233409610983982, 0.4375, 'absolute_error = 0.0\\nsamples = 1\\nvalue = 251489.0'),\n",
       " Text(0.04462242562929062, 0.4375, 'absolute_error = 0.0\\nsamples = 1\\nvalue = 245000.0'),\n",
       " Text(0.04805491990846682, 0.4791666666666667, 'property_age <= 41.0\\nabsolute_error = 466.667\\nsamples = 2\\nvalue = 237500.0'),\n",
       " Text(0.04691075514874142, 0.4375, 'absolute_error = 0.0\\nsamples = 1\\nvalue = 237500.0'),\n",
       " Text(0.04919908466819222, 0.4375, 'absolute_error = 0.0\\nsamples = 1\\nvalue = 238900.0'),\n",
       " Text(0.04519450800915332, 0.5625, 'absolute_error = 0.0\\nsamples = 1\\nvalue = 214000.0'),\n",
       " Text(0.05148741418764302, 0.6041666666666666, 'year_built <= 1974.0\\nabsolute_error = 5260.0\\nsamples = 5\\nvalue = 219000.0'),\n",
       " Text(0.04919908466819222, 0.5625, 'lot_size <= 1374.0\\nabsolute_error = 400.0\\nsamples = 2\\nvalue = 211500.0'),\n",
       " Text(0.04805491990846682, 0.5208333333333334, 'absolute_error = 0.0\\nsamples = 1\\nvalue = 211500.0'),\n",
       " Text(0.05034324942791762, 0.5208333333333334, 'absolute_error = 0.0\\nsamples = 1\\nvalue = 209900.0'),\n",
       " Text(0.05377574370709382, 0.5625, 'insurance <= 59.5\\nabsolute_error = 2833.333\\nsamples = 3\\nvalue = 220000.0'),\n",
       " Text(0.05263157894736842, 0.5208333333333334, 'insurance <= 57.5\\nabsolute_error = 400.0\\nsamples = 2\\nvalue = 220000.0'),\n",
       " Text(0.05148741418764302, 0.4791666666666667, 'absolute_error = 0.0\\nsamples = 1\\nvalue = 220000.0'),\n",
       " Text(0.05377574370709382, 0.4791666666666667, 'absolute_error = 0.0\\nsamples = 1\\nvalue = 218000.0'),\n",
       " Text(0.05491990846681922, 0.5208333333333334, 'absolute_error = 0.0\\nsamples = 1\\nvalue = 235000.0'),\n",
       " Text(0.04533752860411899, 0.6875, 'absolute_error = 0.0\\nsamples = 1\\nvalue = 281975.0'),\n",
       " Text(0.09737914759725401, 0.7291666666666666, 'lot_size <= 1759.5\\nabsolute_error = 23045.549\\nsamples = 51\\nvalue = 245000.0'),\n",
       " Text(0.08835097254004577, 0.6875, 'sqft <= 1557.5\\nabsolute_error = 17655.356\\nsamples = 39\\nvalue = 250000.0'),\n",
       " Text(0.08230835240274599, 0.6458333333333334, 'sqft <= 1485.0\\nabsolute_error = 13899.745\\nsamples = 33\\nvalue = 250000.0'),\n",
       " Text(0.07365560640732266, 0.6041666666666666, 'insurance <= 71.0\\nabsolute_error = 13122.378\\nsamples = 30\\nvalue = 250000.0'),\n",
       " Text(0.06264302059496568, 0.5625, 'property_tax <= 218.0\\nabsolute_error = 8931.0\\nsamples = 17\\nvalue = 245000.0'),\n",
       " Text(0.057208237986270026, 0.5208333333333334, 'insurance <= 68.5\\nabsolute_error = 6400.0\\nsamples = 9\\nvalue = 244800.0'),\n",
       " Text(0.05606407322654462, 0.4791666666666667, 'year_sold <= 2012.0\\nabsolute_error = 5514.286\\nsamples = 8\\nvalue = 244800.0'),\n",
       " Text(0.05205949656750572, 0.4375, 'year_sold <= 2008.0\\nabsolute_error = 1955.556\\nsamples = 5\\nvalue = 245000.0'),\n",
       " Text(0.04977116704805492, 0.3958333333333333, 'year_built <= 1991.5\\nabsolute_error = 2333.333\\nsamples = 2\\nvalue = 250000.0'),\n",
       " Text(0.04862700228832952, 0.3541666666666667, 'absolute_error = 0.0\\nsamples = 1\\nvalue = 250000.0'),\n",
       " Text(0.05091533180778032, 0.3541666666666667, 'absolute_error = 0.0\\nsamples = 1\\nvalue = 243000.0'),\n",
       " Text(0.05434782608695652, 0.3958333333333333, 'insurance <= 67.0\\nabsolute_error = 933.333\\nsamples = 3\\nvalue = 244900.0'),\n",
       " Text(0.05320366132723112, 0.3541666666666667, 'beds <= 1.5\\nabsolute_error = 80.0\\nsamples = 2\\nvalue = 244800.0'),\n",
       " Text(0.05205949656750572, 0.3125, 'absolute_error = 0.0\\nsamples = 1\\nvalue = 244800.0'),\n",
       " Text(0.05434782608695652, 0.3125, 'absolute_error = 0.0\\nsamples = 1\\nvalue = 245000.0'),\n",
       " Text(0.055491990846681924, 0.3541666666666667, 'absolute_error = 0.0\\nsamples = 1\\nvalue = 250000.0'),\n",
       " Text(0.060068649885583525, 0.4375, 'insurance <= 65.5\\nabsolute_error = 9000.0\\nsamples = 3\\nvalue = 240000.0'),\n",
       " Text(0.05892448512585812, 0.3958333333333333, 'property_type_Bunglow <= 0.5\\nabsolute_error = 1250.0\\nsamples = 2\\nvalue = 240000.0'),\n",
       " Text(0.057780320366132724, 0.3541666666666667, 'absolute_error = 0.0\\nsamples = 1\\nvalue = 240000.0'),\n",
       " Text(0.060068649885583525, 0.3541666666666667, 'absolute_error = 0.0\\nsamples = 1\\nvalue = 235000.0'),\n",
       " Text(0.06121281464530892, 0.3958333333333333, 'absolute_error = 0.0\\nsamples = 1\\nvalue = 280000.0'),\n",
       " Text(0.05835240274599542, 0.4791666666666667, 'absolute_error = 0.0\\nsamples = 1\\nvalue = 226000.0'),\n",
       " Text(0.06807780320366133, 0.5208333333333334, 'property_age <= 38.5\\nabsolute_error = 10667.5\\nsamples = 8\\nvalue = 250000.0'),\n",
       " Text(0.06578947368421052, 0.4791666666666667, 'property_tax <= 247.5\\nabsolute_error = 5834.375\\nsamples = 6\\nvalue = 250000.0'),\n",
       " Text(0.06464530892448513, 0.4375, 'property_tax <= 226.5\\nabsolute_error = 4412.5\\nsamples = 5\\nvalue = 250000.0'),\n",
       " Text(0.06350114416475973, 0.3958333333333333, 'absolute_error = 0.0\\nsamples = 1\\nvalue = 231525.0'),\n",
       " Text(0.06578947368421052, 0.3958333333333333, 'popular <= 0.5\\nabsolute_error = 1600.0\\nsamples = 4\\nvalue = 250000.0'),\n",
       " Text(0.06464530892448513, 0.3541666666666667, 'year_built <= 1987.5\\nabsolute_error = 1000.0\\nsamples = 2\\nvalue = 254000.0'),\n",
       " Text(0.06350114416475973, 0.3125, 'absolute_error = 0.0\\nsamples = 1\\nvalue = 255000.0'),\n",
       " Text(0.06578947368421052, 0.3125, 'absolute_error = 0.0\\nsamples = 1\\nvalue = 253000.0'),\n",
       " Text(0.06693363844393593, 0.3541666666666667, 'absolute_error = 0.0\\nsamples = 2\\nvalue = 250000.0'),\n",
       " Text(0.06693363844393593, 0.4375, 'absolute_error = 0.0\\nsamples = 1\\nvalue = 239900.0'),\n",
       " Text(0.07036613272311212, 0.4791666666666667, 'year_sold <= 2011.0\\nabsolute_error = 5000.0\\nsamples = 2\\nvalue = 280000.0'),\n",
       " Text(0.06922196796338673, 0.4375, 'absolute_error = 0.0\\nsamples = 1\\nvalue = 285000.0'),\n",
       " Text(0.07151029748283753, 0.4375, 'absolute_error = 0.0\\nsamples = 1\\nvalue = 275000.0'),\n",
       " Text(0.08466819221967964, 0.5625, 'lot_size <= 559.5\\nabsolute_error = 15411.6\\nsamples = 13\\nvalue = 255000.0'),\n",
       " Text(0.08066361556064074, 0.5208333333333334, 'year_built <= 1996.5\\nabsolute_error = 16575.467\\nsamples = 11\\nvalue = 271000.0'),\n",
       " Text(0.07608695652173914, 0.4791666666666667, 'year_built <= 1989.5\\nabsolute_error = 9304.286\\nsamples = 6\\nvalue = 280000.0'),\n",
       " Text(0.07379862700228833, 0.4375, 'recession <= 0.5\\nabsolute_error = 4125.0\\nsamples = 4\\nvalue = 272750.0'),\n",
       " Text(0.07265446224256293, 0.3958333333333333, 'absolute_error = 0.0\\nsamples = 1\\nvalue = 280000.0'),\n",
       " Text(0.07494279176201372, 0.3958333333333333, 'property_age <= 38.0\\nabsolute_error = 2500.0\\nsamples = 3\\nvalue = 271000.0'),\n",
       " Text(0.07379862700228833, 0.3541666666666667, 'sqft <= 1429.5\\nabsolute_error = 1750.0\\nsamples = 2\\nvalue = 272750.0'),\n",
       " Text(0.07265446224256293, 0.3125, 'absolute_error = 0.0\\nsamples = 1\\nvalue = 274500.0'),\n",
       " Text(0.07494279176201372, 0.3125, 'absolute_error = 0.0\\nsamples = 1\\nvalue = 271000.0'),\n",
       " Text(0.07608695652173914, 0.3541666666666667, 'absolute_error = 0.0\\nsamples = 1\\nvalue = 267000.0'),\n",
       " Text(0.07837528604118993, 0.4375, 'year_built <= 1994.0\\nabsolute_error = 1271.667\\nsamples = 2\\nvalue = 293815.0'),\n",
       " Text(0.07723112128146453, 0.3958333333333333, 'absolute_error = 0.0\\nsamples = 1\\nvalue = 293815.0'),\n",
       " Text(0.07951945080091533, 0.3958333333333333, 'absolute_error = 0.0\\nsamples = 1\\nvalue = 290000.0'),\n",
       " Text(0.08524027459954234, 0.4791666666666667, 'property_tax <= 246.0\\nabsolute_error = 12937.75\\nsamples = 5\\nvalue = 255000.0'),\n",
       " Text(0.08295194508009153, 0.4375, 'property_age <= 8.0\\nabsolute_error = 4000.0\\nsamples = 2\\nvalue = 236000.0'),\n",
       " Text(0.08180778032036613, 0.3958333333333333, 'absolute_error = 0.0\\nsamples = 1\\nvalue = 240000.0'),\n",
       " Text(0.08409610983981694, 0.3958333333333333, 'absolute_error = 0.0\\nsamples = 1\\nvalue = 232000.0'),\n",
       " Text(0.08752860411899313, 0.4375, 'year_sold <= 2009.0\\nabsolute_error = 10917.0\\nsamples = 3\\nvalue = 255000.0'),\n",
       " Text(0.08638443935926773, 0.3958333333333333, 'absolute_error = 0.0\\nsamples = 1\\nvalue = 284900.0'),\n",
       " Text(0.08867276887871854, 0.3958333333333333, 'property_age <= 6.0\\nabsolute_error = 1425.5\\nsamples = 2\\nvalue = 255000.0'),\n",
       " Text(0.08752860411899313, 0.3541666666666667, 'absolute_error = 0.0\\nsamples = 1\\nvalue = 249298.0'),\n",
       " Text(0.08981693363844394, 0.3541666666666667, 'absolute_error = 0.0\\nsamples = 1\\nvalue = 255000.0'),\n",
       " Text(0.08867276887871854, 0.5208333333333334, 'popular <= 0.5\\nabsolute_error = 2920.0\\nsamples = 2\\nvalue = 254000.0'),\n",
       " Text(0.08752860411899313, 0.4791666666666667, 'absolute_error = 0.0\\nsamples = 1\\nvalue = 246700.0'),\n",
       " Text(0.08981693363844394, 0.4791666666666667, 'absolute_error = 0.0\\nsamples = 1\\nvalue = 254000.0'),\n",
       " Text(0.09096109839816933, 0.6041666666666666, 'year_built <= 1973.5\\nabsolute_error = 4730.0\\nsamples = 3\\nvalue = 226270.0'),\n",
       " Text(0.08981693363844394, 0.5625, 'absolute_error = 0.0\\nsamples = 1\\nvalue = 239000.0'),\n",
       " Text(0.09210526315789473, 0.5625, 'sqft <= 1520.0\\nabsolute_error = 365.0\\nsamples = 2\\nvalue = 225540.0'),\n",
       " Text(0.09096109839816933, 0.5208333333333334, 'absolute_error = 0.0\\nsamples = 1\\nvalue = 225540.0'),\n",
       " Text(0.09324942791762014, 0.5208333333333334, 'absolute_error = 0.0\\nsamples = 1\\nvalue = 227000.0'),\n",
       " Text(0.09439359267734554, 0.6458333333333334, 'year_built <= 1978.0\\nabsolute_error = 19779.125\\nsamples = 6\\nvalue = 297283.0'),\n",
       " Text(0.09324942791762014, 0.6041666666666666, 'absolute_error = 0.0\\nsamples = 1\\nvalue = 204000.0'),\n",
       " Text(0.09553775743707094, 0.6041666666666666, 'property_type_Condo <= 0.5\\nabsolute_error = 9278.571\\nsamples = 5\\nvalue = 297283.0'),\n",
       " Text(0.09439359267734554, 0.5625, 'absolute_error = 0.0\\nsamples = 1\\nvalue = 250000.0'),\n",
       " Text(0.09668192219679633, 0.5625, 'insurance <= 64.5\\nabsolute_error = 2944.5\\nsamples = 4\\nvalue = 297283.0'),\n",
       " Text(0.09553775743707094, 0.5208333333333334, 'absolute_error = 0.0\\nsamples = 1\\nvalue = 305000.0'),\n",
       " Text(0.09782608695652174, 0.5208333333333334, 'sqft <= 1785.5\\nabsolute_error = 1990.0\\nsamples = 3\\nvalue = 297283.0'),\n",
       " Text(0.09668192219679633, 0.4791666666666667, 'absolute_error = 0.0\\nsamples = 1\\nvalue = 289990.0'),\n",
       " Text(0.09897025171624714, 0.4791666666666667, 'recession <= 0.5\\nabsolute_error = 664.25\\nsamples = 2\\nvalue = 297283.0'),\n",
       " Text(0.09782608695652174, 0.4375, 'absolute_error = 0.0\\nsamples = 1\\nvalue = 299940.0'),\n",
       " Text(0.10011441647597254, 0.4375, 'absolute_error = 0.0\\nsamples = 1\\nvalue = 297283.0'),\n",
       " Text(0.10640732265446225, 0.6875, 'year_sold <= 2008.5\\nabsolute_error = 21229.261\\nsamples = 12\\nvalue = 210000.0'),\n",
       " Text(0.10526315789473684, 0.6458333333333334, 'absolute_error = 0.0\\nsamples = 1\\nvalue = 340000.0'),\n",
       " Text(0.10755148741418764, 0.6458333333333334, 'insurance <= 64.0\\nabsolute_error = 16285.136\\nsamples = 11\\nvalue = 210000.0'),\n",
       " Text(0.10640732265446225, 0.6041666666666666, 'absolute_error = 0.0\\nsamples = 1\\nvalue = 336873.0'),\n",
       " Text(0.10869565217391304, 0.6041666666666666, 'sqft <= 1638.0\\nabsolute_error = 11019.048\\nsamples = 10\\nvalue = 210000.0'),\n",
       " Text(0.10469107551487414, 0.5625, 'insurance <= 67.0\\nabsolute_error = 4386.667\\nsamples = 7\\nvalue = 210000.0'),\n",
       " Text(0.10240274599542334, 0.5208333333333334, 'property_age <= 41.0\\nabsolute_error = 2500.0\\nsamples = 2\\nvalue = 210000.0'),\n",
       " Text(0.10125858123569793, 0.4791666666666667, 'absolute_error = 0.0\\nsamples = 1\\nvalue = 210000.0'),\n",
       " Text(0.10354691075514874, 0.4791666666666667, 'absolute_error = 0.0\\nsamples = 1\\nvalue = 225000.0'),\n",
       " Text(0.10697940503432495, 0.5208333333333334, 'property_tax <= 237.5\\nabsolute_error = 3088.889\\nsamples = 5\\nvalue = 205000.0'),\n",
       " Text(0.10583524027459955, 0.4791666666666667, 'absolute_error = 0.0\\nsamples = 1\\nvalue = 215000.0'),\n",
       " Text(0.10812356979405034, 0.4791666666666667, 'property_age <= 49.5\\nabsolute_error = 2225.0\\nsamples = 4\\nvalue = 205000.0'),\n",
       " Text(0.10697940503432495, 0.4375, 'sqft <= 1570.0\\nabsolute_error = 1333.333\\nsamples = 3\\nvalue = 205000.0'),\n",
       " Text(0.10583524027459955, 0.3958333333333333, 'property_type_Bunglow <= 0.5\\nabsolute_error = 200.0\\nsamples = 2\\nvalue = 205000.0'),\n",
       " Text(0.10469107551487414, 0.3541666666666667, 'absolute_error = 0.0\\nsamples = 1\\nvalue = 206000.0'),\n",
       " Text(0.10697940503432495, 0.3541666666666667, 'absolute_error = 0.0\\nsamples = 1\\nvalue = 205000.0'),\n",
       " Text(0.10812356979405034, 0.3958333333333333, 'absolute_error = 0.0\\nsamples = 1\\nvalue = 212000.0'),\n",
       " Text(0.10926773455377574, 0.4375, 'absolute_error = 0.0\\nsamples = 1\\nvalue = 200100.0'),\n",
       " Text(0.11270022883295194, 0.5625, 'property_tax <= 288.0\\nabsolute_error = 6533.333\\nsamples = 3\\nvalue = 232600.0'),\n",
       " Text(0.11155606407322655, 0.5208333333333334, 'insurance <= 74.5\\nabsolute_error = 1150.0\\nsamples = 2\\nvalue = 232600.0'),\n",
       " Text(0.11041189931350115, 0.4791666666666667, 'absolute_error = 0.0\\nsamples = 1\\nvalue = 232600.0'),\n",
       " Text(0.11270022883295194, 0.4791666666666667, 'absolute_error = 0.0\\nsamples = 1\\nvalue = 228000.0'),\n",
       " Text(0.11384439359267734, 0.5208333333333334, 'absolute_error = 0.0\\nsamples = 1\\nvalue = 249900.0'),\n",
       " Text(0.0730745852402746, 0.7708333333333334, 'absolute_error = 0.0\\nsamples = 1\\nvalue = 523000.0'),\n",
       " Text(0.18909333881578946, 0.8541666666666666, 'year_sold <= 2007.5\\nabsolute_error = 42887.712\\nsamples = 168\\nvalue = 300000.0'),\n",
       " Text(0.12926380148741418, 0.8125, 'year_sold <= 2003.5\\nabsolute_error = 47794.0\\nsamples = 65\\nvalue = 350100.0'),\n",
       " Text(0.11727688787185354, 0.7708333333333334, 'property_tax <= 304.5\\nabsolute_error = 25610.0\\nsamples = 10\\nvalue = 267500.0'),\n",
       " Text(0.11327231121281464, 0.7291666666666666, 'sqft <= 1034.0\\nabsolute_error = 16131.818\\nsamples = 5\\nvalue = 275250.0'),\n",
       " Text(0.11212814645308924, 0.6875, 'absolute_error = 0.0\\nsamples = 1\\nvalue = 232150.0'),\n",
       " Text(0.11441647597254005, 0.6875, 'year_built <= 1999.5\\nabsolute_error = 10138.889\\nsamples = 4\\nvalue = 275250.0'),\n",
       " Text(0.11212814645308924, 0.6458333333333334, 'sqft <= 1501.0\\nabsolute_error = 750.0\\nsamples = 2\\nvalue = 293000.0'),\n",
       " Text(0.11098398169336385, 0.6041666666666666, 'absolute_error = 0.0\\nsamples = 1\\nvalue = 290000.0'),\n",
       " Text(0.11327231121281464, 0.6041666666666666, 'absolute_error = 0.0\\nsamples = 1\\nvalue = 293000.0'),\n",
       " Text(0.11670480549199085, 0.6458333333333334, 'lot_size <= 1306.5\\nabsolute_error = 3100.0\\nsamples = 2\\nvalue = 267500.0'),\n",
       " Text(0.11556064073226545, 0.6041666666666666, 'absolute_error = 0.0\\nsamples = 1\\nvalue = 275250.0'),\n",
       " Text(0.11784897025171624, 0.6041666666666666, 'absolute_error = 0.0\\nsamples = 1\\nvalue = 267500.0'),\n",
       " Text(0.12128146453089245, 0.7291666666666666, 'year_built <= 1998.5\\nabsolute_error = 13828.333\\nsamples = 5\\nvalue = 214900.0'),\n",
       " Text(0.12013729977116705, 0.6875, 'year_sold <= 2002.5\\nabsolute_error = 4320.0\\nsamples = 4\\nvalue = 214900.0'),\n",
       " Text(0.11899313501144165, 0.6458333333333334, 'absolute_error = 0.0\\nsamples = 3\\nvalue = 214900.0'),\n",
       " Text(0.12128146453089245, 0.6458333333333334, 'absolute_error = 0.0\\nsamples = 1\\nvalue = 236500.0'),\n",
       " Text(0.12242562929061784, 0.6875, 'absolute_error = 0.0\\nsamples = 1\\nvalue = 276270.0'),\n",
       " Text(0.14125071510297482, 0.7708333333333334, 'insurance <= 80.5\\nabsolute_error = 33488.081\\nsamples = 55\\nvalue = 375000.0'),\n",
       " Text(0.12700228832951946, 0.7291666666666666, 'year_sold <= 2004.5\\nabsolute_error = 28169.611\\nsamples = 11\\nvalue = 343000.0'),\n",
       " Text(0.12471395881006865, 0.6875, 'lot_size <= 751.0\\nabsolute_error = 2433.333\\nsamples = 2\\nvalue = 264900.0'),\n",
       " Text(0.12356979405034325, 0.6458333333333334, 'absolute_error = 0.0\\nsamples = 1\\nvalue = 264900.0'),\n",
       " Text(0.12585812356979406, 0.6458333333333334, 'absolute_error = 0.0\\nsamples = 1\\nvalue = 257600.0'),\n",
       " Text(0.12929061784897025, 0.6875, 'insurance <= 77.5\\nabsolute_error = 17163.533\\nsamples = 9\\nvalue = 350000.0'),\n",
       " Text(0.12814645308924486, 0.6458333333333334, 'absolute_error = 0.0\\nsamples = 1\\nvalue = 375000.0'),\n",
       " Text(0.13043478260869565, 0.6458333333333334, 'sqft <= 1725.5\\nabsolute_error = 14121.083\\nsamples = 8\\nvalue = 343000.0'),\n",
       " Text(0.12929061784897025, 0.6041666666666666, 'baths <= 2.5\\nabsolute_error = 10632.091\\nsamples = 7\\nvalue = 342500.0'),\n",
       " Text(0.12814645308924486, 0.5625, 'property_tax <= 293.5\\nabsolute_error = 7861.444\\nsamples = 6\\nvalue = 343500.0'),\n",
       " Text(0.12700228832951946, 0.5208333333333334, 'property_age <= 9.5\\nabsolute_error = 5750.0\\nsamples = 5\\nvalue = 343000.0'),\n",
       " Text(0.12585812356979406, 0.4791666666666667, 'absolute_error = 0.0\\nsamples = 1\\nvalue = 320000.0'),\n",
       " Text(0.12814645308924486, 0.4791666666666667, 'lot_size <= 657.0\\nabsolute_error = 3214.286\\nsamples = 4\\nvalue = 343500.0'),\n",
       " Text(0.12700228832951946, 0.4375, 'absolute_error = 0.0\\nsamples = 2\\nvalue = 350000.0'),\n",
       " Text(0.12929061784897025, 0.4375, 'basement <= 0.5\\nabsolute_error = 250.0\\nsamples = 2\\nvalue = 342500.0'),\n",
       " Text(0.12814645308924486, 0.3958333333333333, 'absolute_error = 0.0\\nsamples = 1\\nvalue = 343500.0'),\n",
       " Text(0.13043478260869565, 0.3958333333333333, 'absolute_error = 0.0\\nsamples = 1\\nvalue = 342500.0'),\n",
       " Text(0.12929061784897025, 0.5208333333333334, 'absolute_error = 0.0\\nsamples = 1\\nvalue = 368253.0'),\n",
       " Text(0.13043478260869565, 0.5625, 'absolute_error = 0.0\\nsamples = 1\\nvalue = 319900.0'),\n",
       " Text(0.13157894736842105, 0.6041666666666666, 'absolute_error = 0.0\\nsamples = 1\\nvalue = 395000.0'),\n",
       " Text(0.1554991418764302, 0.7291666666666666, 'sqft <= 1767.0\\nabsolute_error = 31135.554\\nsamples = 44\\nvalue = 376120.0'),\n",
       " Text(0.14681064073226543, 0.6875, 'year_sold <= 2004.5\\nabsolute_error = 31265.044\\nsamples = 35\\nvalue = 375000.0'),\n",
       " Text(0.13615560640732266, 0.6458333333333334, 'sqft <= 1663.0\\nabsolute_error = 22147.643\\nsamples = 9\\nvalue = 351451.5'),\n",
       " Text(0.13386727688787187, 0.6041666666666666, 'property_tax <= 288.5\\nabsolute_error = 14418.3\\nsamples = 7\\nvalue = 334000.0'),\n",
       " Text(0.13272311212814644, 0.5625, 'absolute_error = 0.0\\nsamples = 1\\nvalue = 375490.0'),\n",
       " Text(0.13501144164759726, 0.5625, 'insurance <= 94.5\\nabsolute_error = 7650.375\\nsamples = 6\\nvalue = 331950.0'),\n",
       " Text(0.13272311212814644, 0.5208333333333334, 'sqft <= 1350.0\\nabsolute_error = 3016.667\\nsamples = 4\\nvalue = 329900.0'),\n",
       " Text(0.13157894736842105, 0.4791666666666667, 'absolute_error = 0.0\\nsamples = 1\\nvalue = 320000.0'),\n",
       " Text(0.13386727688787187, 0.4791666666666667, 'property_age <= 12.0\\nabsolute_error = 1640.0\\nsamples = 3\\nvalue = 329900.0'),\n",
       " Text(0.13272311212814644, 0.4375, 'absolute_error = 0.0\\nsamples = 2\\nvalue = 329900.0'),\n",
       " Text(0.13501144164759726, 0.4375, 'absolute_error = 0.0\\nsamples = 1\\nvalue = 334000.0'),\n",
       " Text(0.13729977116704806, 0.5208333333333334, 'property_tax <= 346.0\\nabsolute_error = 3548.5\\nsamples = 2\\nvalue = 351451.5'),\n",
       " Text(0.13615560640732266, 0.4791666666666667, 'absolute_error = 0.0\\nsamples = 1\\nvalue = 347903.0'),\n",
       " Text(0.13844393592677345, 0.4791666666666667, 'absolute_error = 0.0\\nsamples = 1\\nvalue = 355000.0'),\n",
       " Text(0.13844393592677345, 0.6041666666666666, 'insurance <= 89.0\\nabsolute_error = 2522.5\\nsamples = 2\\nvalue = 379900.0'),\n",
       " Text(0.13729977116704806, 0.5625, 'absolute_error = 0.0\\nsamples = 1\\nvalue = 389990.0'),\n",
       " Text(0.13958810068649885, 0.5625, 'absolute_error = 0.0\\nsamples = 1\\nvalue = 379900.0'),\n",
       " Text(0.15746567505720824, 0.6458333333333334, 'insurance <= 96.5\\nabsolute_error = 34092.258\\nsamples = 26\\nvalue = 375000.0'),\n",
       " Text(0.15632151029748284, 0.6041666666666666, 'insurance <= 81.5\\nabsolute_error = 32000.333\\nsamples = 25\\nvalue = 375000.0'),\n",
       " Text(0.15517734553775744, 0.5625, 'absolute_error = 0.0\\nsamples = 1\\nvalue = 416000.0'),\n",
       " Text(0.15746567505720824, 0.5625, 'property_tax <= 319.5\\nabsolute_error = 31690.0\\nsamples = 24\\nvalue = 375000.0'),\n",
       " Text(0.1507437070938215, 0.5208333333333334, 'year_built <= 1972.5\\nabsolute_error = 31111.923\\nsamples = 22\\nvalue = 375000.0'),\n",
       " Text(0.14073226544622425, 0.4791666666666667, 'lot_size <= 3627.0\\nabsolute_error = 52015.625\\nsamples = 7\\nvalue = 337550.0'),\n",
       " Text(0.13787185354691076, 0.4375, 'property_age <= 40.5\\nabsolute_error = 7666.667\\nsamples = 2\\nvalue = 297000.0'),\n",
       " Text(0.13672768878718536, 0.3958333333333333, 'absolute_error = 0.0\\nsamples = 1\\nvalue = 320000.0'),\n",
       " Text(0.13901601830663615, 0.3958333333333333, 'absolute_error = 0.0\\nsamples = 1\\nvalue = 297000.0'),\n",
       " Text(0.14359267734553777, 0.4375, 'lot_size <= 14156.5\\nabsolute_error = 46610.0\\nsamples = 5\\nvalue = 396875.0'),\n",
       " Text(0.14130434782608695, 0.3958333333333333, 'insurance <= 91.0\\nabsolute_error = 20925.0\\nsamples = 2\\nvalue = 454075.0'),\n",
       " Text(0.14016018306636155, 0.3541666666666667, 'absolute_error = 0.0\\nsamples = 1\\nvalue = 433150.0'),\n",
       " Text(0.14244851258581237, 0.3541666666666667, 'absolute_error = 0.0\\nsamples = 1\\nvalue = 475000.0'),\n",
       " Text(0.14588100686498856, 0.3958333333333333, 'property_type_Condo <= 0.5\\nabsolute_error = 23958.333\\nsamples = 3\\nvalue = 350100.0'),\n",
       " Text(0.14473684210526316, 0.3541666666666667, 'property_tax <= 296.5\\nabsolute_error = 12550.0\\nsamples = 2\\nvalue = 337550.0'),\n",
       " Text(0.14359267734553777, 0.3125, 'absolute_error = 0.0\\nsamples = 1\\nvalue = 350100.0'),\n",
       " Text(0.14588100686498856, 0.3125, 'absolute_error = 0.0\\nsamples = 1\\nvalue = 325000.0'),\n",
       " Text(0.14702517162471396, 0.3541666666666667, 'absolute_error = 0.0\\nsamples = 1\\nvalue = 396875.0'),\n",
       " Text(0.16075514874141877, 0.4791666666666667, 'sqft <= 1721.0\\nabsolute_error = 19054.722\\nsamples = 15\\nvalue = 375875.0'),\n",
       " Text(0.15961098398169338, 0.4375, 'sqft <= 1273.0\\nabsolute_error = 17758.235\\nsamples = 14\\nvalue = 376750.0'),\n",
       " Text(0.15217391304347827, 0.3958333333333333, 'insurance <= 86.5\\nabsolute_error = 4768.75\\nsamples = 7\\nvalue = 374950.0'),\n",
       " Text(0.14931350114416475, 0.3541666666666667, 'sqft <= 993.5\\nabsolute_error = 1100.0\\nsamples = 2\\nvalue = 370000.0'),\n",
       " Text(0.14816933638443935, 0.3125, 'absolute_error = 0.0\\nsamples = 1\\nvalue = 366700.0'),\n",
       " Text(0.15045766590389015, 0.3125, 'absolute_error = 0.0\\nsamples = 1\\nvalue = 370000.0'),\n",
       " Text(0.15503432494279176, 0.3541666666666667, 'sqft <= 661.5\\nabsolute_error = 3620.0\\nsamples = 5\\nvalue = 376750.0'),\n",
       " Text(0.15274599542334097, 0.3125, 'sqft <= 634.0\\nabsolute_error = 4100.0\\nsamples = 2\\nvalue = 384000.0'),\n",
       " Text(0.15160183066361557, 0.2708333333333333, 'absolute_error = 0.0\\nsamples = 1\\nvalue = 379900.0'),\n",
       " Text(0.15389016018306637, 0.2708333333333333, 'absolute_error = 0.0\\nsamples = 1\\nvalue = 388100.0'),\n",
       " Text(0.15732265446224256, 0.3125, 'beds <= 1.5\\nabsolute_error = 616.667\\nsamples = 3\\nvalue = 375000.0'),\n",
       " Text(0.15617848970251716, 0.2708333333333333, 'absolute_error = 0.0\\nsamples = 1\\nvalue = 376750.0'),\n",
       " Text(0.15846681922196795, 0.2708333333333333, 'year_built <= 1981.5\\nabsolute_error = 50.0\\nsamples = 2\\nvalue = 374950.0'),\n",
       " Text(0.15732265446224256, 0.22916666666666666, 'absolute_error = 0.0\\nsamples = 1\\nvalue = 375000.0'),\n",
       " Text(0.15961098398169338, 0.22916666666666666, 'absolute_error = 0.0\\nsamples = 1\\nvalue = 374900.0'),\n",
       " Text(0.16704805491990846, 0.3958333333333333, 'year_sold <= 2006.5\\nabsolute_error = 21666.667\\nsamples = 7\\nvalue = 405490.0'),\n",
       " Text(0.16418764302059496, 0.3541666666666667, 'insurance <= 86.5\\nabsolute_error = 22600.0\\nsamples = 4\\nvalue = 408000.0'),\n",
       " Text(0.16189931350114417, 0.3125, 'baths <= 2.5\\nabsolute_error = 4333.333\\nsamples = 2\\nvalue = 408000.0'),\n",
       " Text(0.16075514874141877, 0.2708333333333333, 'absolute_error = 0.0\\nsamples = 1\\nvalue = 395000.0'),\n",
       " Text(0.16304347826086957, 0.2708333333333333, 'absolute_error = 0.0\\nsamples = 1\\nvalue = 408000.0'),\n",
       " Text(0.16647597254004576, 0.3125, 'lot_size <= 1683.5\\nabsolute_error = 2000.0\\nsamples = 2\\nvalue = 442000.0'),\n",
       " Text(0.16533180778032036, 0.2708333333333333, 'absolute_error = 0.0\\nsamples = 1\\nvalue = 444000.0'),\n",
       " Text(0.16762013729977115, 0.2708333333333333, 'absolute_error = 0.0\\nsamples = 1\\nvalue = 440000.0'),\n",
       " Text(0.16990846681922198, 0.3541666666666667, 'lot_size <= 700.0\\nabsolute_error = 11372.5\\nsamples = 3\\nvalue = 375000.0'),\n",
       " Text(0.16876430205949658, 0.3125, 'absolute_error = 0.0\\nsamples = 1\\nvalue = 405490.0'),\n",
       " Text(0.17105263157894737, 0.3125, 'year_built <= 1983.0\\nabsolute_error = 5000.0\\nsamples = 2\\nvalue = 375000.0'),\n",
       " Text(0.16990846681922198, 0.2708333333333333, 'absolute_error = 0.0\\nsamples = 1\\nvalue = 375000.0'),\n",
       " Text(0.17219679633867277, 0.2708333333333333, 'absolute_error = 0.0\\nsamples = 1\\nvalue = 360000.0'),\n",
       " Text(0.16189931350114417, 0.4375, 'absolute_error = 0.0\\nsamples = 1\\nvalue = 335655.0'),\n",
       " Text(0.16418764302059496, 0.5208333333333334, 'sqft <= 1460.0\\nabsolute_error = 18350.0\\nsamples = 2\\nvalue = 319950.0'),\n",
       " Text(0.16304347826086957, 0.4791666666666667, 'absolute_error = 0.0\\nsamples = 1\\nvalue = 319950.0'),\n",
       " Text(0.16533180778032036, 0.4791666666666667, 'absolute_error = 0.0\\nsamples = 1\\nvalue = 375000.0'),\n",
       " Text(0.15860983981693363, 0.6041666666666666, 'absolute_error = 0.0\\nsamples = 1\\nvalue = 471850.0'),\n",
       " Text(0.16418764302059496, 0.6875, 'sqft <= 1845.0\\nabsolute_error = 20910.545\\nsamples = 9\\nvalue = 399000.0'),\n",
       " Text(0.16304347826086957, 0.6458333333333334, 'absolute_error = 0.0\\nsamples = 1\\nvalue = 478040.0'),\n",
       " Text(0.16533180778032036, 0.6458333333333334, 'year_sold <= 2004.5\\nabsolute_error = 15097.6\\nsamples = 8\\nvalue = 395617.5'),\n",
       " Text(0.16418764302059496, 0.6041666666666666, 'absolute_error = 0.0\\nsamples = 1\\nvalue = 344000.0'),\n",
       " Text(0.16647597254004576, 0.6041666666666666, 'insurance <= 83.0\\nabsolute_error = 10664.0\\nsamples = 7\\nvalue = 399000.0'),\n",
       " Text(0.16533180778032036, 0.5625, 'absolute_error = 0.0\\nsamples = 2\\nvalue = 378672.0'),\n",
       " Text(0.16762013729977115, 0.5625, 'year_sold <= 2006.0\\nabsolute_error = 7589.286\\nsamples = 5\\nvalue = 401195.0'),\n",
       " Text(0.16647597254004576, 0.5208333333333334, 'absolute_error = 0.0\\nsamples = 1\\nvalue = 429800.0'),\n",
       " Text(0.16876430205949658, 0.5208333333333334, 'basement <= 0.5\\nabsolute_error = 4086.667\\nsamples = 4\\nvalue = 400097.5'),\n",
       " Text(0.16762013729977115, 0.4791666666666667, 'absolute_error = 0.0\\nsamples = 1\\nvalue = 392235.0'),\n",
       " Text(0.16990846681922198, 0.4791666666666667, 'lot_size <= 4142.5\\nabsolute_error = 1650.0\\nsamples = 3\\nvalue = 401195.0'),\n",
       " Text(0.16876430205949658, 0.4375, 'absolute_error = 0.0\\nsamples = 1\\nvalue = 405600.0'),\n",
       " Text(0.17105263157894737, 0.4375, 'property_tax <= 323.5\\nabsolute_error = 731.667\\nsamples = 2\\nvalue = 401195.0'),\n",
       " Text(0.16990846681922198, 0.3958333333333333, 'absolute_error = 0.0\\nsamples = 1\\nvalue = 401195.0'),\n",
       " Text(0.17219679633867277, 0.3958333333333333, 'absolute_error = 0.0\\nsamples = 1\\nvalue = 399000.0'),\n",
       " Text(0.24892287614416475, 0.8125, 'year_built <= 2008.5\\nabsolute_error = 30801.653\\nsamples = 103\\nvalue = 293000.0'),\n",
       " Text(0.216381221395881, 0.7708333333333334, 'insurance <= 82.5\\nabsolute_error = 29373.912\\nsamples = 96\\nvalue = 290000.0'),\n",
       " Text(0.17963386727688788, 0.7291666666666666, 'year_sold <= 2011.5\\nabsolute_error = 24974.359\\nsamples = 25\\nvalue = 277000.0'),\n",
       " Text(0.17276887871853547, 0.6875, 'sqft <= 1079.0\\nabsolute_error = 16900.0\\nsamples = 9\\nvalue = 250000.0'),\n",
       " Text(0.16990846681922198, 0.6458333333333334, 'property_tax <= 251.5\\nabsolute_error = 16833.333\\nsamples = 2\\nvalue = 277000.0'),\n",
       " Text(0.16876430205949658, 0.6041666666666666, 'absolute_error = 0.0\\nsamples = 1\\nvalue = 327500.0'),\n",
       " Text(0.17105263157894737, 0.6041666666666666, 'absolute_error = 0.0\\nsamples = 1\\nvalue = 277000.0'),\n",
       " Text(0.17562929061784896, 0.6458333333333334, 'sqft <= 1676.5\\nabsolute_error = 10166.667\\nsamples = 7\\nvalue = 250000.0'),\n",
       " Text(0.17334096109839817, 0.6041666666666666, 'sqft <= 1510.5\\nabsolute_error = 7222.222\\nsamples = 5\\nvalue = 250000.0'),\n",
       " Text(0.17219679633867277, 0.5625, 'year_sold <= 2010.5\\nabsolute_error = 3750.0\\nsamples = 4\\nvalue = 250000.0'),\n",
       " Text(0.17105263157894737, 0.5208333333333334, 'absolute_error = 0.0\\nsamples = 1\\nvalue = 242000.0'),\n",
       " Text(0.17334096109839817, 0.5208333333333334, 'sqft <= 1294.0\\nabsolute_error = 2333.333\\nsamples = 3\\nvalue = 250000.0'),\n",
       " Text(0.17219679633867277, 0.4791666666666667, 'absolute_error = 0.0\\nsamples = 1\\nvalue = 257000.0'),\n",
       " Text(0.17448512585812356, 0.4791666666666667, 'absolute_error = 0.0\\nsamples = 2\\nvalue = 250000.0'),\n",
       " Text(0.17448512585812356, 0.5625, 'absolute_error = 0.0\\nsamples = 1\\nvalue = 285000.0'),\n",
       " Text(0.17791762013729978, 0.6041666666666666, 'property_tax <= 278.5\\nabsolute_error = 3000.0\\nsamples = 2\\nvalue = 234000.0'),\n",
       " Text(0.17677345537757438, 0.5625, 'absolute_error = 0.0\\nsamples = 1\\nvalue = 225000.0'),\n",
       " Text(0.17906178489702518, 0.5625, 'absolute_error = 0.0\\nsamples = 1\\nvalue = 234000.0'),\n",
       " Text(0.18649885583524028, 0.6875, 'beds <= 4.5\\nabsolute_error = 21479.167\\nsamples = 16\\nvalue = 285000.0'),\n",
       " Text(0.1853546910755149, 0.6458333333333334, 'sqft <= 1913.5\\nabsolute_error = 18847.826\\nsamples = 15\\nvalue = 285000.0'),\n",
       " Text(0.18421052631578946, 0.6041666666666666, 'year_built <= 1983.5\\nabsolute_error = 17309.524\\nsamples = 14\\nvalue = 285000.0'),\n",
       " Text(0.18135011441647597, 0.5625, 'baths <= 2.5\\nabsolute_error = 26666.667\\nsamples = 3\\nvalue = 245000.0'),\n",
       " Text(0.18020594965675057, 0.5208333333333334, 'popular <= 0.5\\nabsolute_error = 17500.0\\nsamples = 2\\nvalue = 262500.0'),\n",
       " Text(0.17906178489702518, 0.4791666666666667, 'absolute_error = 0.0\\nsamples = 1\\nvalue = 280000.0'),\n",
       " Text(0.18135011441647597, 0.4791666666666667, 'absolute_error = 0.0\\nsamples = 1\\nvalue = 245000.0'),\n",
       " Text(0.18249427917620137, 0.5208333333333334, 'absolute_error = 0.0\\nsamples = 1\\nvalue = 200000.0'),\n",
       " Text(0.18707093821510298, 0.5625, 'sqft <= 1118.5\\nabsolute_error = 12472.222\\nsamples = 11\\nvalue = 290250.0'),\n",
       " Text(0.18478260869565216, 0.5208333333333334, 'year_built <= 1993.0\\nabsolute_error = 6125.0\\nsamples = 2\\nvalue = 265000.0'),\n",
       " Text(0.18363844393592677, 0.4791666666666667, 'absolute_error = 0.0\\nsamples = 1\\nvalue = 265000.0'),\n",
       " Text(0.1859267734553776, 0.4791666666666667, 'absolute_error = 0.0\\nsamples = 1\\nvalue = 289500.0'),\n",
       " Text(0.18935926773455378, 0.5208333333333334, 'property_age <= 28.5\\nabsolute_error = 10357.143\\nsamples = 9\\nvalue = 291000.0'),\n",
       " Text(0.18821510297482838, 0.4791666666666667, 'beds <= 3.5\\nabsolute_error = 8000.0\\nsamples = 8\\nvalue = 291000.0'),\n",
       " Text(0.1859267734553776, 0.4375, 'year_built <= 1985.5\\nabsolute_error = 8100.0\\nsamples = 6\\nvalue = 292000.0'),\n",
       " Text(0.18478260869565216, 0.3958333333333333, 'absolute_error = 0.0\\nsamples = 1\\nvalue = 235000.0'),\n",
       " Text(0.18707093821510298, 0.3958333333333333, 'recession <= 0.5\\nabsolute_error = 2777.778\\nsamples = 5\\nvalue = 293000.0'),\n",
       " Text(0.1859267734553776, 0.3541666666666667, 'absolute_error = 0.0\\nsamples = 1\\nvalue = 285000.0'),\n",
       " Text(0.18821510297482838, 0.3541666666666667, 'sqft <= 1481.5\\nabsolute_error = 1875.0\\nsamples = 4\\nvalue = 293000.0'),\n",
       " Text(0.1859267734553776, 0.3125, 'insurance <= 79.0\\nabsolute_error = 1500.0\\nsamples = 2\\nvalue = 297500.0'),\n",
       " Text(0.18478260869565216, 0.2708333333333333, 'absolute_error = 0.0\\nsamples = 1\\nvalue = 296000.0'),\n",
       " Text(0.18707093821510298, 0.2708333333333333, 'absolute_error = 0.0\\nsamples = 1\\nvalue = 299000.0'),\n",
       " Text(0.19050343249427917, 0.3125, 'year_built <= 1995.5\\nabsolute_error = 1000.0\\nsamples = 2\\nvalue = 292000.0'),\n",
       " Text(0.18935926773455378, 0.2708333333333333, 'absolute_error = 0.0\\nsamples = 1\\nvalue = 293000.0'),\n",
       " Text(0.19164759725400457, 0.2708333333333333, 'absolute_error = 0.0\\nsamples = 1\\nvalue = 291000.0'),\n",
       " Text(0.19050343249427917, 0.4375, 'lot_size <= 7403.0\\nabsolute_error = 1666.667\\nsamples = 2\\nvalue = 285000.0'),\n",
       " Text(0.18935926773455378, 0.3958333333333333, 'absolute_error = 0.0\\nsamples = 1\\nvalue = 280000.0'),\n",
       " Text(0.19164759725400457, 0.3958333333333333, 'absolute_error = 0.0\\nsamples = 1\\nvalue = 285000.0'),\n",
       " Text(0.19050343249427917, 0.4791666666666667, 'absolute_error = 0.0\\nsamples = 1\\nvalue = 332000.0'),\n",
       " Text(0.18649885583524028, 0.6041666666666666, 'absolute_error = 0.0\\nsamples = 1\\nvalue = 250000.0'),\n",
       " Text(0.18764302059496568, 0.6458333333333334, 'absolute_error = 0.0\\nsamples = 1\\nvalue = 367000.0'),\n",
       " Text(0.25312857551487417, 0.7291666666666666, 'beds <= 3.5\\nabsolute_error = 28786.992\\nsamples = 71\\nvalue = 300000.0'),\n",
       " Text(0.234375, 0.6875, 'year_sold <= 2012.5\\nabsolute_error = 24496.37\\nsamples = 55\\nvalue = 300000.0'),\n",
       " Text(0.21860697940503432, 0.6458333333333334, 'baths <= 2.5\\nabsolute_error = 21213.699\\nsamples = 41\\nvalue = 300000.0'),\n",
       " Text(0.20723684210526316, 0.6041666666666666, 'recession <= 0.5\\nabsolute_error = 17814.286\\nsamples = 32\\nvalue = 300000.0'),\n",
       " Text(0.19622425629290619, 0.5625, 'sqft <= 1047.0\\nabsolute_error = 11984.615\\nsamples = 15\\nvalue = 300000.0'),\n",
       " Text(0.19393592677345536, 0.5208333333333334, 'sqft <= 826.5\\nabsolute_error = 11500.0\\nsamples = 3\\nvalue = 276500.0'),\n",
       " Text(0.19279176201372997, 0.4791666666666667, 'absolute_error = 0.0\\nsamples = 1\\nvalue = 235000.0'),\n",
       " Text(0.1950800915331808, 0.4791666666666667, 'property_tax <= 284.0\\nabsolute_error = 1000.0\\nsamples = 2\\nvalue = 278000.0'),\n",
       " Text(0.19393592677345536, 0.4375, 'absolute_error = 0.0\\nsamples = 1\\nvalue = 278000.0'),\n",
       " Text(0.19622425629290619, 0.4375, 'absolute_error = 0.0\\nsamples = 1\\nvalue = 275000.0'),\n",
       " Text(0.19851258581235698, 0.5208333333333334, 'year_built <= 1949.0\\nabsolute_error = 8072.727\\nsamples = 12\\nvalue = 300000.0'),\n",
       " Text(0.19736842105263158, 0.4791666666666667, 'absolute_error = 0.0\\nsamples = 1\\nvalue = 348500.0'),\n",
       " Text(0.19965675057208238, 0.4791666666666667, 'basement <= 0.5\\nabsolute_error = 6147.619\\nsamples = 11\\nvalue = 300000.0'),\n",
       " Text(0.19851258581235698, 0.4375, 'absolute_error = 0.0\\nsamples = 1\\nvalue = 265000.0'),\n",
       " Text(0.20080091533180777, 0.4375, 'property_tax <= 286.5\\nabsolute_error = 4705.0\\nsamples = 10\\nvalue = 300000.0'),\n",
       " Text(0.19794050343249428, 0.3958333333333333, 'property_type_Condo <= 0.5\\nabsolute_error = 3750.0\\nsamples = 2\\nvalue = 285000.0'),\n",
       " Text(0.19679633867276888, 0.3541666666666667, 'absolute_error = 0.0\\nsamples = 1\\nvalue = 300000.0'),\n",
       " Text(0.19908466819221968, 0.3541666666666667, 'absolute_error = 0.0\\nsamples = 1\\nvalue = 285000.0'),\n",
       " Text(0.2036613272311213, 0.3958333333333333, 'year_built <= 1983.5\\nabsolute_error = 3068.75\\nsamples = 8\\nvalue = 300000.0'),\n",
       " Text(0.20137299771167047, 0.3541666666666667, 'property_age <= 39.5\\nabsolute_error = 9333.333\\nsamples = 2\\nvalue = 305000.0'),\n",
       " Text(0.20022883295194507, 0.3125, 'absolute_error = 0.0\\nsamples = 1\\nvalue = 333000.0'),\n",
       " Text(0.20251716247139587, 0.3125, 'absolute_error = 0.0\\nsamples = 1\\nvalue = 305000.0'),\n",
       " Text(0.20594965675057209, 0.3541666666666667, 'sqft <= 1391.0\\nabsolute_error = 469.231\\nsamples = 6\\nvalue = 300000.0'),\n",
       " Text(0.2048054919908467, 0.3125, 'absolute_error = 0.0\\nsamples = 1\\nvalue = 297000.0'),\n",
       " Text(0.20709382151029748, 0.3125, 'property_tax <= 364.5\\nabsolute_error = 258.333\\nsamples = 5\\nvalue = 300000.0'),\n",
       " Text(0.20594965675057209, 0.2708333333333333, 'year_built <= 1989.5\\nabsolute_error = 9.091\\nsamples = 4\\nvalue = 300000.0'),\n",
       " Text(0.2048054919908467, 0.22916666666666666, 'absolute_error = 0.0\\nsamples = 1\\nvalue = 299900.0'),\n",
       " Text(0.20709382151029748, 0.22916666666666666, 'absolute_error = 0.0\\nsamples = 3\\nvalue = 300000.0'),\n",
       " Text(0.20823798627002288, 0.2708333333333333, 'absolute_error = 0.0\\nsamples = 1\\nvalue = 303000.0'),\n",
       " Text(0.21824942791762014, 0.5625, 'insurance <= 94.5\\nabsolute_error = 19933.333\\nsamples = 17\\nvalue = 312000.0'),\n",
       " Text(0.2145308924485126, 0.5208333333333334, 'property_tax <= 307.5\\nabsolute_error = 15520.0\\nsamples = 14\\nvalue = 310000.0'),\n",
       " Text(0.21052631578947367, 0.4791666666666667, 'property_tax <= 280.0\\nabsolute_error = 14365.0\\nsamples = 11\\nvalue = 312000.0'),\n",
       " Text(0.20823798627002288, 0.4375, 'property_age <= 27.0\\nabsolute_error = 16666.667\\nsamples = 2\\nvalue = 300000.0'),\n",
       " Text(0.20709382151029748, 0.3958333333333333, 'absolute_error = 0.0\\nsamples = 1\\nvalue = 300000.0'),\n",
       " Text(0.20938215102974828, 0.3958333333333333, 'absolute_error = 0.0\\nsamples = 1\\nvalue = 250000.0'),\n",
       " Text(0.2128146453089245, 0.4375, 'beds <= 1.5\\nabsolute_error = 11576.471\\nsamples = 9\\nvalue = 316500.0'),\n",
       " Text(0.2116704805491991, 0.3958333333333333, 'absolute_error = 0.0\\nsamples = 1\\nvalue = 302000.0'),\n",
       " Text(0.2139588100686499, 0.3958333333333333, 'year_built <= 1981.5\\nabsolute_error = 11186.667\\nsamples = 8\\nvalue = 316500.0'),\n",
       " Text(0.21052631578947367, 0.3541666666666667, 'property_age <= 33.5\\nabsolute_error = 14250.0\\nsamples = 4\\nvalue = 312000.0'),\n",
       " Text(0.20938215102974828, 0.3125, 'absolute_error = 0.0\\nsamples = 1\\nvalue = 258000.0'),\n",
       " Text(0.2116704805491991, 0.3125, 'property_age <= 37.5\\nabsolute_error = 8571.429\\nsamples = 3\\nvalue = 312000.0'),\n",
       " Text(0.21052631578947367, 0.2708333333333333, 'absolute_error = 0.0\\nsamples = 1\\nvalue = 310000.0'),\n",
       " Text(0.2128146453089245, 0.2708333333333333, 'baths <= 1.5\\nabsolute_error = 11200.0\\nsamples = 2\\nvalue = 312000.0'),\n",
       " Text(0.2116704805491991, 0.22916666666666666, 'absolute_error = 0.0\\nsamples = 1\\nvalue = 312000.0'),\n",
       " Text(0.2139588100686499, 0.22916666666666666, 'absolute_error = 0.0\\nsamples = 1\\nvalue = 340000.0'),\n",
       " Text(0.21739130434782608, 0.3541666666666667, 'year_sold <= 2010.5\\nabsolute_error = 5114.286\\nsamples = 4\\nvalue = 324000.0'),\n",
       " Text(0.21624713958810068, 0.3125, 'absolute_error = 0.0\\nsamples = 1\\nvalue = 316500.0'),\n",
       " Text(0.21853546910755148, 0.3125, 'sqft <= 1190.0\\nabsolute_error = 1450.0\\nsamples = 3\\nvalue = 325900.0'),\n",
       " Text(0.21739130434782608, 0.2708333333333333, 'insurance <= 89.5\\nabsolute_error = 33.333\\nsamples = 2\\nvalue = 325900.0'),\n",
       " Text(0.21624713958810068, 0.22916666666666666, 'absolute_error = 0.0\\nsamples = 1\\nvalue = 325900.0'),\n",
       " Text(0.21853546910755148, 0.22916666666666666, 'absolute_error = 0.0\\nsamples = 1\\nvalue = 326000.0'),\n",
       " Text(0.21967963386727687, 0.2708333333333333, 'absolute_error = 0.0\\nsamples = 1\\nvalue = 324000.0'),\n",
       " Text(0.21853546910755148, 0.4791666666666667, 'lot_size <= 52925.0\\nabsolute_error = 6100.0\\nsamples = 3\\nvalue = 289000.0'),\n",
       " Text(0.21739130434782608, 0.4375, 'year_built <= 1986.5\\nabsolute_error = 3033.333\\nsamples = 2\\nvalue = 289000.0'),\n",
       " Text(0.21624713958810068, 0.3958333333333333, 'absolute_error = 0.0\\nsamples = 1\\nvalue = 279900.0'),\n",
       " Text(0.21853546910755148, 0.3958333333333333, 'absolute_error = 0.0\\nsamples = 1\\nvalue = 289000.0'),\n",
       " Text(0.21967963386727687, 0.4375, 'absolute_error = 0.0\\nsamples = 1\\nvalue = 299700.0'),\n",
       " Text(0.2219679633867277, 0.5208333333333334, 'sqft <= 1485.0\\nabsolute_error = 9000.0\\nsamples = 3\\nvalue = 345000.0'),\n",
       " Text(0.2208237986270023, 0.4791666666666667, 'absolute_error = 0.0\\nsamples = 1\\nvalue = 385000.0'),\n",
       " Text(0.2231121281464531, 0.4791666666666667, 'property_age <= 27.0\\nabsolute_error = 1250.0\\nsamples = 2\\nvalue = 343750.0'),\n",
       " Text(0.2219679633867277, 0.4375, 'absolute_error = 0.0\\nsamples = 1\\nvalue = 345000.0'),\n",
       " Text(0.2242562929061785, 0.4375, 'absolute_error = 0.0\\nsamples = 1\\nvalue = 342500.0'),\n",
       " Text(0.2299771167048055, 0.6041666666666666, 'insurance <= 92.5\\nabsolute_error = 20352.941\\nsamples = 9\\nvalue = 275000.0'),\n",
       " Text(0.22768878718535468, 0.5625, 'property_tax <= 296.5\\nabsolute_error = 22000.0\\nsamples = 4\\nvalue = 249000.0'),\n",
       " Text(0.22654462242562928, 0.5208333333333334, 'absolute_error = 0.0\\nsamples = 1\\nvalue = 343000.0'),\n",
       " Text(0.2288329519450801, 0.5208333333333334, 'lot_size <= 2278.0\\nabsolute_error = 7600.0\\nsamples = 3\\nvalue = 249000.0'),\n",
       " Text(0.22768878718535468, 0.4791666666666667, 'insurance <= 90.5\\nabsolute_error = 5000.0\\nsamples = 2\\nvalue = 230000.0'),\n",
       " Text(0.22654462242562928, 0.4375, 'absolute_error = 0.0\\nsamples = 1\\nvalue = 225000.0'),\n",
       " Text(0.2288329519450801, 0.4375, 'absolute_error = 0.0\\nsamples = 1\\nvalue = 235000.0'),\n",
       " Text(0.2299771167048055, 0.4791666666666667, 'absolute_error = 0.0\\nsamples = 1\\nvalue = 249000.0'),\n",
       " Text(0.2322654462242563, 0.5625, 'property_tax <= 317.0\\nabsolute_error = 10000.0\\nsamples = 5\\nvalue = 275000.0'),\n",
       " Text(0.2311212814645309, 0.5208333333333334, 'absolute_error = 0.0\\nsamples = 1\\nvalue = 290000.0'),\n",
       " Text(0.2334096109839817, 0.5208333333333334, 'year_sold <= 2011.5\\nabsolute_error = 7142.857\\nsamples = 4\\nvalue = 275000.0'),\n",
       " Text(0.2322654462242563, 0.4791666666666667, 'year_built <= 2000.0\\nabsolute_error = 6000.0\\nsamples = 3\\nvalue = 275000.0'),\n",
       " Text(0.2311212814645309, 0.4375, 'absolute_error = 0.0\\nsamples = 2\\nvalue = 275000.0'),\n",
       " Text(0.2334096109839817, 0.4375, 'absolute_error = 0.0\\nsamples = 1\\nvalue = 305000.0'),\n",
       " Text(0.2345537757437071, 0.4791666666666667, 'absolute_error = 0.0\\nsamples = 1\\nvalue = 265000.0'),\n",
       " Text(0.2501430205949657, 0.6458333333333334, 'property_tax <= 341.0\\nabsolute_error = 26572.0\\nsamples = 14\\nvalue = 325000.0'),\n",
       " Text(0.24628146453089245, 0.6041666666666666, 'insurance <= 91.0\\nabsolute_error = 19208.529\\nsamples = 12\\nvalue = 325000.0'),\n",
       " Text(0.2419908466819222, 0.5625, 'recession <= 0.5\\nabsolute_error = 13953.846\\nsamples = 9\\nvalue = 324999.0'),\n",
       " Text(0.2391304347826087, 0.5208333333333334, 'lot_size <= 941.0\\nabsolute_error = 12985.571\\nsamples = 5\\nvalue = 314900.0'),\n",
       " Text(0.23684210526315788, 0.4791666666666667, 'baths <= 1.5\\nabsolute_error = 4500.0\\nsamples = 2\\nvalue = 274500.0'),\n",
       " Text(0.23569794050343248, 0.4375, 'absolute_error = 0.0\\nsamples = 1\\nvalue = 279000.0'),\n",
       " Text(0.2379862700228833, 0.4375, 'absolute_error = 0.0\\nsamples = 1\\nvalue = 270000.0'),\n",
       " Text(0.2414187643020595, 0.4791666666666667, 'baths <= 2.5\\nabsolute_error = 2019.8\\nsamples = 3\\nvalue = 314900.0'),\n",
       " Text(0.2402745995423341, 0.4375, 'absolute_error = 0.0\\nsamples = 1\\nvalue = 324999.0'),\n",
       " Text(0.2425629290617849, 0.4375, 'absolute_error = 0.0\\nsamples = 2\\nvalue = 314900.0'),\n",
       " Text(0.2448512585812357, 0.5208333333333334, 'lot_size <= 670.0\\nabsolute_error = 5000.0\\nsamples = 4\\nvalue = 330000.0'),\n",
       " Text(0.2437070938215103, 0.4791666666666667, 'absolute_error = 0.0\\nsamples = 1\\nvalue = 350000.0'),\n",
       " Text(0.2459954233409611, 0.4791666666666667, 'property_age <= 23.0\\nabsolute_error = 2000.0\\nsamples = 3\\nvalue = 330000.0'),\n",
       " Text(0.2448512585812357, 0.4375, 'absolute_error = 0.0\\nsamples = 2\\nvalue = 330000.0'),\n",
       " Text(0.2471395881006865, 0.4375, 'absolute_error = 0.0\\nsamples = 1\\nvalue = 325000.0'),\n",
       " Text(0.2505720823798627, 0.5625, 'property_type_Bunglow <= 0.5\\nabsolute_error = 5964.0\\nsamples = 3\\nvalue = 363000.0'),\n",
       " Text(0.2494279176201373, 0.5208333333333334, 'year_built <= 2006.5\\nabsolute_error = 2833.333\\nsamples = 2\\nvalue = 363000.0'),\n",
       " Text(0.2482837528604119, 0.4791666666666667, 'absolute_error = 0.0\\nsamples = 1\\nvalue = 363000.0'),\n",
       " Text(0.2505720823798627, 0.4791666666666667, 'absolute_error = 0.0\\nsamples = 1\\nvalue = 371500.0'),\n",
       " Text(0.2517162471395881, 0.5208333333333334, 'absolute_error = 0.0\\nsamples = 1\\nvalue = 347644.0'),\n",
       " Text(0.2540045766590389, 0.6041666666666666, 'recession <= 0.5\\nabsolute_error = 10838.5\\nsamples = 2\\nvalue = 235838.5'),\n",
       " Text(0.2528604118993135, 0.5625, 'absolute_error = 0.0\\nsamples = 1\\nvalue = 246677.0'),\n",
       " Text(0.2551487414187643, 0.5625, 'absolute_error = 0.0\\nsamples = 1\\nvalue = 225000.0'),\n",
       " Text(0.2718821510297483, 0.6875, 'year_built <= 1997.5\\nabsolute_error = 32908.276\\nsamples = 16\\nvalue = 265500.0'),\n",
       " Text(0.26687643020594964, 0.6458333333333334, 'insurance <= 94.5\\nabsolute_error = 25992.381\\nsamples = 13\\nvalue = 265000.0'),\n",
       " Text(0.2625858123569794, 0.6041666666666666, 'sqft <= 1576.0\\nabsolute_error = 18266.667\\nsamples = 10\\nvalue = 265000.0'),\n",
       " Text(0.2574370709382151, 0.5625, 'sqft <= 1242.0\\nabsolute_error = 27500.0\\nsamples = 4\\nvalue = 310000.0'),\n",
       " Text(0.2562929061784897, 0.5208333333333334, 'absolute_error = 0.0\\nsamples = 1\\nvalue = 240000.0'),\n",
       " Text(0.2585812356979405, 0.5208333333333334, 'insurance <= 86.5\\nabsolute_error = 10000.0\\nsamples = 3\\nvalue = 320000.0'),\n",
       " Text(0.2574370709382151, 0.4791666666666667, 'absolute_error = 0.0\\nsamples = 1\\nvalue = 300000.0'),\n",
       " Text(0.2597254004576659, 0.4791666666666667, 'insurance <= 90.0\\nabsolute_error = 5000.0\\nsamples = 2\\nvalue = 325000.0'),\n",
       " Text(0.2585812356979405, 0.4375, 'absolute_error = 0.0\\nsamples = 1\\nvalue = 330000.0'),\n",
       " Text(0.2608695652173913, 0.4375, 'absolute_error = 0.0\\nsamples = 1\\nvalue = 320000.0'),\n",
       " Text(0.26773455377574373, 0.5625, 'year_sold <= 2014.5\\nabsolute_error = 9145.455\\nsamples = 6\\nvalue = 265000.0'),\n",
       " Text(0.2665903890160183, 0.5208333333333334, 'baths <= 2.5\\nabsolute_error = 7111.111\\nsamples = 5\\nvalue = 265000.0'),\n",
       " Text(0.2643020594965675, 0.4791666666666667, 'insurance <= 86.5\\nabsolute_error = 11133.333\\nsamples = 2\\nvalue = 258400.0'),\n",
       " Text(0.2631578947368421, 0.4375, 'absolute_error = 0.0\\nsamples = 1\\nvalue = 258400.0'),\n",
       " Text(0.2654462242562929, 0.4375, 'absolute_error = 0.0\\nsamples = 1\\nvalue = 225000.0'),\n",
       " Text(0.26887871853546913, 0.4791666666666667, 'recession <= 0.5\\nabsolute_error = 1633.333\\nsamples = 3\\nvalue = 265500.0'),\n",
       " Text(0.26773455377574373, 0.4375, 'lot_size <= 7405.0\\nabsolute_error = 250.0\\nsamples = 2\\nvalue = 265250.0'),\n",
       " Text(0.2665903890160183, 0.3958333333333333, 'absolute_error = 0.0\\nsamples = 1\\nvalue = 265000.0'),\n",
       " Text(0.26887871853546913, 0.3958333333333333, 'absolute_error = 0.0\\nsamples = 1\\nvalue = 265500.0'),\n",
       " Text(0.2700228832951945, 0.4375, 'absolute_error = 0.0\\nsamples = 1\\nvalue = 269900.0'),\n",
       " Text(0.26887871853546913, 0.5208333333333334, 'absolute_error = 0.0\\nsamples = 1\\nvalue = 250000.0'),\n",
       " Text(0.2711670480549199, 0.6041666666666666, 'insurance <= 96.5\\nabsolute_error = 23640.0\\nsamples = 3\\nvalue = 200000.0'),\n",
       " Text(0.2700228832951945, 0.5625, 'absolute_error = 0.0\\nsamples = 1\\nvalue = 200000.0'),\n",
       " Text(0.2723112128146453, 0.5625, 'property_age <= 39.0\\nabsolute_error = 5920.0\\nsamples = 2\\nvalue = 270920.0'),\n",
       " Text(0.2711670480549199, 0.5208333333333334, 'absolute_error = 0.0\\nsamples = 1\\nvalue = 265000.0'),\n",
       " Text(0.2734553775743707, 0.5208333333333334, 'absolute_error = 0.0\\nsamples = 1\\nvalue = 276840.0'),\n",
       " Text(0.2768878718535469, 0.6458333333333334, 'year_sold <= 2012.5\\nabsolute_error = 26250.0\\nsamples = 3\\nvalue = 295000.0'),\n",
       " Text(0.2757437070938215, 0.6041666666666666, 'property_type_Bunglow <= 0.5\\nabsolute_error = 3333.333\\nsamples = 2\\nvalue = 290000.0'),\n",
       " Text(0.2745995423340961, 0.5625, 'absolute_error = 0.0\\nsamples = 1\\nvalue = 300000.0'),\n",
       " Text(0.2768878718535469, 0.5625, 'absolute_error = 0.0\\nsamples = 1\\nvalue = 290000.0'),\n",
       " Text(0.2780320366132723, 0.6041666666666666, 'absolute_error = 0.0\\nsamples = 1\\nvalue = 385000.0'),\n",
       " Text(0.2814645308924485, 0.7708333333333334, 'insurance <= 87.5\\nabsolute_error = 23459.385\\nsamples = 7\\nvalue = 325344.0'),\n",
       " Text(0.2791762013729977, 0.7291666666666666, 'insurance <= 79.5\\nabsolute_error = 9060.889\\nsamples = 5\\nvalue = 325344.0'),\n",
       " Text(0.2780320366132723, 0.6875, 'absolute_error = 0.0\\nsamples = 1\\nvalue = 279900.0'),\n",
       " Text(0.2803203661327231, 0.6875, 'year_sold <= 2009.5\\nabsolute_error = 4513.0\\nsamples = 4\\nvalue = 325344.0'),\n",
       " Text(0.2791762013729977, 0.6458333333333334, 'absolute_error = 0.0\\nsamples = 1\\nvalue = 311370.0'),\n",
       " Text(0.2814645308924485, 0.6458333333333334, 'year_built <= 2009.5\\nabsolute_error = 1359.333\\nsamples = 3\\nvalue = 325344.0'),\n",
       " Text(0.2803203661327231, 0.6041666666666666, 'absolute_error = 0.0\\nsamples = 1\\nvalue = 333500.0'),\n",
       " Text(0.2826086956521739, 0.6041666666666666, 'absolute_error = 0.0\\nsamples = 2\\nvalue = 325344.0'),\n",
       " Text(0.2837528604118993, 0.7291666666666666, 'insurance <= 92.5\\nabsolute_error = 3800.0\\nsamples = 2\\nvalue = 381200.0'),\n",
       " Text(0.2826086956521739, 0.6875, 'absolute_error = 0.0\\nsamples = 1\\nvalue = 385000.0'),\n",
       " Text(0.28489702517162474, 0.6875, 'absolute_error = 0.0\\nsamples = 1\\nvalue = 377400.0'),\n",
       " Text(0.3646108945938215, 0.8958333333333334, 'year_sold <= 2002.5\\nabsolute_error = 64797.067\\nsamples = 279\\nvalue = 390112.0'),\n",
       " Text(0.29869851258581237, 0.8541666666666666, 'year_sold <= 2000.5\\nabsolute_error = 37659.156\\nsamples = 31\\nvalue = 249000.0'),\n",
       " Text(0.2911899313501144, 0.8125, 'year_built <= 1956.5\\nabsolute_error = 26563.667\\nsamples = 16\\nvalue = 224441.0'),\n",
       " Text(0.290045766590389, 0.7708333333333334, 'absolute_error = 0.0\\nsamples = 1\\nvalue = 349900.0'),\n",
       " Text(0.2923340961098398, 0.7708333333333334, 'sqft <= 4104.0\\nabsolute_error = 17526.909\\nsamples = 15\\nvalue = 222936.0'),\n",
       " Text(0.2911899313501144, 0.7291666666666666, 'year_built <= 1995.0\\nabsolute_error = 12553.333\\nsamples = 14\\nvalue = 221940.0'),\n",
       " Text(0.28832951945080093, 0.6875, 'insurance <= 130.0\\nabsolute_error = 9221.375\\nsamples = 6\\nvalue = 208917.5'),\n",
       " Text(0.28718535469107553, 0.6458333333333334, 'year_sold <= 1996.0\\nabsolute_error = 3467.286\\nsamples = 5\\nvalue = 207000.0'),\n",
       " Text(0.28489702517162474, 0.6041666666666666, 'baths <= 2.5\\nabsolute_error = 1505.333\\nsamples = 2\\nvalue = 210835.0'),\n",
       " Text(0.2837528604118993, 0.5625, 'absolute_error = 0.0\\nsamples = 1\\nvalue = 210835.0'),\n",
       " Text(0.28604118993135014, 0.5625, 'absolute_error = 0.0\\nsamples = 1\\nvalue = 215351.0'),\n",
       " Text(0.2894736842105263, 0.6041666666666666, 'beds <= 3.5\\nabsolute_error = 1562.5\\nsamples = 3\\nvalue = 206000.0'),\n",
       " Text(0.28832951945080093, 0.5625, 'absolute_error = 0.0\\nsamples = 1\\nvalue = 200750.0'),\n",
       " Text(0.2906178489702517, 0.5625, 'sqft <= 2559.0\\nabsolute_error = 333.333\\nsamples = 2\\nvalue = 206000.0'),\n",
       " Text(0.2894736842105263, 0.5208333333333334, 'absolute_error = 0.0\\nsamples = 1\\nvalue = 207000.0'),\n",
       " Text(0.2917620137299771, 0.5208333333333334, 'absolute_error = 0.0\\nsamples = 1\\nvalue = 206000.0'),\n",
       " Text(0.2894736842105263, 0.6458333333333334, 'absolute_error = 0.0\\nsamples = 1\\nvalue = 256500.0'),\n",
       " Text(0.2940503432494279, 0.6875, 'year_built <= 1999.5\\nabsolute_error = 9172.077\\nsamples = 8\\nvalue = 224950.0'),\n",
       " Text(0.2929061784897025, 0.6458333333333334, 'lot_size <= 1720.0\\nabsolute_error = 6384.0\\nsamples = 7\\nvalue = 224950.0'),\n",
       " Text(0.2917620137299771, 0.6041666666666666, 'absolute_error = 0.0\\nsamples = 1\\nvalue = 243000.0'),\n",
       " Text(0.2940503432494279, 0.6041666666666666, 'basement <= 0.5\\nabsolute_error = 4050.8\\nsamples = 6\\nvalue = 224441.0'),\n",
       " Text(0.2929061784897025, 0.5625, 'absolute_error = 0.0\\nsamples = 1\\nvalue = 202530.0'),\n",
       " Text(0.2951945080091533, 0.5625, 'sqft <= 1628.0\\nabsolute_error = 2009.778\\nsamples = 5\\nvalue = 224950.0'),\n",
       " Text(0.2940503432494279, 0.5208333333333334, 'absolute_error = 0.0\\nsamples = 1\\nvalue = 214000.0'),\n",
       " Text(0.2963386727688787, 0.5208333333333334, 'lot_size <= 16735.5\\nabsolute_error = 892.25\\nsamples = 4\\nvalue = 224950.0'),\n",
       " Text(0.2951945080091533, 0.4791666666666667, 'year_sold <= 1997.5\\nabsolute_error = 186.333\\nsamples = 3\\nvalue = 224950.0'),\n",
       " Text(0.2940503432494279, 0.4375, 'absolute_error = 0.0\\nsamples = 1\\nvalue = 223932.0'),\n",
       " Text(0.2963386727688787, 0.4375, 'lot_size <= 9417.5\\nabsolute_error = 20.0\\nsamples = 2\\nvalue = 224950.0'),\n",
       " Text(0.2951945080091533, 0.3958333333333333, 'absolute_error = 0.0\\nsamples = 1\\nvalue = 224950.0'),\n",
       " Text(0.2974828375286041, 0.3958333333333333, 'absolute_error = 0.0\\nsamples = 1\\nvalue = 225000.0'),\n",
       " Text(0.2974828375286041, 0.4791666666666667, 'absolute_error = 0.0\\nsamples = 1\\nvalue = 221940.0'),\n",
       " Text(0.2951945080091533, 0.6458333333333334, 'absolute_error = 0.0\\nsamples = 1\\nvalue = 267579.0'),\n",
       " Text(0.29347826086956524, 0.7291666666666666, 'absolute_error = 0.0\\nsamples = 1\\nvalue = 343912.0'),\n",
       " Text(0.3062070938215103, 0.8125, 'year_built <= 2001.5\\nabsolute_error = 25763.524\\nsamples = 15\\nvalue = 275000.0'),\n",
       " Text(0.3029176201372998, 0.7708333333333334, 'property_tax <= 386.5\\nabsolute_error = 16931.316\\nsamples = 13\\nvalue = 275000.0'),\n",
       " Text(0.2997711670480549, 0.7291666666666666, 'insurance <= 106.0\\nabsolute_error = 13700.0\\nsamples = 4\\nvalue = 229500.0'),\n",
       " Text(0.2986270022883295, 0.6875, 'lot_size <= 955.5\\nabsolute_error = 9833.333\\nsamples = 2\\nvalue = 229500.0'),\n",
       " Text(0.2974828375286041, 0.6458333333333334, 'absolute_error = 0.0\\nsamples = 1\\nvalue = 229500.0'),\n",
       " Text(0.2997711670480549, 0.6458333333333334, 'absolute_error = 0.0\\nsamples = 1\\nvalue = 200000.0'),\n",
       " Text(0.3009153318077803, 0.6875, 'absolute_error = 0.0\\nsamples = 2\\nvalue = 249000.0'),\n",
       " Text(0.3060640732265446, 0.7291666666666666, 'property_type_Bunglow <= 0.5\\nabsolute_error = 7217.5\\nsamples = 9\\nvalue = 276325.0'),\n",
       " Text(0.30320366132723114, 0.6875, 'property_tax <= 435.5\\nabsolute_error = 8615.0\\nsamples = 2\\nvalue = 285540.0'),\n",
       " Text(0.30205949656750575, 0.6458333333333334, 'absolute_error = 0.0\\nsamples = 1\\nvalue = 320000.0'),\n",
       " Text(0.30434782608695654, 0.6458333333333334, 'absolute_error = 0.0\\nsamples = 1\\nvalue = 285540.0'),\n",
       " Text(0.30892448512585813, 0.6875, 'year_sold <= 2001.5\\nabsolute_error = 2707.5\\nsamples = 7\\nvalue = 275000.0'),\n",
       " Text(0.30663615560640733, 0.6458333333333334, 'sqft <= 1177.0\\nabsolute_error = 2235.714\\nsamples = 5\\nvalue = 276325.0'),\n",
       " Text(0.30549199084668194, 0.6041666666666666, 'absolute_error = 0.0\\nsamples = 1\\nvalue = 281000.0'),\n",
       " Text(0.30778032036613273, 0.6041666666666666, 'year_built <= 1990.5\\nabsolute_error = 1829.167\\nsamples = 4\\nvalue = 275662.5'),\n",
       " Text(0.30663615560640733, 0.5625, 'insurance <= 123.5\\nabsolute_error = 2333.333\\nsamples = 3\\nvalue = 275000.0'),\n",
       " Text(0.30549199084668194, 0.5208333333333334, 'absolute_error = 0.0\\nsamples = 1\\nvalue = 275000.0'),\n",
       " Text(0.30778032036613273, 0.5208333333333334, 'property_tax <= 412.5\\nabsolute_error = 3500.0\\nsamples = 2\\nvalue = 271500.0'),\n",
       " Text(0.30663615560640733, 0.4791666666666667, 'absolute_error = 0.0\\nsamples = 1\\nvalue = 268000.0'),\n",
       " Text(0.30892448512585813, 0.4791666666666667, 'absolute_error = 0.0\\nsamples = 1\\nvalue = 275000.0'),\n",
       " Text(0.30892448512585813, 0.5625, 'absolute_error = 0.0\\nsamples = 1\\nvalue = 276325.0'),\n",
       " Text(0.3112128146453089, 0.6458333333333334, 'property_tax <= 421.5\\nabsolute_error = 866.667\\nsamples = 2\\nvalue = 272500.0'),\n",
       " Text(0.3100686498855835, 0.6041666666666666, 'absolute_error = 0.0\\nsamples = 1\\nvalue = 269900.0'),\n",
       " Text(0.3123569794050343, 0.6041666666666666, 'absolute_error = 0.0\\nsamples = 1\\nvalue = 272500.0'),\n",
       " Text(0.3094965675057208, 0.7708333333333334, 'property_tax <= 483.0\\nabsolute_error = 28269.5\\nsamples = 2\\nvalue = 384669.5'),\n",
       " Text(0.3083524027459954, 0.7291666666666666, 'absolute_error = 0.0\\nsamples = 1\\nvalue = 356400.0'),\n",
       " Text(0.31064073226544625, 0.7291666666666666, 'absolute_error = 0.0\\nsamples = 1\\nvalue = 412939.0'),\n",
       " Text(0.43052327660183065, 0.8541666666666666, 'insurance <= 116.5\\nabsolute_error = 55861.833\\nsamples = 248\\nvalue = 399000.0'),\n",
       " Text(0.3622085955377574, 0.8125, 'year_sold <= 2006.5\\nabsolute_error = 46802.333\\nsamples = 136\\nvalue = 375500.0'),\n",
       " Text(0.3328983123569794, 0.7708333333333334, 'year_sold <= 2004.5\\nabsolute_error = 59346.0\\nsamples = 38\\nvalue = 414000.0'),\n",
       " Text(0.32036613272311215, 0.7291666666666666, 'year_sold <= 2003.5\\nabsolute_error = 30923.92\\nsamples = 16\\nvalue = 379862.0'),\n",
       " Text(0.3169336384439359, 0.6875, 'sqft <= 3721.5\\nabsolute_error = 16139.455\\nsamples = 8\\nvalue = 319500.0'),\n",
       " Text(0.3157894736842105, 0.6458333333333334, 'sqft <= 3193.5\\nabsolute_error = 6312.222\\nsamples = 7\\nvalue = 319500.0'),\n",
       " Text(0.3146453089244851, 0.6041666666666666, 'year_built <= 1980.5\\nabsolute_error = 2071.429\\nsamples = 6\\nvalue = 317990.0'),\n",
       " Text(0.3123569794050343, 0.5625, 'year_built <= 1971.5\\nabsolute_error = 250.0\\nsamples = 2\\nvalue = 315250.0'),\n",
       " Text(0.3112128146453089, 0.5208333333333334, 'absolute_error = 0.0\\nsamples = 1\\nvalue = 315000.0'),\n",
       " Text(0.3135011441647597, 0.5208333333333334, 'absolute_error = 0.0\\nsamples = 1\\nvalue = 315500.0'),\n",
       " Text(0.3169336384439359, 0.5625, 'baths <= 3.5\\nabsolute_error = 1502.0\\nsamples = 4\\nvalue = 319500.0'),\n",
       " Text(0.3157894736842105, 0.5208333333333334, 'insurance <= 111.5\\nabsolute_error = 877.5\\nsamples = 3\\nvalue = 318745.0'),\n",
       " Text(0.3146453089244851, 0.4791666666666667, 'property_type_Bunglow <= 0.5\\nabsolute_error = 245.0\\nsamples = 2\\nvalue = 317745.0'),\n",
       " Text(0.3135011441647597, 0.4375, 'absolute_error = 0.0\\nsamples = 1\\nvalue = 317500.0'),\n",
       " Text(0.3157894736842105, 0.4375, 'absolute_error = 0.0\\nsamples = 1\\nvalue = 317990.0'),\n",
       " Text(0.3169336384439359, 0.4791666666666667, 'absolute_error = 0.0\\nsamples = 1\\nvalue = 319500.0'),\n",
       " Text(0.3180778032036613, 0.5208333333333334, 'absolute_error = 0.0\\nsamples = 1\\nvalue = 323500.0'),\n",
       " Text(0.3169336384439359, 0.6041666666666666, 'absolute_error = 0.0\\nsamples = 1\\nvalue = 339900.0'),\n",
       " Text(0.3180778032036613, 0.6458333333333334, 'absolute_error = 0.0\\nsamples = 1\\nvalue = 379862.0'),\n",
       " Text(0.32379862700228834, 0.6875, 'property_age <= 6.5\\nabsolute_error = 14610.714\\nsamples = 8\\nvalue = 387950.0'),\n",
       " Text(0.32265446224256294, 0.6458333333333334, 'absolute_error = 0.0\\nsamples = 1\\nvalue = 414000.0'),\n",
       " Text(0.32494279176201374, 0.6458333333333334, 'property_tax <= 366.0\\nabsolute_error = 10959.091\\nsamples = 7\\nvalue = 386000.0'),\n",
       " Text(0.32265446224256294, 0.6041666666666666, 'property_tax <= 358.0\\nabsolute_error = 5568.75\\nsamples = 5\\nvalue = 386000.0'),\n",
       " Text(0.32151029748283755, 0.5625, 'property_tax <= 351.0\\nabsolute_error = 2078.571\\nsamples = 4\\nvalue = 386000.0'),\n",
       " Text(0.32036613272311215, 0.5208333333333334, 'insurance <= 102.5\\nabsolute_error = 925.0\\nsamples = 3\\nvalue = 386000.0'),\n",
       " Text(0.31922196796338675, 0.4791666666666667, 'absolute_error = 0.0\\nsamples = 1\\nvalue = 389900.0'),\n",
       " Text(0.32151029748283755, 0.4791666666666667, 'sqft <= 2419.0\\nabsolute_error = 330.0\\nsamples = 2\\nvalue = 386000.0'),\n",
       " Text(0.32036613272311215, 0.4375, 'absolute_error = 0.0\\nsamples = 1\\nvalue = 384350.0'),\n",
       " Text(0.32265446224256294, 0.4375, 'absolute_error = 0.0\\nsamples = 1\\nvalue = 386000.0'),\n",
       " Text(0.32265446224256294, 0.5208333333333334, 'absolute_error = 0.0\\nsamples = 1\\nvalue = 395000.0'),\n",
       " Text(0.32379862700228834, 0.5625, 'absolute_error = 0.0\\nsamples = 1\\nvalue = 416000.0'),\n",
       " Text(0.32723112128146453, 0.6041666666666666, 'insurance <= 113.5\\nabsolute_error = 15000.0\\nsamples = 2\\nvalue = 355000.0'),\n",
       " Text(0.32608695652173914, 0.5625, 'absolute_error = 0.0\\nsamples = 1\\nvalue = 355000.0'),\n",
       " Text(0.32837528604118993, 0.5625, 'absolute_error = 0.0\\nsamples = 1\\nvalue = 400000.0'),\n",
       " Text(0.3454304919908467, 0.7291666666666666, 'property_tax <= 346.0\\nabsolute_error = 50550.706\\nsamples = 22\\nvalue = 469500.0'),\n",
       " Text(0.3352402745995423, 0.6875, 'property_tax <= 335.5\\nabsolute_error = 15055.778\\nsamples = 6\\nvalue = 410000.0'),\n",
       " Text(0.3340961098398169, 0.6458333333333334, 'insurance <= 98.5\\nabsolute_error = 4437.75\\nsamples = 5\\nvalue = 410000.0'),\n",
       " Text(0.3318077803203661, 0.6041666666666666, 'year_sold <= 2005.5\\nabsolute_error = 4001.0\\nsamples = 2\\nvalue = 424001.0'),\n",
       " Text(0.3306636155606407, 0.5625, 'absolute_error = 0.0\\nsamples = 1\\nvalue = 420000.0'),\n",
       " Text(0.3329519450800915, 0.5625, 'absolute_error = 0.0\\nsamples = 1\\nvalue = 428002.0'),\n",
       " Text(0.33638443935926776, 0.6041666666666666, 'sqft <= 1039.5\\nabsolute_error = 1250.0\\nsamples = 3\\nvalue = 410000.0'),\n",
       " Text(0.3352402745995423, 0.5625, 'absolute_error = 0.0\\nsamples = 1\\nvalue = 406250.0'),\n",
       " Text(0.33752860411899316, 0.5625, 'absolute_error = 0.0\\nsamples = 2\\nvalue = 410000.0'),\n",
       " Text(0.33638443935926776, 0.6458333333333334, 'absolute_error = 0.0\\nsamples = 1\\nvalue = 310000.0'),\n",
       " Text(0.355620709382151, 0.6875, 'sqft <= 2912.5\\nabsolute_error = 41126.44\\nsamples = 16\\nvalue = 487500.0'),\n",
       " Text(0.3514016018306636, 0.6458333333333334, 'property_tax <= 412.5\\nabsolute_error = 30773.864\\nsamples = 14\\nvalue = 482413.0'),\n",
       " Text(0.34639588100686497, 0.6041666666666666, 'year_sold <= 2005.5\\nabsolute_error = 21463.944\\nsamples = 12\\nvalue = 472250.0'),\n",
       " Text(0.33981693363844395, 0.5625, 'year_built <= 1981.0\\nabsolute_error = 11264.727\\nsamples = 8\\nvalue = 482413.0'),\n",
       " Text(0.33581235697940504, 0.5208333333333334, 'lot_size <= 6777.5\\nabsolute_error = 666.667\\nsamples = 3\\nvalue = 499000.0'),\n",
       " Text(0.33466819221967964, 0.4791666666666667, 'absolute_error = 0.0\\nsamples = 1\\nvalue = 498000.0'),\n",
       " Text(0.33695652173913043, 0.4791666666666667, 'sqft <= 1620.0\\nabsolute_error = 500.0\\nsamples = 2\\nvalue = 499500.0'),\n",
       " Text(0.33581235697940504, 0.4375, 'absolute_error = 0.0\\nsamples = 1\\nvalue = 500000.0'),\n",
       " Text(0.33810068649885583, 0.4375, 'absolute_error = 0.0\\nsamples = 1\\nvalue = 499000.0'),\n",
       " Text(0.3438215102974828, 0.5208333333333334, 'insurance <= 110.5\\nabsolute_error = 9268.875\\nsamples = 5\\nvalue = 478706.5'),\n",
       " Text(0.341533180778032, 0.4791666666666667, 'sqft <= 1791.5\\nabsolute_error = 5831.25\\nsamples = 3\\nvalue = 469500.0'),\n",
       " Text(0.3403890160183066, 0.4375, 'lot_size <= 5288.0\\nabsolute_error = 1833.333\\nsamples = 2\\nvalue = 469500.0'),\n",
       " Text(0.3392448512585812, 0.3958333333333333, 'absolute_error = 0.0\\nsamples = 1\\nvalue = 475000.0'),\n",
       " Text(0.341533180778032, 0.3958333333333333, 'absolute_error = 0.0\\nsamples = 1\\nvalue = 469500.0'),\n",
       " Text(0.3426773455377574, 0.4375, 'absolute_error = 0.0\\nsamples = 1\\nvalue = 451675.0'),\n",
       " Text(0.34610983981693366, 0.4791666666666667, 'lot_size <= 4363.0\\nabsolute_error = 2543.5\\nsamples = 2\\nvalue = 484956.5'),\n",
       " Text(0.34496567505720827, 0.4375, 'absolute_error = 0.0\\nsamples = 1\\nvalue = 482413.0'),\n",
       " Text(0.34725400457665906, 0.4375, 'absolute_error = 0.0\\nsamples = 1\\nvalue = 487500.0'),\n",
       " Text(0.35297482837528604, 0.5625, 'property_age <= 23.5\\nabsolute_error = 15028.571\\nsamples = 4\\nvalue = 440000.0'),\n",
       " Text(0.35183066361556065, 0.5208333333333334, 'sqft <= 2250.0\\nabsolute_error = 3366.667\\nsamples = 3\\nvalue = 440000.0'),\n",
       " Text(0.35068649885583525, 0.4791666666666667, 'insurance <= 103.5\\nabsolute_error = 50.0\\nsamples = 2\\nvalue = 439950.0'),\n",
       " Text(0.34954233409610985, 0.4375, 'absolute_error = 0.0\\nsamples = 1\\nvalue = 440000.0'),\n",
       " Text(0.35183066361556065, 0.4375, 'absolute_error = 0.0\\nsamples = 1\\nvalue = 439900.0'),\n",
       " Text(0.35297482837528604, 0.4791666666666667, 'absolute_error = 0.0\\nsamples = 1\\nvalue = 450000.0'),\n",
       " Text(0.35411899313501144, 0.5208333333333334, 'absolute_error = 0.0\\nsamples = 1\\nvalue = 525000.0'),\n",
       " Text(0.35640732265446223, 0.6041666666666666, 'property_type_Bunglow <= 0.5\\nabsolute_error = 8625.0\\nsamples = 2\\nvalue = 560000.0'),\n",
       " Text(0.35526315789473684, 0.5625, 'absolute_error = 0.0\\nsamples = 1\\nvalue = 525500.0'),\n",
       " Text(0.35755148741418763, 0.5625, 'absolute_error = 0.0\\nsamples = 1\\nvalue = 560000.0'),\n",
       " Text(0.3598398169336384, 0.6458333333333334, 'sqft <= 3370.0\\nabsolute_error = 10458.333\\nsamples = 2\\nvalue = 589000.0'),\n",
       " Text(0.358695652173913, 0.6041666666666666, 'absolute_error = 0.0\\nsamples = 1\\nvalue = 620375.0'),\n",
       " Text(0.3609839816933638, 0.6041666666666666, 'absolute_error = 0.0\\nsamples = 1\\nvalue = 589000.0'),\n",
       " Text(0.39151887871853547, 0.7708333333333334, 'insurance <= 102.5\\nabsolute_error = 34344.486\\nsamples = 98\\nvalue = 360000.0'),\n",
       " Text(0.3694221967963387, 0.7291666666666666, 'property_tax <= 324.0\\nabsolute_error = 20176.938\\nsamples = 21\\nvalue = 328150.0'),\n",
       " Text(0.36556064073226546, 0.6875, 'property_age <= 13.0\\nabsolute_error = 5250.0\\nsamples = 3\\nvalue = 354000.0'),\n",
       " Text(0.36441647597254007, 0.6458333333333334, 'property_age <= 2.0\\nabsolute_error = 2500.0\\nsamples = 2\\nvalue = 347500.0'),\n",
       " Text(0.36327231121281467, 0.6041666666666666, 'absolute_error = 0.0\\nsamples = 1\\nvalue = 345000.0'),\n",
       " Text(0.36556064073226546, 0.6041666666666666, 'absolute_error = 0.0\\nsamples = 1\\nvalue = 350000.0'),\n",
       " Text(0.36670480549199086, 0.6458333333333334, 'absolute_error = 0.0\\nsamples = 1\\nvalue = 358000.0'),\n",
       " Text(0.3732837528604119, 0.6875, 'sqft <= 1135.5\\nabsolute_error = 19320.071\\nsamples = 18\\nvalue = 325000.0'),\n",
       " Text(0.36899313501144165, 0.6458333333333334, 'year_sold <= 2010.0\\nabsolute_error = 14666.667\\nsamples = 3\\nvalue = 290000.0'),\n",
       " Text(0.36784897025171626, 0.6041666666666666, 'absolute_error = 0.0\\nsamples = 1\\nvalue = 255000.0'),\n",
       " Text(0.37013729977116705, 0.6041666666666666, 'sqft <= 1052.0\\nabsolute_error = 4500.0\\nsamples = 2\\nvalue = 294500.0'),\n",
       " Text(0.36899313501144165, 0.5625, 'absolute_error = 0.0\\nsamples = 1\\nvalue = 299000.0'),\n",
       " Text(0.37128146453089245, 0.5625, 'absolute_error = 0.0\\nsamples = 1\\nvalue = 290000.0'),\n",
       " Text(0.37757437070938216, 0.6458333333333334, 'sqft <= 2301.0\\nabsolute_error = 16272.48\\nsamples = 15\\nvalue = 328150.0'),\n",
       " Text(0.37471395881006864, 0.6041666666666666, 'insurance <= 99.5\\nabsolute_error = 10665.0\\nsamples = 12\\nvalue = 325000.0'),\n",
       " Text(0.37356979405034324, 0.5625, 'sqft <= 1709.0\\nabsolute_error = 10183.333\\nsamples = 10\\nvalue = 325000.0'),\n",
       " Text(0.37128146453089245, 0.5208333333333334, 'sqft <= 1569.5\\nabsolute_error = 10916.667\\nsamples = 8\\nvalue = 328150.0'),\n",
       " Text(0.37013729977116705, 0.4791666666666667, 'year_built <= 1982.5\\nabsolute_error = 8559.091\\nsamples = 7\\nvalue = 328150.0'),\n",
       " Text(0.36784897025171626, 0.4375, 'property_age <= 54.5\\nabsolute_error = 6450.0\\nsamples = 4\\nvalue = 335000.0'),\n",
       " Text(0.36670480549199086, 0.3958333333333333, 'property_type_Bunglow <= 0.5\\nabsolute_error = 4740.0\\nsamples = 3\\nvalue = 335000.0'),\n",
       " Text(0.36556064073226546, 0.3541666666666667, 'sqft <= 1395.5\\nabsolute_error = 3333.333\\nsamples = 2\\nvalue = 335000.0'),\n",
       " Text(0.36441647597254007, 0.3125, 'absolute_error = 0.0\\nsamples = 1\\nvalue = 335000.0'),\n",
       " Text(0.36670480549199086, 0.3125, 'absolute_error = 0.0\\nsamples = 1\\nvalue = 345000.0'),\n",
       " Text(0.36784897025171626, 0.3541666666666667, 'absolute_error = 0.0\\nsamples = 1\\nvalue = 328150.0'),\n",
       " Text(0.36899313501144165, 0.3958333333333333, 'absolute_error = 0.0\\nsamples = 1\\nvalue = 350000.0'),\n",
       " Text(0.37242562929061784, 0.4375, 'year_sold <= 2015.5\\nabsolute_error = 5200.0\\nsamples = 3\\nvalue = 325000.0'),\n",
       " Text(0.37128146453089245, 0.3958333333333333, 'sqft <= 1295.5\\nabsolute_error = 250.0\\nsamples = 2\\nvalue = 325000.0'),\n",
       " Text(0.37013729977116705, 0.3541666666666667, 'absolute_error = 0.0\\nsamples = 1\\nvalue = 325000.0'),\n",
       " Text(0.37242562929061784, 0.3541666666666667, 'absolute_error = 0.0\\nsamples = 1\\nvalue = 324000.0'),\n",
       " Text(0.37356979405034324, 0.3958333333333333, 'absolute_error = 0.0\\nsamples = 1\\nvalue = 300000.0'),\n",
       " Text(0.37242562929061784, 0.4791666666666667, 'absolute_error = 0.0\\nsamples = 1\\nvalue = 365000.0'),\n",
       " Text(0.37585812356979403, 0.5208333333333334, 'baths <= 2.5\\nabsolute_error = 4333.333\\nsamples = 2\\nvalue = 320000.0'),\n",
       " Text(0.37471395881006864, 0.4791666666666667, 'absolute_error = 0.0\\nsamples = 1\\nvalue = 346000.0'),\n",
       " Text(0.37700228832951943, 0.4791666666666667, 'absolute_error = 0.0\\nsamples = 1\\nvalue = 320000.0'),\n",
       " Text(0.37585812356979403, 0.5625, 'absolute_error = 0.0\\nsamples = 2\\nvalue = 310000.0'),\n",
       " Text(0.3804347826086957, 0.6041666666666666, 'property_tax <= 376.5\\nabsolute_error = 26340.4\\nsamples = 3\\nvalue = 370000.0'),\n",
       " Text(0.3792906178489702, 0.5625, 'year_built <= 2005.5\\nabsolute_error = 8613.667\\nsamples = 2\\nvalue = 395841.0'),\n",
       " Text(0.3781464530892448, 0.5208333333333334, 'absolute_error = 0.0\\nsamples = 1\\nvalue = 370000.0'),\n",
       " Text(0.3804347826086957, 0.5208333333333334, 'absolute_error = 0.0\\nsamples = 1\\nvalue = 395841.0'),\n",
       " Text(0.3815789473684211, 0.5625, 'absolute_error = 0.0\\nsamples = 1\\nvalue = 329990.0'),\n",
       " Text(0.41361556064073224, 0.7291666666666666, 'lot_size <= 3102.0\\nabsolute_error = 33468.227\\nsamples = 77\\nvalue = 375000.0'),\n",
       " Text(0.3951659038901602, 0.6875, 'year_sold <= 2010.5\\nabsolute_error = 23762.018\\nsamples = 36\\nvalue = 387000.0'),\n",
       " Text(0.38844393592677345, 0.6458333333333334, 'sqft <= 2123.5\\nabsolute_error = 30994.913\\nsamples = 16\\nvalue = 360000.0'),\n",
       " Text(0.38615560640732266, 0.6041666666666666, 'property_age <= 41.5\\nabsolute_error = 28544.15\\nsamples = 14\\nvalue = 360000.0'),\n",
       " Text(0.38501144164759726, 0.5625, 'year_built <= 1976.5\\nabsolute_error = 25660.167\\nsamples = 13\\nvalue = 360000.0'),\n",
       " Text(0.38272311212814647, 0.5208333333333334, 'property_age <= 34.5\\nabsolute_error = 13601.0\\nsamples = 2\\nvalue = 406399.0'),\n",
       " Text(0.3815789473684211, 0.4791666666666667, 'absolute_error = 0.0\\nsamples = 1\\nvalue = 392798.0'),\n",
       " Text(0.38386727688787187, 0.4791666666666667, 'absolute_error = 0.0\\nsamples = 1\\nvalue = 420000.0'),\n",
       " Text(0.38729977116704806, 0.5208333333333334, 'sqft <= 1887.5\\nabsolute_error = 23067.812\\nsamples = 11\\nvalue = 360000.0'),\n",
       " Text(0.38615560640732266, 0.4791666666666667, 'lot_size <= 1742.5\\nabsolute_error = 20605.667\\nsamples = 10\\nvalue = 360000.0'),\n",
       " Text(0.38386727688787187, 0.4375, 'sqft <= 1609.0\\nabsolute_error = 22098.333\\nsamples = 5\\nvalue = 364350.0'),\n",
       " Text(0.38272311212814647, 0.3958333333333333, 'property_tax <= 357.5\\nabsolute_error = 7260.0\\nsamples = 4\\nvalue = 363700.0'),\n",
       " Text(0.3815789473684211, 0.3541666666666667, 'sqft <= 1472.0\\nabsolute_error = 3750.0\\nsamples = 3\\nvalue = 363700.0'),\n",
       " Text(0.3804347826086957, 0.3125, 'baths <= 2.0\\nabsolute_error = 433.333\\nsamples = 2\\nvalue = 363700.0'),\n",
       " Text(0.3792906178489702, 0.2708333333333333, 'absolute_error = 0.0\\nsamples = 1\\nvalue = 363700.0'),\n",
       " Text(0.3815789473684211, 0.2708333333333333, 'absolute_error = 0.0\\nsamples = 1\\nvalue = 365000.0'),\n",
       " Text(0.38272311212814647, 0.3125, 'absolute_error = 0.0\\nsamples = 1\\nvalue = 350000.0'),\n",
       " Text(0.38386727688787187, 0.3541666666666667, 'absolute_error = 0.0\\nsamples = 1\\nvalue = 385000.0'),\n",
       " Text(0.38501144164759726, 0.3958333333333333, 'absolute_error = 0.0\\nsamples = 1\\nvalue = 459990.0'),\n",
       " Text(0.38844393592677345, 0.4375, 'insurance <= 104.5\\nabsolute_error = 17966.111\\nsamples = 5\\nvalue = 360000.0'),\n",
       " Text(0.38729977116704806, 0.3958333333333333, 'absolute_error = 0.0\\nsamples = 1\\nvalue = 449835.0'),\n",
       " Text(0.38958810068649885, 0.3958333333333333, 'property_tax <= 346.0\\nabsolute_error = 8982.5\\nsamples = 4\\nvalue = 360000.0'),\n",
       " Text(0.38844393592677345, 0.3541666666666667, 'absolute_error = 0.0\\nsamples = 1\\nvalue = 295000.0'),\n",
       " Text(0.39073226544622425, 0.3541666666666667, 'property_age <= 24.0\\nabsolute_error = 980.0\\nsamples = 3\\nvalue = 360000.0'),\n",
       " Text(0.38958810068649885, 0.3125, 'absolute_error = 0.0\\nsamples = 2\\nvalue = 360000.0'),\n",
       " Text(0.39187643020594964, 0.3125, 'absolute_error = 0.0\\nsamples = 1\\nvalue = 353140.0'),\n",
       " Text(0.38844393592677345, 0.4791666666666667, 'absolute_error = 0.0\\nsamples = 1\\nvalue = 300000.0'),\n",
       " Text(0.38729977116704806, 0.5625, 'absolute_error = 0.0\\nsamples = 1\\nvalue = 305500.0'),\n",
       " Text(0.39073226544622425, 0.6041666666666666, 'property_tax <= 384.0\\nabsolute_error = 7833.333\\nsamples = 2\\nvalue = 399500.0'),\n",
       " Text(0.38958810068649885, 0.5625, 'absolute_error = 0.0\\nsamples = 1\\nvalue = 399500.0'),\n",
       " Text(0.39187643020594964, 0.5625, 'absolute_error = 0.0\\nsamples = 1\\nvalue = 423000.0'),\n",
       " Text(0.4018878718535469, 0.6458333333333334, 'property_type_Condo <= 0.5\\nabsolute_error = 13344.424\\nsamples = 20\\nvalue = 390224.0'),\n",
       " Text(0.4007437070938215, 0.6041666666666666, 'absolute_error = 0.0\\nsamples = 1\\nvalue = 455900.0'),\n",
       " Text(0.4030320366132723, 0.6041666666666666, 'year_built <= 1999.0\\nabsolute_error = 9960.968\\nsamples = 19\\nvalue = 390000.0'),\n",
       " Text(0.39816933638443935, 0.5625, 'sqft <= 1747.5\\nabsolute_error = 8003.667\\nsamples = 11\\nvalue = 385750.0'),\n",
       " Text(0.39702517162471396, 0.5208333333333334, 'beds <= 3.5\\nabsolute_error = 7271.067\\nsamples = 10\\nvalue = 387000.0'),\n",
       " Text(0.39588100686498856, 0.4791666666666667, 'sqft <= 987.5\\nabsolute_error = 5647.571\\nsamples = 9\\nvalue = 387000.0'),\n",
       " Text(0.39302059496567504, 0.4375, 'lot_size <= 648.0\\nabsolute_error = 833.333\\nsamples = 2\\nvalue = 378000.0'),\n",
       " Text(0.39187643020594964, 0.3958333333333333, 'absolute_error = 0.0\\nsamples = 1\\nvalue = 375500.0'),\n",
       " Text(0.39416475972540044, 0.3958333333333333, 'absolute_error = 0.0\\nsamples = 1\\nvalue = 378000.0'),\n",
       " Text(0.3987414187643021, 0.4375, 'recession <= 0.5\\nabsolute_error = 4506.0\\nsamples = 7\\nvalue = 387000.0'),\n",
       " Text(0.39645308924485123, 0.3958333333333333, 'property_tax <= 354.5\\nabsolute_error = 8644.667\\nsamples = 3\\nvalue = 395000.0'),\n",
       " Text(0.39530892448512583, 0.3541666666666667, 'lot_size <= 2854.5\\nabsolute_error = 1967.0\\nsamples = 2\\nvalue = 393033.0'),\n",
       " Text(0.39416475972540044, 0.3125, 'absolute_error = 0.0\\nsamples = 1\\nvalue = 391066.0'),\n",
       " Text(0.39645308924485123, 0.3125, 'absolute_error = 0.0\\nsamples = 1\\nvalue = 395000.0'),\n",
       " Text(0.3975972540045767, 0.3541666666666667, 'absolute_error = 0.0\\nsamples = 1\\nvalue = 417000.0'),\n",
       " Text(0.4010297482837529, 0.3958333333333333, 'sqft <= 1362.5\\nabsolute_error = 937.5\\nsamples = 4\\nvalue = 387000.0'),\n",
       " Text(0.3998855835240275, 0.3541666666666667, 'insurance <= 107.0\\nabsolute_error = 583.333\\nsamples = 3\\nvalue = 387000.0'),\n",
       " Text(0.3987414187643021, 0.3125, 'absolute_error = 0.0\\nsamples = 1\\nvalue = 390000.0'),\n",
       " Text(0.4010297482837529, 0.3125, 'year_sold <= 2011.5\\nabsolute_error = 100.0\\nsamples = 2\\nvalue = 387000.0'),\n",
       " Text(0.3998855835240275, 0.2708333333333333, 'absolute_error = 0.0\\nsamples = 1\\nvalue = 386500.0'),\n",
       " Text(0.40217391304347827, 0.2708333333333333, 'absolute_error = 0.0\\nsamples = 1\\nvalue = 387000.0'),\n",
       " Text(0.40217391304347827, 0.3541666666666667, 'absolute_error = 0.0\\nsamples = 1\\nvalue = 385000.0'),\n",
       " Text(0.39816933638443935, 0.4791666666666667, 'absolute_error = 0.0\\nsamples = 1\\nvalue = 357000.0'),\n",
       " Text(0.39931350114416475, 0.5208333333333334, 'absolute_error = 0.0\\nsamples = 1\\nvalue = 375000.0'),\n",
       " Text(0.40789473684210525, 0.5625, 'property_age <= 8.0\\nabsolute_error = 8098.154\\nsamples = 8\\nvalue = 394000.0'),\n",
       " Text(0.40560640732265446, 0.5208333333333334, 'basement <= 0.5\\nabsolute_error = 4584.5\\nsamples = 6\\nvalue = 393500.0'),\n",
       " Text(0.40446224256292906, 0.4791666666666667, 'absolute_error = 0.0\\nsamples = 1\\nvalue = 399900.0'),\n",
       " Text(0.40675057208237986, 0.4791666666666667, 'sqft <= 1597.0\\nabsolute_error = 4325.143\\nsamples = 5\\nvalue = 393500.0'),\n",
       " Text(0.40446224256292906, 0.4375, 'sqft <= 1159.5\\nabsolute_error = 4900.0\\nsamples = 3\\nvalue = 393500.0'),\n",
       " Text(0.40331807780320367, 0.3958333333333333, 'absolute_error = 0.0\\nsamples = 1\\nvalue = 394000.0'),\n",
       " Text(0.40560640732265446, 0.3958333333333333, 'year_sold <= 2011.5\\nabsolute_error = 7833.333\\nsamples = 2\\nvalue = 393500.0'),\n",
       " Text(0.40446224256292906, 0.3541666666666667, 'absolute_error = 0.0\\nsamples = 1\\nvalue = 393500.0'),\n",
       " Text(0.40675057208237986, 0.3541666666666667, 'absolute_error = 0.0\\nsamples = 1\\nvalue = 370000.0'),\n",
       " Text(0.40903890160183065, 0.4375, 'year_sold <= 2013.0\\nabsolute_error = 388.0\\nsamples = 2\\nvalue = 390612.0'),\n",
       " Text(0.40789473684210525, 0.3958333333333333, 'absolute_error = 0.0\\nsamples = 1\\nvalue = 390224.0'),\n",
       " Text(0.41018306636155605, 0.3958333333333333, 'absolute_error = 0.0\\nsamples = 1\\nvalue = 391000.0'),\n",
       " Text(0.41018306636155605, 0.5208333333333334, 'basement <= 0.5\\nabsolute_error = 2520.0\\nsamples = 2\\nvalue = 405000.0'),\n",
       " Text(0.40903890160183065, 0.4791666666666667, 'absolute_error = 0.0\\nsamples = 1\\nvalue = 405000.0'),\n",
       " Text(0.41132723112128144, 0.4791666666666667, 'absolute_error = 0.0\\nsamples = 1\\nvalue = 411300.0'),\n",
       " Text(0.4320652173913043, 0.6875, 'property_tax <= 379.5\\nabsolute_error = 35997.074\\nsamples = 41\\nvalue = 347450.0'),\n",
       " Text(0.4244851258581236, 0.6458333333333334, 'property_age <= 64.5\\nabsolute_error = 31843.143\\nsamples = 28\\nvalue = 340000.0'),\n",
       " Text(0.42219679633867274, 0.6041666666666666, 'year_sold <= 2015.5\\nabsolute_error = 29530.606\\nsamples = 26\\nvalue = 340000.0'),\n",
       " Text(0.42105263157894735, 0.5625, 'property_tax <= 351.5\\nabsolute_error = 27953.438\\nsamples = 25\\nvalue = 340000.0'),\n",
       " Text(0.4170480549199085, 0.5208333333333334, 'lot_size <= 13285.5\\nabsolute_error = 42728.571\\nsamples = 7\\nvalue = 299000.0'),\n",
       " Text(0.4147597254004577, 0.4791666666666667, 'property_age <= 55.5\\nabsolute_error = 8275.0\\nsamples = 4\\nvalue = 274950.0'),\n",
       " Text(0.41361556064073224, 0.4375, 'sqft <= 1184.0\\nabsolute_error = 8033.333\\nsamples = 3\\nvalue = 275000.0'),\n",
       " Text(0.41247139588100684, 0.3958333333333333, 'absolute_error = 0.0\\nsamples = 1\\nvalue = 299000.0'),\n",
       " Text(0.4147597254004577, 0.3958333333333333, 'year_sold <= 2009.0\\nabsolute_error = 50.0\\nsamples = 2\\nvalue = 274950.0'),\n",
       " Text(0.41361556064073224, 0.3541666666666667, 'absolute_error = 0.0\\nsamples = 1\\nvalue = 274900.0'),\n",
       " Text(0.4159038901601831, 0.3541666666666667, 'absolute_error = 0.0\\nsamples = 1\\nvalue = 275000.0'),\n",
       " Text(0.4159038901601831, 0.4375, 'absolute_error = 0.0\\nsamples = 1\\nvalue = 266000.0'),\n",
       " Text(0.4193363844393593, 0.4791666666666667, 'year_sold <= 2014.5\\nabsolute_error = 32666.667\\nsamples = 3\\nvalue = 377000.0'),\n",
       " Text(0.4181922196796339, 0.4375, 'sqft <= 1370.0\\nabsolute_error = 20500.0\\nsamples = 2\\nvalue = 397500.0'),\n",
       " Text(0.4170480549199085, 0.3958333333333333, 'absolute_error = 0.0\\nsamples = 1\\nvalue = 377000.0'),\n",
       " Text(0.4193363844393593, 0.3958333333333333, 'absolute_error = 0.0\\nsamples = 1\\nvalue = 418000.0'),\n",
       " Text(0.4204805491990847, 0.4375, 'absolute_error = 0.0\\nsamples = 1\\nvalue = 320000.0'),\n",
       " Text(0.42505720823798626, 0.5208333333333334, 'year_sold <= 2014.5\\nabsolute_error = 20576.4\\nsamples = 18\\nvalue = 340000.0'),\n",
       " Text(0.42391304347826086, 0.4791666666666667, 'year_sold <= 2013.0\\nabsolute_error = 18152.5\\nsamples = 17\\nvalue = 342500.0'),\n",
       " Text(0.42276887871853547, 0.4375, 'insurance <= 114.5\\nabsolute_error = 15354.783\\nsamples = 16\\nvalue = 340000.0'),\n",
       " Text(0.42162471395881007, 0.3958333333333333, 'year_built <= 1951.5\\nabsolute_error = 13780.0\\nsamples = 15\\nvalue = 342500.0'),\n",
       " Text(0.41847826086956524, 0.3541666666666667, 'lot_size <= 5400.0\\nabsolute_error = 9283.333\\nsamples = 3\\nvalue = 359000.0'),\n",
       " Text(0.4173340961098398, 0.3125, 'property_tax <= 360.0\\nabsolute_error = 4550.0\\nsamples = 2\\nvalue = 354450.0'),\n",
       " Text(0.4161899313501144, 0.2708333333333333, 'absolute_error = 0.0\\nsamples = 1\\nvalue = 359000.0'),\n",
       " Text(0.41847826086956524, 0.2708333333333333, 'absolute_error = 0.0\\nsamples = 1\\nvalue = 349900.0'),\n",
       " Text(0.41962242562929064, 0.3125, 'absolute_error = 0.0\\nsamples = 1\\nvalue = 377750.0'),\n",
       " Text(0.4247711670480549, 0.3541666666666667, 'sqft <= 1786.0\\nabsolute_error = 12447.895\\nsamples = 12\\nvalue = 340000.0'),\n",
       " Text(0.42191075514874143, 0.3125, 'recession <= 0.5\\nabsolute_error = 3200.0\\nsamples = 3\\nvalue = 329000.0'),\n",
       " Text(0.42076659038901604, 0.2708333333333333, 'sqft <= 1486.0\\nabsolute_error = 2000.0\\nsamples = 2\\nvalue = 337000.0'),\n",
       " Text(0.41962242562929064, 0.22916666666666666, 'absolute_error = 0.0\\nsamples = 1\\nvalue = 339000.0'),\n",
       " Text(0.42191075514874143, 0.22916666666666666, 'absolute_error = 0.0\\nsamples = 1\\nvalue = 335000.0'),\n",
       " Text(0.42305491990846683, 0.2708333333333333, 'absolute_error = 0.0\\nsamples = 1\\nvalue = 329000.0'),\n",
       " Text(0.4276315789473684, 0.3125, 'insurance <= 108.0\\nabsolute_error = 13393.571\\nsamples = 9\\nvalue = 345000.0'),\n",
       " Text(0.4253432494279176, 0.2708333333333333, 'property_tax <= 376.0\\nabsolute_error = 7228.182\\nsamples = 7\\nvalue = 340000.0'),\n",
       " Text(0.42419908466819223, 0.22916666666666666, 'property_age <= 3.0\\nabsolute_error = 5501.111\\nsamples = 6\\nvalue = 340000.0'),\n",
       " Text(0.42305491990846683, 0.1875, 'absolute_error = 0.0\\nsamples = 1\\nvalue = 364510.0'),\n",
       " Text(0.4253432494279176, 0.1875, 'property_age <= 34.5\\nabsolute_error = 3125.0\\nsamples = 5\\nvalue = 340000.0'),\n",
       " Text(0.42419908466819223, 0.14583333333333334, 'recession <= 0.5\\nabsolute_error = 1428.571\\nsamples = 4\\nvalue = 340000.0'),\n",
       " Text(0.42305491990846683, 0.10416666666666667, 'absolute_error = 0.0\\nsamples = 1\\nvalue = 345000.0'),\n",
       " Text(0.4253432494279176, 0.10416666666666667, 'absolute_error = 0.0\\nsamples = 3\\nvalue = 340000.0'),\n",
       " Text(0.426487414187643, 0.14583333333333334, 'absolute_error = 0.0\\nsamples = 1\\nvalue = 325000.0'),\n",
       " Text(0.426487414187643, 0.22916666666666666, 'absolute_error = 0.0\\nsamples = 1\\nvalue = 355000.0'),\n",
       " Text(0.4299199084668192, 0.2708333333333333, 'year_sold <= 2010.5\\nabsolute_error = 4333.333\\nsamples = 2\\nvalue = 375000.0'),\n",
       " Text(0.4287757437070938, 0.22916666666666666, 'absolute_error = 0.0\\nsamples = 1\\nvalue = 388000.0'),\n",
       " Text(0.4310640732265446, 0.22916666666666666, 'absolute_error = 0.0\\nsamples = 1\\nvalue = 375000.0'),\n",
       " Text(0.42391304347826086, 0.3958333333333333, 'absolute_error = 0.0\\nsamples = 1\\nvalue = 290000.0'),\n",
       " Text(0.42505720823798626, 0.4375, 'absolute_error = 0.0\\nsamples = 1\\nvalue = 422500.0'),\n",
       " Text(0.42620137299771166, 0.4791666666666667, 'absolute_error = 0.0\\nsamples = 1\\nvalue = 261250.0'),\n",
       " Text(0.4233409610983982, 0.5625, 'absolute_error = 0.0\\nsamples = 1\\nvalue = 420000.0'),\n",
       " Text(0.4267734553775744, 0.6041666666666666, 'lot_size <= 8330.5\\nabsolute_error = 20000.0\\nsamples = 2\\nvalue = 270000.0'),\n",
       " Text(0.425629290617849, 0.5625, 'absolute_error = 0.0\\nsamples = 1\\nvalue = 290000.0'),\n",
       " Text(0.4279176201372998, 0.5625, 'absolute_error = 0.0\\nsamples = 1\\nvalue = 250000.0'),\n",
       " Text(0.4396453089244851, 0.6458333333333334, 'lot_size <= 10672.0\\nabsolute_error = 33270.632\\nsamples = 13\\nvalue = 381000.0'),\n",
       " Text(0.4330663615560641, 0.6041666666666666, 'property_age <= 5.5\\nabsolute_error = 14308.5\\nsamples = 6\\nvalue = 360000.0'),\n",
       " Text(0.4302059496567506, 0.5625, 'insurance <= 108.5\\nabsolute_error = 2495.0\\nsamples = 2\\nvalue = 387495.0'),\n",
       " Text(0.4290617848970252, 0.5208333333333334, 'absolute_error = 0.0\\nsamples = 1\\nvalue = 389990.0'),\n",
       " Text(0.43135011441647597, 0.5208333333333334, 'absolute_error = 0.0\\nsamples = 1\\nvalue = 385000.0'),\n",
       " Text(0.43592677345537756, 0.5625, 'property_tax <= 393.0\\nabsolute_error = 11011.875\\nsamples = 4\\nvalue = 352500.0'),\n",
       " Text(0.43363844393592677, 0.5208333333333334, 'property_tax <= 388.5\\nabsolute_error = 5000.0\\nsamples = 2\\nvalue = 340000.0'),\n",
       " Text(0.43249427917620137, 0.4791666666666667, 'absolute_error = 0.0\\nsamples = 1\\nvalue = 345000.0'),\n",
       " Text(0.43478260869565216, 0.4791666666666667, 'absolute_error = 0.0\\nsamples = 1\\nvalue = 335000.0'),\n",
       " Text(0.43821510297482835, 0.5208333333333334, 'sqft <= 3169.0\\nabsolute_error = 2023.75\\nsamples = 2\\nvalue = 360000.0'),\n",
       " Text(0.43707093821510296, 0.4791666666666667, 'absolute_error = 0.0\\nsamples = 1\\nvalue = 368095.0'),\n",
       " Text(0.43935926773455375, 0.4791666666666667, 'absolute_error = 0.0\\nsamples = 1\\nvalue = 360000.0'),\n",
       " Text(0.4462242562929062, 0.6041666666666666, 'property_age <= 38.0\\nabsolute_error = 23805.222\\nsamples = 7\\nvalue = 415000.0'),\n",
       " Text(0.4450800915331808, 0.5625, 'lot_size <= 72745.0\\nabsolute_error = 9280.875\\nsamples = 6\\nvalue = 417500.0'),\n",
       " Text(0.4439359267734554, 0.5208333333333334, 'recession <= 0.5\\nabsolute_error = 5035.286\\nsamples = 5\\nvalue = 420000.0'),\n",
       " Text(0.4416475972540046, 0.4791666666666667, 'sqft <= 3124.5\\nabsolute_error = 833.333\\nsamples = 2\\nvalue = 415000.0'),\n",
       " Text(0.4405034324942792, 0.4375, 'absolute_error = 0.0\\nsamples = 1\\nvalue = 415000.0'),\n",
       " Text(0.44279176201373, 0.4375, 'absolute_error = 0.0\\nsamples = 1\\nvalue = 412500.0'),\n",
       " Text(0.4462242562929062, 0.4791666666666667, 'year_built <= 1976.5\\nabsolute_error = 1936.75\\nsamples = 3\\nvalue = 425000.0'),\n",
       " Text(0.4450800915331808, 0.4375, 'absolute_error = 0.0\\nsamples = 1\\nvalue = 420000.0'),\n",
       " Text(0.4473684210526316, 0.4375, 'year_built <= 1987.5\\nabsolute_error = 915.667\\nsamples = 2\\nvalue = 425000.0'),\n",
       " Text(0.4462242562929062, 0.3958333333333333, 'absolute_error = 0.0\\nsamples = 1\\nvalue = 425000.0'),\n",
       " Text(0.448512585812357, 0.3958333333333333, 'absolute_error = 0.0\\nsamples = 1\\nvalue = 427747.0'),\n",
       " Text(0.4462242562929062, 0.5208333333333334, 'absolute_error = 0.0\\nsamples = 1\\nvalue = 381000.0'),\n",
       " Text(0.4473684210526316, 0.5625, 'absolute_error = 0.0\\nsamples = 1\\nvalue = 275000.0'),\n",
       " Text(0.4988379576659039, 0.8125, 'year_sold <= 2006.5\\nabsolute_error = 55345.394\\nsamples = 112\\nvalue = 430000.0'),\n",
       " Text(0.4639945652173913, 0.7708333333333334, 'year_sold <= 2003.5\\nabsolute_error = 70857.038\\nsamples = 37\\nvalue = 490000.0'),\n",
       " Text(0.45537757437070936, 0.7291666666666666, 'lot_size <= 9299.5\\nabsolute_error = 14150.0\\nsamples = 7\\nvalue = 380000.0'),\n",
       " Text(0.45308924485125857, 0.6875, 'year_built <= 2000.0\\nabsolute_error = 8957.143\\nsamples = 5\\nvalue = 370000.0'),\n",
       " Text(0.45194508009153317, 0.6458333333333334, 'beds <= 3.5\\nabsolute_error = 5033.333\\nsamples = 4\\nvalue = 370000.0'),\n",
       " Text(0.45080091533180777, 0.6041666666666666, 'lot_size <= 2269.5\\nabsolute_error = 5000.0\\nsamples = 3\\nvalue = 372500.0'),\n",
       " Text(0.4496567505720824, 0.5625, 'year_built <= 1987.5\\nabsolute_error = 1666.667\\nsamples = 2\\nvalue = 370000.0'),\n",
       " Text(0.448512585812357, 0.5208333333333334, 'absolute_error = 0.0\\nsamples = 1\\nvalue = 375000.0'),\n",
       " Text(0.45080091533180777, 0.5208333333333334, 'absolute_error = 0.0\\nsamples = 1\\nvalue = 370000.0'),\n",
       " Text(0.45194508009153317, 0.5625, 'absolute_error = 0.0\\nsamples = 1\\nvalue = 385000.0'),\n",
       " Text(0.45308924485125857, 0.6041666666666666, 'absolute_error = 0.0\\nsamples = 1\\nvalue = 364900.0'),\n",
       " Text(0.45423340961098396, 0.6458333333333334, 'absolute_error = 0.0\\nsamples = 1\\nvalue = 402500.0'),\n",
       " Text(0.4576659038901602, 0.6875, 'sqft <= 1724.5\\nabsolute_error = 300.0\\nsamples = 2\\nvalue = 399900.0'),\n",
       " Text(0.45652173913043476, 0.6458333333333334, 'absolute_error = 0.0\\nsamples = 1\\nvalue = 399900.0'),\n",
       " Text(0.4588100686498856, 0.6458333333333334, 'absolute_error = 0.0\\nsamples = 1\\nvalue = 399000.0'),\n",
       " Text(0.47261155606407323, 0.7291666666666666, 'year_sold <= 2004.5\\nabsolute_error = 58658.714\\nsamples = 30\\nvalue = 517250.0'),\n",
       " Text(0.4622425629290618, 0.6875, 'year_built <= 1959.5\\nabsolute_error = 46733.824\\nsamples = 11\\nvalue = 475000.0'),\n",
       " Text(0.4610983981693364, 0.6458333333333334, 'absolute_error = 0.0\\nsamples = 1\\nvalue = 310000.0'),\n",
       " Text(0.4633867276887872, 0.6458333333333334, 'insurance <= 131.5\\nabsolute_error = 30965.0\\nsamples = 10\\nvalue = 475000.0'),\n",
       " Text(0.4593821510297483, 0.6041666666666666, 'insurance <= 127.5\\nabsolute_error = 21971.875\\nsamples = 6\\nvalue = 465000.0'),\n",
       " Text(0.4570938215102975, 0.5625, 'property_type_Condo <= 0.5\\nabsolute_error = 20755.0\\nsamples = 4\\nvalue = 430000.0'),\n",
       " Text(0.4559496567505721, 0.5208333333333334, 'absolute_error = 0.0\\nsamples = 1\\nvalue = 465000.0'),\n",
       " Text(0.4582379862700229, 0.5208333333333334, 'year_built <= 1998.0\\nabsolute_error = 7891.667\\nsamples = 3\\nvalue = 419900.0'),\n",
       " Text(0.4570938215102975, 0.4791666666666667, 'property_tax <= 411.0\\nabsolute_error = 5050.0\\nsamples = 2\\nvalue = 424950.0'),\n",
       " Text(0.4559496567505721, 0.4375, 'absolute_error = 0.0\\nsamples = 1\\nvalue = 430000.0'),\n",
       " Text(0.4582379862700229, 0.4375, 'absolute_error = 0.0\\nsamples = 1\\nvalue = 419900.0'),\n",
       " Text(0.4593821510297483, 0.4791666666666667, 'absolute_error = 0.0\\nsamples = 1\\nvalue = 406325.0'),\n",
       " Text(0.46167048054919907, 0.5625, 'lot_size <= 5880.5\\nabsolute_error = 2333.333\\nsamples = 2\\nvalue = 475000.0'),\n",
       " Text(0.4605263157894737, 0.5208333333333334, 'absolute_error = 0.0\\nsamples = 1\\nvalue = 475000.0'),\n",
       " Text(0.46281464530892447, 0.5208333333333334, 'absolute_error = 0.0\\nsamples = 1\\nvalue = 482000.0'),\n",
       " Text(0.4673913043478261, 0.6041666666666666, 'baths <= 2.5\\nabsolute_error = 20742.857\\nsamples = 4\\nvalue = 509500.0'),\n",
       " Text(0.4662471395881007, 0.5625, 'property_age <= 19.5\\nabsolute_error = 9283.333\\nsamples = 3\\nvalue = 514700.0'),\n",
       " Text(0.46510297482837526, 0.5208333333333334, 'popular <= 0.5\\nabsolute_error = 4160.0\\nsamples = 2\\nvalue = 519900.0'),\n",
       " Text(0.46395881006864986, 0.4791666666666667, 'absolute_error = 0.0\\nsamples = 1\\nvalue = 519900.0'),\n",
       " Text(0.4662471395881007, 0.4791666666666667, 'absolute_error = 0.0\\nsamples = 1\\nvalue = 509500.0'),\n",
       " Text(0.4673913043478261, 0.5208333333333334, 'absolute_error = 0.0\\nsamples = 1\\nvalue = 485000.0'),\n",
       " Text(0.4685354691075515, 0.5625, 'absolute_error = 0.0\\nsamples = 1\\nvalue = 420000.0'),\n",
       " Text(0.4829805491990847, 0.6875, 'insurance <= 128.5\\nabsolute_error = 50847.64\\nsamples = 19\\nvalue = 544240.0'),\n",
       " Text(0.4774027459954233, 0.6458333333333334, 'property_tax <= 405.0\\nabsolute_error = 43131.111\\nsamples = 14\\nvalue = 527000.0'),\n",
       " Text(0.4731121281464531, 0.6041666666666666, 'popular <= 0.5\\nabsolute_error = 38071.429\\nsamples = 5\\nvalue = 460000.0'),\n",
       " Text(0.4719679633867277, 0.5625, 'insurance <= 118.0\\nabsolute_error = 20300.0\\nsamples = 4\\nvalue = 495000.0'),\n",
       " Text(0.4696796338672769, 0.5208333333333334, 'property_age <= 32.5\\nabsolute_error = 7500.0\\nsamples = 2\\nvalue = 495000.0'),\n",
       " Text(0.4685354691075515, 0.4791666666666667, 'absolute_error = 0.0\\nsamples = 1\\nvalue = 517500.0'),\n",
       " Text(0.4708237986270023, 0.4791666666666667, 'absolute_error = 0.0\\nsamples = 1\\nvalue = 495000.0'),\n",
       " Text(0.4742562929061785, 0.5208333333333334, 'property_type_Condo <= 0.5\\nabsolute_error = 4500.0\\nsamples = 2\\nvalue = 455500.0'),\n",
       " Text(0.4731121281464531, 0.4791666666666667, 'absolute_error = 0.0\\nsamples = 1\\nvalue = 460000.0'),\n",
       " Text(0.4754004576659039, 0.4791666666666667, 'absolute_error = 0.0\\nsamples = 1\\nvalue = 451000.0'),\n",
       " Text(0.4742562929061785, 0.5625, 'absolute_error = 0.0\\nsamples = 1\\nvalue = 395000.0'),\n",
       " Text(0.4816933638443936, 0.6041666666666666, 'insurance <= 122.5\\nabsolute_error = 16354.545\\nsamples = 9\\nvalue = 560000.0'),\n",
       " Text(0.4805491990846682, 0.5625, 'absolute_error = 0.0\\nsamples = 3\\nvalue = 560000.0'),\n",
       " Text(0.482837528604119, 0.5625, 'year_sold <= 2005.5\\nabsolute_error = 18945.714\\nsamples = 6\\nvalue = 544240.0'),\n",
       " Text(0.4799771167048055, 0.5208333333333334, 'lot_size <= 17859.0\\nabsolute_error = 16228.0\\nsamples = 4\\nvalue = 544240.0'),\n",
       " Text(0.4776887871853547, 0.4791666666666667, 'property_tax <= 451.5\\nabsolute_error = 3413.333\\nsamples = 2\\nvalue = 544240.0'),\n",
       " Text(0.4765446224256293, 0.4375, 'absolute_error = 0.0\\nsamples = 1\\nvalue = 544240.0'),\n",
       " Text(0.4788329519450801, 0.4375, 'absolute_error = 0.0\\nsamples = 1\\nvalue = 534000.0'),\n",
       " Text(0.48226544622425627, 0.4791666666666667, 'baths <= 3.5\\nabsolute_error = 210.0\\nsamples = 2\\nvalue = 579690.0'),\n",
       " Text(0.48112128146453087, 0.4375, 'absolute_error = 0.0\\nsamples = 1\\nvalue = 579900.0'),\n",
       " Text(0.4834096109839817, 0.4375, 'absolute_error = 0.0\\nsamples = 1\\nvalue = 579480.0'),\n",
       " Text(0.4856979405034325, 0.5208333333333334, 'insurance <= 126.0\\nabsolute_error = 1500.0\\nsamples = 2\\nvalue = 518500.0'),\n",
       " Text(0.4845537757437071, 0.4791666666666667, 'absolute_error = 0.0\\nsamples = 1\\nvalue = 517000.0'),\n",
       " Text(0.4868421052631579, 0.4791666666666667, 'absolute_error = 0.0\\nsamples = 1\\nvalue = 520000.0'),\n",
       " Text(0.488558352402746, 0.6458333333333334, 'year_built <= 1990.0\\nabsolute_error = 27118.714\\nsamples = 5\\nvalue = 619000.0'),\n",
       " Text(0.4862700228832952, 0.6041666666666666, 'property_type_Bunglow <= 0.5\\nabsolute_error = 21333.333\\nsamples = 2\\nvalue = 589000.0'),\n",
       " Text(0.4851258581235698, 0.5625, 'absolute_error = 0.0\\nsamples = 1\\nvalue = 589000.0'),\n",
       " Text(0.4874141876430206, 0.5625, 'absolute_error = 0.0\\nsamples = 1\\nvalue = 525000.0'),\n",
       " Text(0.49084668192219677, 0.6041666666666666, 'sqft <= 4268.0\\nabsolute_error = 5070.75\\nsamples = 3\\nvalue = 626774.0'),\n",
       " Text(0.4897025171624714, 0.5625, 'property_tax <= 488.5\\nabsolute_error = 2591.333\\nsamples = 2\\nvalue = 626774.0'),\n",
       " Text(0.488558352402746, 0.5208333333333334, 'absolute_error = 0.0\\nsamples = 1\\nvalue = 626774.0'),\n",
       " Text(0.49084668192219677, 0.5208333333333334, 'absolute_error = 0.0\\nsamples = 1\\nvalue = 619000.0'),\n",
       " Text(0.4919908466819222, 0.5625, 'absolute_error = 0.0\\nsamples = 1\\nvalue = 639283.0'),\n",
       " Text(0.5336813501144165, 0.7708333333333334, 'property_age <= 52.5\\nabsolute_error = 42697.381\\nsamples = 75\\nvalue = 420000.0'),\n",
       " Text(0.5118707093821511, 0.7291666666666666, 'insurance <= 119.5\\nabsolute_error = 37641.8\\nsamples = 62\\nvalue = 433680.0'),\n",
       " Text(0.5008581235697941, 0.6875, 'beds <= 4.5\\nabsolute_error = 15481.789\\nsamples = 13\\nvalue = 412250.0'),\n",
       " Text(0.4971395881006865, 0.6458333333333334, 'sqft <= 1074.0\\nabsolute_error = 11257.733\\nsamples = 10\\nvalue = 403000.0'),\n",
       " Text(0.4959954233409611, 0.6041666666666666, 'absolute_error = 0.0\\nsamples = 1\\nvalue = 455900.0'),\n",
       " Text(0.4982837528604119, 0.6041666666666666, 'lot_size <= 3270.0\\nabsolute_error = 8283.286\\nsamples = 9\\nvalue = 403000.0'),\n",
       " Text(0.494279176201373, 0.5625, 'lot_size <= 1600.0\\nabsolute_error = 7780.0\\nsamples = 3\\nvalue = 415000.0'),\n",
       " Text(0.4931350114416476, 0.5208333333333334, 'absolute_error = 0.0\\nsamples = 1\\nvalue = 380100.0'),\n",
       " Text(0.4954233409610984, 0.5208333333333334, 'sqft <= 1593.0\\nabsolute_error = 1000.0\\nsamples = 2\\nvalue = 416000.0'),\n",
       " Text(0.494279176201373, 0.4791666666666667, 'absolute_error = 0.0\\nsamples = 1\\nvalue = 415000.0'),\n",
       " Text(0.4965675057208238, 0.4791666666666667, 'absolute_error = 0.0\\nsamples = 1\\nvalue = 417000.0'),\n",
       " Text(0.5022883295194508, 0.5625, 'year_sold <= 2014.5\\nabsolute_error = 4562.889\\nsamples = 6\\nvalue = 403000.0'),\n",
       " Text(0.5011441647597255, 0.5208333333333334, 'year_built <= 2006.5\\nabsolute_error = 3977.0\\nsamples = 5\\nvalue = 403000.0'),\n",
       " Text(0.4988558352402746, 0.4791666666666667, 'sqft <= 3348.5\\nabsolute_error = 8000.0\\nsamples = 3\\nvalue = 395000.0'),\n",
       " Text(0.4977116704805492, 0.4375, 'property_age <= 27.5\\nabsolute_error = 2000.0\\nsamples = 2\\nvalue = 397000.0'),\n",
       " Text(0.4965675057208238, 0.3958333333333333, 'absolute_error = 0.0\\nsamples = 1\\nvalue = 399000.0'),\n",
       " Text(0.4988558352402746, 0.3958333333333333, 'absolute_error = 0.0\\nsamples = 1\\nvalue = 395000.0'),\n",
       " Text(0.5, 0.4375, 'absolute_error = 0.0\\nsamples = 1\\nvalue = 385000.0'),\n",
       " Text(0.5034324942791762, 0.4791666666666667, 'year_built <= 2008.5\\nabsolute_error = 363.2\\nsamples = 2\\nvalue = 403000.0'),\n",
       " Text(0.5022883295194508, 0.4375, 'absolute_error = 0.0\\nsamples = 1\\nvalue = 403000.0'),\n",
       " Text(0.5045766590389016, 0.4375, 'absolute_error = 0.0\\nsamples = 1\\nvalue = 404816.0'),\n",
       " Text(0.5034324942791762, 0.5208333333333334, 'absolute_error = 0.0\\nsamples = 1\\nvalue = 412250.0'),\n",
       " Text(0.5045766590389016, 0.6458333333333334, 'property_age <= 18.5\\nabsolute_error = 9957.5\\nsamples = 3\\nvalue = 436292.5'),\n",
       " Text(0.5034324942791762, 0.6041666666666666, 'absolute_error = 0.0\\nsamples = 1\\nvalue = 427585.0'),\n",
       " Text(0.505720823798627, 0.6041666666666666, 'property_tax <= 388.0\\nabsolute_error = 2500.0\\nsamples = 2\\nvalue = 447500.0'),\n",
       " Text(0.5045766590389016, 0.5625, 'absolute_error = 0.0\\nsamples = 1\\nvalue = 450000.0'),\n",
       " Text(0.5068649885583524, 0.5625, 'absolute_error = 0.0\\nsamples = 1\\nvalue = 445000.0'),\n",
       " Text(0.522883295194508, 0.6875, 'sqft <= 941.0\\nabsolute_error = 39696.408\\nsamples = 49\\nvalue = 444000.0'),\n",
       " Text(0.5217391304347826, 0.6458333333333334, 'absolute_error = 0.0\\nsamples = 1\\nvalue = 200000.0'),\n",
       " Text(0.5240274599542334, 0.6458333333333334, 'year_sold <= 2007.5\\nabsolute_error = 36959.027\\nsamples = 48\\nvalue = 445000.0'),\n",
       " Text(0.5102974828375286, 0.6041666666666666, 'insurance <= 120.5\\nabsolute_error = 32610.714\\nsamples = 5\\nvalue = 502000.0'),\n",
       " Text(0.5091533180778032, 0.5625, 'absolute_error = 0.0\\nsamples = 1\\nvalue = 430000.0'),\n",
       " Text(0.511441647597254, 0.5625, 'insurance <= 132.5\\nabsolute_error = 16855.0\\nsamples = 4\\nvalue = 502000.0'),\n",
       " Text(0.5102974828375286, 0.5208333333333334, 'insurance <= 127.5\\nabsolute_error = 2818.75\\nsamples = 3\\nvalue = 502000.0'),\n",
       " Text(0.5091533180778032, 0.4791666666666667, 'property_tax <= 384.0\\nabsolute_error = 666.667\\nsamples = 2\\nvalue = 502000.0'),\n",
       " Text(0.5080091533180778, 0.4375, 'absolute_error = 0.0\\nsamples = 1\\nvalue = 500000.0'),\n",
       " Text(0.5102974828375286, 0.4375, 'absolute_error = 0.0\\nsamples = 1\\nvalue = 502000.0'),\n",
       " Text(0.511441647597254, 0.4791666666666667, 'absolute_error = 0.0\\nsamples = 1\\nvalue = 511275.0'),\n",
       " Text(0.5125858123569794, 0.5208333333333334, 'absolute_error = 0.0\\nsamples = 1\\nvalue = 575000.0'),\n",
       " Text(0.5377574370709383, 0.6041666666666666, 'year_sold <= 2011.5\\nabsolute_error = 34891.941\\nsamples = 43\\nvalue = 443000.0'),\n",
       " Text(0.5274599542334096, 0.5625, 'property_tax <= 440.0\\nabsolute_error = 36129.268\\nsamples = 25\\nvalue = 420000.0'),\n",
       " Text(0.5194508009153318, 0.5208333333333334, 'property_tax <= 430.5\\nabsolute_error = 33011.538\\nsamples = 16\\nvalue = 445000.0'),\n",
       " Text(0.5160183066361556, 0.4791666666666667, 'sqft <= 1637.0\\nabsolute_error = 32288.235\\nsamples = 12\\nvalue = 435000.0'),\n",
       " Text(0.5125858123569794, 0.4375, 'beds <= 2.5\\nabsolute_error = 9737.5\\nsamples = 5\\nvalue = 445450.0'),\n",
       " Text(0.511441647597254, 0.3958333333333333, 'absolute_error = 0.0\\nsamples = 1\\nvalue = 460000.0'),\n",
       " Text(0.5137299771167048, 0.3958333333333333, 'beds <= 3.5\\nabsolute_error = 6580.0\\nsamples = 4\\nvalue = 445000.0'),\n",
       " Text(0.5125858123569794, 0.3541666666666667, 'recession <= 0.5\\nabsolute_error = 1475.0\\nsamples = 3\\nvalue = 445000.0'),\n",
       " Text(0.511441647597254, 0.3125, 'property_tax <= 389.5\\nabsolute_error = 300.0\\nsamples = 2\\nvalue = 445000.0'),\n",
       " Text(0.5102974828375286, 0.2708333333333333, 'absolute_error = 0.0\\nsamples = 1\\nvalue = 445900.0'),\n",
       " Text(0.5125858123569794, 0.2708333333333333, 'absolute_error = 0.0\\nsamples = 1\\nvalue = 445000.0'),\n",
       " Text(0.5137299771167048, 0.3125, 'absolute_error = 0.0\\nsamples = 1\\nvalue = 440000.0'),\n",
       " Text(0.5148741418764302, 0.3541666666666667, 'absolute_error = 0.0\\nsamples = 1\\nvalue = 418000.0'),\n",
       " Text(0.5194508009153318, 0.4375, 'property_age <= 27.0\\nabsolute_error = 31333.333\\nsamples = 7\\nvalue = 400000.0'),\n",
       " Text(0.5183066361556065, 0.3958333333333333, 'sqft <= 3253.5\\nabsolute_error = 21500.0\\nsamples = 6\\nvalue = 404500.0'),\n",
       " Text(0.517162471395881, 0.3541666666666667, 'absolute_error = 16833.333\\nsamples = 5\\nvalue = 409000.0'),\n",
       " Text(0.5194508009153318, 0.3541666666666667, 'absolute_error = 0.0\\nsamples = 1\\nvalue = 373500.0'),\n",
       " Text(0.5205949656750573, 0.3958333333333333, 'absolute_error = 0.0\\nsamples = 1\\nvalue = 290000.0'),\n",
       " Text(0.522883295194508, 0.4791666666666667, 'sqft <= 2003.0\\nabsolute_error = 17155.556\\nsamples = 4\\nvalue = 475000.0'),\n",
       " Text(0.5217391304347826, 0.4375, 'absolute_error = 0.0\\nsamples = 1\\nvalue = 420000.0'),\n",
       " Text(0.5240274599542334, 0.4375, 'insurance <= 127.5\\nabsolute_error = 6342.857\\nsamples = 3\\nvalue = 475000.0'),\n",
       " Text(0.522883295194508, 0.3958333333333333, 'absolute_error = 0.0\\nsamples = 1\\nvalue = 492200.0'),\n",
       " Text(0.5251716247139588, 0.3958333333333333, 'property_age <= 13.0\\nabsolute_error = 2000.0\\nsamples = 2\\nvalue = 475000.0'),\n",
       " Text(0.5240274599542334, 0.3541666666666667, 'absolute_error = 0.0\\nsamples = 1\\nvalue = 465000.0'),\n",
       " Text(0.5263157894736842, 0.3541666666666667, 'absolute_error = 0.0\\nsamples = 1\\nvalue = 475000.0'),\n",
       " Text(0.5354691075514875, 0.5208333333333334, 'sqft <= 3638.0\\nabsolute_error = 18533.333\\nsamples = 9\\nvalue = 380000.0'),\n",
       " Text(0.5331807780320366, 0.4791666666666667, 'property_tax <= 516.0\\nabsolute_error = 11250.0\\nsamples = 7\\nvalue = 377500.0'),\n",
       " Text(0.5320366132723112, 0.4375, 'sqft <= 2589.0\\nabsolute_error = 5454.545\\nsamples = 6\\nvalue = 375000.0'),\n",
       " Text(0.5297482837528604, 0.3958333333333333, 'baths <= 2.5\\nabsolute_error = 5000.0\\nsamples = 4\\nvalue = 380000.0'),\n",
       " Text(0.528604118993135, 0.3541666666666667, 'year_sold <= 2008.5\\nabsolute_error = 1000.0\\nsamples = 3\\nvalue = 380000.0'),\n",
       " Text(0.5274599542334096, 0.3125, 'absolute_error = 0.0\\nsamples = 1\\nvalue = 375000.0'),\n",
       " Text(0.5297482837528604, 0.3125, 'absolute_error = 0.0\\nsamples = 2\\nvalue = 380000.0'),\n",
       " Text(0.5308924485125858, 0.3541666666666667, 'absolute_error = 0.0\\nsamples = 1\\nvalue = 405000.0'),\n",
       " Text(0.534324942791762, 0.3958333333333333, 'insurance <= 127.0\\nabsolute_error = 2000.0\\nsamples = 2\\nvalue = 375000.0'),\n",
       " Text(0.5331807780320366, 0.3541666666666667, 'absolute_error = 0.0\\nsamples = 1\\nvalue = 375000.0'),\n",
       " Text(0.5354691075514875, 0.3541666666666667, 'absolute_error = 0.0\\nsamples = 1\\nvalue = 370000.0'),\n",
       " Text(0.534324942791762, 0.4375, 'absolute_error = 0.0\\nsamples = 1\\nvalue = 450000.0'),\n",
       " Text(0.5377574370709383, 0.4791666666666667, 'insurance <= 130.0\\nabsolute_error = 7666.667\\nsamples = 2\\nvalue = 420000.0'),\n",
       " Text(0.5366132723112128, 0.4375, 'absolute_error = 0.0\\nsamples = 1\\nvalue = 443000.0'),\n",
       " Text(0.5389016018306636, 0.4375, 'absolute_error = 0.0\\nsamples = 1\\nvalue = 420000.0'),\n",
       " Text(0.5480549199084668, 0.5625, 'recession <= 0.5\\nabsolute_error = 26152.889\\nsamples = 18\\nvalue = 450000.0'),\n",
       " Text(0.5446224256292906, 0.5208333333333334, 'baths <= 3.5\\nabsolute_error = 36477.778\\nsamples = 6\\nvalue = 469900.0'),\n",
       " Text(0.5434782608695652, 0.4791666666666667, 'lot_size <= 6557.0\\nabsolute_error = 17925.0\\nsamples = 5\\nvalue = 469950.0'),\n",
       " Text(0.5411899313501144, 0.4375, 'property_age <= 31.5\\nabsolute_error = 8020.0\\nsamples = 3\\nvalue = 469900.0'),\n",
       " Text(0.540045766590389, 0.3958333333333333, 'property_type_Condo <= 0.5\\nabsolute_error = 25.0\\nsamples = 2\\nvalue = 469900.0'),\n",
       " Text(0.5389016018306636, 0.3541666666666667, 'absolute_error = 0.0\\nsamples = 1\\nvalue = 469900.0'),\n",
       " Text(0.5411899313501144, 0.3541666666666667, 'absolute_error = 0.0\\nsamples = 1\\nvalue = 470000.0'),\n",
       " Text(0.5423340961098398, 0.3958333333333333, 'absolute_error = 0.0\\nsamples = 1\\nvalue = 429900.0'),\n",
       " Text(0.545766590389016, 0.4375, 'insurance <= 133.5\\nabsolute_error = 9333.333\\nsamples = 2\\nvalue = 495000.0'),\n",
       " ...]"
      ]
     },
     "execution_count": 191,
     "metadata": {},
     "output_type": "execute_result"
    }
   ],
   "source": [
    "# Individual Decision Trees\n",
    "tree.plot_tree(rfmodel.estimators_[2], feature_names=dtmodel.feature_names_in_)"
   ]
  },
  {
   "cell_type": "markdown",
   "metadata": {
    "id": "tc8OXZNzgHi9"
   },
   "source": [
    "    "
   ]
  },
  {
   "cell_type": "markdown",
   "metadata": {
    "id": "vVZsubYogHi9"
   },
   "source": [
    "## Pickle:\n",
    "\n",
    "* The pickle module implements a powerful algorithm for serializing and de-serializing a Python object structure.\n",
    "\n",
    "* The saving of data is called Serialization, and loading the data is called De-serialization.\n",
    "\n",
    "**Pickle** model provides the following functions:\n",
    "* **`pickle.dump`** to serialize an object hierarchy, you simply use `dump()`.\n",
    "* **`pickle.load`** to deserialize a data stream, you call the `loads()` function."
   ]
  },
  {
   "cell_type": "code",
   "execution_count": 194,
   "metadata": {
    "id": "WmM7wJIbgHi9"
   },
   "outputs": [],
   "source": [
    "# import pickle to save model\n",
    "import pickle\n",
    "\n",
    "# Save the trained model on the drive\n",
    "pickle.dump(dtmodel, open('RE_Model','wb'))"
   ]
  },
  {
   "cell_type": "code",
   "execution_count": 195,
   "metadata": {
    "id": "smF0TQ66gHi9"
   },
   "outputs": [],
   "source": [
    "# Load the pickled model\n",
    "RE_Model = pickle.load(open('RE_Model','rb'))"
   ]
  },
  {
   "cell_type": "raw",
   "metadata": {
    "id": "dzEe7uzvgHi9"
   },
   "source": [
    "np.array(xtrain.loc[22])\n",
    "ytrain[22]"
   ]
  },
  {
   "cell_type": "code",
   "execution_count": 196,
   "metadata": {
    "id": "81ZVX-LRgHi9",
    "outputId": "0e7e668b-83dd-4620-e147-5e90e2759788"
   },
   "outputs": [
    {
     "name": "stderr",
     "output_type": "stream",
     "text": [
      "C:\\Users\\davex\\anaconda3\\Lib\\site-packages\\sklearn\\utils\\validation.py:2739: UserWarning: X does not have valid feature names, but DecisionTreeRegressor was fitted with feature names\n",
      "  warnings.warn(\n"
     ]
    },
    {
     "data": {
      "text/plain": [
       "array([268742.25925926])"
      ]
     },
     "execution_count": 196,
     "metadata": {},
     "output_type": "execute_result"
    }
   ],
   "source": [
    "# Use the loaded pickled model to make predictions\n",
    "RE_Model.predict([[2012, 216, 74, 1 , 1, 618, 2000, 600, 1, 0, 0, 6, 0, 0]])"
   ]
  },
  {
   "cell_type": "code",
   "execution_count": 197,
   "metadata": {
    "colab": {
     "base_uri": "https://localhost:8080/",
     "height": 100
    },
    "id": "R7EWTeTtxQy4",
    "outputId": "b16e559d-25db-46a2-b095-08237ef5caab"
   },
   "outputs": [
    {
     "data": {
      "text/html": [
       "<div>\n",
       "<style scoped>\n",
       "    .dataframe tbody tr th:only-of-type {\n",
       "        vertical-align: middle;\n",
       "    }\n",
       "\n",
       "    .dataframe tbody tr th {\n",
       "        vertical-align: top;\n",
       "    }\n",
       "\n",
       "    .dataframe thead th {\n",
       "        text-align: right;\n",
       "    }\n",
       "</style>\n",
       "<table border=\"1\" class=\"dataframe\">\n",
       "  <thead>\n",
       "    <tr style=\"text-align: right;\">\n",
       "      <th></th>\n",
       "      <th>year_sold</th>\n",
       "      <th>property_tax</th>\n",
       "      <th>insurance</th>\n",
       "      <th>beds</th>\n",
       "      <th>baths</th>\n",
       "      <th>sqft</th>\n",
       "      <th>year_built</th>\n",
       "      <th>lot_size</th>\n",
       "      <th>basement</th>\n",
       "      <th>popular</th>\n",
       "      <th>recession</th>\n",
       "      <th>property_age</th>\n",
       "      <th>property_type_Bunglow</th>\n",
       "      <th>property_type_Condo</th>\n",
       "    </tr>\n",
       "  </thead>\n",
       "  <tbody>\n",
       "    <tr>\n",
       "      <th>1182</th>\n",
       "      <td>2002</td>\n",
       "      <td>220</td>\n",
       "      <td>62</td>\n",
       "      <td>4</td>\n",
       "      <td>3</td>\n",
       "      <td>1496</td>\n",
       "      <td>1990</td>\n",
       "      <td>1551</td>\n",
       "      <td>1</td>\n",
       "      <td>0</td>\n",
       "      <td>0</td>\n",
       "      <td>12</td>\n",
       "      <td>0</td>\n",
       "      <td>1</td>\n",
       "    </tr>\n",
       "  </tbody>\n",
       "</table>\n",
       "</div>"
      ],
      "text/plain": [
       "      year_sold  property_tax  insurance  beds  baths  sqft  year_built  \\\n",
       "1182       2002           220         62     4      3  1496        1990   \n",
       "\n",
       "      lot_size  basement  popular  recession  property_age  \\\n",
       "1182      1551         1        0          0            12   \n",
       "\n",
       "      property_type_Bunglow  property_type_Condo  \n",
       "1182                      0                    1  "
      ]
     },
     "execution_count": 197,
     "metadata": {},
     "output_type": "execute_result"
    }
   ],
   "source": [
    "x_test.head(1)"
   ]
  },
  {
   "cell_type": "code",
   "execution_count": null,
   "metadata": {
    "id": "kURtIelWgHi9"
   },
   "outputs": [],
   "source": []
  },
  {
   "cell_type": "code",
   "execution_count": null,
   "metadata": {},
   "outputs": [],
   "source": []
  }
 ],
 "metadata": {
  "anaconda-cloud": {},
  "colab": {
   "provenance": []
  },
  "kernelspec": {
   "display_name": "Python [conda env:base] *",
   "language": "python",
   "name": "conda-base-py"
  },
  "language_info": {
   "codemirror_mode": {
    "name": "ipython",
    "version": 3
   },
   "file_extension": ".py",
   "mimetype": "text/x-python",
   "name": "python",
   "nbconvert_exporter": "python",
   "pygments_lexer": "ipython3",
   "version": "3.12.4"
  }
 },
 "nbformat": 4,
 "nbformat_minor": 4
}
